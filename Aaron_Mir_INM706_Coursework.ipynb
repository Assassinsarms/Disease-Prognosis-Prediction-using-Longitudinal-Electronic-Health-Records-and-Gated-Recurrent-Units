{
 "cells": [
  {
   "cell_type": "markdown",
   "metadata": {},
   "source": [
    "# INM706 Coursework\n",
    "## Disease Prognosis Prediction using Longitudinal Electronic Health Records and Gated Recurrent Units\n",
    "### Aaron Mir (Student Number: 160001207)"
   ]
  },
  {
   "cell_type": "markdown",
   "metadata": {},
   "source": [
    "NOTE: I cannot upload the original MIMIC-III CSV files to GitHub or Moodle as per the privacy agreement. However, the main data extracted from from the CSVs during data preprocessing is be uploaded after being pickled. You can start the code from the Preparation of data, labels section after importing the data.encoded_icd9s file.\r\n",
    "\r\n",
    "MIMIC-III is a large, freely-available database comprising deidentified health-related data associated with over 40,000 patients who stayed in critical care units of the Beth Israel Deaconess Medical Center between 2001 and 2012. The MIMIC-III Clinical Database is available on PhysioNet. Though deidentified, MIMIC-III contains detailed information regarding the care of real patients, and as such requires credentialing before access.\r\n",
    "\r\n",
    "My goal is to attempt to predict future ICD9 (diagnosis) codes from patients using a GRU. The model can be found in the Model section and Results can be found in the training and evaluation sections. As we can see, the training and validation losses decrease well. However, we can see the model is overfitting, even with dropout layers etc. I focus on Recall results, but Accuracy, Precision and F1-Score were also computed for the train, test and validation sets. In general, the model achieved a very high recall score and a very low precision score. Since the context of this prediction is biomedical in nature, having a high recall is not necessarily bad since the benefit of a patient being told they may progress in a certain way outweighs the risk of a sudden disease onset with no warning. On the other hand, if the prediction is incorrect, this would cause panic.\r\n",
    "\r\n",
    "Since each unique hospital visit for a patient is assigned a unique HADM_ID, the ADMISSIONS table can be considered as a definition table for HADM_ID.\r\n",
    "Each row of this table contains a unique HADM_ID, which represents a single patient’s admission to the hospital. HADM_ID ranges from 1000000 - 1999999. It is possible for this table to have duplicate SUBJECT_ID, indicating that a single patient had multiple admissions to the hospital. The ADMISSIONS table can be linked to the PATIENTS table using SUBJECT_ID.\r\n",
    "https://mimic.physionet.org/mimictables/admissions/ - info about admissions table"
   ]
  },
  {
   "cell_type": "code",
   "execution_count": null,
   "metadata": {},
   "outputs": [],
   "source": [
    "##--------------------Coding References---------------------##\r\n",
    "# Percentage of borrowed code: 10% - Parts of the GRU model etc. \r\n",
    "# [1] Russell-Puleri, Sparkle (2019) Doctor AI Pytorch Minimal Implementation, Available at:\r\n",
    "#  https://github.com/sparalic/Electronic-Health-Records-GRUs/blob/master/DrAI_pytorch.ipynb (Accessed: 14th March 2021)."
   ]
  },
  {
   "cell_type": "code",
   "execution_count": 1,
   "metadata": {},
   "outputs": [],
   "source": [
    "import pandas as pd\r\n",
    "import numpy as np\r\n",
    "np.random.seed(42)\r\n",
    "import time\r\n",
    "import sys\r\n",
    "import matplotlib.pyplot as plt\r\n",
    "import seaborn as sns\r\n",
    "from datetime import datetime\r\n",
    "import pickle\r\n",
    "from math import ceil\r\n",
    "import random\r\n",
    "import sys\r\n",
    "import torch \r\n",
    "import torch.nn as nn\r\n",
    "import torch.optim as optim\r\n",
    "from torch.autograd import Variable\r\n",
    "import torch.nn.functional as F\r\n",
    "from torch.utils.data import DataLoader\r\n",
    "torch.set_printoptions(edgeitems=10)"
   ]
  },
  {
   "cell_type": "markdown",
   "metadata": {},
   "source": [
    "## Exploratory Analysis of Data - no CSVs in the data folder for data protection reasons, skip to next Preparation for data, label section\r\n",
    "### Admissions Table"
   ]
  },
  {
   "cell_type": "code",
   "execution_count": 55,
   "metadata": {},
   "outputs": [],
   "source": [
    "admission_data = pd.read_csv('data\\\\ADMISSIONS.csv')"
   ]
  },
  {
   "cell_type": "code",
   "execution_count": 56,
   "metadata": {},
   "outputs": [
    {
     "data": {
      "text/html": "<div>\n<style scoped>\n    .dataframe tbody tr th:only-of-type {\n        vertical-align: middle;\n    }\n\n    .dataframe tbody tr th {\n        vertical-align: top;\n    }\n\n    .dataframe thead th {\n        text-align: right;\n    }\n</style>\n<table border=\"1\" class=\"dataframe\">\n  <thead>\n    <tr style=\"text-align: right;\">\n      <th></th>\n      <th>ROW_ID</th>\n      <th>SUBJECT_ID</th>\n      <th>HADM_ID</th>\n      <th>ADMITTIME</th>\n      <th>DISCHTIME</th>\n      <th>DEATHTIME</th>\n      <th>ADMISSION_TYPE</th>\n      <th>ADMISSION_LOCATION</th>\n      <th>DISCHARGE_LOCATION</th>\n      <th>INSURANCE</th>\n      <th>LANGUAGE</th>\n      <th>RELIGION</th>\n      <th>MARITAL_STATUS</th>\n      <th>ETHNICITY</th>\n      <th>EDREGTIME</th>\n      <th>EDOUTTIME</th>\n      <th>DIAGNOSIS</th>\n      <th>HOSPITAL_EXPIRE_FLAG</th>\n      <th>HAS_CHARTEVENTS_DATA</th>\n    </tr>\n  </thead>\n  <tbody>\n    <tr>\n      <th>0</th>\n      <td>21</td>\n      <td>22</td>\n      <td>165315</td>\n      <td>2196-04-09 12:26:00</td>\n      <td>2196-04-10 15:54:00</td>\n      <td>NaN</td>\n      <td>EMERGENCY</td>\n      <td>EMERGENCY ROOM ADMIT</td>\n      <td>DISC-TRAN CANCER/CHLDRN H</td>\n      <td>Private</td>\n      <td>NaN</td>\n      <td>UNOBTAINABLE</td>\n      <td>MARRIED</td>\n      <td>WHITE</td>\n      <td>2196-04-09 10:06:00</td>\n      <td>2196-04-09 13:24:00</td>\n      <td>BENZODIAZEPINE OVERDOSE</td>\n      <td>0</td>\n      <td>1</td>\n    </tr>\n    <tr>\n      <th>1</th>\n      <td>22</td>\n      <td>23</td>\n      <td>152223</td>\n      <td>2153-09-03 07:15:00</td>\n      <td>2153-09-08 19:10:00</td>\n      <td>NaN</td>\n      <td>ELECTIVE</td>\n      <td>PHYS REFERRAL/NORMAL DELI</td>\n      <td>HOME HEALTH CARE</td>\n      <td>Medicare</td>\n      <td>NaN</td>\n      <td>CATHOLIC</td>\n      <td>MARRIED</td>\n      <td>WHITE</td>\n      <td>NaN</td>\n      <td>NaN</td>\n      <td>CORONARY ARTERY DISEASE\\CORONARY ARTERY BYPASS...</td>\n      <td>0</td>\n      <td>1</td>\n    </tr>\n    <tr>\n      <th>2</th>\n      <td>23</td>\n      <td>23</td>\n      <td>124321</td>\n      <td>2157-10-18 19:34:00</td>\n      <td>2157-10-25 14:00:00</td>\n      <td>NaN</td>\n      <td>EMERGENCY</td>\n      <td>TRANSFER FROM HOSP/EXTRAM</td>\n      <td>HOME HEALTH CARE</td>\n      <td>Medicare</td>\n      <td>ENGL</td>\n      <td>CATHOLIC</td>\n      <td>MARRIED</td>\n      <td>WHITE</td>\n      <td>NaN</td>\n      <td>NaN</td>\n      <td>BRAIN MASS</td>\n      <td>0</td>\n      <td>1</td>\n    </tr>\n    <tr>\n      <th>3</th>\n      <td>24</td>\n      <td>24</td>\n      <td>161859</td>\n      <td>2139-06-06 16:14:00</td>\n      <td>2139-06-09 12:48:00</td>\n      <td>NaN</td>\n      <td>EMERGENCY</td>\n      <td>TRANSFER FROM HOSP/EXTRAM</td>\n      <td>HOME</td>\n      <td>Private</td>\n      <td>NaN</td>\n      <td>PROTESTANT QUAKER</td>\n      <td>SINGLE</td>\n      <td>WHITE</td>\n      <td>NaN</td>\n      <td>NaN</td>\n      <td>INTERIOR MYOCARDIAL INFARCTION</td>\n      <td>0</td>\n      <td>1</td>\n    </tr>\n    <tr>\n      <th>4</th>\n      <td>25</td>\n      <td>25</td>\n      <td>129635</td>\n      <td>2160-11-02 02:06:00</td>\n      <td>2160-11-05 14:55:00</td>\n      <td>NaN</td>\n      <td>EMERGENCY</td>\n      <td>EMERGENCY ROOM ADMIT</td>\n      <td>HOME</td>\n      <td>Private</td>\n      <td>NaN</td>\n      <td>UNOBTAINABLE</td>\n      <td>MARRIED</td>\n      <td>WHITE</td>\n      <td>2160-11-02 01:01:00</td>\n      <td>2160-11-02 04:27:00</td>\n      <td>ACUTE CORONARY SYNDROME</td>\n      <td>0</td>\n      <td>1</td>\n    </tr>\n  </tbody>\n</table>\n</div>",
      "text/plain": [
       "   ROW_ID  SUBJECT_ID  HADM_ID            ADMITTIME            DISCHTIME  \\\n",
       "0      21          22   165315  2196-04-09 12:26:00  2196-04-10 15:54:00   \n",
       "1      22          23   152223  2153-09-03 07:15:00  2153-09-08 19:10:00   \n",
       "2      23          23   124321  2157-10-18 19:34:00  2157-10-25 14:00:00   \n",
       "3      24          24   161859  2139-06-06 16:14:00  2139-06-09 12:48:00   \n",
       "4      25          25   129635  2160-11-02 02:06:00  2160-11-05 14:55:00   \n",
       "\n",
       "  DEATHTIME ADMISSION_TYPE         ADMISSION_LOCATION  \\\n",
       "0       NaN      EMERGENCY       EMERGENCY ROOM ADMIT   \n",
       "1       NaN       ELECTIVE  PHYS REFERRAL/NORMAL DELI   \n",
       "2       NaN      EMERGENCY  TRANSFER FROM HOSP/EXTRAM   \n",
       "3       NaN      EMERGENCY  TRANSFER FROM HOSP/EXTRAM   \n",
       "4       NaN      EMERGENCY       EMERGENCY ROOM ADMIT   \n",
       "\n",
       "          DISCHARGE_LOCATION INSURANCE LANGUAGE           RELIGION  \\\n",
       "0  DISC-TRAN CANCER/CHLDRN H   Private      NaN       UNOBTAINABLE   \n",
       "1           HOME HEALTH CARE  Medicare      NaN           CATHOLIC   \n",
       "2           HOME HEALTH CARE  Medicare     ENGL           CATHOLIC   \n",
       "3                       HOME   Private      NaN  PROTESTANT QUAKER   \n",
       "4                       HOME   Private      NaN       UNOBTAINABLE   \n",
       "\n",
       "  MARITAL_STATUS ETHNICITY            EDREGTIME            EDOUTTIME  \\\n",
       "0        MARRIED     WHITE  2196-04-09 10:06:00  2196-04-09 13:24:00   \n",
       "1        MARRIED     WHITE                  NaN                  NaN   \n",
       "2        MARRIED     WHITE                  NaN                  NaN   \n",
       "3         SINGLE     WHITE                  NaN                  NaN   \n",
       "4        MARRIED     WHITE  2160-11-02 01:01:00  2160-11-02 04:27:00   \n",
       "\n",
       "                                           DIAGNOSIS  HOSPITAL_EXPIRE_FLAG  \\\n",
       "0                            BENZODIAZEPINE OVERDOSE                     0   \n",
       "1  CORONARY ARTERY DISEASE\\CORONARY ARTERY BYPASS...                     0   \n",
       "2                                         BRAIN MASS                     0   \n",
       "3                     INTERIOR MYOCARDIAL INFARCTION                     0   \n",
       "4                            ACUTE CORONARY SYNDROME                     0   \n",
       "\n",
       "   HAS_CHARTEVENTS_DATA  \n",
       "0                     1  \n",
       "1                     1  \n",
       "2                     1  \n",
       "3                     1  \n",
       "4                     1  "
      ]
     },
     "execution_count": 56,
     "metadata": {},
     "output_type": "execute_result"
    }
   ],
   "source": [
    "admission_data.head()"
   ]
  },
  {
   "cell_type": "code",
   "execution_count": 57,
   "metadata": {},
   "outputs": [
    {
     "data": {
      "image/png": "[encoded data removed]",
      "image/svg+xml": "<?xml version=\"1.0\" encoding=\"utf-8\" standalone=\"no\"?>\r\n<!DOCTYPE svg PUBLIC \"-//W3C//DTD SVG 1.1//EN\"\r\n  \"http://www.w3.org/Graphics/SVG/1.1/DTD/svg11.dtd\">\r\n<!-- Created with matplotlib (https://matplotlib.org/) -->\r\n<svg height=\"369.657813pt\" version=\"1.1\" viewBox=\"0 0 332.2125 369.657813\" width=\"332.2125pt\" xmlns=\"http://www.w3.org/2000/svg\" xmlns:xlink=\"http://www.w3.org/1999/xlink\">\r\n <metadata>\r\n  <rdf:RDF xmlns:cc=\"http://creativecommons.org/ns#\" xmlns:dc=\"http://purl.org/dc/elements/1.1/\" xmlns:rdf=\"http://www.w3.org/1999/02/22-rdf-syntax-ns#\">\r\n   <cc:Work>\r\n    <dc:type rdf:resource=\"http://purl.org/dc/dcmitype/StillImage\"/>\r\n    <dc:date>2021-03-30T17:13:32.434574</dc:date>\r\n    <dc:format>image/svg+xml</dc:format>\r\n    <dc:creator>\r\n     <cc:Agent>\r\n      <dc:title>Matplotlib v3.3.3, https://matplotlib.org/</dc:title>\r\n     </cc:Agent>\r\n    </dc:creator>\r\n   </cc:Work>\r\n  </rdf:RDF>\r\n </metadata>\r\n <defs>\r\n  <style type=\"text/css\">*{stroke-linecap:butt;stroke-linejoin:round;}</style>\r\n </defs>\r\n <g id=\"figure_1\">\r\n  <g id=\"patch_1\">\r\n   <path d=\"M 0 369.657813 \r\nL 332.2125 369.657813 \r\nL 332.2125 0 \r\nL 0 0 \r\nz\r\n\" style=\"fill:none;\"/>\r\n  </g>\r\n  <g id=\"axes_1\">\r\n   <g id=\"patch_2\">\r\n    <path d=\"M 46.0125 279 \r\nL 325.0125 279 \r\nL 325.0125 7.2 \r\nL 46.0125 7.2 \r\nz\r\n\" style=\"fill:#ffffff;\"/>\r\n   </g>\r\n   <g id=\"patch_3\">\r\n    <path clip-path=\"url(#pb366f6e79a)\" d=\"M 63.45 279 \r\nL 98.325 279 \r\nL 98.325 231.58603 \r\nL 63.45 231.58603 \r\nz\r\n\" style=\"fill:#ff0000;\"/>\r\n   </g>\r\n   <g id=\"patch_4\">\r\n    <path clip-path=\"url(#pb366f6e79a)\" d=\"M 133.2 279 \r\nL 168.075 279 \r\nL 168.075 20.142857 \r\nL 133.2 20.142857 \r\nz\r\n\" style=\"fill:#ff0000;\"/>\r\n   </g>\r\n   <g id=\"patch_5\">\r\n    <path clip-path=\"url(#pb366f6e79a)\" d=\"M 202.95 279 \r\nL 237.825 279 \r\nL 237.825 230.62003 \r\nL 202.95 230.62003 \r\nz\r\n\" style=\"fill:#ff0000;\"/>\r\n   </g>\r\n   <g id=\"patch_6\">\r\n    <path clip-path=\"url(#pb366f6e79a)\" d=\"M 272.7 279 \r\nL 307.575 279 \r\nL 307.575 270.779774 \r\nL 272.7 270.779774 \r\nz\r\n\" style=\"fill:#ff0000;\"/>\r\n   </g>\r\n   <g id=\"matplotlib.axis_1\">\r\n    <g id=\"xtick_1\">\r\n     <g id=\"line2d_1\">\r\n      <defs>\r\n       <path d=\"M 0 0 \r\nL 0 3.5 \r\n\" id=\"md309ce7de1\" style=\"stroke:#000000;stroke-width:0.8;\"/>\r\n      </defs>\r\n      <g>\r\n       <use style=\"stroke:#000000;stroke-width:0.8;\" x=\"80.8875\" xlink:href=\"#md309ce7de1\" y=\"279\"/>\r\n      </g>\r\n     </g>\r\n     <g id=\"text_1\">\r\n      <!-- ELECTIVE -->\r\n      <g transform=\"translate(83.646875 333.409375)rotate(-90)scale(0.1 -0.1)\">\r\n       <defs>\r\n        <path d=\"M 9.8125 72.90625 \r\nL 55.90625 72.90625 \r\nL 55.90625 64.59375 \r\nL 19.671875 64.59375 \r\nL 19.671875 43.015625 \r\nL 54.390625 43.015625 \r\nL 54.390625 34.71875 \r\nL 19.671875 34.71875 \r\nL 19.671875 8.296875 \r\nL 56.78125 8.296875 \r\nL 56.78125 0 \r\nL 9.8125 0 \r\nz\r\n\" id=\"DejaVuSans-69\"/>\r\n        <path d=\"M 9.8125 72.90625 \r\nL 19.671875 72.90625 \r\nL 19.671875 8.296875 \r\nL 55.171875 8.296875 \r\nL 55.171875 0 \r\nL 9.8125 0 \r\nz\r\n\" id=\"DejaVuSans-76\"/>\r\n        <path d=\"M 64.40625 67.28125 \r\nL 64.40625 56.890625 \r\nQ 59.421875 61.53125 53.78125 63.8125 \r\nQ 48.140625 66.109375 41.796875 66.109375 \r\nQ 29.296875 66.109375 22.65625 58.46875 \r\nQ 16.015625 50.828125 16.015625 36.375 \r\nQ 16.015625 21.96875 22.65625 14.328125 \r\nQ 29.296875 6.6875 41.796875 6.6875 \r\nQ 48.140625 6.6875 53.78125 8.984375 \r\nQ 59.421875 11.28125 64.40625 15.921875 \r\nL 64.40625 5.609375 \r\nQ 59.234375 2.09375 53.4375 0.328125 \r\nQ 47.65625 -1.421875 41.21875 -1.421875 \r\nQ 24.65625 -1.421875 15.125 8.703125 \r\nQ 5.609375 18.84375 5.609375 36.375 \r\nQ 5.609375 53.953125 15.125 64.078125 \r\nQ 24.65625 74.21875 41.21875 74.21875 \r\nQ 47.75 74.21875 53.53125 72.484375 \r\nQ 59.328125 70.75 64.40625 67.28125 \r\nz\r\n\" id=\"DejaVuSans-67\"/>\r\n        <path d=\"M -0.296875 72.90625 \r\nL 61.375 72.90625 \r\nL 61.375 64.59375 \r\nL 35.5 64.59375 \r\nL 35.5 0 \r\nL 25.59375 0 \r\nL 25.59375 64.59375 \r\nL -0.296875 64.59375 \r\nz\r\n\" id=\"DejaVuSans-84\"/>\r\n        <path d=\"M 9.8125 72.90625 \r\nL 19.671875 72.90625 \r\nL 19.671875 0 \r\nL 9.8125 0 \r\nz\r\n\" id=\"DejaVuSans-73\"/>\r\n        <path d=\"M 28.609375 0 \r\nL 0.78125 72.90625 \r\nL 11.078125 72.90625 \r\nL 34.1875 11.53125 \r\nL 57.328125 72.90625 \r\nL 67.578125 72.90625 \r\nL 39.796875 0 \r\nz\r\n\" id=\"DejaVuSans-86\"/>\r\n       </defs>\r\n       <use xlink:href=\"#DejaVuSans-69\"/>\r\n       <use x=\"63.183594\" xlink:href=\"#DejaVuSans-76\"/>\r\n       <use x=\"118.896484\" xlink:href=\"#DejaVuSans-69\"/>\r\n       <use x=\"182.080078\" xlink:href=\"#DejaVuSans-67\"/>\r\n       <use x=\"251.904297\" xlink:href=\"#DejaVuSans-84\"/>\r\n       <use x=\"312.988281\" xlink:href=\"#DejaVuSans-73\"/>\r\n       <use x=\"342.480469\" xlink:href=\"#DejaVuSans-86\"/>\r\n       <use x=\"410.888672\" xlink:href=\"#DejaVuSans-69\"/>\r\n      </g>\r\n     </g>\r\n    </g>\r\n    <g id=\"xtick_2\">\r\n     <g id=\"line2d_2\">\r\n      <g>\r\n       <use style=\"stroke:#000000;stroke-width:0.8;\" x=\"150.6375\" xlink:href=\"#md309ce7de1\" y=\"279\"/>\r\n      </g>\r\n     </g>\r\n     <g id=\"text_2\">\r\n      <!-- EMERGENCY -->\r\n      <g transform=\"translate(153.396875 348.678125)rotate(-90)scale(0.1 -0.1)\">\r\n       <defs>\r\n        <path d=\"M 9.8125 72.90625 \r\nL 24.515625 72.90625 \r\nL 43.109375 23.296875 \r\nL 61.8125 72.90625 \r\nL 76.515625 72.90625 \r\nL 76.515625 0 \r\nL 66.890625 0 \r\nL 66.890625 64.015625 \r\nL 48.09375 14.015625 \r\nL 38.1875 14.015625 \r\nL 19.390625 64.015625 \r\nL 19.390625 0 \r\nL 9.8125 0 \r\nz\r\n\" id=\"DejaVuSans-77\"/>\r\n        <path d=\"M 44.390625 34.1875 \r\nQ 47.5625 33.109375 50.5625 29.59375 \r\nQ 53.5625 26.078125 56.59375 19.921875 \r\nL 66.609375 0 \r\nL 56 0 \r\nL 46.6875 18.703125 \r\nQ 43.0625 26.03125 39.671875 28.421875 \r\nQ 36.28125 30.8125 30.421875 30.8125 \r\nL 19.671875 30.8125 \r\nL 19.671875 0 \r\nL 9.8125 0 \r\nL 9.8125 72.90625 \r\nL 32.078125 72.90625 \r\nQ 44.578125 72.90625 50.734375 67.671875 \r\nQ 56.890625 62.453125 56.890625 51.90625 \r\nQ 56.890625 45.015625 53.6875 40.46875 \r\nQ 50.484375 35.9375 44.390625 34.1875 \r\nz\r\nM 19.671875 64.796875 \r\nL 19.671875 38.921875 \r\nL 32.078125 38.921875 \r\nQ 39.203125 38.921875 42.84375 42.21875 \r\nQ 46.484375 45.515625 46.484375 51.90625 \r\nQ 46.484375 58.296875 42.84375 61.546875 \r\nQ 39.203125 64.796875 32.078125 64.796875 \r\nz\r\n\" id=\"DejaVuSans-82\"/>\r\n        <path d=\"M 59.515625 10.40625 \r\nL 59.515625 29.984375 \r\nL 43.40625 29.984375 \r\nL 43.40625 38.09375 \r\nL 69.28125 38.09375 \r\nL 69.28125 6.78125 \r\nQ 63.578125 2.734375 56.6875 0.65625 \r\nQ 49.8125 -1.421875 42 -1.421875 \r\nQ 24.90625 -1.421875 15.25 8.5625 \r\nQ 5.609375 18.5625 5.609375 36.375 \r\nQ 5.609375 54.25 15.25 64.234375 \r\nQ 24.90625 74.21875 42 74.21875 \r\nQ 49.125 74.21875 55.546875 72.453125 \r\nQ 61.96875 70.703125 67.390625 67.28125 \r\nL 67.390625 56.78125 \r\nQ 61.921875 61.421875 55.765625 63.765625 \r\nQ 49.609375 66.109375 42.828125 66.109375 \r\nQ 29.4375 66.109375 22.71875 58.640625 \r\nQ 16.015625 51.171875 16.015625 36.375 \r\nQ 16.015625 21.625 22.71875 14.15625 \r\nQ 29.4375 6.6875 42.828125 6.6875 \r\nQ 48.046875 6.6875 52.140625 7.59375 \r\nQ 56.25 8.5 59.515625 10.40625 \r\nz\r\n\" id=\"DejaVuSans-71\"/>\r\n        <path d=\"M 9.8125 72.90625 \r\nL 23.09375 72.90625 \r\nL 55.421875 11.921875 \r\nL 55.421875 72.90625 \r\nL 64.984375 72.90625 \r\nL 64.984375 0 \r\nL 51.703125 0 \r\nL 19.390625 60.984375 \r\nL 19.390625 0 \r\nL 9.8125 0 \r\nz\r\n\" id=\"DejaVuSans-78\"/>\r\n        <path d=\"M -0.203125 72.90625 \r\nL 10.40625 72.90625 \r\nL 30.609375 42.921875 \r\nL 50.6875 72.90625 \r\nL 61.28125 72.90625 \r\nL 35.5 34.71875 \r\nL 35.5 0 \r\nL 25.59375 0 \r\nL 25.59375 34.71875 \r\nz\r\n\" id=\"DejaVuSans-89\"/>\r\n       </defs>\r\n       <use xlink:href=\"#DejaVuSans-69\"/>\r\n       <use x=\"63.183594\" xlink:href=\"#DejaVuSans-77\"/>\r\n       <use x=\"149.462891\" xlink:href=\"#DejaVuSans-69\"/>\r\n       <use x=\"212.646484\" xlink:href=\"#DejaVuSans-82\"/>\r\n       <use x=\"282.128906\" xlink:href=\"#DejaVuSans-71\"/>\r\n       <use x=\"359.619141\" xlink:href=\"#DejaVuSans-69\"/>\r\n       <use x=\"422.802734\" xlink:href=\"#DejaVuSans-78\"/>\r\n       <use x=\"497.607422\" xlink:href=\"#DejaVuSans-67\"/>\r\n       <use x=\"565.681641\" xlink:href=\"#DejaVuSans-89\"/>\r\n      </g>\r\n     </g>\r\n    </g>\r\n    <g id=\"xtick_3\">\r\n     <g id=\"line2d_3\">\r\n      <g>\r\n       <use style=\"stroke:#000000;stroke-width:0.8;\" x=\"220.3875\" xlink:href=\"#md309ce7de1\" y=\"279\"/>\r\n      </g>\r\n     </g>\r\n     <g id=\"text_3\">\r\n      <!-- NEWBORN -->\r\n      <g transform=\"translate(223.146875 338.675)rotate(-90)scale(0.1 -0.1)\">\r\n       <defs>\r\n        <path d=\"M 3.328125 72.90625 \r\nL 13.28125 72.90625 \r\nL 28.609375 11.28125 \r\nL 43.890625 72.90625 \r\nL 54.984375 72.90625 \r\nL 70.3125 11.28125 \r\nL 85.59375 72.90625 \r\nL 95.609375 72.90625 \r\nL 77.296875 0 \r\nL 64.890625 0 \r\nL 49.515625 63.28125 \r\nL 33.984375 0 \r\nL 21.578125 0 \r\nz\r\n\" id=\"DejaVuSans-87\"/>\r\n        <path d=\"M 19.671875 34.8125 \r\nL 19.671875 8.109375 \r\nL 35.5 8.109375 \r\nQ 43.453125 8.109375 47.28125 11.40625 \r\nQ 51.125 14.703125 51.125 21.484375 \r\nQ 51.125 28.328125 47.28125 31.5625 \r\nQ 43.453125 34.8125 35.5 34.8125 \r\nz\r\nM 19.671875 64.796875 \r\nL 19.671875 42.828125 \r\nL 34.28125 42.828125 \r\nQ 41.5 42.828125 45.03125 45.53125 \r\nQ 48.578125 48.25 48.578125 53.8125 \r\nQ 48.578125 59.328125 45.03125 62.0625 \r\nQ 41.5 64.796875 34.28125 64.796875 \r\nz\r\nM 9.8125 72.90625 \r\nL 35.015625 72.90625 \r\nQ 46.296875 72.90625 52.390625 68.21875 \r\nQ 58.5 63.53125 58.5 54.890625 \r\nQ 58.5 48.1875 55.375 44.234375 \r\nQ 52.25 40.28125 46.1875 39.3125 \r\nQ 53.46875 37.75 57.5 32.78125 \r\nQ 61.53125 27.828125 61.53125 20.40625 \r\nQ 61.53125 10.640625 54.890625 5.3125 \r\nQ 48.25 0 35.984375 0 \r\nL 9.8125 0 \r\nz\r\n\" id=\"DejaVuSans-66\"/>\r\n        <path d=\"M 39.40625 66.21875 \r\nQ 28.65625 66.21875 22.328125 58.203125 \r\nQ 16.015625 50.203125 16.015625 36.375 \r\nQ 16.015625 22.609375 22.328125 14.59375 \r\nQ 28.65625 6.59375 39.40625 6.59375 \r\nQ 50.140625 6.59375 56.421875 14.59375 \r\nQ 62.703125 22.609375 62.703125 36.375 \r\nQ 62.703125 50.203125 56.421875 58.203125 \r\nQ 50.140625 66.21875 39.40625 66.21875 \r\nz\r\nM 39.40625 74.21875 \r\nQ 54.734375 74.21875 63.90625 63.9375 \r\nQ 73.09375 53.65625 73.09375 36.375 \r\nQ 73.09375 19.140625 63.90625 8.859375 \r\nQ 54.734375 -1.421875 39.40625 -1.421875 \r\nQ 24.03125 -1.421875 14.8125 8.828125 \r\nQ 5.609375 19.09375 5.609375 36.375 \r\nQ 5.609375 53.65625 14.8125 63.9375 \r\nQ 24.03125 74.21875 39.40625 74.21875 \r\nz\r\n\" id=\"DejaVuSans-79\"/>\r\n       </defs>\r\n       <use xlink:href=\"#DejaVuSans-78\"/>\r\n       <use x=\"74.804688\" xlink:href=\"#DejaVuSans-69\"/>\r\n       <use x=\"137.988281\" xlink:href=\"#DejaVuSans-87\"/>\r\n       <use x=\"236.865234\" xlink:href=\"#DejaVuSans-66\"/>\r\n       <use x=\"303.71875\" xlink:href=\"#DejaVuSans-79\"/>\r\n       <use x=\"382.429688\" xlink:href=\"#DejaVuSans-82\"/>\r\n       <use x=\"451.912109\" xlink:href=\"#DejaVuSans-78\"/>\r\n      </g>\r\n     </g>\r\n    </g>\r\n    <g id=\"xtick_4\">\r\n     <g id=\"line2d_4\">\r\n      <g>\r\n       <use style=\"stroke:#000000;stroke-width:0.8;\" x=\"290.1375\" xlink:href=\"#md309ce7de1\" y=\"279\"/>\r\n      </g>\r\n     </g>\r\n     <g id=\"text_4\">\r\n      <!-- URGENT -->\r\n      <g transform=\"translate(292.896875 327.923438)rotate(-90)scale(0.1 -0.1)\">\r\n       <defs>\r\n        <path d=\"M 8.6875 72.90625 \r\nL 18.609375 72.90625 \r\nL 18.609375 28.609375 \r\nQ 18.609375 16.890625 22.84375 11.734375 \r\nQ 27.09375 6.59375 36.625 6.59375 \r\nQ 46.09375 6.59375 50.34375 11.734375 \r\nQ 54.59375 16.890625 54.59375 28.609375 \r\nL 54.59375 72.90625 \r\nL 64.5 72.90625 \r\nL 64.5 27.390625 \r\nQ 64.5 13.140625 57.4375 5.859375 \r\nQ 50.390625 -1.421875 36.625 -1.421875 \r\nQ 22.796875 -1.421875 15.734375 5.859375 \r\nQ 8.6875 13.140625 8.6875 27.390625 \r\nz\r\n\" id=\"DejaVuSans-85\"/>\r\n       </defs>\r\n       <use xlink:href=\"#DejaVuSans-85\"/>\r\n       <use x=\"73.193359\" xlink:href=\"#DejaVuSans-82\"/>\r\n       <use x=\"142.675781\" xlink:href=\"#DejaVuSans-71\"/>\r\n       <use x=\"220.166016\" xlink:href=\"#DejaVuSans-69\"/>\r\n       <use x=\"283.349609\" xlink:href=\"#DejaVuSans-78\"/>\r\n       <use x=\"358.154297\" xlink:href=\"#DejaVuSans-84\"/>\r\n      </g>\r\n     </g>\r\n    </g>\r\n    <g id=\"text_5\">\r\n     <!-- ADMISSION_TYPE -->\r\n     <g transform=\"translate(142.171094 360.1)scale(0.1 -0.1)\">\r\n      <defs>\r\n       <path d=\"M 34.1875 63.1875 \r\nL 20.796875 26.90625 \r\nL 47.609375 26.90625 \r\nz\r\nM 28.609375 72.90625 \r\nL 39.796875 72.90625 \r\nL 67.578125 0 \r\nL 57.328125 0 \r\nL 50.6875 18.703125 \r\nL 17.828125 18.703125 \r\nL 11.1875 0 \r\nL 0.78125 0 \r\nz\r\n\" id=\"DejaVuSans-65\"/>\r\n       <path d=\"M 19.671875 64.796875 \r\nL 19.671875 8.109375 \r\nL 31.59375 8.109375 \r\nQ 46.6875 8.109375 53.6875 14.9375 \r\nQ 60.6875 21.78125 60.6875 36.53125 \r\nQ 60.6875 51.171875 53.6875 57.984375 \r\nQ 46.6875 64.796875 31.59375 64.796875 \r\nz\r\nM 9.8125 72.90625 \r\nL 30.078125 72.90625 \r\nQ 51.265625 72.90625 61.171875 64.09375 \r\nQ 71.09375 55.28125 71.09375 36.53125 \r\nQ 71.09375 17.671875 61.125 8.828125 \r\nQ 51.171875 0 30.078125 0 \r\nL 9.8125 0 \r\nz\r\n\" id=\"DejaVuSans-68\"/>\r\n       <path d=\"M 53.515625 70.515625 \r\nL 53.515625 60.890625 \r\nQ 47.90625 63.578125 42.921875 64.890625 \r\nQ 37.9375 66.21875 33.296875 66.21875 \r\nQ 25.25 66.21875 20.875 63.09375 \r\nQ 16.5 59.96875 16.5 54.203125 \r\nQ 16.5 49.359375 19.40625 46.890625 \r\nQ 22.3125 44.4375 30.421875 42.921875 \r\nL 36.375 41.703125 \r\nQ 47.40625 39.59375 52.65625 34.296875 \r\nQ 57.90625 29 57.90625 20.125 \r\nQ 57.90625 9.515625 50.796875 4.046875 \r\nQ 43.703125 -1.421875 29.984375 -1.421875 \r\nQ 24.8125 -1.421875 18.96875 -0.25 \r\nQ 13.140625 0.921875 6.890625 3.21875 \r\nL 6.890625 13.375 \r\nQ 12.890625 10.015625 18.65625 8.296875 \r\nQ 24.421875 6.59375 29.984375 6.59375 \r\nQ 38.421875 6.59375 43.015625 9.90625 \r\nQ 47.609375 13.234375 47.609375 19.390625 \r\nQ 47.609375 24.75 44.3125 27.78125 \r\nQ 41.015625 30.8125 33.5 32.328125 \r\nL 27.484375 33.5 \r\nQ 16.453125 35.6875 11.515625 40.375 \r\nQ 6.59375 45.0625 6.59375 53.421875 \r\nQ 6.59375 63.09375 13.40625 68.65625 \r\nQ 20.21875 74.21875 32.171875 74.21875 \r\nQ 37.3125 74.21875 42.625 73.28125 \r\nQ 47.953125 72.359375 53.515625 70.515625 \r\nz\r\n\" id=\"DejaVuSans-83\"/>\r\n       <path d=\"M 50.984375 -16.609375 \r\nL 50.984375 -23.578125 \r\nL -0.984375 -23.578125 \r\nL -0.984375 -16.609375 \r\nz\r\n\" id=\"DejaVuSans-95\"/>\r\n       <path d=\"M 19.671875 64.796875 \r\nL 19.671875 37.40625 \r\nL 32.078125 37.40625 \r\nQ 38.96875 37.40625 42.71875 40.96875 \r\nQ 46.484375 44.53125 46.484375 51.125 \r\nQ 46.484375 57.671875 42.71875 61.234375 \r\nQ 38.96875 64.796875 32.078125 64.796875 \r\nz\r\nM 9.8125 72.90625 \r\nL 32.078125 72.90625 \r\nQ 44.34375 72.90625 50.609375 67.359375 \r\nQ 56.890625 61.8125 56.890625 51.125 \r\nQ 56.890625 40.328125 50.609375 34.8125 \r\nQ 44.34375 29.296875 32.078125 29.296875 \r\nL 19.671875 29.296875 \r\nL 19.671875 0 \r\nL 9.8125 0 \r\nz\r\n\" id=\"DejaVuSans-80\"/>\r\n      </defs>\r\n      <use xlink:href=\"#DejaVuSans-65\"/>\r\n      <use x=\"68.408203\" xlink:href=\"#DejaVuSans-68\"/>\r\n      <use x=\"145.410156\" xlink:href=\"#DejaVuSans-77\"/>\r\n      <use x=\"231.689453\" xlink:href=\"#DejaVuSans-73\"/>\r\n      <use x=\"261.181641\" xlink:href=\"#DejaVuSans-83\"/>\r\n      <use x=\"324.658203\" xlink:href=\"#DejaVuSans-83\"/>\r\n      <use x=\"388.134766\" xlink:href=\"#DejaVuSans-73\"/>\r\n      <use x=\"417.626953\" xlink:href=\"#DejaVuSans-79\"/>\r\n      <use x=\"496.337891\" xlink:href=\"#DejaVuSans-78\"/>\r\n      <use x=\"571.142578\" xlink:href=\"#DejaVuSans-95\"/>\r\n      <use x=\"621.142578\" xlink:href=\"#DejaVuSans-84\"/>\r\n      <use x=\"682.226562\" xlink:href=\"#DejaVuSans-89\"/>\r\n      <use x=\"743.310547\" xlink:href=\"#DejaVuSans-80\"/>\r\n      <use x=\"803.613281\" xlink:href=\"#DejaVuSans-69\"/>\r\n     </g>\r\n    </g>\r\n   </g>\r\n   <g id=\"matplotlib.axis_2\">\r\n    <g id=\"ytick_1\">\r\n     <g id=\"line2d_5\">\r\n      <defs>\r\n       <path d=\"M 0 0 \r\nL -3.5 0 \r\n\" id=\"md16f337155\" style=\"stroke:#000000;stroke-width:0.8;\"/>\r\n      </defs>\r\n      <g>\r\n       <use style=\"stroke:#000000;stroke-width:0.8;\" x=\"46.0125\" xlink:href=\"#md16f337155\" y=\"279\"/>\r\n      </g>\r\n     </g>\r\n     <g id=\"text_6\">\r\n      <!-- 0 -->\r\n      <g transform=\"translate(32.65 282.799219)scale(0.1 -0.1)\">\r\n       <defs>\r\n        <path d=\"M 31.78125 66.40625 \r\nQ 24.171875 66.40625 20.328125 58.90625 \r\nQ 16.5 51.421875 16.5 36.375 \r\nQ 16.5 21.390625 20.328125 13.890625 \r\nQ 24.171875 6.390625 31.78125 6.390625 \r\nQ 39.453125 6.390625 43.28125 13.890625 \r\nQ 47.125 21.390625 47.125 36.375 \r\nQ 47.125 51.421875 43.28125 58.90625 \r\nQ 39.453125 66.40625 31.78125 66.40625 \r\nz\r\nM 31.78125 74.21875 \r\nQ 44.046875 74.21875 50.515625 64.515625 \r\nQ 56.984375 54.828125 56.984375 36.375 \r\nQ 56.984375 17.96875 50.515625 8.265625 \r\nQ 44.046875 -1.421875 31.78125 -1.421875 \r\nQ 19.53125 -1.421875 13.0625 8.265625 \r\nQ 6.59375 17.96875 6.59375 36.375 \r\nQ 6.59375 54.828125 13.0625 64.515625 \r\nQ 19.53125 74.21875 31.78125 74.21875 \r\nz\r\n\" id=\"DejaVuSans-48\"/>\r\n       </defs>\r\n       <use xlink:href=\"#DejaVuSans-48\"/>\r\n      </g>\r\n     </g>\r\n    </g>\r\n    <g id=\"ytick_2\">\r\n     <g id=\"line2d_6\">\r\n      <g>\r\n       <use style=\"stroke:#000000;stroke-width:0.8;\" x=\"46.0125\" xlink:href=\"#md16f337155\" y=\"248.23568\"/>\r\n      </g>\r\n     </g>\r\n     <g id=\"text_7\">\r\n      <!-- 5000 -->\r\n      <g transform=\"translate(13.5625 252.034899)scale(0.1 -0.1)\">\r\n       <defs>\r\n        <path d=\"M 10.796875 72.90625 \r\nL 49.515625 72.90625 \r\nL 49.515625 64.59375 \r\nL 19.828125 64.59375 \r\nL 19.828125 46.734375 \r\nQ 21.96875 47.46875 24.109375 47.828125 \r\nQ 26.265625 48.1875 28.421875 48.1875 \r\nQ 40.625 48.1875 47.75 41.5 \r\nQ 54.890625 34.8125 54.890625 23.390625 \r\nQ 54.890625 11.625 47.5625 5.09375 \r\nQ 40.234375 -1.421875 26.90625 -1.421875 \r\nQ 22.3125 -1.421875 17.546875 -0.640625 \r\nQ 12.796875 0.140625 7.71875 1.703125 \r\nL 7.71875 11.625 \r\nQ 12.109375 9.234375 16.796875 8.0625 \r\nQ 21.484375 6.890625 26.703125 6.890625 \r\nQ 35.15625 6.890625 40.078125 11.328125 \r\nQ 45.015625 15.765625 45.015625 23.390625 \r\nQ 45.015625 31 40.078125 35.4375 \r\nQ 35.15625 39.890625 26.703125 39.890625 \r\nQ 22.75 39.890625 18.8125 39.015625 \r\nQ 14.890625 38.140625 10.796875 36.28125 \r\nz\r\n\" id=\"DejaVuSans-53\"/>\r\n       </defs>\r\n       <use xlink:href=\"#DejaVuSans-53\"/>\r\n       <use x=\"63.623047\" xlink:href=\"#DejaVuSans-48\"/>\r\n       <use x=\"127.246094\" xlink:href=\"#DejaVuSans-48\"/>\r\n       <use x=\"190.869141\" xlink:href=\"#DejaVuSans-48\"/>\r\n      </g>\r\n     </g>\r\n    </g>\r\n    <g id=\"ytick_3\">\r\n     <g id=\"line2d_7\">\r\n      <g>\r\n       <use style=\"stroke:#000000;stroke-width:0.8;\" x=\"46.0125\" xlink:href=\"#md16f337155\" y=\"217.47136\"/>\r\n      </g>\r\n     </g>\r\n     <g id=\"text_8\">\r\n      <!-- 10000 -->\r\n      <g transform=\"translate(7.2 221.270578)scale(0.1 -0.1)\">\r\n       <defs>\r\n        <path d=\"M 12.40625 8.296875 \r\nL 28.515625 8.296875 \r\nL 28.515625 63.921875 \r\nL 10.984375 60.40625 \r\nL 10.984375 69.390625 \r\nL 28.421875 72.90625 \r\nL 38.28125 72.90625 \r\nL 38.28125 8.296875 \r\nL 54.390625 8.296875 \r\nL 54.390625 0 \r\nL 12.40625 0 \r\nz\r\n\" id=\"DejaVuSans-49\"/>\r\n       </defs>\r\n       <use xlink:href=\"#DejaVuSans-49\"/>\r\n       <use x=\"63.623047\" xlink:href=\"#DejaVuSans-48\"/>\r\n       <use x=\"127.246094\" xlink:href=\"#DejaVuSans-48\"/>\r\n       <use x=\"190.869141\" xlink:href=\"#DejaVuSans-48\"/>\r\n       <use x=\"254.492188\" xlink:href=\"#DejaVuSans-48\"/>\r\n      </g>\r\n     </g>\r\n    </g>\r\n    <g id=\"ytick_4\">\r\n     <g id=\"line2d_8\">\r\n      <g>\r\n       <use style=\"stroke:#000000;stroke-width:0.8;\" x=\"46.0125\" xlink:href=\"#md16f337155\" y=\"186.707039\"/>\r\n      </g>\r\n     </g>\r\n     <g id=\"text_9\">\r\n      <!-- 15000 -->\r\n      <g transform=\"translate(7.2 190.506258)scale(0.1 -0.1)\">\r\n       <use xlink:href=\"#DejaVuSans-49\"/>\r\n       <use x=\"63.623047\" xlink:href=\"#DejaVuSans-53\"/>\r\n       <use x=\"127.246094\" xlink:href=\"#DejaVuSans-48\"/>\r\n       <use x=\"190.869141\" xlink:href=\"#DejaVuSans-48\"/>\r\n       <use x=\"254.492188\" xlink:href=\"#DejaVuSans-48\"/>\r\n      </g>\r\n     </g>\r\n    </g>\r\n    <g id=\"ytick_5\">\r\n     <g id=\"line2d_9\">\r\n      <g>\r\n       <use style=\"stroke:#000000;stroke-width:0.8;\" x=\"46.0125\" xlink:href=\"#md16f337155\" y=\"155.942719\"/>\r\n      </g>\r\n     </g>\r\n     <g id=\"text_10\">\r\n      <!-- 20000 -->\r\n      <g transform=\"translate(7.2 159.741938)scale(0.1 -0.1)\">\r\n       <defs>\r\n        <path d=\"M 19.1875 8.296875 \r\nL 53.609375 8.296875 \r\nL 53.609375 0 \r\nL 7.328125 0 \r\nL 7.328125 8.296875 \r\nQ 12.9375 14.109375 22.625 23.890625 \r\nQ 32.328125 33.6875 34.8125 36.53125 \r\nQ 39.546875 41.84375 41.421875 45.53125 \r\nQ 43.3125 49.21875 43.3125 52.78125 \r\nQ 43.3125 58.59375 39.234375 62.25 \r\nQ 35.15625 65.921875 28.609375 65.921875 \r\nQ 23.96875 65.921875 18.8125 64.3125 \r\nQ 13.671875 62.703125 7.8125 59.421875 \r\nL 7.8125 69.390625 \r\nQ 13.765625 71.78125 18.9375 73 \r\nQ 24.125 74.21875 28.421875 74.21875 \r\nQ 39.75 74.21875 46.484375 68.546875 \r\nQ 53.21875 62.890625 53.21875 53.421875 \r\nQ 53.21875 48.921875 51.53125 44.890625 \r\nQ 49.859375 40.875 45.40625 35.40625 \r\nQ 44.1875 33.984375 37.640625 27.21875 \r\nQ 31.109375 20.453125 19.1875 8.296875 \r\nz\r\n\" id=\"DejaVuSans-50\"/>\r\n       </defs>\r\n       <use xlink:href=\"#DejaVuSans-50\"/>\r\n       <use x=\"63.623047\" xlink:href=\"#DejaVuSans-48\"/>\r\n       <use x=\"127.246094\" xlink:href=\"#DejaVuSans-48\"/>\r\n       <use x=\"190.869141\" xlink:href=\"#DejaVuSans-48\"/>\r\n       <use x=\"254.492188\" xlink:href=\"#DejaVuSans-48\"/>\r\n      </g>\r\n     </g>\r\n    </g>\r\n    <g id=\"ytick_6\">\r\n     <g id=\"line2d_10\">\r\n      <g>\r\n       <use style=\"stroke:#000000;stroke-width:0.8;\" x=\"46.0125\" xlink:href=\"#md16f337155\" y=\"125.178399\"/>\r\n      </g>\r\n     </g>\r\n     <g id=\"text_11\">\r\n      <!-- 25000 -->\r\n      <g transform=\"translate(7.2 128.977618)scale(0.1 -0.1)\">\r\n       <use xlink:href=\"#DejaVuSans-50\"/>\r\n       <use x=\"63.623047\" xlink:href=\"#DejaVuSans-53\"/>\r\n       <use x=\"127.246094\" xlink:href=\"#DejaVuSans-48\"/>\r\n       <use x=\"190.869141\" xlink:href=\"#DejaVuSans-48\"/>\r\n       <use x=\"254.492188\" xlink:href=\"#DejaVuSans-48\"/>\r\n      </g>\r\n     </g>\r\n    </g>\r\n    <g id=\"ytick_7\">\r\n     <g id=\"line2d_11\">\r\n      <g>\r\n       <use style=\"stroke:#000000;stroke-width:0.8;\" x=\"46.0125\" xlink:href=\"#md16f337155\" y=\"94.414079\"/>\r\n      </g>\r\n     </g>\r\n     <g id=\"text_12\">\r\n      <!-- 30000 -->\r\n      <g transform=\"translate(7.2 98.213298)scale(0.1 -0.1)\">\r\n       <defs>\r\n        <path d=\"M 40.578125 39.3125 \r\nQ 47.65625 37.796875 51.625 33 \r\nQ 55.609375 28.21875 55.609375 21.1875 \r\nQ 55.609375 10.40625 48.1875 4.484375 \r\nQ 40.765625 -1.421875 27.09375 -1.421875 \r\nQ 22.515625 -1.421875 17.65625 -0.515625 \r\nQ 12.796875 0.390625 7.625 2.203125 \r\nL 7.625 11.71875 \r\nQ 11.71875 9.328125 16.59375 8.109375 \r\nQ 21.484375 6.890625 26.8125 6.890625 \r\nQ 36.078125 6.890625 40.9375 10.546875 \r\nQ 45.796875 14.203125 45.796875 21.1875 \r\nQ 45.796875 27.640625 41.28125 31.265625 \r\nQ 36.765625 34.90625 28.71875 34.90625 \r\nL 20.21875 34.90625 \r\nL 20.21875 43.015625 \r\nL 29.109375 43.015625 \r\nQ 36.375 43.015625 40.234375 45.921875 \r\nQ 44.09375 48.828125 44.09375 54.296875 \r\nQ 44.09375 59.90625 40.109375 62.90625 \r\nQ 36.140625 65.921875 28.71875 65.921875 \r\nQ 24.65625 65.921875 20.015625 65.03125 \r\nQ 15.375 64.15625 9.8125 62.3125 \r\nL 9.8125 71.09375 \r\nQ 15.4375 72.65625 20.34375 73.4375 \r\nQ 25.25 74.21875 29.59375 74.21875 \r\nQ 40.828125 74.21875 47.359375 69.109375 \r\nQ 53.90625 64.015625 53.90625 55.328125 \r\nQ 53.90625 49.265625 50.4375 45.09375 \r\nQ 46.96875 40.921875 40.578125 39.3125 \r\nz\r\n\" id=\"DejaVuSans-51\"/>\r\n       </defs>\r\n       <use xlink:href=\"#DejaVuSans-51\"/>\r\n       <use x=\"63.623047\" xlink:href=\"#DejaVuSans-48\"/>\r\n       <use x=\"127.246094\" xlink:href=\"#DejaVuSans-48\"/>\r\n       <use x=\"190.869141\" xlink:href=\"#DejaVuSans-48\"/>\r\n       <use x=\"254.492188\" xlink:href=\"#DejaVuSans-48\"/>\r\n      </g>\r\n     </g>\r\n    </g>\r\n    <g id=\"ytick_8\">\r\n     <g id=\"line2d_12\">\r\n      <g>\r\n       <use style=\"stroke:#000000;stroke-width:0.8;\" x=\"46.0125\" xlink:href=\"#md16f337155\" y=\"63.649759\"/>\r\n      </g>\r\n     </g>\r\n     <g id=\"text_13\">\r\n      <!-- 35000 -->\r\n      <g transform=\"translate(7.2 67.448977)scale(0.1 -0.1)\">\r\n       <use xlink:href=\"#DejaVuSans-51\"/>\r\n       <use x=\"63.623047\" xlink:href=\"#DejaVuSans-53\"/>\r\n       <use x=\"127.246094\" xlink:href=\"#DejaVuSans-48\"/>\r\n       <use x=\"190.869141\" xlink:href=\"#DejaVuSans-48\"/>\r\n       <use x=\"254.492188\" xlink:href=\"#DejaVuSans-48\"/>\r\n      </g>\r\n     </g>\r\n    </g>\r\n    <g id=\"ytick_9\">\r\n     <g id=\"line2d_13\">\r\n      <g>\r\n       <use style=\"stroke:#000000;stroke-width:0.8;\" x=\"46.0125\" xlink:href=\"#md16f337155\" y=\"32.885439\"/>\r\n      </g>\r\n     </g>\r\n     <g id=\"text_14\">\r\n      <!-- 40000 -->\r\n      <g transform=\"translate(7.2 36.684657)scale(0.1 -0.1)\">\r\n       <defs>\r\n        <path d=\"M 37.796875 64.3125 \r\nL 12.890625 25.390625 \r\nL 37.796875 25.390625 \r\nz\r\nM 35.203125 72.90625 \r\nL 47.609375 72.90625 \r\nL 47.609375 25.390625 \r\nL 58.015625 25.390625 \r\nL 58.015625 17.1875 \r\nL 47.609375 17.1875 \r\nL 47.609375 0 \r\nL 37.796875 0 \r\nL 37.796875 17.1875 \r\nL 4.890625 17.1875 \r\nL 4.890625 26.703125 \r\nz\r\n\" id=\"DejaVuSans-52\"/>\r\n       </defs>\r\n       <use xlink:href=\"#DejaVuSans-52\"/>\r\n       <use x=\"63.623047\" xlink:href=\"#DejaVuSans-48\"/>\r\n       <use x=\"127.246094\" xlink:href=\"#DejaVuSans-48\"/>\r\n       <use x=\"190.869141\" xlink:href=\"#DejaVuSans-48\"/>\r\n       <use x=\"254.492188\" xlink:href=\"#DejaVuSans-48\"/>\r\n      </g>\r\n     </g>\r\n    </g>\r\n   </g>\r\n   <g id=\"patch_7\">\r\n    <path d=\"M 46.0125 279 \r\nL 46.0125 7.2 \r\n\" style=\"fill:none;stroke:#000000;stroke-linecap:square;stroke-linejoin:miter;stroke-width:0.8;\"/>\r\n   </g>\r\n   <g id=\"patch_8\">\r\n    <path d=\"M 325.0125 279 \r\nL 325.0125 7.2 \r\n\" style=\"fill:none;stroke:#000000;stroke-linecap:square;stroke-linejoin:miter;stroke-width:0.8;\"/>\r\n   </g>\r\n   <g id=\"patch_9\">\r\n    <path d=\"M 46.0125 279 \r\nL 325.0125 279 \r\n\" style=\"fill:none;stroke:#000000;stroke-linecap:square;stroke-linejoin:miter;stroke-width:0.8;\"/>\r\n   </g>\r\n   <g id=\"patch_10\">\r\n    <path d=\"M 46.0125 7.2 \r\nL 325.0125 7.2 \r\n\" style=\"fill:none;stroke:#000000;stroke-linecap:square;stroke-linejoin:miter;stroke-width:0.8;\"/>\r\n   </g>\r\n  </g>\r\n </g>\r\n <defs>\r\n  <clipPath id=\"pb366f6e79a\">\r\n   <rect height=\"271.8\" width=\"279\" x=\"46.0125\" y=\"7.2\"/>\r\n  </clipPath>\r\n </defs>\r\n</svg>\r\n",
      "text/plain": "<Figure size 360x360 with 1 Axes>"
     },
     "metadata": {
      "needs_background": "light"
     },
     "output_type": "display_data"
    }
   ],
   "source": [
    "fig = plt.figure(figsize=(5,5))\n",
    "admission_data.groupby(['ADMISSION_TYPE']).size().plot.bar(color = 'red');"
   ]
  },
  {
   "cell_type": "code",
   "execution_count": 4,
   "metadata": {},
   "outputs": [],
   "source": [
    "admission_data.ADMITTIME = pd.to_datetime(admission_data.ADMITTIME, format = '%Y-%m-%d %H:%M:%S')           # changing the format of the time in the table\n",
    "admission_data.DISCHTIME = pd.to_datetime(admission_data.DISCHTIME, format = '%Y-%m-%d %H:%M:%S')\n",
    "admission_data.DEATHTIME = pd.to_datetime(admission_data.DEATHTIME, format = '%Y-%m-%d %H:%M:%S')"
   ]
  },
  {
   "cell_type": "code",
   "execution_count": 5,
   "metadata": {},
   "outputs": [],
   "source": [
    "admission_data = admission_data.sort_values(['SUBJECT_ID','ADMITTIME'])          # sorting by subject_id and admission times\n",
    "admission_data = admission_data.reset_index(drop = True)"
   ]
  },
  {
   "cell_type": "code",
   "execution_count": 6,
   "metadata": {},
   "outputs": [
    {
     "data": {
      "text/html": "<div>\n<style scoped>\n    .dataframe tbody tr th:only-of-type {\n        vertical-align: middle;\n    }\n\n    .dataframe tbody tr th {\n        vertical-align: top;\n    }\n\n    .dataframe thead th {\n        text-align: right;\n    }\n</style>\n<table border=\"1\" class=\"dataframe\">\n  <thead>\n    <tr style=\"text-align: right;\">\n      <th></th>\n      <th>SUBJECT_ID</th>\n      <th>ADMITTIME</th>\n      <th>ADMISSION_TYPE</th>\n      <th>DISCHTIME</th>\n    </tr>\n  </thead>\n  <tbody>\n    <tr>\n      <th>817</th>\n      <td>801</td>\n      <td>2197-06-19 19:47:00</td>\n      <td>EMERGENCY</td>\n      <td>2197-08-03 13:00:00</td>\n    </tr>\n    <tr>\n      <th>818</th>\n      <td>801</td>\n      <td>2197-08-09 21:00:00</td>\n      <td>EMERGENCY</td>\n      <td>2197-09-15 14:17:00</td>\n    </tr>\n    <tr>\n      <th>819</th>\n      <td>801</td>\n      <td>2198-07-09 23:22:00</td>\n      <td>EMERGENCY</td>\n      <td>2198-07-16 14:06:00</td>\n    </tr>\n  </tbody>\n</table>\n</div>",
      "text/plain": [
       "     SUBJECT_ID           ADMITTIME ADMISSION_TYPE           DISCHTIME\n",
       "817         801 2197-06-19 19:47:00      EMERGENCY 2197-08-03 13:00:00\n",
       "818         801 2197-08-09 21:00:00      EMERGENCY 2197-09-15 14:17:00\n",
       "819         801 2198-07-09 23:22:00      EMERGENCY 2198-07-16 14:06:00"
      ]
     },
     "execution_count": 6,
     "metadata": {},
     "output_type": "execute_result"
    }
   ],
   "source": [
    "admission_data.loc[admission_data.SUBJECT_ID  == 801, ['SUBJECT_ID','ADMITTIME','ADMISSION_TYPE', 'DISCHTIME']]      # looking at an example"
   ]
  },
  {
   "cell_type": "code",
   "execution_count": 6,
   "metadata": {},
   "outputs": [],
   "source": [
    "admission_data['NEXT_ADMITTIME'] = admission_data.groupby('SUBJECT_ID').ADMITTIME.shift(-1)             # creating new columns for the next admissions and type of admission for a subject\n",
    "admission_data['NEXT_ADMISSION_TYPE'] = admission_data.groupby('SUBJECT_ID').ADMISSION_TYPE.shift(-1)"
   ]
  },
  {
   "cell_type": "code",
   "execution_count": 8,
   "metadata": {},
   "outputs": [
    {
     "data": {
      "text/html": "<div>\n<style scoped>\n    .dataframe tbody tr th:only-of-type {\n        vertical-align: middle;\n    }\n\n    .dataframe tbody tr th {\n        vertical-align: top;\n    }\n\n    .dataframe thead th {\n        text-align: right;\n    }\n</style>\n<table border=\"1\" class=\"dataframe\">\n  <thead>\n    <tr style=\"text-align: right;\">\n      <th></th>\n      <th>SUBJECT_ID</th>\n      <th>ADMITTIME</th>\n      <th>ADMISSION_TYPE</th>\n      <th>DISCHTIME</th>\n      <th>NEXT_ADMITTIME</th>\n      <th>NEXT_ADMISSION_TYPE</th>\n    </tr>\n  </thead>\n  <tbody>\n    <tr>\n      <th>817</th>\n      <td>801</td>\n      <td>2197-06-19 19:47:00</td>\n      <td>EMERGENCY</td>\n      <td>2197-08-03 13:00:00</td>\n      <td>2197-08-09 21:00:00</td>\n      <td>EMERGENCY</td>\n    </tr>\n    <tr>\n      <th>818</th>\n      <td>801</td>\n      <td>2197-08-09 21:00:00</td>\n      <td>EMERGENCY</td>\n      <td>2197-09-15 14:17:00</td>\n      <td>2198-07-09 23:22:00</td>\n      <td>EMERGENCY</td>\n    </tr>\n    <tr>\n      <th>819</th>\n      <td>801</td>\n      <td>2198-07-09 23:22:00</td>\n      <td>EMERGENCY</td>\n      <td>2198-07-16 14:06:00</td>\n      <td>NaT</td>\n      <td>NaN</td>\n    </tr>\n  </tbody>\n</table>\n</div>",
      "text/plain": [
       "     SUBJECT_ID           ADMITTIME ADMISSION_TYPE           DISCHTIME  \\\n",
       "817         801 2197-06-19 19:47:00      EMERGENCY 2197-08-03 13:00:00   \n",
       "818         801 2197-08-09 21:00:00      EMERGENCY 2197-09-15 14:17:00   \n",
       "819         801 2198-07-09 23:22:00      EMERGENCY 2198-07-16 14:06:00   \n",
       "\n",
       "         NEXT_ADMITTIME NEXT_ADMISSION_TYPE  \n",
       "817 2197-08-09 21:00:00           EMERGENCY  \n",
       "818 2198-07-09 23:22:00           EMERGENCY  \n",
       "819                 NaT                 NaN  "
      ]
     },
     "execution_count": 8,
     "metadata": {},
     "output_type": "execute_result"
    }
   ],
   "source": [
    "admission_data.loc[admission_data.SUBJECT_ID == 801,['SUBJECT_ID','ADMITTIME','ADMISSION_TYPE', 'DISCHTIME', 'NEXT_ADMITTIME','NEXT_ADMISSION_TYPE']] # continuing with example"
   ]
  },
  {
   "cell_type": "code",
   "execution_count": 7,
   "metadata": {},
   "outputs": [],
   "source": [
    "rows = admission_data.NEXT_ADMISSION_TYPE == 'ELECTIVE'           # if the subject's next admission is elective, then we won't consider this\n",
    "admission_data.loc[rows,'NEXT_ADMITTIME'] = pd.NaT\n",
    "admission_data.loc[rows,'NEXT_ADMISSION_TYPE'] = np.NaN"
   ]
  },
  {
   "cell_type": "code",
   "execution_count": 10,
   "metadata": {},
   "outputs": [
    {
     "data": {
      "text/html": "<div>\n<style scoped>\n    .dataframe tbody tr th:only-of-type {\n        vertical-align: middle;\n    }\n\n    .dataframe tbody tr th {\n        vertical-align: top;\n    }\n\n    .dataframe thead th {\n        text-align: right;\n    }\n</style>\n<table border=\"1\" class=\"dataframe\">\n  <thead>\n    <tr style=\"text-align: right;\">\n      <th></th>\n      <th>SUBJECT_ID</th>\n      <th>ADMITTIME</th>\n      <th>ADMISSION_TYPE</th>\n      <th>NEXT_ADMITTIME</th>\n      <th>NEXT_ADMISSION_TYPE</th>\n    </tr>\n  </thead>\n  <tbody>\n    <tr>\n      <th>817</th>\n      <td>801</td>\n      <td>2197-06-19 19:47:00</td>\n      <td>EMERGENCY</td>\n      <td>2197-08-09 21:00:00</td>\n      <td>EMERGENCY</td>\n    </tr>\n    <tr>\n      <th>818</th>\n      <td>801</td>\n      <td>2197-08-09 21:00:00</td>\n      <td>EMERGENCY</td>\n      <td>2198-07-09 23:22:00</td>\n      <td>EMERGENCY</td>\n    </tr>\n    <tr>\n      <th>819</th>\n      <td>801</td>\n      <td>2198-07-09 23:22:00</td>\n      <td>EMERGENCY</td>\n      <td>NaT</td>\n      <td>NaN</td>\n    </tr>\n  </tbody>\n</table>\n</div>",
      "text/plain": [
       "     SUBJECT_ID           ADMITTIME ADMISSION_TYPE      NEXT_ADMITTIME  \\\n",
       "817         801 2197-06-19 19:47:00      EMERGENCY 2197-08-09 21:00:00   \n",
       "818         801 2197-08-09 21:00:00      EMERGENCY 2198-07-09 23:22:00   \n",
       "819         801 2198-07-09 23:22:00      EMERGENCY                 NaT   \n",
       "\n",
       "    NEXT_ADMISSION_TYPE  \n",
       "817           EMERGENCY  \n",
       "818           EMERGENCY  \n",
       "819                 NaN  "
      ]
     },
     "execution_count": 10,
     "metadata": {},
     "output_type": "execute_result"
    }
   ],
   "source": [
    "admission_data.loc[admission_data.SUBJECT_ID == 801,['SUBJECT_ID','ADMITTIME','ADMISSION_TYPE','NEXT_ADMITTIME','NEXT_ADMISSION_TYPE']]"
   ]
  },
  {
   "cell_type": "code",
   "execution_count": 8,
   "metadata": {},
   "outputs": [],
   "source": [
    "admission_data[['NEXT_ADMITTIME','NEXT_ADMISSION_TYPE']] = admission_data.groupby(['SUBJECT_ID'])\\\n",
    "[['NEXT_ADMITTIME','NEXT_ADMISSION_TYPE']].fillna(method = 'bfill')"
   ]
  },
  {
   "cell_type": "code",
   "execution_count": 13,
   "metadata": {},
   "outputs": [
    {
     "data": {
      "text/html": "<div>\n<style scoped>\n    .dataframe tbody tr th:only-of-type {\n        vertical-align: middle;\n    }\n\n    .dataframe tbody tr th {\n        vertical-align: top;\n    }\n\n    .dataframe thead th {\n        text-align: right;\n    }\n</style>\n<table border=\"1\" class=\"dataframe\">\n  <thead>\n    <tr style=\"text-align: right;\">\n      <th></th>\n      <th>SUBJECT_ID</th>\n      <th>ADMITTIME</th>\n      <th>ADMISSION_TYPE</th>\n      <th>NEXT_ADMITTIME</th>\n      <th>NEXT_ADMISSION_TYPE</th>\n    </tr>\n  </thead>\n  <tbody>\n    <tr>\n      <th>817</th>\n      <td>801</td>\n      <td>2197-06-19 19:47:00</td>\n      <td>EMERGENCY</td>\n      <td>2197-08-09 21:00:00</td>\n      <td>EMERGENCY</td>\n    </tr>\n    <tr>\n      <th>818</th>\n      <td>801</td>\n      <td>2197-08-09 21:00:00</td>\n      <td>EMERGENCY</td>\n      <td>2198-07-09 23:22:00</td>\n      <td>EMERGENCY</td>\n    </tr>\n    <tr>\n      <th>819</th>\n      <td>801</td>\n      <td>2198-07-09 23:22:00</td>\n      <td>EMERGENCY</td>\n      <td>NaT</td>\n      <td>NaN</td>\n    </tr>\n  </tbody>\n</table>\n</div>",
      "text/plain": [
       "     SUBJECT_ID           ADMITTIME ADMISSION_TYPE      NEXT_ADMITTIME  \\\n",
       "817         801 2197-06-19 19:47:00      EMERGENCY 2197-08-09 21:00:00   \n",
       "818         801 2197-08-09 21:00:00      EMERGENCY 2198-07-09 23:22:00   \n",
       "819         801 2198-07-09 23:22:00      EMERGENCY                 NaT   \n",
       "\n",
       "    NEXT_ADMISSION_TYPE  \n",
       "817           EMERGENCY  \n",
       "818           EMERGENCY  \n",
       "819                 NaN  "
      ]
     },
     "execution_count": 13,
     "metadata": {},
     "output_type": "execute_result"
    }
   ],
   "source": [
    "admission_data.loc[admission_data.SUBJECT_ID == 801,['SUBJECT_ID','ADMITTIME','ADMISSION_TYPE','NEXT_ADMITTIME','NEXT_ADMISSION_TYPE']]"
   ]
  },
  {
   "cell_type": "code",
   "execution_count": 12,
   "metadata": {},
   "outputs": [
    {
     "data": {
      "image/png": "[encoded data removed]",
      "image/svg+xml": "<?xml version=\"1.0\" encoding=\"utf-8\" standalone=\"no\"?>\r\n<!DOCTYPE svg PUBLIC \"-//W3C//DTD SVG 1.1//EN\"\r\n  \"http://www.w3.org/Graphics/SVG/1.1/DTD/svg11.dtd\">\r\n<!-- Created with matplotlib (https://matplotlib.org/) -->\r\n<svg height=\"262.19625pt\" version=\"1.1\" viewBox=\"0 0 395.328125 262.19625\" width=\"395.328125pt\" xmlns=\"http://www.w3.org/2000/svg\" xmlns:xlink=\"http://www.w3.org/1999/xlink\">\r\n <metadata>\r\n  <rdf:RDF xmlns:cc=\"http://creativecommons.org/ns#\" xmlns:dc=\"http://purl.org/dc/elements/1.1/\" xmlns:rdf=\"http://www.w3.org/1999/02/22-rdf-syntax-ns#\">\r\n   <cc:Work>\r\n    <dc:type rdf:resource=\"http://purl.org/dc/dcmitype/StillImage\"/>\r\n    <dc:date>2021-03-30T12:10:49.410828</dc:date>\r\n    <dc:format>image/svg+xml</dc:format>\r\n    <dc:creator>\r\n     <cc:Agent>\r\n      <dc:title>Matplotlib v3.3.3, https://matplotlib.org/</dc:title>\r\n     </cc:Agent>\r\n    </dc:creator>\r\n   </cc:Work>\r\n  </rdf:RDF>\r\n </metadata>\r\n <defs>\r\n  <style type=\"text/css\">*{stroke-linecap:butt;stroke-linejoin:round;}</style>\r\n </defs>\r\n <g id=\"figure_1\">\r\n  <g id=\"patch_1\">\r\n   <path d=\"M 0 262.19625 \r\nL 395.328125 262.19625 \r\nL 395.328125 0 \r\nL 0 0 \r\nz\r\n\" style=\"fill:none;\"/>\r\n  </g>\r\n  <g id=\"axes_1\">\r\n   <g id=\"patch_2\">\r\n    <path d=\"M 53.328125 224.64 \r\nL 388.128125 224.64 \r\nL 388.128125 7.2 \r\nL 53.328125 7.2 \r\nz\r\n\" style=\"fill:#ffffff;\"/>\r\n   </g>\r\n   <g id=\"patch_3\">\r\n    <path clip-path=\"url(#p3837e0e261)\" d=\"M 53.328125 224.64 \r\nL 80.845933 224.64 \r\nL 80.845933 17.554286 \r\nL 53.328125 17.554286 \r\nz\r\n\" style=\"fill:#ff0000;\"/>\r\n   </g>\r\n   <g id=\"patch_4\">\r\n    <path clip-path=\"url(#p3837e0e261)\" d=\"M 80.845933 224.64 \r\nL 108.363741 224.64 \r\nL 108.363741 140.476822 \r\nL 80.845933 140.476822 \r\nz\r\n\" style=\"fill:#ff0000;\"/>\r\n   </g>\r\n   <g id=\"patch_5\">\r\n    <path clip-path=\"url(#p3837e0e261)\" d=\"M 108.363741 224.64 \r\nL 135.88155 224.64 \r\nL 135.88155 173.214637 \r\nL 108.363741 173.214637 \r\nz\r\n\" style=\"fill:#ff0000;\"/>\r\n   </g>\r\n   <g id=\"patch_6\">\r\n    <path clip-path=\"url(#p3837e0e261)\" d=\"M 135.88155 224.64 \r\nL 163.399358 224.64 \r\nL 163.399358 190.102643 \r\nL 135.88155 190.102643 \r\nz\r\n\" style=\"fill:#ff0000;\"/>\r\n   </g>\r\n   <g id=\"patch_7\">\r\n    <path clip-path=\"url(#p3837e0e261)\" d=\"M 163.399358 224.64 \r\nL 190.917166 224.64 \r\nL 190.917166 195.916547 \r\nL 163.399358 195.916547 \r\nz\r\n\" style=\"fill:#ff0000;\"/>\r\n   </g>\r\n   <g id=\"patch_8\">\r\n    <path clip-path=\"url(#p3837e0e261)\" d=\"M 190.917166 224.64 \r\nL 218.434974 224.64 \r\nL 218.434974 198.615859 \r\nL 190.917166 198.615859 \r\nz\r\n\" style=\"fill:#ff0000;\"/>\r\n   </g>\r\n   <g id=\"patch_9\">\r\n    <path clip-path=\"url(#p3837e0e261)\" d=\"M 218.434974 224.64 \r\nL 245.952783 224.64 \r\nL 245.952783 204.429763 \r\nL 218.434974 204.429763 \r\nz\r\n\" style=\"fill:#ff0000;\"/>\r\n   </g>\r\n   <g id=\"patch_10\">\r\n    <path clip-path=\"url(#p3837e0e261)\" d=\"M 245.952783 224.64 \r\nL 273.470591 224.64 \r\nL 273.470591 206.021665 \r\nL 245.952783 206.021665 \r\nz\r\n\" style=\"fill:#ff0000;\"/>\r\n   </g>\r\n   <g id=\"patch_11\">\r\n    <path clip-path=\"url(#p3837e0e261)\" d=\"M 273.470591 224.64 \r\nL 300.988399 224.64 \r\nL 300.988399 210.658946 \r\nL 273.470591 210.658946 \r\nz\r\n\" style=\"fill:#ff0000;\"/>\r\n   </g>\r\n   <g id=\"patch_12\">\r\n    <path clip-path=\"url(#p3837e0e261)\" d=\"M 300.988399 224.64 \r\nL 328.506207 224.64 \r\nL 328.506207 211.42029 \r\nL 300.988399 211.42029 \r\nz\r\n\" style=\"fill:#ff0000;\"/>\r\n   </g>\r\n   <g id=\"patch_13\">\r\n    <path clip-path=\"url(#p3837e0e261)\" d=\"M 328.506207 224.64 \r\nL 356.024015 224.64 \r\nL 356.024015 210.520519 \r\nL 328.506207 210.520519 \r\nz\r\n\" style=\"fill:#ff0000;\"/>\r\n   </g>\r\n   <g id=\"patch_14\">\r\n    <path clip-path=\"url(#p3837e0e261)\" d=\"M 356.024015 224.64 \r\nL 383.541824 224.64 \r\nL 383.541824 211.42029 \r\nL 356.024015 211.42029 \r\nz\r\n\" style=\"fill:#ff0000;\"/>\r\n   </g>\r\n   <g id=\"matplotlib.axis_1\">\r\n    <g id=\"xtick_1\">\r\n     <g id=\"line2d_1\">\r\n      <defs>\r\n       <path d=\"M 0 0 \r\nL 0 3.5 \r\n\" id=\"m79c97a6c5a\" style=\"stroke:#000000;stroke-width:0.8;\"/>\r\n      </defs>\r\n      <g>\r\n       <use style=\"stroke:#000000;stroke-width:0.8;\" x=\"53.328125\" xlink:href=\"#m79c97a6c5a\" y=\"224.64\"/>\r\n      </g>\r\n     </g>\r\n     <g id=\"text_1\">\r\n      <!-- 0 -->\r\n      <g transform=\"translate(50.146875 239.238437)scale(0.1 -0.1)\">\r\n       <defs>\r\n        <path d=\"M 31.78125 66.40625 \r\nQ 24.171875 66.40625 20.328125 58.90625 \r\nQ 16.5 51.421875 16.5 36.375 \r\nQ 16.5 21.390625 20.328125 13.890625 \r\nQ 24.171875 6.390625 31.78125 6.390625 \r\nQ 39.453125 6.390625 43.28125 13.890625 \r\nQ 47.125 21.390625 47.125 36.375 \r\nQ 47.125 51.421875 43.28125 58.90625 \r\nQ 39.453125 66.40625 31.78125 66.40625 \r\nz\r\nM 31.78125 74.21875 \r\nQ 44.046875 74.21875 50.515625 64.515625 \r\nQ 56.984375 54.828125 56.984375 36.375 \r\nQ 56.984375 17.96875 50.515625 8.265625 \r\nQ 44.046875 -1.421875 31.78125 -1.421875 \r\nQ 19.53125 -1.421875 13.0625 8.265625 \r\nQ 6.59375 17.96875 6.59375 36.375 \r\nQ 6.59375 54.828125 13.0625 64.515625 \r\nQ 19.53125 74.21875 31.78125 74.21875 \r\nz\r\n\" id=\"DejaVuSans-48\"/>\r\n       </defs>\r\n       <use xlink:href=\"#DejaVuSans-48\"/>\r\n      </g>\r\n     </g>\r\n    </g>\r\n    <g id=\"xtick_2\">\r\n     <g id=\"line2d_2\">\r\n      <g>\r\n       <use style=\"stroke:#000000;stroke-width:0.8;\" x=\"99.191139\" xlink:href=\"#m79c97a6c5a\" y=\"224.64\"/>\r\n      </g>\r\n     </g>\r\n     <g id=\"text_2\">\r\n      <!-- 50 -->\r\n      <g transform=\"translate(92.828639 239.238437)scale(0.1 -0.1)\">\r\n       <defs>\r\n        <path d=\"M 10.796875 72.90625 \r\nL 49.515625 72.90625 \r\nL 49.515625 64.59375 \r\nL 19.828125 64.59375 \r\nL 19.828125 46.734375 \r\nQ 21.96875 47.46875 24.109375 47.828125 \r\nQ 26.265625 48.1875 28.421875 48.1875 \r\nQ 40.625 48.1875 47.75 41.5 \r\nQ 54.890625 34.8125 54.890625 23.390625 \r\nQ 54.890625 11.625 47.5625 5.09375 \r\nQ 40.234375 -1.421875 26.90625 -1.421875 \r\nQ 22.3125 -1.421875 17.546875 -0.640625 \r\nQ 12.796875 0.140625 7.71875 1.703125 \r\nL 7.71875 11.625 \r\nQ 12.109375 9.234375 16.796875 8.0625 \r\nQ 21.484375 6.890625 26.703125 6.890625 \r\nQ 35.15625 6.890625 40.078125 11.328125 \r\nQ 45.015625 15.765625 45.015625 23.390625 \r\nQ 45.015625 31 40.078125 35.4375 \r\nQ 35.15625 39.890625 26.703125 39.890625 \r\nQ 22.75 39.890625 18.8125 39.015625 \r\nQ 14.890625 38.140625 10.796875 36.28125 \r\nz\r\n\" id=\"DejaVuSans-53\"/>\r\n       </defs>\r\n       <use xlink:href=\"#DejaVuSans-53\"/>\r\n       <use x=\"63.623047\" xlink:href=\"#DejaVuSans-48\"/>\r\n      </g>\r\n     </g>\r\n    </g>\r\n    <g id=\"xtick_3\">\r\n     <g id=\"line2d_3\">\r\n      <g>\r\n       <use style=\"stroke:#000000;stroke-width:0.8;\" x=\"145.054152\" xlink:href=\"#m79c97a6c5a\" y=\"224.64\"/>\r\n      </g>\r\n     </g>\r\n     <g id=\"text_3\">\r\n      <!-- 100 -->\r\n      <g transform=\"translate(135.510402 239.238437)scale(0.1 -0.1)\">\r\n       <defs>\r\n        <path d=\"M 12.40625 8.296875 \r\nL 28.515625 8.296875 \r\nL 28.515625 63.921875 \r\nL 10.984375 60.40625 \r\nL 10.984375 69.390625 \r\nL 28.421875 72.90625 \r\nL 38.28125 72.90625 \r\nL 38.28125 8.296875 \r\nL 54.390625 8.296875 \r\nL 54.390625 0 \r\nL 12.40625 0 \r\nz\r\n\" id=\"DejaVuSans-49\"/>\r\n       </defs>\r\n       <use xlink:href=\"#DejaVuSans-49\"/>\r\n       <use x=\"63.623047\" xlink:href=\"#DejaVuSans-48\"/>\r\n       <use x=\"127.246094\" xlink:href=\"#DejaVuSans-48\"/>\r\n      </g>\r\n     </g>\r\n    </g>\r\n    <g id=\"xtick_4\">\r\n     <g id=\"line2d_4\">\r\n      <g>\r\n       <use style=\"stroke:#000000;stroke-width:0.8;\" x=\"190.917166\" xlink:href=\"#m79c97a6c5a\" y=\"224.64\"/>\r\n      </g>\r\n     </g>\r\n     <g id=\"text_4\">\r\n      <!-- 150 -->\r\n      <g transform=\"translate(181.373416 239.238437)scale(0.1 -0.1)\">\r\n       <use xlink:href=\"#DejaVuSans-49\"/>\r\n       <use x=\"63.623047\" xlink:href=\"#DejaVuSans-53\"/>\r\n       <use x=\"127.246094\" xlink:href=\"#DejaVuSans-48\"/>\r\n      </g>\r\n     </g>\r\n    </g>\r\n    <g id=\"xtick_5\">\r\n     <g id=\"line2d_5\">\r\n      <g>\r\n       <use style=\"stroke:#000000;stroke-width:0.8;\" x=\"236.78018\" xlink:href=\"#m79c97a6c5a\" y=\"224.64\"/>\r\n      </g>\r\n     </g>\r\n     <g id=\"text_5\">\r\n      <!-- 200 -->\r\n      <g transform=\"translate(227.23643 239.238437)scale(0.1 -0.1)\">\r\n       <defs>\r\n        <path d=\"M 19.1875 8.296875 \r\nL 53.609375 8.296875 \r\nL 53.609375 0 \r\nL 7.328125 0 \r\nL 7.328125 8.296875 \r\nQ 12.9375 14.109375 22.625 23.890625 \r\nQ 32.328125 33.6875 34.8125 36.53125 \r\nQ 39.546875 41.84375 41.421875 45.53125 \r\nQ 43.3125 49.21875 43.3125 52.78125 \r\nQ 43.3125 58.59375 39.234375 62.25 \r\nQ 35.15625 65.921875 28.609375 65.921875 \r\nQ 23.96875 65.921875 18.8125 64.3125 \r\nQ 13.671875 62.703125 7.8125 59.421875 \r\nL 7.8125 69.390625 \r\nQ 13.765625 71.78125 18.9375 73 \r\nQ 24.125 74.21875 28.421875 74.21875 \r\nQ 39.75 74.21875 46.484375 68.546875 \r\nQ 53.21875 62.890625 53.21875 53.421875 \r\nQ 53.21875 48.921875 51.53125 44.890625 \r\nQ 49.859375 40.875 45.40625 35.40625 \r\nQ 44.1875 33.984375 37.640625 27.21875 \r\nQ 31.109375 20.453125 19.1875 8.296875 \r\nz\r\n\" id=\"DejaVuSans-50\"/>\r\n       </defs>\r\n       <use xlink:href=\"#DejaVuSans-50\"/>\r\n       <use x=\"63.623047\" xlink:href=\"#DejaVuSans-48\"/>\r\n       <use x=\"127.246094\" xlink:href=\"#DejaVuSans-48\"/>\r\n      </g>\r\n     </g>\r\n    </g>\r\n    <g id=\"xtick_6\">\r\n     <g id=\"line2d_6\">\r\n      <g>\r\n       <use style=\"stroke:#000000;stroke-width:0.8;\" x=\"282.643193\" xlink:href=\"#m79c97a6c5a\" y=\"224.64\"/>\r\n      </g>\r\n     </g>\r\n     <g id=\"text_6\">\r\n      <!-- 250 -->\r\n      <g transform=\"translate(273.099443 239.238437)scale(0.1 -0.1)\">\r\n       <use xlink:href=\"#DejaVuSans-50\"/>\r\n       <use x=\"63.623047\" xlink:href=\"#DejaVuSans-53\"/>\r\n       <use x=\"127.246094\" xlink:href=\"#DejaVuSans-48\"/>\r\n      </g>\r\n     </g>\r\n    </g>\r\n    <g id=\"xtick_7\">\r\n     <g id=\"line2d_7\">\r\n      <g>\r\n       <use style=\"stroke:#000000;stroke-width:0.8;\" x=\"328.506207\" xlink:href=\"#m79c97a6c5a\" y=\"224.64\"/>\r\n      </g>\r\n     </g>\r\n     <g id=\"text_7\">\r\n      <!-- 300 -->\r\n      <g transform=\"translate(318.962457 239.238437)scale(0.1 -0.1)\">\r\n       <defs>\r\n        <path d=\"M 40.578125 39.3125 \r\nQ 47.65625 37.796875 51.625 33 \r\nQ 55.609375 28.21875 55.609375 21.1875 \r\nQ 55.609375 10.40625 48.1875 4.484375 \r\nQ 40.765625 -1.421875 27.09375 -1.421875 \r\nQ 22.515625 -1.421875 17.65625 -0.515625 \r\nQ 12.796875 0.390625 7.625 2.203125 \r\nL 7.625 11.71875 \r\nQ 11.71875 9.328125 16.59375 8.109375 \r\nQ 21.484375 6.890625 26.8125 6.890625 \r\nQ 36.078125 6.890625 40.9375 10.546875 \r\nQ 45.796875 14.203125 45.796875 21.1875 \r\nQ 45.796875 27.640625 41.28125 31.265625 \r\nQ 36.765625 34.90625 28.71875 34.90625 \r\nL 20.21875 34.90625 \r\nL 20.21875 43.015625 \r\nL 29.109375 43.015625 \r\nQ 36.375 43.015625 40.234375 45.921875 \r\nQ 44.09375 48.828125 44.09375 54.296875 \r\nQ 44.09375 59.90625 40.109375 62.90625 \r\nQ 36.140625 65.921875 28.71875 65.921875 \r\nQ 24.65625 65.921875 20.015625 65.03125 \r\nQ 15.375 64.15625 9.8125 62.3125 \r\nL 9.8125 71.09375 \r\nQ 15.4375 72.65625 20.34375 73.4375 \r\nQ 25.25 74.21875 29.59375 74.21875 \r\nQ 40.828125 74.21875 47.359375 69.109375 \r\nQ 53.90625 64.015625 53.90625 55.328125 \r\nQ 53.90625 49.265625 50.4375 45.09375 \r\nQ 46.96875 40.921875 40.578125 39.3125 \r\nz\r\n\" id=\"DejaVuSans-51\"/>\r\n       </defs>\r\n       <use xlink:href=\"#DejaVuSans-51\"/>\r\n       <use x=\"63.623047\" xlink:href=\"#DejaVuSans-48\"/>\r\n       <use x=\"127.246094\" xlink:href=\"#DejaVuSans-48\"/>\r\n      </g>\r\n     </g>\r\n    </g>\r\n    <g id=\"xtick_8\">\r\n     <g id=\"line2d_8\">\r\n      <g>\r\n       <use style=\"stroke:#000000;stroke-width:0.8;\" x=\"374.369221\" xlink:href=\"#m79c97a6c5a\" y=\"224.64\"/>\r\n      </g>\r\n     </g>\r\n     <g id=\"text_8\">\r\n      <!-- 350 -->\r\n      <g transform=\"translate(364.825471 239.238437)scale(0.1 -0.1)\">\r\n       <use xlink:href=\"#DejaVuSans-51\"/>\r\n       <use x=\"63.623047\" xlink:href=\"#DejaVuSans-53\"/>\r\n       <use x=\"127.246094\" xlink:href=\"#DejaVuSans-48\"/>\r\n      </g>\r\n     </g>\r\n    </g>\r\n    <g id=\"text_9\">\r\n     <!-- Days between different admissions -->\r\n     <g transform=\"translate(132.623437 252.916562)scale(0.1 -0.1)\">\r\n      <defs>\r\n       <path d=\"M 19.671875 64.796875 \r\nL 19.671875 8.109375 \r\nL 31.59375 8.109375 \r\nQ 46.6875 8.109375 53.6875 14.9375 \r\nQ 60.6875 21.78125 60.6875 36.53125 \r\nQ 60.6875 51.171875 53.6875 57.984375 \r\nQ 46.6875 64.796875 31.59375 64.796875 \r\nz\r\nM 9.8125 72.90625 \r\nL 30.078125 72.90625 \r\nQ 51.265625 72.90625 61.171875 64.09375 \r\nQ 71.09375 55.28125 71.09375 36.53125 \r\nQ 71.09375 17.671875 61.125 8.828125 \r\nQ 51.171875 0 30.078125 0 \r\nL 9.8125 0 \r\nz\r\n\" id=\"DejaVuSans-68\"/>\r\n       <path d=\"M 34.28125 27.484375 \r\nQ 23.390625 27.484375 19.1875 25 \r\nQ 14.984375 22.515625 14.984375 16.5 \r\nQ 14.984375 11.71875 18.140625 8.90625 \r\nQ 21.296875 6.109375 26.703125 6.109375 \r\nQ 34.1875 6.109375 38.703125 11.40625 \r\nQ 43.21875 16.703125 43.21875 25.484375 \r\nL 43.21875 27.484375 \r\nz\r\nM 52.203125 31.203125 \r\nL 52.203125 0 \r\nL 43.21875 0 \r\nL 43.21875 8.296875 \r\nQ 40.140625 3.328125 35.546875 0.953125 \r\nQ 30.953125 -1.421875 24.3125 -1.421875 \r\nQ 15.921875 -1.421875 10.953125 3.296875 \r\nQ 6 8.015625 6 15.921875 \r\nQ 6 25.140625 12.171875 29.828125 \r\nQ 18.359375 34.515625 30.609375 34.515625 \r\nL 43.21875 34.515625 \r\nL 43.21875 35.40625 \r\nQ 43.21875 41.609375 39.140625 45 \r\nQ 35.0625 48.390625 27.6875 48.390625 \r\nQ 23 48.390625 18.546875 47.265625 \r\nQ 14.109375 46.140625 10.015625 43.890625 \r\nL 10.015625 52.203125 \r\nQ 14.9375 54.109375 19.578125 55.046875 \r\nQ 24.21875 56 28.609375 56 \r\nQ 40.484375 56 46.34375 49.84375 \r\nQ 52.203125 43.703125 52.203125 31.203125 \r\nz\r\n\" id=\"DejaVuSans-97\"/>\r\n       <path d=\"M 32.171875 -5.078125 \r\nQ 28.375 -14.84375 24.75 -17.8125 \r\nQ 21.140625 -20.796875 15.09375 -20.796875 \r\nL 7.90625 -20.796875 \r\nL 7.90625 -13.28125 \r\nL 13.1875 -13.28125 \r\nQ 16.890625 -13.28125 18.9375 -11.515625 \r\nQ 21 -9.765625 23.484375 -3.21875 \r\nL 25.09375 0.875 \r\nL 2.984375 54.6875 \r\nL 12.5 54.6875 \r\nL 29.59375 11.921875 \r\nL 46.6875 54.6875 \r\nL 56.203125 54.6875 \r\nz\r\n\" id=\"DejaVuSans-121\"/>\r\n       <path d=\"M 44.28125 53.078125 \r\nL 44.28125 44.578125 \r\nQ 40.484375 46.53125 36.375 47.5 \r\nQ 32.28125 48.484375 27.875 48.484375 \r\nQ 21.1875 48.484375 17.84375 46.4375 \r\nQ 14.5 44.390625 14.5 40.28125 \r\nQ 14.5 37.15625 16.890625 35.375 \r\nQ 19.28125 33.59375 26.515625 31.984375 \r\nL 29.59375 31.296875 \r\nQ 39.15625 29.25 43.1875 25.515625 \r\nQ 47.21875 21.78125 47.21875 15.09375 \r\nQ 47.21875 7.46875 41.1875 3.015625 \r\nQ 35.15625 -1.421875 24.609375 -1.421875 \r\nQ 20.21875 -1.421875 15.453125 -0.5625 \r\nQ 10.6875 0.296875 5.421875 2 \r\nL 5.421875 11.28125 \r\nQ 10.40625 8.6875 15.234375 7.390625 \r\nQ 20.0625 6.109375 24.8125 6.109375 \r\nQ 31.15625 6.109375 34.5625 8.28125 \r\nQ 37.984375 10.453125 37.984375 14.40625 \r\nQ 37.984375 18.0625 35.515625 20.015625 \r\nQ 33.0625 21.96875 24.703125 23.78125 \r\nL 21.578125 24.515625 \r\nQ 13.234375 26.265625 9.515625 29.90625 \r\nQ 5.8125 33.546875 5.8125 39.890625 \r\nQ 5.8125 47.609375 11.28125 51.796875 \r\nQ 16.75 56 26.8125 56 \r\nQ 31.78125 56 36.171875 55.265625 \r\nQ 40.578125 54.546875 44.28125 53.078125 \r\nz\r\n\" id=\"DejaVuSans-115\"/>\r\n       <path id=\"DejaVuSans-32\"/>\r\n       <path d=\"M 48.6875 27.296875 \r\nQ 48.6875 37.203125 44.609375 42.84375 \r\nQ 40.53125 48.484375 33.40625 48.484375 \r\nQ 26.265625 48.484375 22.1875 42.84375 \r\nQ 18.109375 37.203125 18.109375 27.296875 \r\nQ 18.109375 17.390625 22.1875 11.75 \r\nQ 26.265625 6.109375 33.40625 6.109375 \r\nQ 40.53125 6.109375 44.609375 11.75 \r\nQ 48.6875 17.390625 48.6875 27.296875 \r\nz\r\nM 18.109375 46.390625 \r\nQ 20.953125 51.265625 25.265625 53.625 \r\nQ 29.59375 56 35.59375 56 \r\nQ 45.5625 56 51.78125 48.09375 \r\nQ 58.015625 40.1875 58.015625 27.296875 \r\nQ 58.015625 14.40625 51.78125 6.484375 \r\nQ 45.5625 -1.421875 35.59375 -1.421875 \r\nQ 29.59375 -1.421875 25.265625 0.953125 \r\nQ 20.953125 3.328125 18.109375 8.203125 \r\nL 18.109375 0 \r\nL 9.078125 0 \r\nL 9.078125 75.984375 \r\nL 18.109375 75.984375 \r\nz\r\n\" id=\"DejaVuSans-98\"/>\r\n       <path d=\"M 56.203125 29.59375 \r\nL 56.203125 25.203125 \r\nL 14.890625 25.203125 \r\nQ 15.484375 15.921875 20.484375 11.0625 \r\nQ 25.484375 6.203125 34.421875 6.203125 \r\nQ 39.59375 6.203125 44.453125 7.46875 \r\nQ 49.3125 8.734375 54.109375 11.28125 \r\nL 54.109375 2.78125 \r\nQ 49.265625 0.734375 44.1875 -0.34375 \r\nQ 39.109375 -1.421875 33.890625 -1.421875 \r\nQ 20.796875 -1.421875 13.15625 6.1875 \r\nQ 5.515625 13.8125 5.515625 26.8125 \r\nQ 5.515625 40.234375 12.765625 48.109375 \r\nQ 20.015625 56 32.328125 56 \r\nQ 43.359375 56 49.78125 48.890625 \r\nQ 56.203125 41.796875 56.203125 29.59375 \r\nz\r\nM 47.21875 32.234375 \r\nQ 47.125 39.59375 43.09375 43.984375 \r\nQ 39.0625 48.390625 32.421875 48.390625 \r\nQ 24.90625 48.390625 20.390625 44.140625 \r\nQ 15.875 39.890625 15.1875 32.171875 \r\nz\r\n\" id=\"DejaVuSans-101\"/>\r\n       <path d=\"M 18.3125 70.21875 \r\nL 18.3125 54.6875 \r\nL 36.8125 54.6875 \r\nL 36.8125 47.703125 \r\nL 18.3125 47.703125 \r\nL 18.3125 18.015625 \r\nQ 18.3125 11.328125 20.140625 9.421875 \r\nQ 21.96875 7.515625 27.59375 7.515625 \r\nL 36.8125 7.515625 \r\nL 36.8125 0 \r\nL 27.59375 0 \r\nQ 17.1875 0 13.234375 3.875 \r\nQ 9.28125 7.765625 9.28125 18.015625 \r\nL 9.28125 47.703125 \r\nL 2.6875 47.703125 \r\nL 2.6875 54.6875 \r\nL 9.28125 54.6875 \r\nL 9.28125 70.21875 \r\nz\r\n\" id=\"DejaVuSans-116\"/>\r\n       <path d=\"M 4.203125 54.6875 \r\nL 13.1875 54.6875 \r\nL 24.421875 12.015625 \r\nL 35.59375 54.6875 \r\nL 46.1875 54.6875 \r\nL 57.421875 12.015625 \r\nL 68.609375 54.6875 \r\nL 77.59375 54.6875 \r\nL 63.28125 0 \r\nL 52.6875 0 \r\nL 40.921875 44.828125 \r\nL 29.109375 0 \r\nL 18.5 0 \r\nz\r\n\" id=\"DejaVuSans-119\"/>\r\n       <path d=\"M 54.890625 33.015625 \r\nL 54.890625 0 \r\nL 45.90625 0 \r\nL 45.90625 32.71875 \r\nQ 45.90625 40.484375 42.875 44.328125 \r\nQ 39.84375 48.1875 33.796875 48.1875 \r\nQ 26.515625 48.1875 22.3125 43.546875 \r\nQ 18.109375 38.921875 18.109375 30.90625 \r\nL 18.109375 0 \r\nL 9.078125 0 \r\nL 9.078125 54.6875 \r\nL 18.109375 54.6875 \r\nL 18.109375 46.1875 \r\nQ 21.34375 51.125 25.703125 53.5625 \r\nQ 30.078125 56 35.796875 56 \r\nQ 45.21875 56 50.046875 50.171875 \r\nQ 54.890625 44.34375 54.890625 33.015625 \r\nz\r\n\" id=\"DejaVuSans-110\"/>\r\n       <path d=\"M 45.40625 46.390625 \r\nL 45.40625 75.984375 \r\nL 54.390625 75.984375 \r\nL 54.390625 0 \r\nL 45.40625 0 \r\nL 45.40625 8.203125 \r\nQ 42.578125 3.328125 38.25 0.953125 \r\nQ 33.9375 -1.421875 27.875 -1.421875 \r\nQ 17.96875 -1.421875 11.734375 6.484375 \r\nQ 5.515625 14.40625 5.515625 27.296875 \r\nQ 5.515625 40.1875 11.734375 48.09375 \r\nQ 17.96875 56 27.875 56 \r\nQ 33.9375 56 38.25 53.625 \r\nQ 42.578125 51.265625 45.40625 46.390625 \r\nz\r\nM 14.796875 27.296875 \r\nQ 14.796875 17.390625 18.875 11.75 \r\nQ 22.953125 6.109375 30.078125 6.109375 \r\nQ 37.203125 6.109375 41.296875 11.75 \r\nQ 45.40625 17.390625 45.40625 27.296875 \r\nQ 45.40625 37.203125 41.296875 42.84375 \r\nQ 37.203125 48.484375 30.078125 48.484375 \r\nQ 22.953125 48.484375 18.875 42.84375 \r\nQ 14.796875 37.203125 14.796875 27.296875 \r\nz\r\n\" id=\"DejaVuSans-100\"/>\r\n       <path d=\"M 9.421875 54.6875 \r\nL 18.40625 54.6875 \r\nL 18.40625 0 \r\nL 9.421875 0 \r\nz\r\nM 9.421875 75.984375 \r\nL 18.40625 75.984375 \r\nL 18.40625 64.59375 \r\nL 9.421875 64.59375 \r\nz\r\n\" id=\"DejaVuSans-105\"/>\r\n       <path d=\"M 37.109375 75.984375 \r\nL 37.109375 68.5 \r\nL 28.515625 68.5 \r\nQ 23.6875 68.5 21.796875 66.546875 \r\nQ 19.921875 64.59375 19.921875 59.515625 \r\nL 19.921875 54.6875 \r\nL 34.71875 54.6875 \r\nL 34.71875 47.703125 \r\nL 19.921875 47.703125 \r\nL 19.921875 0 \r\nL 10.890625 0 \r\nL 10.890625 47.703125 \r\nL 2.296875 47.703125 \r\nL 2.296875 54.6875 \r\nL 10.890625 54.6875 \r\nL 10.890625 58.5 \r\nQ 10.890625 67.625 15.140625 71.796875 \r\nQ 19.390625 75.984375 28.609375 75.984375 \r\nz\r\n\" id=\"DejaVuSans-102\"/>\r\n       <path d=\"M 41.109375 46.296875 \r\nQ 39.59375 47.171875 37.8125 47.578125 \r\nQ 36.03125 48 33.890625 48 \r\nQ 26.265625 48 22.1875 43.046875 \r\nQ 18.109375 38.09375 18.109375 28.8125 \r\nL 18.109375 0 \r\nL 9.078125 0 \r\nL 9.078125 54.6875 \r\nL 18.109375 54.6875 \r\nL 18.109375 46.1875 \r\nQ 20.953125 51.171875 25.484375 53.578125 \r\nQ 30.03125 56 36.53125 56 \r\nQ 37.453125 56 38.578125 55.875 \r\nQ 39.703125 55.765625 41.0625 55.515625 \r\nz\r\n\" id=\"DejaVuSans-114\"/>\r\n       <path d=\"M 52 44.1875 \r\nQ 55.375 50.25 60.0625 53.125 \r\nQ 64.75 56 71.09375 56 \r\nQ 79.640625 56 84.28125 50.015625 \r\nQ 88.921875 44.046875 88.921875 33.015625 \r\nL 88.921875 0 \r\nL 79.890625 0 \r\nL 79.890625 32.71875 \r\nQ 79.890625 40.578125 77.09375 44.375 \r\nQ 74.3125 48.1875 68.609375 48.1875 \r\nQ 61.625 48.1875 57.5625 43.546875 \r\nQ 53.515625 38.921875 53.515625 30.90625 \r\nL 53.515625 0 \r\nL 44.484375 0 \r\nL 44.484375 32.71875 \r\nQ 44.484375 40.625 41.703125 44.40625 \r\nQ 38.921875 48.1875 33.109375 48.1875 \r\nQ 26.21875 48.1875 22.15625 43.53125 \r\nQ 18.109375 38.875 18.109375 30.90625 \r\nL 18.109375 0 \r\nL 9.078125 0 \r\nL 9.078125 54.6875 \r\nL 18.109375 54.6875 \r\nL 18.109375 46.1875 \r\nQ 21.1875 51.21875 25.484375 53.609375 \r\nQ 29.78125 56 35.6875 56 \r\nQ 41.65625 56 45.828125 52.96875 \r\nQ 50 49.953125 52 44.1875 \r\nz\r\n\" id=\"DejaVuSans-109\"/>\r\n       <path d=\"M 30.609375 48.390625 \r\nQ 23.390625 48.390625 19.1875 42.75 \r\nQ 14.984375 37.109375 14.984375 27.296875 \r\nQ 14.984375 17.484375 19.15625 11.84375 \r\nQ 23.34375 6.203125 30.609375 6.203125 \r\nQ 37.796875 6.203125 41.984375 11.859375 \r\nQ 46.1875 17.53125 46.1875 27.296875 \r\nQ 46.1875 37.015625 41.984375 42.703125 \r\nQ 37.796875 48.390625 30.609375 48.390625 \r\nz\r\nM 30.609375 56 \r\nQ 42.328125 56 49.015625 48.375 \r\nQ 55.71875 40.765625 55.71875 27.296875 \r\nQ 55.71875 13.875 49.015625 6.21875 \r\nQ 42.328125 -1.421875 30.609375 -1.421875 \r\nQ 18.84375 -1.421875 12.171875 6.21875 \r\nQ 5.515625 13.875 5.515625 27.296875 \r\nQ 5.515625 40.765625 12.171875 48.375 \r\nQ 18.84375 56 30.609375 56 \r\nz\r\n\" id=\"DejaVuSans-111\"/>\r\n      </defs>\r\n      <use xlink:href=\"#DejaVuSans-68\"/>\r\n      <use x=\"77.001953\" xlink:href=\"#DejaVuSans-97\"/>\r\n      <use x=\"138.28125\" xlink:href=\"#DejaVuSans-121\"/>\r\n      <use x=\"197.460938\" xlink:href=\"#DejaVuSans-115\"/>\r\n      <use x=\"249.560547\" xlink:href=\"#DejaVuSans-32\"/>\r\n      <use x=\"281.347656\" xlink:href=\"#DejaVuSans-98\"/>\r\n      <use x=\"344.824219\" xlink:href=\"#DejaVuSans-101\"/>\r\n      <use x=\"406.347656\" xlink:href=\"#DejaVuSans-116\"/>\r\n      <use x=\"445.556641\" xlink:href=\"#DejaVuSans-119\"/>\r\n      <use x=\"527.34375\" xlink:href=\"#DejaVuSans-101\"/>\r\n      <use x=\"588.867188\" xlink:href=\"#DejaVuSans-101\"/>\r\n      <use x=\"650.390625\" xlink:href=\"#DejaVuSans-110\"/>\r\n      <use x=\"713.769531\" xlink:href=\"#DejaVuSans-32\"/>\r\n      <use x=\"745.556641\" xlink:href=\"#DejaVuSans-100\"/>\r\n      <use x=\"809.033203\" xlink:href=\"#DejaVuSans-105\"/>\r\n      <use x=\"836.816406\" xlink:href=\"#DejaVuSans-102\"/>\r\n      <use x=\"872.021484\" xlink:href=\"#DejaVuSans-102\"/>\r\n      <use x=\"907.226562\" xlink:href=\"#DejaVuSans-101\"/>\r\n      <use x=\"968.75\" xlink:href=\"#DejaVuSans-114\"/>\r\n      <use x=\"1007.613281\" xlink:href=\"#DejaVuSans-101\"/>\r\n      <use x=\"1069.136719\" xlink:href=\"#DejaVuSans-110\"/>\r\n      <use x=\"1132.515625\" xlink:href=\"#DejaVuSans-116\"/>\r\n      <use x=\"1171.724609\" xlink:href=\"#DejaVuSans-32\"/>\r\n      <use x=\"1203.511719\" xlink:href=\"#DejaVuSans-97\"/>\r\n      <use x=\"1264.791016\" xlink:href=\"#DejaVuSans-100\"/>\r\n      <use x=\"1328.267578\" xlink:href=\"#DejaVuSans-109\"/>\r\n      <use x=\"1425.679688\" xlink:href=\"#DejaVuSans-105\"/>\r\n      <use x=\"1453.462891\" xlink:href=\"#DejaVuSans-115\"/>\r\n      <use x=\"1505.5625\" xlink:href=\"#DejaVuSans-115\"/>\r\n      <use x=\"1557.662109\" xlink:href=\"#DejaVuSans-105\"/>\r\n      <use x=\"1585.445312\" xlink:href=\"#DejaVuSans-111\"/>\r\n      <use x=\"1646.626953\" xlink:href=\"#DejaVuSans-110\"/>\r\n      <use x=\"1710.005859\" xlink:href=\"#DejaVuSans-115\"/>\r\n     </g>\r\n    </g>\r\n   </g>\r\n   <g id=\"matplotlib.axis_2\">\r\n    <g id=\"ytick_1\">\r\n     <g id=\"line2d_9\">\r\n      <defs>\r\n       <path d=\"M 0 0 \r\nL -3.5 0 \r\n\" id=\"m8491dadbc2\" style=\"stroke:#000000;stroke-width:0.8;\"/>\r\n      </defs>\r\n      <g>\r\n       <use style=\"stroke:#000000;stroke-width:0.8;\" x=\"53.328125\" xlink:href=\"#m8491dadbc2\" y=\"224.64\"/>\r\n      </g>\r\n     </g>\r\n     <g id=\"text_10\">\r\n      <!-- 0 -->\r\n      <g transform=\"translate(39.965625 228.439219)scale(0.1 -0.1)\">\r\n       <use xlink:href=\"#DejaVuSans-48\"/>\r\n      </g>\r\n     </g>\r\n    </g>\r\n    <g id=\"ytick_2\">\r\n     <g id=\"line2d_10\">\r\n      <g>\r\n       <use style=\"stroke:#000000;stroke-width:0.8;\" x=\"53.328125\" xlink:href=\"#m8491dadbc2\" y=\"190.03343\"/>\r\n      </g>\r\n     </g>\r\n     <g id=\"text_11\">\r\n      <!-- 500 -->\r\n      <g transform=\"translate(27.240625 193.832649)scale(0.1 -0.1)\">\r\n       <use xlink:href=\"#DejaVuSans-53\"/>\r\n       <use x=\"63.623047\" xlink:href=\"#DejaVuSans-48\"/>\r\n       <use x=\"127.246094\" xlink:href=\"#DejaVuSans-48\"/>\r\n      </g>\r\n     </g>\r\n    </g>\r\n    <g id=\"ytick_3\">\r\n     <g id=\"line2d_11\">\r\n      <g>\r\n       <use style=\"stroke:#000000;stroke-width:0.8;\" x=\"53.328125\" xlink:href=\"#m8491dadbc2\" y=\"155.42686\"/>\r\n      </g>\r\n     </g>\r\n     <g id=\"text_12\">\r\n      <!-- 1000 -->\r\n      <g transform=\"translate(20.878125 159.226079)scale(0.1 -0.1)\">\r\n       <use xlink:href=\"#DejaVuSans-49\"/>\r\n       <use x=\"63.623047\" xlink:href=\"#DejaVuSans-48\"/>\r\n       <use x=\"127.246094\" xlink:href=\"#DejaVuSans-48\"/>\r\n       <use x=\"190.869141\" xlink:href=\"#DejaVuSans-48\"/>\r\n      </g>\r\n     </g>\r\n    </g>\r\n    <g id=\"ytick_4\">\r\n     <g id=\"line2d_12\">\r\n      <g>\r\n       <use style=\"stroke:#000000;stroke-width:0.8;\" x=\"53.328125\" xlink:href=\"#m8491dadbc2\" y=\"120.82029\"/>\r\n      </g>\r\n     </g>\r\n     <g id=\"text_13\">\r\n      <!-- 1500 -->\r\n      <g transform=\"translate(20.878125 124.619509)scale(0.1 -0.1)\">\r\n       <use xlink:href=\"#DejaVuSans-49\"/>\r\n       <use x=\"63.623047\" xlink:href=\"#DejaVuSans-53\"/>\r\n       <use x=\"127.246094\" xlink:href=\"#DejaVuSans-48\"/>\r\n       <use x=\"190.869141\" xlink:href=\"#DejaVuSans-48\"/>\r\n      </g>\r\n     </g>\r\n    </g>\r\n    <g id=\"ytick_5\">\r\n     <g id=\"line2d_13\">\r\n      <g>\r\n       <use style=\"stroke:#000000;stroke-width:0.8;\" x=\"53.328125\" xlink:href=\"#m8491dadbc2\" y=\"86.21372\"/>\r\n      </g>\r\n     </g>\r\n     <g id=\"text_14\">\r\n      <!-- 2000 -->\r\n      <g transform=\"translate(20.878125 90.012939)scale(0.1 -0.1)\">\r\n       <use xlink:href=\"#DejaVuSans-50\"/>\r\n       <use x=\"63.623047\" xlink:href=\"#DejaVuSans-48\"/>\r\n       <use x=\"127.246094\" xlink:href=\"#DejaVuSans-48\"/>\r\n       <use x=\"190.869141\" xlink:href=\"#DejaVuSans-48\"/>\r\n      </g>\r\n     </g>\r\n    </g>\r\n    <g id=\"ytick_6\">\r\n     <g id=\"line2d_14\">\r\n      <g>\r\n       <use style=\"stroke:#000000;stroke-width:0.8;\" x=\"53.328125\" xlink:href=\"#m8491dadbc2\" y=\"51.60715\"/>\r\n      </g>\r\n     </g>\r\n     <g id=\"text_15\">\r\n      <!-- 2500 -->\r\n      <g transform=\"translate(20.878125 55.406369)scale(0.1 -0.1)\">\r\n       <use xlink:href=\"#DejaVuSans-50\"/>\r\n       <use x=\"63.623047\" xlink:href=\"#DejaVuSans-53\"/>\r\n       <use x=\"127.246094\" xlink:href=\"#DejaVuSans-48\"/>\r\n       <use x=\"190.869141\" xlink:href=\"#DejaVuSans-48\"/>\r\n      </g>\r\n     </g>\r\n    </g>\r\n    <g id=\"ytick_7\">\r\n     <g id=\"line2d_15\">\r\n      <g>\r\n       <use style=\"stroke:#000000;stroke-width:0.8;\" x=\"53.328125\" xlink:href=\"#m8491dadbc2\" y=\"17.000581\"/>\r\n      </g>\r\n     </g>\r\n     <g id=\"text_16\">\r\n      <!-- 3000 -->\r\n      <g transform=\"translate(20.878125 20.799799)scale(0.1 -0.1)\">\r\n       <use xlink:href=\"#DejaVuSans-51\"/>\r\n       <use x=\"63.623047\" xlink:href=\"#DejaVuSans-48\"/>\r\n       <use x=\"127.246094\" xlink:href=\"#DejaVuSans-48\"/>\r\n       <use x=\"190.869141\" xlink:href=\"#DejaVuSans-48\"/>\r\n      </g>\r\n     </g>\r\n    </g>\r\n    <g id=\"text_17\">\r\n     <!-- Number -->\r\n     <g transform=\"translate(14.798438 136.005937)rotate(-90)scale(0.1 -0.1)\">\r\n      <defs>\r\n       <path d=\"M 9.8125 72.90625 \r\nL 23.09375 72.90625 \r\nL 55.421875 11.921875 \r\nL 55.421875 72.90625 \r\nL 64.984375 72.90625 \r\nL 64.984375 0 \r\nL 51.703125 0 \r\nL 19.390625 60.984375 \r\nL 19.390625 0 \r\nL 9.8125 0 \r\nz\r\n\" id=\"DejaVuSans-78\"/>\r\n       <path d=\"M 8.5 21.578125 \r\nL 8.5 54.6875 \r\nL 17.484375 54.6875 \r\nL 17.484375 21.921875 \r\nQ 17.484375 14.15625 20.5 10.265625 \r\nQ 23.53125 6.390625 29.59375 6.390625 \r\nQ 36.859375 6.390625 41.078125 11.03125 \r\nQ 45.3125 15.671875 45.3125 23.6875 \r\nL 45.3125 54.6875 \r\nL 54.296875 54.6875 \r\nL 54.296875 0 \r\nL 45.3125 0 \r\nL 45.3125 8.40625 \r\nQ 42.046875 3.421875 37.71875 1 \r\nQ 33.40625 -1.421875 27.6875 -1.421875 \r\nQ 18.265625 -1.421875 13.375 4.4375 \r\nQ 8.5 10.296875 8.5 21.578125 \r\nz\r\nM 31.109375 56 \r\nz\r\n\" id=\"DejaVuSans-117\"/>\r\n      </defs>\r\n      <use xlink:href=\"#DejaVuSans-78\"/>\r\n      <use x=\"74.804688\" xlink:href=\"#DejaVuSans-117\"/>\r\n      <use x=\"138.183594\" xlink:href=\"#DejaVuSans-109\"/>\r\n      <use x=\"235.595703\" xlink:href=\"#DejaVuSans-98\"/>\r\n      <use x=\"299.072266\" xlink:href=\"#DejaVuSans-101\"/>\r\n      <use x=\"360.595703\" xlink:href=\"#DejaVuSans-114\"/>\r\n     </g>\r\n    </g>\r\n   </g>\r\n   <g id=\"patch_15\">\r\n    <path d=\"M 53.328125 224.64 \r\nL 53.328125 7.2 \r\n\" style=\"fill:none;stroke:#000000;stroke-linecap:square;stroke-linejoin:miter;stroke-width:0.8;\"/>\r\n   </g>\r\n   <g id=\"patch_16\">\r\n    <path d=\"M 388.128125 224.64 \r\nL 388.128125 7.2 \r\n\" style=\"fill:none;stroke:#000000;stroke-linecap:square;stroke-linejoin:miter;stroke-width:0.8;\"/>\r\n   </g>\r\n   <g id=\"patch_17\">\r\n    <path d=\"M 53.328125 224.64 \r\nL 388.128125 224.64 \r\n\" style=\"fill:none;stroke:#000000;stroke-linecap:square;stroke-linejoin:miter;stroke-width:0.8;\"/>\r\n   </g>\r\n   <g id=\"patch_18\">\r\n    <path d=\"M 53.328125 7.2 \r\nL 388.128125 7.2 \r\n\" style=\"fill:none;stroke:#000000;stroke-linecap:square;stroke-linejoin:miter;stroke-width:0.8;\"/>\r\n   </g>\r\n  </g>\r\n </g>\r\n <defs>\r\n  <clipPath id=\"p3837e0e261\">\r\n   <rect height=\"217.44\" width=\"334.8\" x=\"53.328125\" y=\"7.2\"/>\r\n  </clipPath>\r\n </defs>\r\n</svg>\r\n",
      "text/plain": "<Figure size 432x288 with 1 Axes>"
     },
     "metadata": {
      "needs_background": "light"
     },
     "output_type": "display_data"
    }
   ],
   "source": [
    "fig = plt.figure() \n",
    "admission_data['DAYS_NEXT_ADMIT'] = (admission_data.NEXT_ADMITTIME - admission_data.DISCHTIME).dt.total_seconds()/(24*60*60)\n",
    "plt.hist(admission_data.loc[~admission_data.DAYS_NEXT_ADMIT.isnull(),'DAYS_NEXT_ADMIT'], bins = range(0,365,30), color = 'red')\n",
    "plt.xlim([0,365])\n",
    "plt.xlabel('Days between different admissions')\n",
    "plt.ylabel('Number')\n",
    "plt.show()"
   ]
  },
  {
   "cell_type": "markdown",
   "metadata": {},
   "source": [
    "### Notes Table"
   ]
  },
  {
   "cell_type": "code",
   "execution_count": 18,
   "metadata": {},
   "outputs": [
    {
     "name": "stderr",
     "output_type": "stream",
     "text": [
      "C:\\Python38\\lib\\site-packages\\IPython\\core\\interactiveshell.py:3165: DtypeWarning: Columns (4,5) have mixed types.Specify dtype option on import or set low_memory=False.\n",
      "  has_raised = await self.run_ast_nodes(code_ast.body, cell_name,\n"
     ]
    }
   ],
   "source": [
    "notes_data = pd.read_csv('data\\\\NOTEEVENTS.csv')"
   ]
  },
  {
   "cell_type": "code",
   "execution_count": 21,
   "metadata": {},
   "outputs": [
    {
     "data": {
      "text/html": "<div>\n<style scoped>\n    .dataframe tbody tr th:only-of-type {\n        vertical-align: middle;\n    }\n\n    .dataframe tbody tr th {\n        vertical-align: top;\n    }\n\n    .dataframe thead th {\n        text-align: right;\n    }\n</style>\n<table border=\"1\" class=\"dataframe\">\n  <thead>\n    <tr style=\"text-align: right;\">\n      <th></th>\n      <th>ROW_ID</th>\n      <th>SUBJECT_ID</th>\n      <th>HADM_ID</th>\n      <th>CHARTDATE</th>\n      <th>CHARTTIME</th>\n      <th>STORETIME</th>\n      <th>CATEGORY</th>\n      <th>DESCRIPTION</th>\n      <th>CGID</th>\n      <th>ISERROR</th>\n      <th>TEXT</th>\n    </tr>\n  </thead>\n  <tbody>\n    <tr>\n      <th>0</th>\n      <td>174</td>\n      <td>22532</td>\n      <td>167853.0</td>\n      <td>2151-08-04</td>\n      <td>NaN</td>\n      <td>NaN</td>\n      <td>Discharge summary</td>\n      <td>Report</td>\n      <td>NaN</td>\n      <td>NaN</td>\n      <td>Admission Date:  [**2151-7-16**]       Dischar...</td>\n    </tr>\n    <tr>\n      <th>1</th>\n      <td>175</td>\n      <td>13702</td>\n      <td>107527.0</td>\n      <td>2118-06-14</td>\n      <td>NaN</td>\n      <td>NaN</td>\n      <td>Discharge summary</td>\n      <td>Report</td>\n      <td>NaN</td>\n      <td>NaN</td>\n      <td>Admission Date:  [**2118-6-2**]       Discharg...</td>\n    </tr>\n    <tr>\n      <th>2</th>\n      <td>176</td>\n      <td>13702</td>\n      <td>167118.0</td>\n      <td>2119-05-25</td>\n      <td>NaN</td>\n      <td>NaN</td>\n      <td>Discharge summary</td>\n      <td>Report</td>\n      <td>NaN</td>\n      <td>NaN</td>\n      <td>Admission Date:  [**2119-5-4**]              D...</td>\n    </tr>\n    <tr>\n      <th>3</th>\n      <td>177</td>\n      <td>13702</td>\n      <td>196489.0</td>\n      <td>2124-08-18</td>\n      <td>NaN</td>\n      <td>NaN</td>\n      <td>Discharge summary</td>\n      <td>Report</td>\n      <td>NaN</td>\n      <td>NaN</td>\n      <td>Admission Date:  [**2124-7-21**]              ...</td>\n    </tr>\n    <tr>\n      <th>4</th>\n      <td>178</td>\n      <td>26880</td>\n      <td>135453.0</td>\n      <td>2162-03-25</td>\n      <td>NaN</td>\n      <td>NaN</td>\n      <td>Discharge summary</td>\n      <td>Report</td>\n      <td>NaN</td>\n      <td>NaN</td>\n      <td>Admission Date:  [**2162-3-3**]              D...</td>\n    </tr>\n  </tbody>\n</table>\n</div>",
      "text/plain": [
       "   ROW_ID  SUBJECT_ID   HADM_ID   CHARTDATE CHARTTIME STORETIME  \\\n",
       "0     174       22532  167853.0  2151-08-04       NaN       NaN   \n",
       "1     175       13702  107527.0  2118-06-14       NaN       NaN   \n",
       "2     176       13702  167118.0  2119-05-25       NaN       NaN   \n",
       "3     177       13702  196489.0  2124-08-18       NaN       NaN   \n",
       "4     178       26880  135453.0  2162-03-25       NaN       NaN   \n",
       "\n",
       "            CATEGORY DESCRIPTION  CGID  ISERROR  \\\n",
       "0  Discharge summary      Report   NaN      NaN   \n",
       "1  Discharge summary      Report   NaN      NaN   \n",
       "2  Discharge summary      Report   NaN      NaN   \n",
       "3  Discharge summary      Report   NaN      NaN   \n",
       "4  Discharge summary      Report   NaN      NaN   \n",
       "\n",
       "                                                TEXT  \n",
       "0  Admission Date:  [**2151-7-16**]       Dischar...  \n",
       "1  Admission Date:  [**2118-6-2**]       Discharg...  \n",
       "2  Admission Date:  [**2119-5-4**]              D...  \n",
       "3  Admission Date:  [**2124-7-21**]              ...  \n",
       "4  Admission Date:  [**2162-3-3**]              D...  "
      ]
     },
     "execution_count": 21,
     "metadata": {},
     "output_type": "execute_result"
    }
   ],
   "source": [
    "notes_data.head() "
   ]
  },
  {
   "cell_type": "code",
   "execution_count": 20,
   "metadata": {},
   "outputs": [
    {
     "name": "stdout",
     "output_type": "stream",
     "text": [
      "Number of notes: 2083180\n"
     ]
    }
   ],
   "source": [
    "print('Number of notes:',len(notes_data))"
   ]
  },
  {
   "cell_type": "code",
   "execution_count": 21,
   "metadata": {},
   "outputs": [
    {
     "data": {
      "text/plain": [
       "array(['Discharge summary', 'Echo', 'ECG', 'Nursing', 'Physician ',\n",
       "       'Rehab Services', 'Case Management ', 'Respiratory ', 'Nutrition',\n",
       "       'General', 'Social Work', 'Pharmacy', 'Consult', 'Radiology',\n",
       "       'Nursing/other'], dtype=object)"
      ]
     },
     "execution_count": 21,
     "metadata": {},
     "output_type": "execute_result"
    }
   ],
   "source": [
    "notes_data.CATEGORY.unique()"
   ]
  },
  {
   "cell_type": "code",
   "execution_count": 26,
   "metadata": {},
   "outputs": [
    {
     "data": {
      "text/plain": [
       "<AxesSubplot:xlabel='CATEGORY'>"
      ]
     },
     "execution_count": 26,
     "metadata": {},
     "output_type": "execute_result"
    },
    {
     "data": {
      "image/png": "[encoded data removed]",
      "image/svg+xml": "<?xml version=\"1.0\" encoding=\"utf-8\" standalone=\"no\"?>\r\n<!DOCTYPE svg PUBLIC \"-//W3C//DTD SVG 1.1//EN\"\r\n  \"http://www.w3.org/Graphics/SVG/1.1/DTD/svg11.dtd\">\r\n<!-- Created with matplotlib (https://matplotlib.org/) -->\r\n<svg height=\"516.05125pt\" version=\"1.1\" viewBox=\"0 0 450.175 516.05125\" width=\"450.175pt\" xmlns=\"http://www.w3.org/2000/svg\" xmlns:xlink=\"http://www.w3.org/1999/xlink\">\r\n <metadata>\r\n  <rdf:RDF xmlns:cc=\"http://creativecommons.org/ns#\" xmlns:dc=\"http://purl.org/dc/elements/1.1/\" xmlns:rdf=\"http://www.w3.org/1999/02/22-rdf-syntax-ns#\">\r\n   <cc:Work>\r\n    <dc:type rdf:resource=\"http://purl.org/dc/dcmitype/StillImage\"/>\r\n    <dc:date>2021-03-25T08:46:10.426055</dc:date>\r\n    <dc:format>image/svg+xml</dc:format>\r\n    <dc:creator>\r\n     <cc:Agent>\r\n      <dc:title>Matplotlib v3.3.3, https://matplotlib.org/</dc:title>\r\n     </cc:Agent>\r\n    </dc:creator>\r\n   </cc:Work>\r\n  </rdf:RDF>\r\n </metadata>\r\n <defs>\r\n  <style type=\"text/css\">*{stroke-linecap:butt;stroke-linejoin:round;}</style>\r\n </defs>\r\n <g id=\"figure_1\">\r\n  <g id=\"patch_1\">\r\n   <path d=\"M 0 516.05125 \r\nL 450.175 516.05125 \r\nL 450.175 0 \r\nL 0 0 \r\nz\r\n\" style=\"fill:none;\"/>\r\n  </g>\r\n  <g id=\"axes_1\">\r\n   <g id=\"patch_2\">\r\n    <path d=\"M 52.375 387.72 \r\nL 442.975 387.72 \r\nL 442.975 7.2 \r\nL 52.375 7.2 \r\nz\r\n\" style=\"fill:#ffffff;\"/>\r\n   </g>\r\n   <g id=\"patch_3\">\r\n    <path clip-path=\"url(#p8f823771b0)\" d=\"M 58.885 387.72 \r\nL 71.905 387.72 \r\nL 71.905 387.293931 \r\nL 58.885 387.293931 \r\nz\r\n\" style=\"fill:#0000ff;\"/>\r\n   </g>\r\n   <g id=\"patch_4\">\r\n    <path clip-path=\"url(#p8f823771b0)\" d=\"M 84.925 387.72 \r\nL 97.945 387.72 \r\nL 97.945 387.67682 \r\nL 84.925 387.67682 \r\nz\r\n\" style=\"fill:#0000ff;\"/>\r\n   </g>\r\n   <g id=\"patch_5\">\r\n    <path clip-path=\"url(#p8f823771b0)\" d=\"M 110.965 387.72 \r\nL 123.985 387.72 \r\nL 123.985 361.436762 \r\nL 110.965 361.436762 \r\nz\r\n\" style=\"fill:#0000ff;\"/>\r\n   </g>\r\n   <g id=\"patch_6\">\r\n    <path clip-path=\"url(#p8f823771b0)\" d=\"M 137.005 387.72 \r\nL 150.025 387.72 \r\nL 150.025 295.610141 \r\nL 137.005 295.610141 \r\nz\r\n\" style=\"fill:#0000ff;\"/>\r\n   </g>\r\n   <g id=\"patch_7\">\r\n    <path clip-path=\"url(#p8f823771b0)\" d=\"M 163.045 387.72 \r\nL 176.065 387.72 \r\nL 176.065 367.542728 \r\nL 163.045 367.542728 \r\nz\r\n\" style=\"fill:#0000ff;\"/>\r\n   </g>\r\n   <g id=\"patch_8\">\r\n    <path clip-path=\"url(#p8f823771b0)\" d=\"M 189.085 387.72 \r\nL 202.105 387.72 \r\nL 202.105 384.0625 \r\nL 189.085 384.0625 \r\nz\r\n\" style=\"fill:#0000ff;\"/>\r\n   </g>\r\n   <g id=\"patch_9\">\r\n    <path clip-path=\"url(#p8f823771b0)\" d=\"M 215.125 387.72 \r\nL 228.145 387.72 \r\nL 228.145 289.2191 \r\nL 215.125 289.2191 \r\nz\r\n\" style=\"fill:#0000ff;\"/>\r\n   </g>\r\n   <g id=\"patch_10\">\r\n    <path clip-path=\"url(#p8f823771b0)\" d=\"M 241.165 387.72 \r\nL 254.185 387.72 \r\nL 254.185 25.32 \r\nL 241.165 25.32 \r\nz\r\n\" style=\"fill:#0000ff;\"/>\r\n   </g>\r\n   <g id=\"patch_11\">\r\n    <path clip-path=\"url(#p8f823771b0)\" d=\"M 267.205 387.72 \r\nL 280.225 387.72 \r\nL 280.225 383.57034 \r\nL 267.205 383.57034 \r\nz\r\n\" style=\"fill:#0000ff;\"/>\r\n   </g>\r\n   <g id=\"patch_12\">\r\n    <path clip-path=\"url(#p8f823771b0)\" d=\"M 293.245 387.72 \r\nL 306.265 387.72 \r\nL 306.265 387.674617 \r\nL 293.245 387.674617 \r\nz\r\n\" style=\"fill:#0000ff;\"/>\r\n   </g>\r\n   <g id=\"patch_13\">\r\n    <path clip-path=\"url(#p8f823771b0)\" d=\"M 319.285 387.72 \r\nL 332.305 387.72 \r\nL 332.305 325.319119 \r\nL 319.285 325.319119 \r\nz\r\n\" style=\"fill:#0000ff;\"/>\r\n   </g>\r\n   <g id=\"patch_14\">\r\n    <path clip-path=\"url(#p8f823771b0)\" d=\"M 345.325 387.72 \r\nL 358.345 387.72 \r\nL 358.345 157.598906 \r\nL 345.325 157.598906 \r\nz\r\n\" style=\"fill:#0000ff;\"/>\r\n   </g>\r\n   <g id=\"patch_15\">\r\n    <path clip-path=\"url(#p8f823771b0)\" d=\"M 371.365 387.72 \r\nL 384.385 387.72 \r\nL 384.385 385.32705 \r\nL 371.365 385.32705 \r\nz\r\n\" style=\"fill:#0000ff;\"/>\r\n   </g>\r\n   <g id=\"patch_16\">\r\n    <path clip-path=\"url(#p8f823771b0)\" d=\"M 397.405 387.72 \r\nL 410.425 387.72 \r\nL 410.425 373.735495 \r\nL 397.405 373.735495 \r\nz\r\n\" style=\"fill:#0000ff;\"/>\r\n   </g>\r\n   <g id=\"patch_17\">\r\n    <path clip-path=\"url(#p8f823771b0)\" d=\"M 423.445 387.72 \r\nL 436.465 387.72 \r\nL 436.465 386.543573 \r\nL 423.445 386.543573 \r\nz\r\n\" style=\"fill:#0000ff;\"/>\r\n   </g>\r\n   <g id=\"matplotlib.axis_1\">\r\n    <g id=\"xtick_1\">\r\n     <g id=\"line2d_1\">\r\n      <defs>\r\n       <path d=\"M 0 0 \r\nL 0 3.5 \r\n\" id=\"m33ce590473\" style=\"stroke:#000000;stroke-width:0.8;\"/>\r\n      </defs>\r\n      <g>\r\n       <use style=\"stroke:#000000;stroke-width:0.8;\" x=\"65.395\" xlink:href=\"#m33ce590473\" y=\"387.72\"/>\r\n      </g>\r\n     </g>\r\n     <g id=\"text_1\">\r\n      <!-- Case Management  -->\r\n      <g transform=\"translate(68.154375 491.424687)rotate(-90)scale(0.1 -0.1)\">\r\n       <defs>\r\n        <path d=\"M 64.40625 67.28125 \r\nL 64.40625 56.890625 \r\nQ 59.421875 61.53125 53.78125 63.8125 \r\nQ 48.140625 66.109375 41.796875 66.109375 \r\nQ 29.296875 66.109375 22.65625 58.46875 \r\nQ 16.015625 50.828125 16.015625 36.375 \r\nQ 16.015625 21.96875 22.65625 14.328125 \r\nQ 29.296875 6.6875 41.796875 6.6875 \r\nQ 48.140625 6.6875 53.78125 8.984375 \r\nQ 59.421875 11.28125 64.40625 15.921875 \r\nL 64.40625 5.609375 \r\nQ 59.234375 2.09375 53.4375 0.328125 \r\nQ 47.65625 -1.421875 41.21875 -1.421875 \r\nQ 24.65625 -1.421875 15.125 8.703125 \r\nQ 5.609375 18.84375 5.609375 36.375 \r\nQ 5.609375 53.953125 15.125 64.078125 \r\nQ 24.65625 74.21875 41.21875 74.21875 \r\nQ 47.75 74.21875 53.53125 72.484375 \r\nQ 59.328125 70.75 64.40625 67.28125 \r\nz\r\n\" id=\"DejaVuSans-67\"/>\r\n        <path d=\"M 34.28125 27.484375 \r\nQ 23.390625 27.484375 19.1875 25 \r\nQ 14.984375 22.515625 14.984375 16.5 \r\nQ 14.984375 11.71875 18.140625 8.90625 \r\nQ 21.296875 6.109375 26.703125 6.109375 \r\nQ 34.1875 6.109375 38.703125 11.40625 \r\nQ 43.21875 16.703125 43.21875 25.484375 \r\nL 43.21875 27.484375 \r\nz\r\nM 52.203125 31.203125 \r\nL 52.203125 0 \r\nL 43.21875 0 \r\nL 43.21875 8.296875 \r\nQ 40.140625 3.328125 35.546875 0.953125 \r\nQ 30.953125 -1.421875 24.3125 -1.421875 \r\nQ 15.921875 -1.421875 10.953125 3.296875 \r\nQ 6 8.015625 6 15.921875 \r\nQ 6 25.140625 12.171875 29.828125 \r\nQ 18.359375 34.515625 30.609375 34.515625 \r\nL 43.21875 34.515625 \r\nL 43.21875 35.40625 \r\nQ 43.21875 41.609375 39.140625 45 \r\nQ 35.0625 48.390625 27.6875 48.390625 \r\nQ 23 48.390625 18.546875 47.265625 \r\nQ 14.109375 46.140625 10.015625 43.890625 \r\nL 10.015625 52.203125 \r\nQ 14.9375 54.109375 19.578125 55.046875 \r\nQ 24.21875 56 28.609375 56 \r\nQ 40.484375 56 46.34375 49.84375 \r\nQ 52.203125 43.703125 52.203125 31.203125 \r\nz\r\n\" id=\"DejaVuSans-97\"/>\r\n        <path d=\"M 44.28125 53.078125 \r\nL 44.28125 44.578125 \r\nQ 40.484375 46.53125 36.375 47.5 \r\nQ 32.28125 48.484375 27.875 48.484375 \r\nQ 21.1875 48.484375 17.84375 46.4375 \r\nQ 14.5 44.390625 14.5 40.28125 \r\nQ 14.5 37.15625 16.890625 35.375 \r\nQ 19.28125 33.59375 26.515625 31.984375 \r\nL 29.59375 31.296875 \r\nQ 39.15625 29.25 43.1875 25.515625 \r\nQ 47.21875 21.78125 47.21875 15.09375 \r\nQ 47.21875 7.46875 41.1875 3.015625 \r\nQ 35.15625 -1.421875 24.609375 -1.421875 \r\nQ 20.21875 -1.421875 15.453125 -0.5625 \r\nQ 10.6875 0.296875 5.421875 2 \r\nL 5.421875 11.28125 \r\nQ 10.40625 8.6875 15.234375 7.390625 \r\nQ 20.0625 6.109375 24.8125 6.109375 \r\nQ 31.15625 6.109375 34.5625 8.28125 \r\nQ 37.984375 10.453125 37.984375 14.40625 \r\nQ 37.984375 18.0625 35.515625 20.015625 \r\nQ 33.0625 21.96875 24.703125 23.78125 \r\nL 21.578125 24.515625 \r\nQ 13.234375 26.265625 9.515625 29.90625 \r\nQ 5.8125 33.546875 5.8125 39.890625 \r\nQ 5.8125 47.609375 11.28125 51.796875 \r\nQ 16.75 56 26.8125 56 \r\nQ 31.78125 56 36.171875 55.265625 \r\nQ 40.578125 54.546875 44.28125 53.078125 \r\nz\r\n\" id=\"DejaVuSans-115\"/>\r\n        <path d=\"M 56.203125 29.59375 \r\nL 56.203125 25.203125 \r\nL 14.890625 25.203125 \r\nQ 15.484375 15.921875 20.484375 11.0625 \r\nQ 25.484375 6.203125 34.421875 6.203125 \r\nQ 39.59375 6.203125 44.453125 7.46875 \r\nQ 49.3125 8.734375 54.109375 11.28125 \r\nL 54.109375 2.78125 \r\nQ 49.265625 0.734375 44.1875 -0.34375 \r\nQ 39.109375 -1.421875 33.890625 -1.421875 \r\nQ 20.796875 -1.421875 13.15625 6.1875 \r\nQ 5.515625 13.8125 5.515625 26.8125 \r\nQ 5.515625 40.234375 12.765625 48.109375 \r\nQ 20.015625 56 32.328125 56 \r\nQ 43.359375 56 49.78125 48.890625 \r\nQ 56.203125 41.796875 56.203125 29.59375 \r\nz\r\nM 47.21875 32.234375 \r\nQ 47.125 39.59375 43.09375 43.984375 \r\nQ 39.0625 48.390625 32.421875 48.390625 \r\nQ 24.90625 48.390625 20.390625 44.140625 \r\nQ 15.875 39.890625 15.1875 32.171875 \r\nz\r\n\" id=\"DejaVuSans-101\"/>\r\n        <path id=\"DejaVuSans-32\"/>\r\n        <path d=\"M 9.8125 72.90625 \r\nL 24.515625 72.90625 \r\nL 43.109375 23.296875 \r\nL 61.8125 72.90625 \r\nL 76.515625 72.90625 \r\nL 76.515625 0 \r\nL 66.890625 0 \r\nL 66.890625 64.015625 \r\nL 48.09375 14.015625 \r\nL 38.1875 14.015625 \r\nL 19.390625 64.015625 \r\nL 19.390625 0 \r\nL 9.8125 0 \r\nz\r\n\" id=\"DejaVuSans-77\"/>\r\n        <path d=\"M 54.890625 33.015625 \r\nL 54.890625 0 \r\nL 45.90625 0 \r\nL 45.90625 32.71875 \r\nQ 45.90625 40.484375 42.875 44.328125 \r\nQ 39.84375 48.1875 33.796875 48.1875 \r\nQ 26.515625 48.1875 22.3125 43.546875 \r\nQ 18.109375 38.921875 18.109375 30.90625 \r\nL 18.109375 0 \r\nL 9.078125 0 \r\nL 9.078125 54.6875 \r\nL 18.109375 54.6875 \r\nL 18.109375 46.1875 \r\nQ 21.34375 51.125 25.703125 53.5625 \r\nQ 30.078125 56 35.796875 56 \r\nQ 45.21875 56 50.046875 50.171875 \r\nQ 54.890625 44.34375 54.890625 33.015625 \r\nz\r\n\" id=\"DejaVuSans-110\"/>\r\n        <path d=\"M 45.40625 27.984375 \r\nQ 45.40625 37.75 41.375 43.109375 \r\nQ 37.359375 48.484375 30.078125 48.484375 \r\nQ 22.859375 48.484375 18.828125 43.109375 \r\nQ 14.796875 37.75 14.796875 27.984375 \r\nQ 14.796875 18.265625 18.828125 12.890625 \r\nQ 22.859375 7.515625 30.078125 7.515625 \r\nQ 37.359375 7.515625 41.375 12.890625 \r\nQ 45.40625 18.265625 45.40625 27.984375 \r\nz\r\nM 54.390625 6.78125 \r\nQ 54.390625 -7.171875 48.1875 -13.984375 \r\nQ 42 -20.796875 29.203125 -20.796875 \r\nQ 24.46875 -20.796875 20.265625 -20.09375 \r\nQ 16.0625 -19.390625 12.109375 -17.921875 \r\nL 12.109375 -9.1875 \r\nQ 16.0625 -11.328125 19.921875 -12.34375 \r\nQ 23.78125 -13.375 27.78125 -13.375 \r\nQ 36.625 -13.375 41.015625 -8.765625 \r\nQ 45.40625 -4.15625 45.40625 5.171875 \r\nL 45.40625 9.625 \r\nQ 42.625 4.78125 38.28125 2.390625 \r\nQ 33.9375 0 27.875 0 \r\nQ 17.828125 0 11.671875 7.65625 \r\nQ 5.515625 15.328125 5.515625 27.984375 \r\nQ 5.515625 40.671875 11.671875 48.328125 \r\nQ 17.828125 56 27.875 56 \r\nQ 33.9375 56 38.28125 53.609375 \r\nQ 42.625 51.21875 45.40625 46.390625 \r\nL 45.40625 54.6875 \r\nL 54.390625 54.6875 \r\nz\r\n\" id=\"DejaVuSans-103\"/>\r\n        <path d=\"M 52 44.1875 \r\nQ 55.375 50.25 60.0625 53.125 \r\nQ 64.75 56 71.09375 56 \r\nQ 79.640625 56 84.28125 50.015625 \r\nQ 88.921875 44.046875 88.921875 33.015625 \r\nL 88.921875 0 \r\nL 79.890625 0 \r\nL 79.890625 32.71875 \r\nQ 79.890625 40.578125 77.09375 44.375 \r\nQ 74.3125 48.1875 68.609375 48.1875 \r\nQ 61.625 48.1875 57.5625 43.546875 \r\nQ 53.515625 38.921875 53.515625 30.90625 \r\nL 53.515625 0 \r\nL 44.484375 0 \r\nL 44.484375 32.71875 \r\nQ 44.484375 40.625 41.703125 44.40625 \r\nQ 38.921875 48.1875 33.109375 48.1875 \r\nQ 26.21875 48.1875 22.15625 43.53125 \r\nQ 18.109375 38.875 18.109375 30.90625 \r\nL 18.109375 0 \r\nL 9.078125 0 \r\nL 9.078125 54.6875 \r\nL 18.109375 54.6875 \r\nL 18.109375 46.1875 \r\nQ 21.1875 51.21875 25.484375 53.609375 \r\nQ 29.78125 56 35.6875 56 \r\nQ 41.65625 56 45.828125 52.96875 \r\nQ 50 49.953125 52 44.1875 \r\nz\r\n\" id=\"DejaVuSans-109\"/>\r\n        <path d=\"M 18.3125 70.21875 \r\nL 18.3125 54.6875 \r\nL 36.8125 54.6875 \r\nL 36.8125 47.703125 \r\nL 18.3125 47.703125 \r\nL 18.3125 18.015625 \r\nQ 18.3125 11.328125 20.140625 9.421875 \r\nQ 21.96875 7.515625 27.59375 7.515625 \r\nL 36.8125 7.515625 \r\nL 36.8125 0 \r\nL 27.59375 0 \r\nQ 17.1875 0 13.234375 3.875 \r\nQ 9.28125 7.765625 9.28125 18.015625 \r\nL 9.28125 47.703125 \r\nL 2.6875 47.703125 \r\nL 2.6875 54.6875 \r\nL 9.28125 54.6875 \r\nL 9.28125 70.21875 \r\nz\r\n\" id=\"DejaVuSans-116\"/>\r\n       </defs>\r\n       <use xlink:href=\"#DejaVuSans-67\"/>\r\n       <use x=\"69.824219\" xlink:href=\"#DejaVuSans-97\"/>\r\n       <use x=\"131.103516\" xlink:href=\"#DejaVuSans-115\"/>\r\n       <use x=\"183.203125\" xlink:href=\"#DejaVuSans-101\"/>\r\n       <use x=\"244.726562\" xlink:href=\"#DejaVuSans-32\"/>\r\n       <use x=\"276.513672\" xlink:href=\"#DejaVuSans-77\"/>\r\n       <use x=\"362.792969\" xlink:href=\"#DejaVuSans-97\"/>\r\n       <use x=\"424.072266\" xlink:href=\"#DejaVuSans-110\"/>\r\n       <use x=\"487.451172\" xlink:href=\"#DejaVuSans-97\"/>\r\n       <use x=\"548.730469\" xlink:href=\"#DejaVuSans-103\"/>\r\n       <use x=\"612.207031\" xlink:href=\"#DejaVuSans-101\"/>\r\n       <use x=\"673.730469\" xlink:href=\"#DejaVuSans-109\"/>\r\n       <use x=\"771.142578\" xlink:href=\"#DejaVuSans-101\"/>\r\n       <use x=\"832.666016\" xlink:href=\"#DejaVuSans-110\"/>\r\n       <use x=\"896.044922\" xlink:href=\"#DejaVuSans-116\"/>\r\n       <use x=\"935.253906\" xlink:href=\"#DejaVuSans-32\"/>\r\n      </g>\r\n     </g>\r\n    </g>\r\n    <g id=\"xtick_2\">\r\n     <g id=\"line2d_2\">\r\n      <g>\r\n       <use style=\"stroke:#000000;stroke-width:0.8;\" x=\"91.435\" xlink:href=\"#m33ce590473\" y=\"387.72\"/>\r\n      </g>\r\n     </g>\r\n     <g id=\"text_2\">\r\n      <!-- Consult -->\r\n      <g transform=\"translate(94.194375 432.404375)rotate(-90)scale(0.1 -0.1)\">\r\n       <defs>\r\n        <path d=\"M 30.609375 48.390625 \r\nQ 23.390625 48.390625 19.1875 42.75 \r\nQ 14.984375 37.109375 14.984375 27.296875 \r\nQ 14.984375 17.484375 19.15625 11.84375 \r\nQ 23.34375 6.203125 30.609375 6.203125 \r\nQ 37.796875 6.203125 41.984375 11.859375 \r\nQ 46.1875 17.53125 46.1875 27.296875 \r\nQ 46.1875 37.015625 41.984375 42.703125 \r\nQ 37.796875 48.390625 30.609375 48.390625 \r\nz\r\nM 30.609375 56 \r\nQ 42.328125 56 49.015625 48.375 \r\nQ 55.71875 40.765625 55.71875 27.296875 \r\nQ 55.71875 13.875 49.015625 6.21875 \r\nQ 42.328125 -1.421875 30.609375 -1.421875 \r\nQ 18.84375 -1.421875 12.171875 6.21875 \r\nQ 5.515625 13.875 5.515625 27.296875 \r\nQ 5.515625 40.765625 12.171875 48.375 \r\nQ 18.84375 56 30.609375 56 \r\nz\r\n\" id=\"DejaVuSans-111\"/>\r\n        <path d=\"M 8.5 21.578125 \r\nL 8.5 54.6875 \r\nL 17.484375 54.6875 \r\nL 17.484375 21.921875 \r\nQ 17.484375 14.15625 20.5 10.265625 \r\nQ 23.53125 6.390625 29.59375 6.390625 \r\nQ 36.859375 6.390625 41.078125 11.03125 \r\nQ 45.3125 15.671875 45.3125 23.6875 \r\nL 45.3125 54.6875 \r\nL 54.296875 54.6875 \r\nL 54.296875 0 \r\nL 45.3125 0 \r\nL 45.3125 8.40625 \r\nQ 42.046875 3.421875 37.71875 1 \r\nQ 33.40625 -1.421875 27.6875 -1.421875 \r\nQ 18.265625 -1.421875 13.375 4.4375 \r\nQ 8.5 10.296875 8.5 21.578125 \r\nz\r\nM 31.109375 56 \r\nz\r\n\" id=\"DejaVuSans-117\"/>\r\n        <path d=\"M 9.421875 75.984375 \r\nL 18.40625 75.984375 \r\nL 18.40625 0 \r\nL 9.421875 0 \r\nz\r\n\" id=\"DejaVuSans-108\"/>\r\n       </defs>\r\n       <use xlink:href=\"#DejaVuSans-67\"/>\r\n       <use x=\"69.824219\" xlink:href=\"#DejaVuSans-111\"/>\r\n       <use x=\"131.005859\" xlink:href=\"#DejaVuSans-110\"/>\r\n       <use x=\"194.384766\" xlink:href=\"#DejaVuSans-115\"/>\r\n       <use x=\"246.484375\" xlink:href=\"#DejaVuSans-117\"/>\r\n       <use x=\"309.863281\" xlink:href=\"#DejaVuSans-108\"/>\r\n       <use x=\"337.646484\" xlink:href=\"#DejaVuSans-116\"/>\r\n      </g>\r\n     </g>\r\n    </g>\r\n    <g id=\"xtick_3\">\r\n     <g id=\"line2d_3\">\r\n      <g>\r\n       <use style=\"stroke:#000000;stroke-width:0.8;\" x=\"117.475\" xlink:href=\"#m33ce590473\" y=\"387.72\"/>\r\n      </g>\r\n     </g>\r\n     <g id=\"text_3\">\r\n      <!-- Discharge summary -->\r\n      <g transform=\"translate(120.234375 495.173125)rotate(-90)scale(0.1 -0.1)\">\r\n       <defs>\r\n        <path d=\"M 19.671875 64.796875 \r\nL 19.671875 8.109375 \r\nL 31.59375 8.109375 \r\nQ 46.6875 8.109375 53.6875 14.9375 \r\nQ 60.6875 21.78125 60.6875 36.53125 \r\nQ 60.6875 51.171875 53.6875 57.984375 \r\nQ 46.6875 64.796875 31.59375 64.796875 \r\nz\r\nM 9.8125 72.90625 \r\nL 30.078125 72.90625 \r\nQ 51.265625 72.90625 61.171875 64.09375 \r\nQ 71.09375 55.28125 71.09375 36.53125 \r\nQ 71.09375 17.671875 61.125 8.828125 \r\nQ 51.171875 0 30.078125 0 \r\nL 9.8125 0 \r\nz\r\n\" id=\"DejaVuSans-68\"/>\r\n        <path d=\"M 9.421875 54.6875 \r\nL 18.40625 54.6875 \r\nL 18.40625 0 \r\nL 9.421875 0 \r\nz\r\nM 9.421875 75.984375 \r\nL 18.40625 75.984375 \r\nL 18.40625 64.59375 \r\nL 9.421875 64.59375 \r\nz\r\n\" id=\"DejaVuSans-105\"/>\r\n        <path d=\"M 48.78125 52.59375 \r\nL 48.78125 44.1875 \r\nQ 44.96875 46.296875 41.140625 47.34375 \r\nQ 37.3125 48.390625 33.40625 48.390625 \r\nQ 24.65625 48.390625 19.8125 42.84375 \r\nQ 14.984375 37.3125 14.984375 27.296875 \r\nQ 14.984375 17.28125 19.8125 11.734375 \r\nQ 24.65625 6.203125 33.40625 6.203125 \r\nQ 37.3125 6.203125 41.140625 7.25 \r\nQ 44.96875 8.296875 48.78125 10.40625 \r\nL 48.78125 2.09375 \r\nQ 45.015625 0.34375 40.984375 -0.53125 \r\nQ 36.96875 -1.421875 32.421875 -1.421875 \r\nQ 20.0625 -1.421875 12.78125 6.34375 \r\nQ 5.515625 14.109375 5.515625 27.296875 \r\nQ 5.515625 40.671875 12.859375 48.328125 \r\nQ 20.21875 56 33.015625 56 \r\nQ 37.15625 56 41.109375 55.140625 \r\nQ 45.0625 54.296875 48.78125 52.59375 \r\nz\r\n\" id=\"DejaVuSans-99\"/>\r\n        <path d=\"M 54.890625 33.015625 \r\nL 54.890625 0 \r\nL 45.90625 0 \r\nL 45.90625 32.71875 \r\nQ 45.90625 40.484375 42.875 44.328125 \r\nQ 39.84375 48.1875 33.796875 48.1875 \r\nQ 26.515625 48.1875 22.3125 43.546875 \r\nQ 18.109375 38.921875 18.109375 30.90625 \r\nL 18.109375 0 \r\nL 9.078125 0 \r\nL 9.078125 75.984375 \r\nL 18.109375 75.984375 \r\nL 18.109375 46.1875 \r\nQ 21.34375 51.125 25.703125 53.5625 \r\nQ 30.078125 56 35.796875 56 \r\nQ 45.21875 56 50.046875 50.171875 \r\nQ 54.890625 44.34375 54.890625 33.015625 \r\nz\r\n\" id=\"DejaVuSans-104\"/>\r\n        <path d=\"M 41.109375 46.296875 \r\nQ 39.59375 47.171875 37.8125 47.578125 \r\nQ 36.03125 48 33.890625 48 \r\nQ 26.265625 48 22.1875 43.046875 \r\nQ 18.109375 38.09375 18.109375 28.8125 \r\nL 18.109375 0 \r\nL 9.078125 0 \r\nL 9.078125 54.6875 \r\nL 18.109375 54.6875 \r\nL 18.109375 46.1875 \r\nQ 20.953125 51.171875 25.484375 53.578125 \r\nQ 30.03125 56 36.53125 56 \r\nQ 37.453125 56 38.578125 55.875 \r\nQ 39.703125 55.765625 41.0625 55.515625 \r\nz\r\n\" id=\"DejaVuSans-114\"/>\r\n        <path d=\"M 32.171875 -5.078125 \r\nQ 28.375 -14.84375 24.75 -17.8125 \r\nQ 21.140625 -20.796875 15.09375 -20.796875 \r\nL 7.90625 -20.796875 \r\nL 7.90625 -13.28125 \r\nL 13.1875 -13.28125 \r\nQ 16.890625 -13.28125 18.9375 -11.515625 \r\nQ 21 -9.765625 23.484375 -3.21875 \r\nL 25.09375 0.875 \r\nL 2.984375 54.6875 \r\nL 12.5 54.6875 \r\nL 29.59375 11.921875 \r\nL 46.6875 54.6875 \r\nL 56.203125 54.6875 \r\nz\r\n\" id=\"DejaVuSans-121\"/>\r\n       </defs>\r\n       <use xlink:href=\"#DejaVuSans-68\"/>\r\n       <use x=\"77.001953\" xlink:href=\"#DejaVuSans-105\"/>\r\n       <use x=\"104.785156\" xlink:href=\"#DejaVuSans-115\"/>\r\n       <use x=\"156.884766\" xlink:href=\"#DejaVuSans-99\"/>\r\n       <use x=\"211.865234\" xlink:href=\"#DejaVuSans-104\"/>\r\n       <use x=\"275.244141\" xlink:href=\"#DejaVuSans-97\"/>\r\n       <use x=\"336.523438\" xlink:href=\"#DejaVuSans-114\"/>\r\n       <use x=\"375.886719\" xlink:href=\"#DejaVuSans-103\"/>\r\n       <use x=\"439.363281\" xlink:href=\"#DejaVuSans-101\"/>\r\n       <use x=\"500.886719\" xlink:href=\"#DejaVuSans-32\"/>\r\n       <use x=\"532.673828\" xlink:href=\"#DejaVuSans-115\"/>\r\n       <use x=\"584.773438\" xlink:href=\"#DejaVuSans-117\"/>\r\n       <use x=\"648.152344\" xlink:href=\"#DejaVuSans-109\"/>\r\n       <use x=\"745.564453\" xlink:href=\"#DejaVuSans-109\"/>\r\n       <use x=\"842.976562\" xlink:href=\"#DejaVuSans-97\"/>\r\n       <use x=\"904.255859\" xlink:href=\"#DejaVuSans-114\"/>\r\n       <use x=\"945.369141\" xlink:href=\"#DejaVuSans-121\"/>\r\n      </g>\r\n     </g>\r\n    </g>\r\n    <g id=\"xtick_4\">\r\n     <g id=\"line2d_4\">\r\n      <g>\r\n       <use style=\"stroke:#000000;stroke-width:0.8;\" x=\"143.515\" xlink:href=\"#m33ce590473\" y=\"387.72\"/>\r\n      </g>\r\n     </g>\r\n     <g id=\"text_4\">\r\n      <!-- ECG -->\r\n      <g transform=\"translate(146.274375 415.77)rotate(-90)scale(0.1 -0.1)\">\r\n       <defs>\r\n        <path d=\"M 9.8125 72.90625 \r\nL 55.90625 72.90625 \r\nL 55.90625 64.59375 \r\nL 19.671875 64.59375 \r\nL 19.671875 43.015625 \r\nL 54.390625 43.015625 \r\nL 54.390625 34.71875 \r\nL 19.671875 34.71875 \r\nL 19.671875 8.296875 \r\nL 56.78125 8.296875 \r\nL 56.78125 0 \r\nL 9.8125 0 \r\nz\r\n\" id=\"DejaVuSans-69\"/>\r\n        <path d=\"M 59.515625 10.40625 \r\nL 59.515625 29.984375 \r\nL 43.40625 29.984375 \r\nL 43.40625 38.09375 \r\nL 69.28125 38.09375 \r\nL 69.28125 6.78125 \r\nQ 63.578125 2.734375 56.6875 0.65625 \r\nQ 49.8125 -1.421875 42 -1.421875 \r\nQ 24.90625 -1.421875 15.25 8.5625 \r\nQ 5.609375 18.5625 5.609375 36.375 \r\nQ 5.609375 54.25 15.25 64.234375 \r\nQ 24.90625 74.21875 42 74.21875 \r\nQ 49.125 74.21875 55.546875 72.453125 \r\nQ 61.96875 70.703125 67.390625 67.28125 \r\nL 67.390625 56.78125 \r\nQ 61.921875 61.421875 55.765625 63.765625 \r\nQ 49.609375 66.109375 42.828125 66.109375 \r\nQ 29.4375 66.109375 22.71875 58.640625 \r\nQ 16.015625 51.171875 16.015625 36.375 \r\nQ 16.015625 21.625 22.71875 14.15625 \r\nQ 29.4375 6.6875 42.828125 6.6875 \r\nQ 48.046875 6.6875 52.140625 7.59375 \r\nQ 56.25 8.5 59.515625 10.40625 \r\nz\r\n\" id=\"DejaVuSans-71\"/>\r\n       </defs>\r\n       <use xlink:href=\"#DejaVuSans-69\"/>\r\n       <use x=\"63.183594\" xlink:href=\"#DejaVuSans-67\"/>\r\n       <use x=\"133.007812\" xlink:href=\"#DejaVuSans-71\"/>\r\n      </g>\r\n     </g>\r\n    </g>\r\n    <g id=\"xtick_5\">\r\n     <g id=\"line2d_5\">\r\n      <g>\r\n       <use style=\"stroke:#000000;stroke-width:0.8;\" x=\"169.555\" xlink:href=\"#m33ce590473\" y=\"387.72\"/>\r\n      </g>\r\n     </g>\r\n     <g id=\"text_5\">\r\n      <!-- Echo -->\r\n      <g transform=\"translate(172.314375 418.993437)rotate(-90)scale(0.1 -0.1)\">\r\n       <use xlink:href=\"#DejaVuSans-69\"/>\r\n       <use x=\"63.183594\" xlink:href=\"#DejaVuSans-99\"/>\r\n       <use x=\"118.164062\" xlink:href=\"#DejaVuSans-104\"/>\r\n       <use x=\"181.542969\" xlink:href=\"#DejaVuSans-111\"/>\r\n      </g>\r\n     </g>\r\n    </g>\r\n    <g id=\"xtick_6\">\r\n     <g id=\"line2d_6\">\r\n      <g>\r\n       <use style=\"stroke:#000000;stroke-width:0.8;\" x=\"195.595\" xlink:href=\"#m33ce590473\" y=\"387.72\"/>\r\n      </g>\r\n     </g>\r\n     <g id=\"text_6\">\r\n      <!-- General -->\r\n      <g transform=\"translate(198.354375 434.129375)rotate(-90)scale(0.1 -0.1)\">\r\n       <use xlink:href=\"#DejaVuSans-71\"/>\r\n       <use x=\"77.490234\" xlink:href=\"#DejaVuSans-101\"/>\r\n       <use x=\"139.013672\" xlink:href=\"#DejaVuSans-110\"/>\r\n       <use x=\"202.392578\" xlink:href=\"#DejaVuSans-101\"/>\r\n       <use x=\"263.916016\" xlink:href=\"#DejaVuSans-114\"/>\r\n       <use x=\"305.029297\" xlink:href=\"#DejaVuSans-97\"/>\r\n       <use x=\"366.308594\" xlink:href=\"#DejaVuSans-108\"/>\r\n      </g>\r\n     </g>\r\n    </g>\r\n    <g id=\"xtick_7\">\r\n     <g id=\"line2d_7\">\r\n      <g>\r\n       <use style=\"stroke:#000000;stroke-width:0.8;\" x=\"221.635\" xlink:href=\"#m33ce590473\" y=\"387.72\"/>\r\n      </g>\r\n     </g>\r\n     <g id=\"text_7\">\r\n      <!-- Nursing -->\r\n      <g transform=\"translate(224.394375 433.323125)rotate(-90)scale(0.1 -0.1)\">\r\n       <defs>\r\n        <path d=\"M 9.8125 72.90625 \r\nL 23.09375 72.90625 \r\nL 55.421875 11.921875 \r\nL 55.421875 72.90625 \r\nL 64.984375 72.90625 \r\nL 64.984375 0 \r\nL 51.703125 0 \r\nL 19.390625 60.984375 \r\nL 19.390625 0 \r\nL 9.8125 0 \r\nz\r\n\" id=\"DejaVuSans-78\"/>\r\n       </defs>\r\n       <use xlink:href=\"#DejaVuSans-78\"/>\r\n       <use x=\"74.804688\" xlink:href=\"#DejaVuSans-117\"/>\r\n       <use x=\"138.183594\" xlink:href=\"#DejaVuSans-114\"/>\r\n       <use x=\"179.296875\" xlink:href=\"#DejaVuSans-115\"/>\r\n       <use x=\"231.396484\" xlink:href=\"#DejaVuSans-105\"/>\r\n       <use x=\"259.179688\" xlink:href=\"#DejaVuSans-110\"/>\r\n       <use x=\"322.558594\" xlink:href=\"#DejaVuSans-103\"/>\r\n      </g>\r\n     </g>\r\n    </g>\r\n    <g id=\"xtick_8\">\r\n     <g id=\"line2d_8\">\r\n      <g>\r\n       <use style=\"stroke:#000000;stroke-width:0.8;\" x=\"247.675\" xlink:href=\"#m33ce590473\" y=\"387.72\"/>\r\n      </g>\r\n     </g>\r\n     <g id=\"text_8\">\r\n      <!-- Nursing/other -->\r\n      <g transform=\"translate(250.434375 463.3325)rotate(-90)scale(0.1 -0.1)\">\r\n       <defs>\r\n        <path d=\"M 25.390625 72.90625 \r\nL 33.6875 72.90625 \r\nL 8.296875 -9.28125 \r\nL 0 -9.28125 \r\nz\r\n\" id=\"DejaVuSans-47\"/>\r\n       </defs>\r\n       <use xlink:href=\"#DejaVuSans-78\"/>\r\n       <use x=\"74.804688\" xlink:href=\"#DejaVuSans-117\"/>\r\n       <use x=\"138.183594\" xlink:href=\"#DejaVuSans-114\"/>\r\n       <use x=\"179.296875\" xlink:href=\"#DejaVuSans-115\"/>\r\n       <use x=\"231.396484\" xlink:href=\"#DejaVuSans-105\"/>\r\n       <use x=\"259.179688\" xlink:href=\"#DejaVuSans-110\"/>\r\n       <use x=\"322.558594\" xlink:href=\"#DejaVuSans-103\"/>\r\n       <use x=\"386.035156\" xlink:href=\"#DejaVuSans-47\"/>\r\n       <use x=\"419.726562\" xlink:href=\"#DejaVuSans-111\"/>\r\n       <use x=\"480.908203\" xlink:href=\"#DejaVuSans-116\"/>\r\n       <use x=\"520.117188\" xlink:href=\"#DejaVuSans-104\"/>\r\n       <use x=\"583.496094\" xlink:href=\"#DejaVuSans-101\"/>\r\n       <use x=\"645.019531\" xlink:href=\"#DejaVuSans-114\"/>\r\n      </g>\r\n     </g>\r\n    </g>\r\n    <g id=\"xtick_9\">\r\n     <g id=\"line2d_9\">\r\n      <g>\r\n       <use style=\"stroke:#000000;stroke-width:0.8;\" x=\"273.715\" xlink:href=\"#m33ce590473\" y=\"387.72\"/>\r\n      </g>\r\n     </g>\r\n     <g id=\"text_9\">\r\n      <!-- Nutrition -->\r\n      <g transform=\"translate(276.474375 438.502812)rotate(-90)scale(0.1 -0.1)\">\r\n       <use xlink:href=\"#DejaVuSans-78\"/>\r\n       <use x=\"74.804688\" xlink:href=\"#DejaVuSans-117\"/>\r\n       <use x=\"138.183594\" xlink:href=\"#DejaVuSans-116\"/>\r\n       <use x=\"177.392578\" xlink:href=\"#DejaVuSans-114\"/>\r\n       <use x=\"218.505859\" xlink:href=\"#DejaVuSans-105\"/>\r\n       <use x=\"246.289062\" xlink:href=\"#DejaVuSans-116\"/>\r\n       <use x=\"285.498047\" xlink:href=\"#DejaVuSans-105\"/>\r\n       <use x=\"313.28125\" xlink:href=\"#DejaVuSans-111\"/>\r\n       <use x=\"374.462891\" xlink:href=\"#DejaVuSans-110\"/>\r\n      </g>\r\n     </g>\r\n    </g>\r\n    <g id=\"xtick_10\">\r\n     <g id=\"line2d_10\">\r\n      <g>\r\n       <use style=\"stroke:#000000;stroke-width:0.8;\" x=\"299.755\" xlink:href=\"#m33ce590473\" y=\"387.72\"/>\r\n      </g>\r\n     </g>\r\n     <g id=\"text_10\">\r\n      <!-- Pharmacy -->\r\n      <g transform=\"translate(302.514375 444.437187)rotate(-90)scale(0.1 -0.1)\">\r\n       <defs>\r\n        <path d=\"M 19.671875 64.796875 \r\nL 19.671875 37.40625 \r\nL 32.078125 37.40625 \r\nQ 38.96875 37.40625 42.71875 40.96875 \r\nQ 46.484375 44.53125 46.484375 51.125 \r\nQ 46.484375 57.671875 42.71875 61.234375 \r\nQ 38.96875 64.796875 32.078125 64.796875 \r\nz\r\nM 9.8125 72.90625 \r\nL 32.078125 72.90625 \r\nQ 44.34375 72.90625 50.609375 67.359375 \r\nQ 56.890625 61.8125 56.890625 51.125 \r\nQ 56.890625 40.328125 50.609375 34.8125 \r\nQ 44.34375 29.296875 32.078125 29.296875 \r\nL 19.671875 29.296875 \r\nL 19.671875 0 \r\nL 9.8125 0 \r\nz\r\n\" id=\"DejaVuSans-80\"/>\r\n       </defs>\r\n       <use xlink:href=\"#DejaVuSans-80\"/>\r\n       <use x=\"60.302734\" xlink:href=\"#DejaVuSans-104\"/>\r\n       <use x=\"123.681641\" xlink:href=\"#DejaVuSans-97\"/>\r\n       <use x=\"184.960938\" xlink:href=\"#DejaVuSans-114\"/>\r\n       <use x=\"224.324219\" xlink:href=\"#DejaVuSans-109\"/>\r\n       <use x=\"321.736328\" xlink:href=\"#DejaVuSans-97\"/>\r\n       <use x=\"383.015625\" xlink:href=\"#DejaVuSans-99\"/>\r\n       <use x=\"437.996094\" xlink:href=\"#DejaVuSans-121\"/>\r\n      </g>\r\n     </g>\r\n    </g>\r\n    <g id=\"xtick_11\">\r\n     <g id=\"line2d_11\">\r\n      <g>\r\n       <use style=\"stroke:#000000;stroke-width:0.8;\" x=\"325.795\" xlink:href=\"#m33ce590473\" y=\"387.72\"/>\r\n      </g>\r\n     </g>\r\n     <g id=\"text_11\">\r\n      <!-- Physician  -->\r\n      <g transform=\"translate(328.554375 444.91375)rotate(-90)scale(0.1 -0.1)\">\r\n       <use xlink:href=\"#DejaVuSans-80\"/>\r\n       <use x=\"60.302734\" xlink:href=\"#DejaVuSans-104\"/>\r\n       <use x=\"123.681641\" xlink:href=\"#DejaVuSans-121\"/>\r\n       <use x=\"182.861328\" xlink:href=\"#DejaVuSans-115\"/>\r\n       <use x=\"234.960938\" xlink:href=\"#DejaVuSans-105\"/>\r\n       <use x=\"262.744141\" xlink:href=\"#DejaVuSans-99\"/>\r\n       <use x=\"317.724609\" xlink:href=\"#DejaVuSans-105\"/>\r\n       <use x=\"345.507812\" xlink:href=\"#DejaVuSans-97\"/>\r\n       <use x=\"406.787109\" xlink:href=\"#DejaVuSans-110\"/>\r\n       <use x=\"470.166016\" xlink:href=\"#DejaVuSans-32\"/>\r\n      </g>\r\n     </g>\r\n    </g>\r\n    <g id=\"xtick_12\">\r\n     <g id=\"line2d_12\">\r\n      <g>\r\n       <use style=\"stroke:#000000;stroke-width:0.8;\" x=\"351.835\" xlink:href=\"#m33ce590473\" y=\"387.72\"/>\r\n      </g>\r\n     </g>\r\n     <g id=\"text_12\">\r\n      <!-- Radiology -->\r\n      <g transform=\"translate(354.594375 443.980937)rotate(-90)scale(0.1 -0.1)\">\r\n       <defs>\r\n        <path d=\"M 44.390625 34.1875 \r\nQ 47.5625 33.109375 50.5625 29.59375 \r\nQ 53.5625 26.078125 56.59375 19.921875 \r\nL 66.609375 0 \r\nL 56 0 \r\nL 46.6875 18.703125 \r\nQ 43.0625 26.03125 39.671875 28.421875 \r\nQ 36.28125 30.8125 30.421875 30.8125 \r\nL 19.671875 30.8125 \r\nL 19.671875 0 \r\nL 9.8125 0 \r\nL 9.8125 72.90625 \r\nL 32.078125 72.90625 \r\nQ 44.578125 72.90625 50.734375 67.671875 \r\nQ 56.890625 62.453125 56.890625 51.90625 \r\nQ 56.890625 45.015625 53.6875 40.46875 \r\nQ 50.484375 35.9375 44.390625 34.1875 \r\nz\r\nM 19.671875 64.796875 \r\nL 19.671875 38.921875 \r\nL 32.078125 38.921875 \r\nQ 39.203125 38.921875 42.84375 42.21875 \r\nQ 46.484375 45.515625 46.484375 51.90625 \r\nQ 46.484375 58.296875 42.84375 61.546875 \r\nQ 39.203125 64.796875 32.078125 64.796875 \r\nz\r\n\" id=\"DejaVuSans-82\"/>\r\n        <path d=\"M 45.40625 46.390625 \r\nL 45.40625 75.984375 \r\nL 54.390625 75.984375 \r\nL 54.390625 0 \r\nL 45.40625 0 \r\nL 45.40625 8.203125 \r\nQ 42.578125 3.328125 38.25 0.953125 \r\nQ 33.9375 -1.421875 27.875 -1.421875 \r\nQ 17.96875 -1.421875 11.734375 6.484375 \r\nQ 5.515625 14.40625 5.515625 27.296875 \r\nQ 5.515625 40.1875 11.734375 48.09375 \r\nQ 17.96875 56 27.875 56 \r\nQ 33.9375 56 38.25 53.625 \r\nQ 42.578125 51.265625 45.40625 46.390625 \r\nz\r\nM 14.796875 27.296875 \r\nQ 14.796875 17.390625 18.875 11.75 \r\nQ 22.953125 6.109375 30.078125 6.109375 \r\nQ 37.203125 6.109375 41.296875 11.75 \r\nQ 45.40625 17.390625 45.40625 27.296875 \r\nQ 45.40625 37.203125 41.296875 42.84375 \r\nQ 37.203125 48.484375 30.078125 48.484375 \r\nQ 22.953125 48.484375 18.875 42.84375 \r\nQ 14.796875 37.203125 14.796875 27.296875 \r\nz\r\n\" id=\"DejaVuSans-100\"/>\r\n       </defs>\r\n       <use xlink:href=\"#DejaVuSans-82\"/>\r\n       <use x=\"67.232422\" xlink:href=\"#DejaVuSans-97\"/>\r\n       <use x=\"128.511719\" xlink:href=\"#DejaVuSans-100\"/>\r\n       <use x=\"191.988281\" xlink:href=\"#DejaVuSans-105\"/>\r\n       <use x=\"219.771484\" xlink:href=\"#DejaVuSans-111\"/>\r\n       <use x=\"280.953125\" xlink:href=\"#DejaVuSans-108\"/>\r\n       <use x=\"308.736328\" xlink:href=\"#DejaVuSans-111\"/>\r\n       <use x=\"369.917969\" xlink:href=\"#DejaVuSans-103\"/>\r\n       <use x=\"433.394531\" xlink:href=\"#DejaVuSans-121\"/>\r\n      </g>\r\n     </g>\r\n    </g>\r\n    <g id=\"xtick_13\">\r\n     <g id=\"line2d_13\">\r\n      <g>\r\n       <use style=\"stroke:#000000;stroke-width:0.8;\" x=\"377.875\" xlink:href=\"#m33ce590473\" y=\"387.72\"/>\r\n      </g>\r\n     </g>\r\n     <g id=\"text_13\">\r\n      <!-- Rehab Services -->\r\n      <g transform=\"translate(380.634375 471.534062)rotate(-90)scale(0.1 -0.1)\">\r\n       <defs>\r\n        <path d=\"M 48.6875 27.296875 \r\nQ 48.6875 37.203125 44.609375 42.84375 \r\nQ 40.53125 48.484375 33.40625 48.484375 \r\nQ 26.265625 48.484375 22.1875 42.84375 \r\nQ 18.109375 37.203125 18.109375 27.296875 \r\nQ 18.109375 17.390625 22.1875 11.75 \r\nQ 26.265625 6.109375 33.40625 6.109375 \r\nQ 40.53125 6.109375 44.609375 11.75 \r\nQ 48.6875 17.390625 48.6875 27.296875 \r\nz\r\nM 18.109375 46.390625 \r\nQ 20.953125 51.265625 25.265625 53.625 \r\nQ 29.59375 56 35.59375 56 \r\nQ 45.5625 56 51.78125 48.09375 \r\nQ 58.015625 40.1875 58.015625 27.296875 \r\nQ 58.015625 14.40625 51.78125 6.484375 \r\nQ 45.5625 -1.421875 35.59375 -1.421875 \r\nQ 29.59375 -1.421875 25.265625 0.953125 \r\nQ 20.953125 3.328125 18.109375 8.203125 \r\nL 18.109375 0 \r\nL 9.078125 0 \r\nL 9.078125 75.984375 \r\nL 18.109375 75.984375 \r\nz\r\n\" id=\"DejaVuSans-98\"/>\r\n        <path d=\"M 53.515625 70.515625 \r\nL 53.515625 60.890625 \r\nQ 47.90625 63.578125 42.921875 64.890625 \r\nQ 37.9375 66.21875 33.296875 66.21875 \r\nQ 25.25 66.21875 20.875 63.09375 \r\nQ 16.5 59.96875 16.5 54.203125 \r\nQ 16.5 49.359375 19.40625 46.890625 \r\nQ 22.3125 44.4375 30.421875 42.921875 \r\nL 36.375 41.703125 \r\nQ 47.40625 39.59375 52.65625 34.296875 \r\nQ 57.90625 29 57.90625 20.125 \r\nQ 57.90625 9.515625 50.796875 4.046875 \r\nQ 43.703125 -1.421875 29.984375 -1.421875 \r\nQ 24.8125 -1.421875 18.96875 -0.25 \r\nQ 13.140625 0.921875 6.890625 3.21875 \r\nL 6.890625 13.375 \r\nQ 12.890625 10.015625 18.65625 8.296875 \r\nQ 24.421875 6.59375 29.984375 6.59375 \r\nQ 38.421875 6.59375 43.015625 9.90625 \r\nQ 47.609375 13.234375 47.609375 19.390625 \r\nQ 47.609375 24.75 44.3125 27.78125 \r\nQ 41.015625 30.8125 33.5 32.328125 \r\nL 27.484375 33.5 \r\nQ 16.453125 35.6875 11.515625 40.375 \r\nQ 6.59375 45.0625 6.59375 53.421875 \r\nQ 6.59375 63.09375 13.40625 68.65625 \r\nQ 20.21875 74.21875 32.171875 74.21875 \r\nQ 37.3125 74.21875 42.625 73.28125 \r\nQ 47.953125 72.359375 53.515625 70.515625 \r\nz\r\n\" id=\"DejaVuSans-83\"/>\r\n        <path d=\"M 2.984375 54.6875 \r\nL 12.5 54.6875 \r\nL 29.59375 8.796875 \r\nL 46.6875 54.6875 \r\nL 56.203125 54.6875 \r\nL 35.6875 0 \r\nL 23.484375 0 \r\nz\r\n\" id=\"DejaVuSans-118\"/>\r\n       </defs>\r\n       <use xlink:href=\"#DejaVuSans-82\"/>\r\n       <use x=\"64.982422\" xlink:href=\"#DejaVuSans-101\"/>\r\n       <use x=\"126.505859\" xlink:href=\"#DejaVuSans-104\"/>\r\n       <use x=\"189.884766\" xlink:href=\"#DejaVuSans-97\"/>\r\n       <use x=\"251.164062\" xlink:href=\"#DejaVuSans-98\"/>\r\n       <use x=\"314.640625\" xlink:href=\"#DejaVuSans-32\"/>\r\n       <use x=\"346.427734\" xlink:href=\"#DejaVuSans-83\"/>\r\n       <use x=\"409.904297\" xlink:href=\"#DejaVuSans-101\"/>\r\n       <use x=\"471.427734\" xlink:href=\"#DejaVuSans-114\"/>\r\n       <use x=\"512.541016\" xlink:href=\"#DejaVuSans-118\"/>\r\n       <use x=\"571.720703\" xlink:href=\"#DejaVuSans-105\"/>\r\n       <use x=\"599.503906\" xlink:href=\"#DejaVuSans-99\"/>\r\n       <use x=\"654.484375\" xlink:href=\"#DejaVuSans-101\"/>\r\n       <use x=\"716.007812\" xlink:href=\"#DejaVuSans-115\"/>\r\n      </g>\r\n     </g>\r\n    </g>\r\n    <g id=\"xtick_14\">\r\n     <g id=\"line2d_14\">\r\n      <g>\r\n       <use style=\"stroke:#000000;stroke-width:0.8;\" x=\"403.915\" xlink:href=\"#m33ce590473\" y=\"387.72\"/>\r\n      </g>\r\n     </g>\r\n     <g id=\"text_14\">\r\n      <!-- Respiratory  -->\r\n      <g transform=\"translate(406.674375 455.193437)rotate(-90)scale(0.1 -0.1)\">\r\n       <defs>\r\n        <path d=\"M 18.109375 8.203125 \r\nL 18.109375 -20.796875 \r\nL 9.078125 -20.796875 \r\nL 9.078125 54.6875 \r\nL 18.109375 54.6875 \r\nL 18.109375 46.390625 \r\nQ 20.953125 51.265625 25.265625 53.625 \r\nQ 29.59375 56 35.59375 56 \r\nQ 45.5625 56 51.78125 48.09375 \r\nQ 58.015625 40.1875 58.015625 27.296875 \r\nQ 58.015625 14.40625 51.78125 6.484375 \r\nQ 45.5625 -1.421875 35.59375 -1.421875 \r\nQ 29.59375 -1.421875 25.265625 0.953125 \r\nQ 20.953125 3.328125 18.109375 8.203125 \r\nz\r\nM 48.6875 27.296875 \r\nQ 48.6875 37.203125 44.609375 42.84375 \r\nQ 40.53125 48.484375 33.40625 48.484375 \r\nQ 26.265625 48.484375 22.1875 42.84375 \r\nQ 18.109375 37.203125 18.109375 27.296875 \r\nQ 18.109375 17.390625 22.1875 11.75 \r\nQ 26.265625 6.109375 33.40625 6.109375 \r\nQ 40.53125 6.109375 44.609375 11.75 \r\nQ 48.6875 17.390625 48.6875 27.296875 \r\nz\r\n\" id=\"DejaVuSans-112\"/>\r\n       </defs>\r\n       <use xlink:href=\"#DejaVuSans-82\"/>\r\n       <use x=\"64.982422\" xlink:href=\"#DejaVuSans-101\"/>\r\n       <use x=\"126.505859\" xlink:href=\"#DejaVuSans-115\"/>\r\n       <use x=\"178.605469\" xlink:href=\"#DejaVuSans-112\"/>\r\n       <use x=\"242.082031\" xlink:href=\"#DejaVuSans-105\"/>\r\n       <use x=\"269.865234\" xlink:href=\"#DejaVuSans-114\"/>\r\n       <use x=\"310.978516\" xlink:href=\"#DejaVuSans-97\"/>\r\n       <use x=\"372.257812\" xlink:href=\"#DejaVuSans-116\"/>\r\n       <use x=\"411.466797\" xlink:href=\"#DejaVuSans-111\"/>\r\n       <use x=\"472.648438\" xlink:href=\"#DejaVuSans-114\"/>\r\n       <use x=\"513.761719\" xlink:href=\"#DejaVuSans-121\"/>\r\n       <use x=\"572.941406\" xlink:href=\"#DejaVuSans-32\"/>\r\n      </g>\r\n     </g>\r\n    </g>\r\n    <g id=\"xtick_15\">\r\n     <g id=\"line2d_15\">\r\n      <g>\r\n       <use style=\"stroke:#000000;stroke-width:0.8;\" x=\"429.955\" xlink:href=\"#m33ce590473\" y=\"387.72\"/>\r\n      </g>\r\n     </g>\r\n     <g id=\"text_15\">\r\n      <!-- Social Work -->\r\n      <g transform=\"translate(432.714375 452.868437)rotate(-90)scale(0.1 -0.1)\">\r\n       <defs>\r\n        <path d=\"M 3.328125 72.90625 \r\nL 13.28125 72.90625 \r\nL 28.609375 11.28125 \r\nL 43.890625 72.90625 \r\nL 54.984375 72.90625 \r\nL 70.3125 11.28125 \r\nL 85.59375 72.90625 \r\nL 95.609375 72.90625 \r\nL 77.296875 0 \r\nL 64.890625 0 \r\nL 49.515625 63.28125 \r\nL 33.984375 0 \r\nL 21.578125 0 \r\nz\r\n\" id=\"DejaVuSans-87\"/>\r\n        <path d=\"M 9.078125 75.984375 \r\nL 18.109375 75.984375 \r\nL 18.109375 31.109375 \r\nL 44.921875 54.6875 \r\nL 56.390625 54.6875 \r\nL 27.390625 29.109375 \r\nL 57.625 0 \r\nL 45.90625 0 \r\nL 18.109375 26.703125 \r\nL 18.109375 0 \r\nL 9.078125 0 \r\nz\r\n\" id=\"DejaVuSans-107\"/>\r\n       </defs>\r\n       <use xlink:href=\"#DejaVuSans-83\"/>\r\n       <use x=\"63.476562\" xlink:href=\"#DejaVuSans-111\"/>\r\n       <use x=\"124.658203\" xlink:href=\"#DejaVuSans-99\"/>\r\n       <use x=\"179.638672\" xlink:href=\"#DejaVuSans-105\"/>\r\n       <use x=\"207.421875\" xlink:href=\"#DejaVuSans-97\"/>\r\n       <use x=\"268.701172\" xlink:href=\"#DejaVuSans-108\"/>\r\n       <use x=\"296.484375\" xlink:href=\"#DejaVuSans-32\"/>\r\n       <use x=\"328.271484\" xlink:href=\"#DejaVuSans-87\"/>\r\n       <use x=\"421.273438\" xlink:href=\"#DejaVuSans-111\"/>\r\n       <use x=\"482.455078\" xlink:href=\"#DejaVuSans-114\"/>\r\n       <use x=\"523.568359\" xlink:href=\"#DejaVuSans-107\"/>\r\n      </g>\r\n     </g>\r\n    </g>\r\n    <g id=\"text_16\">\r\n     <!-- CATEGORY -->\r\n     <g transform=\"translate(220.917969 506.771562)scale(0.1 -0.1)\">\r\n      <defs>\r\n       <path d=\"M 34.1875 63.1875 \r\nL 20.796875 26.90625 \r\nL 47.609375 26.90625 \r\nz\r\nM 28.609375 72.90625 \r\nL 39.796875 72.90625 \r\nL 67.578125 0 \r\nL 57.328125 0 \r\nL 50.6875 18.703125 \r\nL 17.828125 18.703125 \r\nL 11.1875 0 \r\nL 0.78125 0 \r\nz\r\n\" id=\"DejaVuSans-65\"/>\r\n       <path d=\"M -0.296875 72.90625 \r\nL 61.375 72.90625 \r\nL 61.375 64.59375 \r\nL 35.5 64.59375 \r\nL 35.5 0 \r\nL 25.59375 0 \r\nL 25.59375 64.59375 \r\nL -0.296875 64.59375 \r\nz\r\n\" id=\"DejaVuSans-84\"/>\r\n       <path d=\"M 39.40625 66.21875 \r\nQ 28.65625 66.21875 22.328125 58.203125 \r\nQ 16.015625 50.203125 16.015625 36.375 \r\nQ 16.015625 22.609375 22.328125 14.59375 \r\nQ 28.65625 6.59375 39.40625 6.59375 \r\nQ 50.140625 6.59375 56.421875 14.59375 \r\nQ 62.703125 22.609375 62.703125 36.375 \r\nQ 62.703125 50.203125 56.421875 58.203125 \r\nQ 50.140625 66.21875 39.40625 66.21875 \r\nz\r\nM 39.40625 74.21875 \r\nQ 54.734375 74.21875 63.90625 63.9375 \r\nQ 73.09375 53.65625 73.09375 36.375 \r\nQ 73.09375 19.140625 63.90625 8.859375 \r\nQ 54.734375 -1.421875 39.40625 -1.421875 \r\nQ 24.03125 -1.421875 14.8125 8.828125 \r\nQ 5.609375 19.09375 5.609375 36.375 \r\nQ 5.609375 53.65625 14.8125 63.9375 \r\nQ 24.03125 74.21875 39.40625 74.21875 \r\nz\r\n\" id=\"DejaVuSans-79\"/>\r\n       <path d=\"M -0.203125 72.90625 \r\nL 10.40625 72.90625 \r\nL 30.609375 42.921875 \r\nL 50.6875 72.90625 \r\nL 61.28125 72.90625 \r\nL 35.5 34.71875 \r\nL 35.5 0 \r\nL 25.59375 0 \r\nL 25.59375 34.71875 \r\nz\r\n\" id=\"DejaVuSans-89\"/>\r\n      </defs>\r\n      <use xlink:href=\"#DejaVuSans-67\"/>\r\n      <use x=\"69.824219\" xlink:href=\"#DejaVuSans-65\"/>\r\n      <use x=\"130.482422\" xlink:href=\"#DejaVuSans-84\"/>\r\n      <use x=\"191.566406\" xlink:href=\"#DejaVuSans-69\"/>\r\n      <use x=\"254.75\" xlink:href=\"#DejaVuSans-71\"/>\r\n      <use x=\"332.240234\" xlink:href=\"#DejaVuSans-79\"/>\r\n      <use x=\"410.951172\" xlink:href=\"#DejaVuSans-82\"/>\r\n      <use x=\"474.058594\" xlink:href=\"#DejaVuSans-89\"/>\r\n     </g>\r\n    </g>\r\n   </g>\r\n   <g id=\"matplotlib.axis_2\">\r\n    <g id=\"ytick_1\">\r\n     <g id=\"line2d_16\">\r\n      <defs>\r\n       <path d=\"M 0 0 \r\nL -3.5 0 \r\n\" id=\"mc452907a5b\" style=\"stroke:#000000;stroke-width:0.8;\"/>\r\n      </defs>\r\n      <g>\r\n       <use style=\"stroke:#000000;stroke-width:0.8;\" x=\"52.375\" xlink:href=\"#mc452907a5b\" y=\"387.72\"/>\r\n      </g>\r\n     </g>\r\n     <g id=\"text_17\">\r\n      <!-- 0 -->\r\n      <g transform=\"translate(39.0125 391.519219)scale(0.1 -0.1)\">\r\n       <defs>\r\n        <path d=\"M 31.78125 66.40625 \r\nQ 24.171875 66.40625 20.328125 58.90625 \r\nQ 16.5 51.421875 16.5 36.375 \r\nQ 16.5 21.390625 20.328125 13.890625 \r\nQ 24.171875 6.390625 31.78125 6.390625 \r\nQ 39.453125 6.390625 43.28125 13.890625 \r\nQ 47.125 21.390625 47.125 36.375 \r\nQ 47.125 51.421875 43.28125 58.90625 \r\nQ 39.453125 66.40625 31.78125 66.40625 \r\nz\r\nM 31.78125 74.21875 \r\nQ 44.046875 74.21875 50.515625 64.515625 \r\nQ 56.984375 54.828125 56.984375 36.375 \r\nQ 56.984375 17.96875 50.515625 8.265625 \r\nQ 44.046875 -1.421875 31.78125 -1.421875 \r\nQ 19.53125 -1.421875 13.0625 8.265625 \r\nQ 6.59375 17.96875 6.59375 36.375 \r\nQ 6.59375 54.828125 13.0625 64.515625 \r\nQ 19.53125 74.21875 31.78125 74.21875 \r\nz\r\n\" id=\"DejaVuSans-48\"/>\r\n       </defs>\r\n       <use xlink:href=\"#DejaVuSans-48\"/>\r\n      </g>\r\n     </g>\r\n    </g>\r\n    <g id=\"ytick_2\">\r\n     <g id=\"line2d_17\">\r\n      <g>\r\n       <use style=\"stroke:#000000;stroke-width:0.8;\" x=\"52.375\" xlink:href=\"#mc452907a5b\" y=\"343.659049\"/>\r\n      </g>\r\n     </g>\r\n     <g id=\"text_18\">\r\n      <!-- 100000 -->\r\n      <g transform=\"translate(7.2 347.458268)scale(0.1 -0.1)\">\r\n       <defs>\r\n        <path d=\"M 12.40625 8.296875 \r\nL 28.515625 8.296875 \r\nL 28.515625 63.921875 \r\nL 10.984375 60.40625 \r\nL 10.984375 69.390625 \r\nL 28.421875 72.90625 \r\nL 38.28125 72.90625 \r\nL 38.28125 8.296875 \r\nL 54.390625 8.296875 \r\nL 54.390625 0 \r\nL 12.40625 0 \r\nz\r\n\" id=\"DejaVuSans-49\"/>\r\n       </defs>\r\n       <use xlink:href=\"#DejaVuSans-49\"/>\r\n       <use x=\"63.623047\" xlink:href=\"#DejaVuSans-48\"/>\r\n       <use x=\"127.246094\" xlink:href=\"#DejaVuSans-48\"/>\r\n       <use x=\"190.869141\" xlink:href=\"#DejaVuSans-48\"/>\r\n       <use x=\"254.492188\" xlink:href=\"#DejaVuSans-48\"/>\r\n       <use x=\"318.115234\" xlink:href=\"#DejaVuSans-48\"/>\r\n      </g>\r\n     </g>\r\n    </g>\r\n    <g id=\"ytick_3\">\r\n     <g id=\"line2d_18\">\r\n      <g>\r\n       <use style=\"stroke:#000000;stroke-width:0.8;\" x=\"52.375\" xlink:href=\"#mc452907a5b\" y=\"299.598098\"/>\r\n      </g>\r\n     </g>\r\n     <g id=\"text_19\">\r\n      <!-- 200000 -->\r\n      <g transform=\"translate(7.2 303.397317)scale(0.1 -0.1)\">\r\n       <defs>\r\n        <path d=\"M 19.1875 8.296875 \r\nL 53.609375 8.296875 \r\nL 53.609375 0 \r\nL 7.328125 0 \r\nL 7.328125 8.296875 \r\nQ 12.9375 14.109375 22.625 23.890625 \r\nQ 32.328125 33.6875 34.8125 36.53125 \r\nQ 39.546875 41.84375 41.421875 45.53125 \r\nQ 43.3125 49.21875 43.3125 52.78125 \r\nQ 43.3125 58.59375 39.234375 62.25 \r\nQ 35.15625 65.921875 28.609375 65.921875 \r\nQ 23.96875 65.921875 18.8125 64.3125 \r\nQ 13.671875 62.703125 7.8125 59.421875 \r\nL 7.8125 69.390625 \r\nQ 13.765625 71.78125 18.9375 73 \r\nQ 24.125 74.21875 28.421875 74.21875 \r\nQ 39.75 74.21875 46.484375 68.546875 \r\nQ 53.21875 62.890625 53.21875 53.421875 \r\nQ 53.21875 48.921875 51.53125 44.890625 \r\nQ 49.859375 40.875 45.40625 35.40625 \r\nQ 44.1875 33.984375 37.640625 27.21875 \r\nQ 31.109375 20.453125 19.1875 8.296875 \r\nz\r\n\" id=\"DejaVuSans-50\"/>\r\n       </defs>\r\n       <use xlink:href=\"#DejaVuSans-50\"/>\r\n       <use x=\"63.623047\" xlink:href=\"#DejaVuSans-48\"/>\r\n       <use x=\"127.246094\" xlink:href=\"#DejaVuSans-48\"/>\r\n       <use x=\"190.869141\" xlink:href=\"#DejaVuSans-48\"/>\r\n       <use x=\"254.492188\" xlink:href=\"#DejaVuSans-48\"/>\r\n       <use x=\"318.115234\" xlink:href=\"#DejaVuSans-48\"/>\r\n      </g>\r\n     </g>\r\n    </g>\r\n    <g id=\"ytick_4\">\r\n     <g id=\"line2d_19\">\r\n      <g>\r\n       <use style=\"stroke:#000000;stroke-width:0.8;\" x=\"52.375\" xlink:href=\"#mc452907a5b\" y=\"255.537147\"/>\r\n      </g>\r\n     </g>\r\n     <g id=\"text_20\">\r\n      <!-- 300000 -->\r\n      <g transform=\"translate(7.2 259.336366)scale(0.1 -0.1)\">\r\n       <defs>\r\n        <path d=\"M 40.578125 39.3125 \r\nQ 47.65625 37.796875 51.625 33 \r\nQ 55.609375 28.21875 55.609375 21.1875 \r\nQ 55.609375 10.40625 48.1875 4.484375 \r\nQ 40.765625 -1.421875 27.09375 -1.421875 \r\nQ 22.515625 -1.421875 17.65625 -0.515625 \r\nQ 12.796875 0.390625 7.625 2.203125 \r\nL 7.625 11.71875 \r\nQ 11.71875 9.328125 16.59375 8.109375 \r\nQ 21.484375 6.890625 26.8125 6.890625 \r\nQ 36.078125 6.890625 40.9375 10.546875 \r\nQ 45.796875 14.203125 45.796875 21.1875 \r\nQ 45.796875 27.640625 41.28125 31.265625 \r\nQ 36.765625 34.90625 28.71875 34.90625 \r\nL 20.21875 34.90625 \r\nL 20.21875 43.015625 \r\nL 29.109375 43.015625 \r\nQ 36.375 43.015625 40.234375 45.921875 \r\nQ 44.09375 48.828125 44.09375 54.296875 \r\nQ 44.09375 59.90625 40.109375 62.90625 \r\nQ 36.140625 65.921875 28.71875 65.921875 \r\nQ 24.65625 65.921875 20.015625 65.03125 \r\nQ 15.375 64.15625 9.8125 62.3125 \r\nL 9.8125 71.09375 \r\nQ 15.4375 72.65625 20.34375 73.4375 \r\nQ 25.25 74.21875 29.59375 74.21875 \r\nQ 40.828125 74.21875 47.359375 69.109375 \r\nQ 53.90625 64.015625 53.90625 55.328125 \r\nQ 53.90625 49.265625 50.4375 45.09375 \r\nQ 46.96875 40.921875 40.578125 39.3125 \r\nz\r\n\" id=\"DejaVuSans-51\"/>\r\n       </defs>\r\n       <use xlink:href=\"#DejaVuSans-51\"/>\r\n       <use x=\"63.623047\" xlink:href=\"#DejaVuSans-48\"/>\r\n       <use x=\"127.246094\" xlink:href=\"#DejaVuSans-48\"/>\r\n       <use x=\"190.869141\" xlink:href=\"#DejaVuSans-48\"/>\r\n       <use x=\"254.492188\" xlink:href=\"#DejaVuSans-48\"/>\r\n       <use x=\"318.115234\" xlink:href=\"#DejaVuSans-48\"/>\r\n      </g>\r\n     </g>\r\n    </g>\r\n    <g id=\"ytick_5\">\r\n     <g id=\"line2d_20\">\r\n      <g>\r\n       <use style=\"stroke:#000000;stroke-width:0.8;\" x=\"52.375\" xlink:href=\"#mc452907a5b\" y=\"211.476196\"/>\r\n      </g>\r\n     </g>\r\n     <g id=\"text_21\">\r\n      <!-- 400000 -->\r\n      <g transform=\"translate(7.2 215.275415)scale(0.1 -0.1)\">\r\n       <defs>\r\n        <path d=\"M 37.796875 64.3125 \r\nL 12.890625 25.390625 \r\nL 37.796875 25.390625 \r\nz\r\nM 35.203125 72.90625 \r\nL 47.609375 72.90625 \r\nL 47.609375 25.390625 \r\nL 58.015625 25.390625 \r\nL 58.015625 17.1875 \r\nL 47.609375 17.1875 \r\nL 47.609375 0 \r\nL 37.796875 0 \r\nL 37.796875 17.1875 \r\nL 4.890625 17.1875 \r\nL 4.890625 26.703125 \r\nz\r\n\" id=\"DejaVuSans-52\"/>\r\n       </defs>\r\n       <use xlink:href=\"#DejaVuSans-52\"/>\r\n       <use x=\"63.623047\" xlink:href=\"#DejaVuSans-48\"/>\r\n       <use x=\"127.246094\" xlink:href=\"#DejaVuSans-48\"/>\r\n       <use x=\"190.869141\" xlink:href=\"#DejaVuSans-48\"/>\r\n       <use x=\"254.492188\" xlink:href=\"#DejaVuSans-48\"/>\r\n       <use x=\"318.115234\" xlink:href=\"#DejaVuSans-48\"/>\r\n      </g>\r\n     </g>\r\n    </g>\r\n    <g id=\"ytick_6\">\r\n     <g id=\"line2d_21\">\r\n      <g>\r\n       <use style=\"stroke:#000000;stroke-width:0.8;\" x=\"52.375\" xlink:href=\"#mc452907a5b\" y=\"167.415245\"/>\r\n      </g>\r\n     </g>\r\n     <g id=\"text_22\">\r\n      <!-- 500000 -->\r\n      <g transform=\"translate(7.2 171.214464)scale(0.1 -0.1)\">\r\n       <defs>\r\n        <path d=\"M 10.796875 72.90625 \r\nL 49.515625 72.90625 \r\nL 49.515625 64.59375 \r\nL 19.828125 64.59375 \r\nL 19.828125 46.734375 \r\nQ 21.96875 47.46875 24.109375 47.828125 \r\nQ 26.265625 48.1875 28.421875 48.1875 \r\nQ 40.625 48.1875 47.75 41.5 \r\nQ 54.890625 34.8125 54.890625 23.390625 \r\nQ 54.890625 11.625 47.5625 5.09375 \r\nQ 40.234375 -1.421875 26.90625 -1.421875 \r\nQ 22.3125 -1.421875 17.546875 -0.640625 \r\nQ 12.796875 0.140625 7.71875 1.703125 \r\nL 7.71875 11.625 \r\nQ 12.109375 9.234375 16.796875 8.0625 \r\nQ 21.484375 6.890625 26.703125 6.890625 \r\nQ 35.15625 6.890625 40.078125 11.328125 \r\nQ 45.015625 15.765625 45.015625 23.390625 \r\nQ 45.015625 31 40.078125 35.4375 \r\nQ 35.15625 39.890625 26.703125 39.890625 \r\nQ 22.75 39.890625 18.8125 39.015625 \r\nQ 14.890625 38.140625 10.796875 36.28125 \r\nz\r\n\" id=\"DejaVuSans-53\"/>\r\n       </defs>\r\n       <use xlink:href=\"#DejaVuSans-53\"/>\r\n       <use x=\"63.623047\" xlink:href=\"#DejaVuSans-48\"/>\r\n       <use x=\"127.246094\" xlink:href=\"#DejaVuSans-48\"/>\r\n       <use x=\"190.869141\" xlink:href=\"#DejaVuSans-48\"/>\r\n       <use x=\"254.492188\" xlink:href=\"#DejaVuSans-48\"/>\r\n       <use x=\"318.115234\" xlink:href=\"#DejaVuSans-48\"/>\r\n      </g>\r\n     </g>\r\n    </g>\r\n    <g id=\"ytick_7\">\r\n     <g id=\"line2d_22\">\r\n      <g>\r\n       <use style=\"stroke:#000000;stroke-width:0.8;\" x=\"52.375\" xlink:href=\"#mc452907a5b\" y=\"123.354294\"/>\r\n      </g>\r\n     </g>\r\n     <g id=\"text_23\">\r\n      <!-- 600000 -->\r\n      <g transform=\"translate(7.2 127.153513)scale(0.1 -0.1)\">\r\n       <defs>\r\n        <path d=\"M 33.015625 40.375 \r\nQ 26.375 40.375 22.484375 35.828125 \r\nQ 18.609375 31.296875 18.609375 23.390625 \r\nQ 18.609375 15.53125 22.484375 10.953125 \r\nQ 26.375 6.390625 33.015625 6.390625 \r\nQ 39.65625 6.390625 43.53125 10.953125 \r\nQ 47.40625 15.53125 47.40625 23.390625 \r\nQ 47.40625 31.296875 43.53125 35.828125 \r\nQ 39.65625 40.375 33.015625 40.375 \r\nz\r\nM 52.59375 71.296875 \r\nL 52.59375 62.3125 \r\nQ 48.875 64.0625 45.09375 64.984375 \r\nQ 41.3125 65.921875 37.59375 65.921875 \r\nQ 27.828125 65.921875 22.671875 59.328125 \r\nQ 17.53125 52.734375 16.796875 39.40625 \r\nQ 19.671875 43.65625 24.015625 45.921875 \r\nQ 28.375 48.1875 33.59375 48.1875 \r\nQ 44.578125 48.1875 50.953125 41.515625 \r\nQ 57.328125 34.859375 57.328125 23.390625 \r\nQ 57.328125 12.15625 50.6875 5.359375 \r\nQ 44.046875 -1.421875 33.015625 -1.421875 \r\nQ 20.359375 -1.421875 13.671875 8.265625 \r\nQ 6.984375 17.96875 6.984375 36.375 \r\nQ 6.984375 53.65625 15.1875 63.9375 \r\nQ 23.390625 74.21875 37.203125 74.21875 \r\nQ 40.921875 74.21875 44.703125 73.484375 \r\nQ 48.484375 72.75 52.59375 71.296875 \r\nz\r\n\" id=\"DejaVuSans-54\"/>\r\n       </defs>\r\n       <use xlink:href=\"#DejaVuSans-54\"/>\r\n       <use x=\"63.623047\" xlink:href=\"#DejaVuSans-48\"/>\r\n       <use x=\"127.246094\" xlink:href=\"#DejaVuSans-48\"/>\r\n       <use x=\"190.869141\" xlink:href=\"#DejaVuSans-48\"/>\r\n       <use x=\"254.492188\" xlink:href=\"#DejaVuSans-48\"/>\r\n       <use x=\"318.115234\" xlink:href=\"#DejaVuSans-48\"/>\r\n      </g>\r\n     </g>\r\n    </g>\r\n    <g id=\"ytick_8\">\r\n     <g id=\"line2d_23\">\r\n      <g>\r\n       <use style=\"stroke:#000000;stroke-width:0.8;\" x=\"52.375\" xlink:href=\"#mc452907a5b\" y=\"79.293343\"/>\r\n      </g>\r\n     </g>\r\n     <g id=\"text_24\">\r\n      <!-- 700000 -->\r\n      <g transform=\"translate(7.2 83.092562)scale(0.1 -0.1)\">\r\n       <defs>\r\n        <path d=\"M 8.203125 72.90625 \r\nL 55.078125 72.90625 \r\nL 55.078125 68.703125 \r\nL 28.609375 0 \r\nL 18.3125 0 \r\nL 43.21875 64.59375 \r\nL 8.203125 64.59375 \r\nz\r\n\" id=\"DejaVuSans-55\"/>\r\n       </defs>\r\n       <use xlink:href=\"#DejaVuSans-55\"/>\r\n       <use x=\"63.623047\" xlink:href=\"#DejaVuSans-48\"/>\r\n       <use x=\"127.246094\" xlink:href=\"#DejaVuSans-48\"/>\r\n       <use x=\"190.869141\" xlink:href=\"#DejaVuSans-48\"/>\r\n       <use x=\"254.492188\" xlink:href=\"#DejaVuSans-48\"/>\r\n       <use x=\"318.115234\" xlink:href=\"#DejaVuSans-48\"/>\r\n      </g>\r\n     </g>\r\n    </g>\r\n    <g id=\"ytick_9\">\r\n     <g id=\"line2d_24\">\r\n      <g>\r\n       <use style=\"stroke:#000000;stroke-width:0.8;\" x=\"52.375\" xlink:href=\"#mc452907a5b\" y=\"35.232392\"/>\r\n      </g>\r\n     </g>\r\n     <g id=\"text_25\">\r\n      <!-- 800000 -->\r\n      <g transform=\"translate(7.2 39.031611)scale(0.1 -0.1)\">\r\n       <defs>\r\n        <path d=\"M 31.78125 34.625 \r\nQ 24.75 34.625 20.71875 30.859375 \r\nQ 16.703125 27.09375 16.703125 20.515625 \r\nQ 16.703125 13.921875 20.71875 10.15625 \r\nQ 24.75 6.390625 31.78125 6.390625 \r\nQ 38.8125 6.390625 42.859375 10.171875 \r\nQ 46.921875 13.96875 46.921875 20.515625 \r\nQ 46.921875 27.09375 42.890625 30.859375 \r\nQ 38.875 34.625 31.78125 34.625 \r\nz\r\nM 21.921875 38.8125 \r\nQ 15.578125 40.375 12.03125 44.71875 \r\nQ 8.5 49.078125 8.5 55.328125 \r\nQ 8.5 64.0625 14.71875 69.140625 \r\nQ 20.953125 74.21875 31.78125 74.21875 \r\nQ 42.671875 74.21875 48.875 69.140625 \r\nQ 55.078125 64.0625 55.078125 55.328125 \r\nQ 55.078125 49.078125 51.53125 44.71875 \r\nQ 48 40.375 41.703125 38.8125 \r\nQ 48.828125 37.15625 52.796875 32.3125 \r\nQ 56.78125 27.484375 56.78125 20.515625 \r\nQ 56.78125 9.90625 50.3125 4.234375 \r\nQ 43.84375 -1.421875 31.78125 -1.421875 \r\nQ 19.734375 -1.421875 13.25 4.234375 \r\nQ 6.78125 9.90625 6.78125 20.515625 \r\nQ 6.78125 27.484375 10.78125 32.3125 \r\nQ 14.796875 37.15625 21.921875 38.8125 \r\nz\r\nM 18.3125 54.390625 \r\nQ 18.3125 48.734375 21.84375 45.5625 \r\nQ 25.390625 42.390625 31.78125 42.390625 \r\nQ 38.140625 42.390625 41.71875 45.5625 \r\nQ 45.3125 48.734375 45.3125 54.390625 \r\nQ 45.3125 60.0625 41.71875 63.234375 \r\nQ 38.140625 66.40625 31.78125 66.40625 \r\nQ 25.390625 66.40625 21.84375 63.234375 \r\nQ 18.3125 60.0625 18.3125 54.390625 \r\nz\r\n\" id=\"DejaVuSans-56\"/>\r\n       </defs>\r\n       <use xlink:href=\"#DejaVuSans-56\"/>\r\n       <use x=\"63.623047\" xlink:href=\"#DejaVuSans-48\"/>\r\n       <use x=\"127.246094\" xlink:href=\"#DejaVuSans-48\"/>\r\n       <use x=\"190.869141\" xlink:href=\"#DejaVuSans-48\"/>\r\n       <use x=\"254.492188\" xlink:href=\"#DejaVuSans-48\"/>\r\n       <use x=\"318.115234\" xlink:href=\"#DejaVuSans-48\"/>\r\n      </g>\r\n     </g>\r\n    </g>\r\n   </g>\r\n   <g id=\"patch_18\">\r\n    <path d=\"M 52.375 387.72 \r\nL 52.375 7.2 \r\n\" style=\"fill:none;stroke:#000000;stroke-linecap:square;stroke-linejoin:miter;stroke-width:0.8;\"/>\r\n   </g>\r\n   <g id=\"patch_19\">\r\n    <path d=\"M 442.975 387.72 \r\nL 442.975 7.2 \r\n\" style=\"fill:none;stroke:#000000;stroke-linecap:square;stroke-linejoin:miter;stroke-width:0.8;\"/>\r\n   </g>\r\n   <g id=\"patch_20\">\r\n    <path d=\"M 52.375 387.72 \r\nL 442.975 387.72 \r\n\" style=\"fill:none;stroke:#000000;stroke-linecap:square;stroke-linejoin:miter;stroke-width:0.8;\"/>\r\n   </g>\r\n   <g id=\"patch_21\">\r\n    <path d=\"M 52.375 7.2 \r\nL 442.975 7.2 \r\n\" style=\"fill:none;stroke:#000000;stroke-linecap:square;stroke-linejoin:miter;stroke-width:0.8;\"/>\r\n   </g>\r\n  </g>\r\n </g>\r\n <defs>\r\n  <clipPath id=\"p8f823771b0\">\r\n   <rect height=\"380.52\" width=\"390.6\" x=\"52.375\" y=\"7.2\"/>\r\n  </clipPath>\r\n </defs>\r\n</svg>\r\n",
      "text/plain": "<Figure size 504x504 with 1 Axes>"
     },
     "metadata": {
      "needs_background": "light"
     },
     "output_type": "display_data"
    }
   ],
   "source": [
    "fig = plt.figure(figsize=(7, 7)) \n",
    "notes_data.groupby(['CATEGORY']).size().plot.bar(color = 'blue')"
   ]
  },
  {
   "cell_type": "markdown",
   "metadata": {},
   "source": [
    "### Diagnosis Code Table"
   ]
  },
  {
   "cell_type": "code",
   "execution_count": 13,
   "metadata": {},
   "outputs": [],
   "source": [
    "diagnosis_code_data = pd.read_csv('data\\\\DIAGNOSES_ICD.csv')"
   ]
  },
  {
   "cell_type": "code",
   "execution_count": 28,
   "metadata": {},
   "outputs": [
    {
     "data": {
      "text/html": "<div>\n<style scoped>\n    .dataframe tbody tr th:only-of-type {\n        vertical-align: middle;\n    }\n\n    .dataframe tbody tr th {\n        vertical-align: top;\n    }\n\n    .dataframe thead th {\n        text-align: right;\n    }\n</style>\n<table border=\"1\" class=\"dataframe\">\n  <thead>\n    <tr style=\"text-align: right;\">\n      <th></th>\n      <th>ROW_ID</th>\n      <th>SUBJECT_ID</th>\n      <th>HADM_ID</th>\n      <th>SEQ_NUM</th>\n      <th>ICD9_CODE</th>\n    </tr>\n  </thead>\n  <tbody>\n    <tr>\n      <th>0</th>\n      <td>1297</td>\n      <td>109</td>\n      <td>172335</td>\n      <td>1.0</td>\n      <td>40301</td>\n    </tr>\n    <tr>\n      <th>1</th>\n      <td>1298</td>\n      <td>109</td>\n      <td>172335</td>\n      <td>2.0</td>\n      <td>486</td>\n    </tr>\n    <tr>\n      <th>2</th>\n      <td>1299</td>\n      <td>109</td>\n      <td>172335</td>\n      <td>3.0</td>\n      <td>58281</td>\n    </tr>\n    <tr>\n      <th>3</th>\n      <td>1300</td>\n      <td>109</td>\n      <td>172335</td>\n      <td>4.0</td>\n      <td>5855</td>\n    </tr>\n    <tr>\n      <th>4</th>\n      <td>1301</td>\n      <td>109</td>\n      <td>172335</td>\n      <td>5.0</td>\n      <td>4254</td>\n    </tr>\n  </tbody>\n</table>\n</div>",
      "text/plain": [
       "   ROW_ID  SUBJECT_ID  HADM_ID  SEQ_NUM ICD9_CODE\n",
       "0    1297         109   172335      1.0     40301\n",
       "1    1298         109   172335      2.0       486\n",
       "2    1299         109   172335      3.0     58281\n",
       "3    1300         109   172335      4.0      5855\n",
       "4    1301         109   172335      5.0      4254"
      ]
     },
     "execution_count": 28,
     "metadata": {},
     "output_type": "execute_result"
    }
   ],
   "source": [
    "diagnosis_code_data.head()"
   ]
  },
  {
   "cell_type": "code",
   "execution_count": 29,
   "metadata": {},
   "outputs": [
    {
     "data": {
      "text/html": "<div>\n<style scoped>\n    .dataframe tbody tr th:only-of-type {\n        vertical-align: middle;\n    }\n\n    .dataframe tbody tr th {\n        vertical-align: top;\n    }\n\n    .dataframe thead th {\n        text-align: right;\n    }\n</style>\n<table border=\"1\" class=\"dataframe\">\n  <thead>\n    <tr style=\"text-align: right;\">\n      <th></th>\n      <th>ROW_ID</th>\n      <th>SUBJECT_ID</th>\n      <th>HADM_ID</th>\n      <th>SEQ_NUM</th>\n      <th>ICD9_CODE</th>\n    </tr>\n  </thead>\n  <tbody>\n    <tr>\n      <th>0</th>\n      <td>1297</td>\n      <td>109</td>\n      <td>172335</td>\n      <td>1.0</td>\n      <td>40301</td>\n    </tr>\n    <tr>\n      <th>1</th>\n      <td>1298</td>\n      <td>109</td>\n      <td>172335</td>\n      <td>2.0</td>\n      <td>486</td>\n    </tr>\n    <tr>\n      <th>2</th>\n      <td>1299</td>\n      <td>109</td>\n      <td>172335</td>\n      <td>3.0</td>\n      <td>58281</td>\n    </tr>\n    <tr>\n      <th>3</th>\n      <td>1300</td>\n      <td>109</td>\n      <td>172335</td>\n      <td>4.0</td>\n      <td>5855</td>\n    </tr>\n    <tr>\n      <th>4</th>\n      <td>1301</td>\n      <td>109</td>\n      <td>172335</td>\n      <td>5.0</td>\n      <td>4254</td>\n    </tr>\n    <tr>\n      <th>...</th>\n      <td>...</td>\n      <td>...</td>\n      <td>...</td>\n      <td>...</td>\n      <td>...</td>\n    </tr>\n    <tr>\n      <th>651042</th>\n      <td>639798</td>\n      <td>97503</td>\n      <td>188195</td>\n      <td>2.0</td>\n      <td>20280</td>\n    </tr>\n    <tr>\n      <th>651043</th>\n      <td>639799</td>\n      <td>97503</td>\n      <td>188195</td>\n      <td>3.0</td>\n      <td>V5869</td>\n    </tr>\n    <tr>\n      <th>651044</th>\n      <td>639800</td>\n      <td>97503</td>\n      <td>188195</td>\n      <td>4.0</td>\n      <td>V1279</td>\n    </tr>\n    <tr>\n      <th>651045</th>\n      <td>639801</td>\n      <td>97503</td>\n      <td>188195</td>\n      <td>5.0</td>\n      <td>5275</td>\n    </tr>\n    <tr>\n      <th>651046</th>\n      <td>639802</td>\n      <td>97503</td>\n      <td>188195</td>\n      <td>6.0</td>\n      <td>5569</td>\n    </tr>\n  </tbody>\n</table>\n<p>651047 rows × 5 columns</p>\n</div>",
      "text/plain": [
       "        ROW_ID  SUBJECT_ID  HADM_ID  SEQ_NUM ICD9_CODE\n",
       "0         1297         109   172335      1.0     40301\n",
       "1         1298         109   172335      2.0       486\n",
       "2         1299         109   172335      3.0     58281\n",
       "3         1300         109   172335      4.0      5855\n",
       "4         1301         109   172335      5.0      4254\n",
       "...        ...         ...      ...      ...       ...\n",
       "651042  639798       97503   188195      2.0     20280\n",
       "651043  639799       97503   188195      3.0     V5869\n",
       "651044  639800       97503   188195      4.0     V1279\n",
       "651045  639801       97503   188195      5.0      5275\n",
       "651046  639802       97503   188195      6.0      5569\n",
       "\n",
       "[651047 rows x 5 columns]"
      ]
     },
     "execution_count": 29,
     "metadata": {},
     "output_type": "execute_result"
    }
   ],
   "source": [
    "diagnosis_code_data"
   ]
  },
  {
   "cell_type": "markdown",
   "metadata": {},
   "source": [
    "### Diagnosis Table"
   ]
  },
  {
   "cell_type": "code",
   "execution_count": 14,
   "metadata": {},
   "outputs": [],
   "source": [
    "diagnosis_data = pd.read_csv('data\\\\D_ICD_DIAGNOSES.csv')"
   ]
  },
  {
   "cell_type": "code",
   "execution_count": 25,
   "metadata": {},
   "outputs": [
    {
     "data": {
      "text/html": "<div>\n<style scoped>\n    .dataframe tbody tr th:only-of-type {\n        vertical-align: middle;\n    }\n\n    .dataframe tbody tr th {\n        vertical-align: top;\n    }\n\n    .dataframe thead th {\n        text-align: right;\n    }\n</style>\n<table border=\"1\" class=\"dataframe\">\n  <thead>\n    <tr style=\"text-align: right;\">\n      <th></th>\n      <th>ROW_ID</th>\n      <th>ICD9_CODE</th>\n      <th>SHORT_TITLE</th>\n      <th>LONG_TITLE</th>\n    </tr>\n  </thead>\n  <tbody>\n    <tr>\n      <th>0</th>\n      <td>174</td>\n      <td>01166</td>\n      <td>TB pneumonia-oth test</td>\n      <td>Tuberculous pneumonia [any form], tubercle bac...</td>\n    </tr>\n    <tr>\n      <th>1</th>\n      <td>175</td>\n      <td>01170</td>\n      <td>TB pneumothorax-unspec</td>\n      <td>Tuberculous pneumothorax, unspecified</td>\n    </tr>\n    <tr>\n      <th>2</th>\n      <td>176</td>\n      <td>01171</td>\n      <td>TB pneumothorax-no exam</td>\n      <td>Tuberculous pneumothorax, bacteriological or h...</td>\n    </tr>\n    <tr>\n      <th>3</th>\n      <td>177</td>\n      <td>01172</td>\n      <td>TB pneumothorx-exam unkn</td>\n      <td>Tuberculous pneumothorax, bacteriological or h...</td>\n    </tr>\n    <tr>\n      <th>4</th>\n      <td>178</td>\n      <td>01173</td>\n      <td>TB pneumothorax-micro dx</td>\n      <td>Tuberculous pneumothorax, tubercle bacilli fou...</td>\n    </tr>\n  </tbody>\n</table>\n</div>",
      "text/plain": [
       "   ROW_ID ICD9_CODE               SHORT_TITLE  \\\n",
       "0     174     01166     TB pneumonia-oth test   \n",
       "1     175     01170    TB pneumothorax-unspec   \n",
       "2     176     01171   TB pneumothorax-no exam   \n",
       "3     177     01172  TB pneumothorx-exam unkn   \n",
       "4     178     01173  TB pneumothorax-micro dx   \n",
       "\n",
       "                                          LONG_TITLE  \n",
       "0  Tuberculous pneumonia [any form], tubercle bac...  \n",
       "1              Tuberculous pneumothorax, unspecified  \n",
       "2  Tuberculous pneumothorax, bacteriological or h...  \n",
       "3  Tuberculous pneumothorax, bacteriological or h...  \n",
       "4  Tuberculous pneumothorax, tubercle bacilli fou...  "
      ]
     },
     "execution_count": 25,
     "metadata": {},
     "output_type": "execute_result"
    }
   ],
   "source": [
    "diagnosis_data.head()"
   ]
  },
  {
   "cell_type": "markdown",
   "metadata": {},
   "source": [
    "### Patients Table"
   ]
  },
  {
   "cell_type": "code",
   "execution_count": 16,
   "metadata": {},
   "outputs": [],
   "source": [
    "patient_data = pd.read_csv('data\\\\PATIENTS.csv')"
   ]
  },
  {
   "cell_type": "code",
   "execution_count": 27,
   "metadata": {},
   "outputs": [
    {
     "data": {
      "text/html": "<div>\n<style scoped>\n    .dataframe tbody tr th:only-of-type {\n        vertical-align: middle;\n    }\n\n    .dataframe tbody tr th {\n        vertical-align: top;\n    }\n\n    .dataframe thead th {\n        text-align: right;\n    }\n</style>\n<table border=\"1\" class=\"dataframe\">\n  <thead>\n    <tr style=\"text-align: right;\">\n      <th></th>\n      <th>ROW_ID</th>\n      <th>SUBJECT_ID</th>\n      <th>GENDER</th>\n      <th>DOB</th>\n      <th>DOD</th>\n      <th>DOD_HOSP</th>\n      <th>DOD_SSN</th>\n      <th>EXPIRE_FLAG</th>\n    </tr>\n  </thead>\n  <tbody>\n    <tr>\n      <th>0</th>\n      <td>234</td>\n      <td>249</td>\n      <td>F</td>\n      <td>2075-03-13 00:00:00</td>\n      <td>NaN</td>\n      <td>NaN</td>\n      <td>NaN</td>\n      <td>0</td>\n    </tr>\n    <tr>\n      <th>1</th>\n      <td>235</td>\n      <td>250</td>\n      <td>F</td>\n      <td>2164-12-27 00:00:00</td>\n      <td>2188-11-22 00:00:00</td>\n      <td>2188-11-22 00:00:00</td>\n      <td>NaN</td>\n      <td>1</td>\n    </tr>\n    <tr>\n      <th>2</th>\n      <td>236</td>\n      <td>251</td>\n      <td>M</td>\n      <td>2090-03-15 00:00:00</td>\n      <td>NaN</td>\n      <td>NaN</td>\n      <td>NaN</td>\n      <td>0</td>\n    </tr>\n    <tr>\n      <th>3</th>\n      <td>237</td>\n      <td>252</td>\n      <td>M</td>\n      <td>2078-03-06 00:00:00</td>\n      <td>NaN</td>\n      <td>NaN</td>\n      <td>NaN</td>\n      <td>0</td>\n    </tr>\n    <tr>\n      <th>4</th>\n      <td>238</td>\n      <td>253</td>\n      <td>F</td>\n      <td>2089-11-26 00:00:00</td>\n      <td>NaN</td>\n      <td>NaN</td>\n      <td>NaN</td>\n      <td>0</td>\n    </tr>\n  </tbody>\n</table>\n</div>",
      "text/plain": [
       "   ROW_ID  SUBJECT_ID GENDER                  DOB                  DOD  \\\n",
       "0     234         249      F  2075-03-13 00:00:00                  NaN   \n",
       "1     235         250      F  2164-12-27 00:00:00  2188-11-22 00:00:00   \n",
       "2     236         251      M  2090-03-15 00:00:00                  NaN   \n",
       "3     237         252      M  2078-03-06 00:00:00                  NaN   \n",
       "4     238         253      F  2089-11-26 00:00:00                  NaN   \n",
       "\n",
       "              DOD_HOSP DOD_SSN  EXPIRE_FLAG  \n",
       "0                  NaN     NaN            0  \n",
       "1  2188-11-22 00:00:00     NaN            1  \n",
       "2                  NaN     NaN            0  \n",
       "3                  NaN     NaN            0  \n",
       "4                  NaN     NaN            0  "
      ]
     },
     "execution_count": 27,
     "metadata": {},
     "output_type": "execute_result"
    }
   ],
   "source": [
    "patient_data.head()"
   ]
  },
  {
   "cell_type": "code",
   "execution_count": 28,
   "metadata": {},
   "outputs": [
    {
     "name": "stdout",
     "output_type": "stream",
     "text": [
      "Total Patients: 46520\n",
      "Number of Males: 26121\n",
      "Number of Females: 20399\n"
     ]
    }
   ],
   "source": [
    "print(f\"Total Patients: {len(patient_data)}\")\n",
    "print(f\"Number of Males: {len(patient_data[patient_data['GENDER'] == 'M'])}\")\n",
    "print(f\"Number of Females: {len(patient_data[patient_data['GENDER'] == 'F'])}\")"
   ]
  },
  {
   "cell_type": "code",
   "execution_count": 29,
   "metadata": {},
   "outputs": [
    {
     "name": "stderr",
     "output_type": "stream",
     "text": [
      "C:\\Python38\\lib\\site-packages\\seaborn\\_decorators.py:36: FutureWarning: Pass the following variable as a keyword arg: x. From version 0.12, the only valid positional argument will be `data`, and passing other arguments without an explicit keyword will result in an error or misinterpretation.\n",
      "  warnings.warn(\n"
     ]
    },
    {
     "data": {
      "image/png": "[encoded data removed]",
      "image/svg+xml": "<?xml version=\"1.0\" encoding=\"utf-8\" standalone=\"no\"?>\r\n<!DOCTYPE svg PUBLIC \"-//W3C//DTD SVG 1.1//EN\"\r\n  \"http://www.w3.org/Graphics/SVG/1.1/DTD/svg11.dtd\">\r\n<!-- Created with matplotlib (https://matplotlib.org/) -->\r\n<svg height=\"262.19625pt\" version=\"1.1\" viewBox=\"0 0 401.690625 262.19625\" width=\"401.690625pt\" xmlns=\"http://www.w3.org/2000/svg\" xmlns:xlink=\"http://www.w3.org/1999/xlink\">\r\n <metadata>\r\n  <rdf:RDF xmlns:cc=\"http://creativecommons.org/ns#\" xmlns:dc=\"http://purl.org/dc/elements/1.1/\" xmlns:rdf=\"http://www.w3.org/1999/02/22-rdf-syntax-ns#\">\r\n   <cc:Work>\r\n    <dc:type rdf:resource=\"http://purl.org/dc/dcmitype/StillImage\"/>\r\n    <dc:date>2021-03-24T21:50:01.424716</dc:date>\r\n    <dc:format>image/svg+xml</dc:format>\r\n    <dc:creator>\r\n     <cc:Agent>\r\n      <dc:title>Matplotlib v3.3.3, https://matplotlib.org/</dc:title>\r\n     </cc:Agent>\r\n    </dc:creator>\r\n   </cc:Work>\r\n  </rdf:RDF>\r\n </metadata>\r\n <defs>\r\n  <style type=\"text/css\">*{stroke-linecap:butt;stroke-linejoin:round;}</style>\r\n </defs>\r\n <g id=\"figure_1\">\r\n  <g id=\"patch_1\">\r\n   <path d=\"M 0 262.19625 \r\nL 401.690625 262.19625 \r\nL 401.690625 0 \r\nL 0 0 \r\nz\r\n\" style=\"fill:none;\"/>\r\n  </g>\r\n  <g id=\"axes_1\">\r\n   <g id=\"patch_2\">\r\n    <path d=\"M 59.690625 224.64 \r\nL 394.490625 224.64 \r\nL 394.490625 7.2 \r\nL 59.690625 7.2 \r\nz\r\n\" style=\"fill:#ffffff;\"/>\r\n   </g>\r\n   <g id=\"patch_3\">\r\n    <path clip-path=\"url(#p4ab2974743)\" d=\"M 76.430625 224.64 \r\nL 210.350625 224.64 \r\nL 210.350625 62.917957 \r\nL 76.430625 62.917957 \r\nz\r\n\" style=\"fill:#cd1d1d;\"/>\r\n   </g>\r\n   <g id=\"patch_4\">\r\n    <path clip-path=\"url(#p4ab2974743)\" d=\"M 243.830625 224.64 \r\nL 377.750625 224.64 \r\nL 377.750625 17.554286 \r\nL 243.830625 17.554286 \r\nz\r\n\" style=\"fill:#dfb720;\"/>\r\n   </g>\r\n   <g id=\"matplotlib.axis_1\">\r\n    <g id=\"xtick_1\">\r\n     <g id=\"line2d_1\">\r\n      <defs>\r\n       <path d=\"M 0 0 \r\nL 0 3.5 \r\n\" id=\"mdffdc580aa\" style=\"stroke:#000000;stroke-width:0.8;\"/>\r\n      </defs>\r\n      <g>\r\n       <use style=\"stroke:#000000;stroke-width:0.8;\" x=\"143.390625\" xlink:href=\"#mdffdc580aa\" y=\"224.64\"/>\r\n      </g>\r\n     </g>\r\n     <g id=\"text_1\">\r\n      <!-- F -->\r\n      <g transform=\"translate(140.514844 239.238438)scale(0.1 -0.1)\">\r\n       <defs>\r\n        <path d=\"M 9.8125 72.90625 \r\nL 51.703125 72.90625 \r\nL 51.703125 64.59375 \r\nL 19.671875 64.59375 \r\nL 19.671875 43.109375 \r\nL 48.578125 43.109375 \r\nL 48.578125 34.8125 \r\nL 19.671875 34.8125 \r\nL 19.671875 0 \r\nL 9.8125 0 \r\nz\r\n\" id=\"DejaVuSans-70\"/>\r\n       </defs>\r\n       <use xlink:href=\"#DejaVuSans-70\"/>\r\n      </g>\r\n     </g>\r\n    </g>\r\n    <g id=\"xtick_2\">\r\n     <g id=\"line2d_2\">\r\n      <g>\r\n       <use style=\"stroke:#000000;stroke-width:0.8;\" x=\"310.790625\" xlink:href=\"#mdffdc580aa\" y=\"224.64\"/>\r\n      </g>\r\n     </g>\r\n     <g id=\"text_2\">\r\n      <!-- M -->\r\n      <g transform=\"translate(306.476562 239.238438)scale(0.1 -0.1)\">\r\n       <defs>\r\n        <path d=\"M 9.8125 72.90625 \r\nL 24.515625 72.90625 \r\nL 43.109375 23.296875 \r\nL 61.8125 72.90625 \r\nL 76.515625 72.90625 \r\nL 76.515625 0 \r\nL 66.890625 0 \r\nL 66.890625 64.015625 \r\nL 48.09375 14.015625 \r\nL 38.1875 14.015625 \r\nL 19.390625 64.015625 \r\nL 19.390625 0 \r\nL 9.8125 0 \r\nz\r\n\" id=\"DejaVuSans-77\"/>\r\n       </defs>\r\n       <use xlink:href=\"#DejaVuSans-77\"/>\r\n      </g>\r\n     </g>\r\n    </g>\r\n    <g id=\"text_3\">\r\n     <!-- GENDER -->\r\n     <g transform=\"translate(205.832813 252.916563)scale(0.1 -0.1)\">\r\n      <defs>\r\n       <path d=\"M 59.515625 10.40625 \r\nL 59.515625 29.984375 \r\nL 43.40625 29.984375 \r\nL 43.40625 38.09375 \r\nL 69.28125 38.09375 \r\nL 69.28125 6.78125 \r\nQ 63.578125 2.734375 56.6875 0.65625 \r\nQ 49.8125 -1.421875 42 -1.421875 \r\nQ 24.90625 -1.421875 15.25 8.5625 \r\nQ 5.609375 18.5625 5.609375 36.375 \r\nQ 5.609375 54.25 15.25 64.234375 \r\nQ 24.90625 74.21875 42 74.21875 \r\nQ 49.125 74.21875 55.546875 72.453125 \r\nQ 61.96875 70.703125 67.390625 67.28125 \r\nL 67.390625 56.78125 \r\nQ 61.921875 61.421875 55.765625 63.765625 \r\nQ 49.609375 66.109375 42.828125 66.109375 \r\nQ 29.4375 66.109375 22.71875 58.640625 \r\nQ 16.015625 51.171875 16.015625 36.375 \r\nQ 16.015625 21.625 22.71875 14.15625 \r\nQ 29.4375 6.6875 42.828125 6.6875 \r\nQ 48.046875 6.6875 52.140625 7.59375 \r\nQ 56.25 8.5 59.515625 10.40625 \r\nz\r\n\" id=\"DejaVuSans-71\"/>\r\n       <path d=\"M 9.8125 72.90625 \r\nL 55.90625 72.90625 \r\nL 55.90625 64.59375 \r\nL 19.671875 64.59375 \r\nL 19.671875 43.015625 \r\nL 54.390625 43.015625 \r\nL 54.390625 34.71875 \r\nL 19.671875 34.71875 \r\nL 19.671875 8.296875 \r\nL 56.78125 8.296875 \r\nL 56.78125 0 \r\nL 9.8125 0 \r\nz\r\n\" id=\"DejaVuSans-69\"/>\r\n       <path d=\"M 9.8125 72.90625 \r\nL 23.09375 72.90625 \r\nL 55.421875 11.921875 \r\nL 55.421875 72.90625 \r\nL 64.984375 72.90625 \r\nL 64.984375 0 \r\nL 51.703125 0 \r\nL 19.390625 60.984375 \r\nL 19.390625 0 \r\nL 9.8125 0 \r\nz\r\n\" id=\"DejaVuSans-78\"/>\r\n       <path d=\"M 19.671875 64.796875 \r\nL 19.671875 8.109375 \r\nL 31.59375 8.109375 \r\nQ 46.6875 8.109375 53.6875 14.9375 \r\nQ 60.6875 21.78125 60.6875 36.53125 \r\nQ 60.6875 51.171875 53.6875 57.984375 \r\nQ 46.6875 64.796875 31.59375 64.796875 \r\nz\r\nM 9.8125 72.90625 \r\nL 30.078125 72.90625 \r\nQ 51.265625 72.90625 61.171875 64.09375 \r\nQ 71.09375 55.28125 71.09375 36.53125 \r\nQ 71.09375 17.671875 61.125 8.828125 \r\nQ 51.171875 0 30.078125 0 \r\nL 9.8125 0 \r\nz\r\n\" id=\"DejaVuSans-68\"/>\r\n       <path d=\"M 44.390625 34.1875 \r\nQ 47.5625 33.109375 50.5625 29.59375 \r\nQ 53.5625 26.078125 56.59375 19.921875 \r\nL 66.609375 0 \r\nL 56 0 \r\nL 46.6875 18.703125 \r\nQ 43.0625 26.03125 39.671875 28.421875 \r\nQ 36.28125 30.8125 30.421875 30.8125 \r\nL 19.671875 30.8125 \r\nL 19.671875 0 \r\nL 9.8125 0 \r\nL 9.8125 72.90625 \r\nL 32.078125 72.90625 \r\nQ 44.578125 72.90625 50.734375 67.671875 \r\nQ 56.890625 62.453125 56.890625 51.90625 \r\nQ 56.890625 45.015625 53.6875 40.46875 \r\nQ 50.484375 35.9375 44.390625 34.1875 \r\nz\r\nM 19.671875 64.796875 \r\nL 19.671875 38.921875 \r\nL 32.078125 38.921875 \r\nQ 39.203125 38.921875 42.84375 42.21875 \r\nQ 46.484375 45.515625 46.484375 51.90625 \r\nQ 46.484375 58.296875 42.84375 61.546875 \r\nQ 39.203125 64.796875 32.078125 64.796875 \r\nz\r\n\" id=\"DejaVuSans-82\"/>\r\n      </defs>\r\n      <use xlink:href=\"#DejaVuSans-71\"/>\r\n      <use x=\"77.490234\" xlink:href=\"#DejaVuSans-69\"/>\r\n      <use x=\"140.673828\" xlink:href=\"#DejaVuSans-78\"/>\r\n      <use x=\"215.478516\" xlink:href=\"#DejaVuSans-68\"/>\r\n      <use x=\"292.480469\" xlink:href=\"#DejaVuSans-69\"/>\r\n      <use x=\"355.664062\" xlink:href=\"#DejaVuSans-82\"/>\r\n     </g>\r\n    </g>\r\n   </g>\r\n   <g id=\"matplotlib.axis_2\">\r\n    <g id=\"ytick_1\">\r\n     <g id=\"line2d_3\">\r\n      <defs>\r\n       <path d=\"M 0 0 \r\nL -3.5 0 \r\n\" id=\"m18b0644029\" style=\"stroke:#000000;stroke-width:0.8;\"/>\r\n      </defs>\r\n      <g>\r\n       <use style=\"stroke:#000000;stroke-width:0.8;\" x=\"59.690625\" xlink:href=\"#m18b0644029\" y=\"224.64\"/>\r\n      </g>\r\n     </g>\r\n     <g id=\"text_4\">\r\n      <!-- 0 -->\r\n      <g transform=\"translate(46.328125 228.439219)scale(0.1 -0.1)\">\r\n       <defs>\r\n        <path d=\"M 31.78125 66.40625 \r\nQ 24.171875 66.40625 20.328125 58.90625 \r\nQ 16.5 51.421875 16.5 36.375 \r\nQ 16.5 21.390625 20.328125 13.890625 \r\nQ 24.171875 6.390625 31.78125 6.390625 \r\nQ 39.453125 6.390625 43.28125 13.890625 \r\nQ 47.125 21.390625 47.125 36.375 \r\nQ 47.125 51.421875 43.28125 58.90625 \r\nQ 39.453125 66.40625 31.78125 66.40625 \r\nz\r\nM 31.78125 74.21875 \r\nQ 44.046875 74.21875 50.515625 64.515625 \r\nQ 56.984375 54.828125 56.984375 36.375 \r\nQ 56.984375 17.96875 50.515625 8.265625 \r\nQ 44.046875 -1.421875 31.78125 -1.421875 \r\nQ 19.53125 -1.421875 13.0625 8.265625 \r\nQ 6.59375 17.96875 6.59375 36.375 \r\nQ 6.59375 54.828125 13.0625 64.515625 \r\nQ 19.53125 74.21875 31.78125 74.21875 \r\nz\r\n\" id=\"DejaVuSans-48\"/>\r\n       </defs>\r\n       <use xlink:href=\"#DejaVuSans-48\"/>\r\n      </g>\r\n     </g>\r\n    </g>\r\n    <g id=\"ytick_2\">\r\n     <g id=\"line2d_4\">\r\n      <g>\r\n       <use style=\"stroke:#000000;stroke-width:0.8;\" x=\"59.690625\" xlink:href=\"#m18b0644029\" y=\"185.000301\"/>\r\n      </g>\r\n     </g>\r\n     <g id=\"text_5\">\r\n      <!-- 5000 -->\r\n      <g transform=\"translate(27.240625 188.79952)scale(0.1 -0.1)\">\r\n       <defs>\r\n        <path d=\"M 10.796875 72.90625 \r\nL 49.515625 72.90625 \r\nL 49.515625 64.59375 \r\nL 19.828125 64.59375 \r\nL 19.828125 46.734375 \r\nQ 21.96875 47.46875 24.109375 47.828125 \r\nQ 26.265625 48.1875 28.421875 48.1875 \r\nQ 40.625 48.1875 47.75 41.5 \r\nQ 54.890625 34.8125 54.890625 23.390625 \r\nQ 54.890625 11.625 47.5625 5.09375 \r\nQ 40.234375 -1.421875 26.90625 -1.421875 \r\nQ 22.3125 -1.421875 17.546875 -0.640625 \r\nQ 12.796875 0.140625 7.71875 1.703125 \r\nL 7.71875 11.625 \r\nQ 12.109375 9.234375 16.796875 8.0625 \r\nQ 21.484375 6.890625 26.703125 6.890625 \r\nQ 35.15625 6.890625 40.078125 11.328125 \r\nQ 45.015625 15.765625 45.015625 23.390625 \r\nQ 45.015625 31 40.078125 35.4375 \r\nQ 35.15625 39.890625 26.703125 39.890625 \r\nQ 22.75 39.890625 18.8125 39.015625 \r\nQ 14.890625 38.140625 10.796875 36.28125 \r\nz\r\n\" id=\"DejaVuSans-53\"/>\r\n       </defs>\r\n       <use xlink:href=\"#DejaVuSans-53\"/>\r\n       <use x=\"63.623047\" xlink:href=\"#DejaVuSans-48\"/>\r\n       <use x=\"127.246094\" xlink:href=\"#DejaVuSans-48\"/>\r\n       <use x=\"190.869141\" xlink:href=\"#DejaVuSans-48\"/>\r\n      </g>\r\n     </g>\r\n    </g>\r\n    <g id=\"ytick_3\">\r\n     <g id=\"line2d_5\">\r\n      <g>\r\n       <use style=\"stroke:#000000;stroke-width:0.8;\" x=\"59.690625\" xlink:href=\"#m18b0644029\" y=\"145.360602\"/>\r\n      </g>\r\n     </g>\r\n     <g id=\"text_6\">\r\n      <!-- 10000 -->\r\n      <g transform=\"translate(20.878125 149.159821)scale(0.1 -0.1)\">\r\n       <defs>\r\n        <path d=\"M 12.40625 8.296875 \r\nL 28.515625 8.296875 \r\nL 28.515625 63.921875 \r\nL 10.984375 60.40625 \r\nL 10.984375 69.390625 \r\nL 28.421875 72.90625 \r\nL 38.28125 72.90625 \r\nL 38.28125 8.296875 \r\nL 54.390625 8.296875 \r\nL 54.390625 0 \r\nL 12.40625 0 \r\nz\r\n\" id=\"DejaVuSans-49\"/>\r\n       </defs>\r\n       <use xlink:href=\"#DejaVuSans-49\"/>\r\n       <use x=\"63.623047\" xlink:href=\"#DejaVuSans-48\"/>\r\n       <use x=\"127.246094\" xlink:href=\"#DejaVuSans-48\"/>\r\n       <use x=\"190.869141\" xlink:href=\"#DejaVuSans-48\"/>\r\n       <use x=\"254.492188\" xlink:href=\"#DejaVuSans-48\"/>\r\n      </g>\r\n     </g>\r\n    </g>\r\n    <g id=\"ytick_4\">\r\n     <g id=\"line2d_6\">\r\n      <g>\r\n       <use style=\"stroke:#000000;stroke-width:0.8;\" x=\"59.690625\" xlink:href=\"#m18b0644029\" y=\"105.720904\"/>\r\n      </g>\r\n     </g>\r\n     <g id=\"text_7\">\r\n      <!-- 15000 -->\r\n      <g transform=\"translate(20.878125 109.520122)scale(0.1 -0.1)\">\r\n       <use xlink:href=\"#DejaVuSans-49\"/>\r\n       <use x=\"63.623047\" xlink:href=\"#DejaVuSans-53\"/>\r\n       <use x=\"127.246094\" xlink:href=\"#DejaVuSans-48\"/>\r\n       <use x=\"190.869141\" xlink:href=\"#DejaVuSans-48\"/>\r\n       <use x=\"254.492188\" xlink:href=\"#DejaVuSans-48\"/>\r\n      </g>\r\n     </g>\r\n    </g>\r\n    <g id=\"ytick_5\">\r\n     <g id=\"line2d_7\">\r\n      <g>\r\n       <use style=\"stroke:#000000;stroke-width:0.8;\" x=\"59.690625\" xlink:href=\"#m18b0644029\" y=\"66.081205\"/>\r\n      </g>\r\n     </g>\r\n     <g id=\"text_8\">\r\n      <!-- 20000 -->\r\n      <g transform=\"translate(20.878125 69.880424)scale(0.1 -0.1)\">\r\n       <defs>\r\n        <path d=\"M 19.1875 8.296875 \r\nL 53.609375 8.296875 \r\nL 53.609375 0 \r\nL 7.328125 0 \r\nL 7.328125 8.296875 \r\nQ 12.9375 14.109375 22.625 23.890625 \r\nQ 32.328125 33.6875 34.8125 36.53125 \r\nQ 39.546875 41.84375 41.421875 45.53125 \r\nQ 43.3125 49.21875 43.3125 52.78125 \r\nQ 43.3125 58.59375 39.234375 62.25 \r\nQ 35.15625 65.921875 28.609375 65.921875 \r\nQ 23.96875 65.921875 18.8125 64.3125 \r\nQ 13.671875 62.703125 7.8125 59.421875 \r\nL 7.8125 69.390625 \r\nQ 13.765625 71.78125 18.9375 73 \r\nQ 24.125 74.21875 28.421875 74.21875 \r\nQ 39.75 74.21875 46.484375 68.546875 \r\nQ 53.21875 62.890625 53.21875 53.421875 \r\nQ 53.21875 48.921875 51.53125 44.890625 \r\nQ 49.859375 40.875 45.40625 35.40625 \r\nQ 44.1875 33.984375 37.640625 27.21875 \r\nQ 31.109375 20.453125 19.1875 8.296875 \r\nz\r\n\" id=\"DejaVuSans-50\"/>\r\n       </defs>\r\n       <use xlink:href=\"#DejaVuSans-50\"/>\r\n       <use x=\"63.623047\" xlink:href=\"#DejaVuSans-48\"/>\r\n       <use x=\"127.246094\" xlink:href=\"#DejaVuSans-48\"/>\r\n       <use x=\"190.869141\" xlink:href=\"#DejaVuSans-48\"/>\r\n       <use x=\"254.492188\" xlink:href=\"#DejaVuSans-48\"/>\r\n      </g>\r\n     </g>\r\n    </g>\r\n    <g id=\"ytick_6\">\r\n     <g id=\"line2d_8\">\r\n      <g>\r\n       <use style=\"stroke:#000000;stroke-width:0.8;\" x=\"59.690625\" xlink:href=\"#m18b0644029\" y=\"26.441506\"/>\r\n      </g>\r\n     </g>\r\n     <g id=\"text_9\">\r\n      <!-- 25000 -->\r\n      <g transform=\"translate(20.878125 30.240725)scale(0.1 -0.1)\">\r\n       <use xlink:href=\"#DejaVuSans-50\"/>\r\n       <use x=\"63.623047\" xlink:href=\"#DejaVuSans-53\"/>\r\n       <use x=\"127.246094\" xlink:href=\"#DejaVuSans-48\"/>\r\n       <use x=\"190.869141\" xlink:href=\"#DejaVuSans-48\"/>\r\n       <use x=\"254.492188\" xlink:href=\"#DejaVuSans-48\"/>\r\n      </g>\r\n     </g>\r\n    </g>\r\n    <g id=\"text_10\">\r\n     <!-- count -->\r\n     <g transform=\"translate(14.798438 130.02625)rotate(-90)scale(0.1 -0.1)\">\r\n      <defs>\r\n       <path d=\"M 48.78125 52.59375 \r\nL 48.78125 44.1875 \r\nQ 44.96875 46.296875 41.140625 47.34375 \r\nQ 37.3125 48.390625 33.40625 48.390625 \r\nQ 24.65625 48.390625 19.8125 42.84375 \r\nQ 14.984375 37.3125 14.984375 27.296875 \r\nQ 14.984375 17.28125 19.8125 11.734375 \r\nQ 24.65625 6.203125 33.40625 6.203125 \r\nQ 37.3125 6.203125 41.140625 7.25 \r\nQ 44.96875 8.296875 48.78125 10.40625 \r\nL 48.78125 2.09375 \r\nQ 45.015625 0.34375 40.984375 -0.53125 \r\nQ 36.96875 -1.421875 32.421875 -1.421875 \r\nQ 20.0625 -1.421875 12.78125 6.34375 \r\nQ 5.515625 14.109375 5.515625 27.296875 \r\nQ 5.515625 40.671875 12.859375 48.328125 \r\nQ 20.21875 56 33.015625 56 \r\nQ 37.15625 56 41.109375 55.140625 \r\nQ 45.0625 54.296875 48.78125 52.59375 \r\nz\r\n\" id=\"DejaVuSans-99\"/>\r\n       <path d=\"M 30.609375 48.390625 \r\nQ 23.390625 48.390625 19.1875 42.75 \r\nQ 14.984375 37.109375 14.984375 27.296875 \r\nQ 14.984375 17.484375 19.15625 11.84375 \r\nQ 23.34375 6.203125 30.609375 6.203125 \r\nQ 37.796875 6.203125 41.984375 11.859375 \r\nQ 46.1875 17.53125 46.1875 27.296875 \r\nQ 46.1875 37.015625 41.984375 42.703125 \r\nQ 37.796875 48.390625 30.609375 48.390625 \r\nz\r\nM 30.609375 56 \r\nQ 42.328125 56 49.015625 48.375 \r\nQ 55.71875 40.765625 55.71875 27.296875 \r\nQ 55.71875 13.875 49.015625 6.21875 \r\nQ 42.328125 -1.421875 30.609375 -1.421875 \r\nQ 18.84375 -1.421875 12.171875 6.21875 \r\nQ 5.515625 13.875 5.515625 27.296875 \r\nQ 5.515625 40.765625 12.171875 48.375 \r\nQ 18.84375 56 30.609375 56 \r\nz\r\n\" id=\"DejaVuSans-111\"/>\r\n       <path d=\"M 8.5 21.578125 \r\nL 8.5 54.6875 \r\nL 17.484375 54.6875 \r\nL 17.484375 21.921875 \r\nQ 17.484375 14.15625 20.5 10.265625 \r\nQ 23.53125 6.390625 29.59375 6.390625 \r\nQ 36.859375 6.390625 41.078125 11.03125 \r\nQ 45.3125 15.671875 45.3125 23.6875 \r\nL 45.3125 54.6875 \r\nL 54.296875 54.6875 \r\nL 54.296875 0 \r\nL 45.3125 0 \r\nL 45.3125 8.40625 \r\nQ 42.046875 3.421875 37.71875 1 \r\nQ 33.40625 -1.421875 27.6875 -1.421875 \r\nQ 18.265625 -1.421875 13.375 4.4375 \r\nQ 8.5 10.296875 8.5 21.578125 \r\nz\r\nM 31.109375 56 \r\nz\r\n\" id=\"DejaVuSans-117\"/>\r\n       <path d=\"M 54.890625 33.015625 \r\nL 54.890625 0 \r\nL 45.90625 0 \r\nL 45.90625 32.71875 \r\nQ 45.90625 40.484375 42.875 44.328125 \r\nQ 39.84375 48.1875 33.796875 48.1875 \r\nQ 26.515625 48.1875 22.3125 43.546875 \r\nQ 18.109375 38.921875 18.109375 30.90625 \r\nL 18.109375 0 \r\nL 9.078125 0 \r\nL 9.078125 54.6875 \r\nL 18.109375 54.6875 \r\nL 18.109375 46.1875 \r\nQ 21.34375 51.125 25.703125 53.5625 \r\nQ 30.078125 56 35.796875 56 \r\nQ 45.21875 56 50.046875 50.171875 \r\nQ 54.890625 44.34375 54.890625 33.015625 \r\nz\r\n\" id=\"DejaVuSans-110\"/>\r\n       <path d=\"M 18.3125 70.21875 \r\nL 18.3125 54.6875 \r\nL 36.8125 54.6875 \r\nL 36.8125 47.703125 \r\nL 18.3125 47.703125 \r\nL 18.3125 18.015625 \r\nQ 18.3125 11.328125 20.140625 9.421875 \r\nQ 21.96875 7.515625 27.59375 7.515625 \r\nL 36.8125 7.515625 \r\nL 36.8125 0 \r\nL 27.59375 0 \r\nQ 17.1875 0 13.234375 3.875 \r\nQ 9.28125 7.765625 9.28125 18.015625 \r\nL 9.28125 47.703125 \r\nL 2.6875 47.703125 \r\nL 2.6875 54.6875 \r\nL 9.28125 54.6875 \r\nL 9.28125 70.21875 \r\nz\r\n\" id=\"DejaVuSans-116\"/>\r\n      </defs>\r\n      <use xlink:href=\"#DejaVuSans-99\"/>\r\n      <use x=\"54.980469\" xlink:href=\"#DejaVuSans-111\"/>\r\n      <use x=\"116.162109\" xlink:href=\"#DejaVuSans-117\"/>\r\n      <use x=\"179.541016\" xlink:href=\"#DejaVuSans-110\"/>\r\n      <use x=\"242.919922\" xlink:href=\"#DejaVuSans-116\"/>\r\n     </g>\r\n    </g>\r\n   </g>\r\n   <g id=\"patch_5\">\r\n    <path d=\"M 59.690625 224.64 \r\nL 59.690625 7.2 \r\n\" style=\"fill:none;stroke:#000000;stroke-linecap:square;stroke-linejoin:miter;stroke-width:0.8;\"/>\r\n   </g>\r\n   <g id=\"patch_6\">\r\n    <path d=\"M 394.490625 224.64 \r\nL 394.490625 7.2 \r\n\" style=\"fill:none;stroke:#000000;stroke-linecap:square;stroke-linejoin:miter;stroke-width:0.8;\"/>\r\n   </g>\r\n   <g id=\"patch_7\">\r\n    <path d=\"M 59.690625 224.64 \r\nL 394.490625 224.64 \r\n\" style=\"fill:none;stroke:#000000;stroke-linecap:square;stroke-linejoin:miter;stroke-width:0.8;\"/>\r\n   </g>\r\n   <g id=\"patch_8\">\r\n    <path d=\"M 59.690625 7.2 \r\nL 394.490625 7.2 \r\n\" style=\"fill:none;stroke:#000000;stroke-linecap:square;stroke-linejoin:miter;stroke-width:0.8;\"/>\r\n   </g>\r\n  </g>\r\n </g>\r\n <defs>\r\n  <clipPath id=\"p4ab2974743\">\r\n   <rect height=\"217.44\" width=\"334.8\" x=\"59.690625\" y=\"7.2\"/>\r\n  </clipPath>\r\n </defs>\r\n</svg>\r\n",
      "text/plain": "<Figure size 432x288 with 1 Axes>"
     },
     "metadata": {
      "needs_background": "light"
     },
     "output_type": "display_data"
    }
   ],
   "source": [
    "sns.countplot(patient_data['GENDER'], palette=\"hot\")\n",
    "plt.show()"
   ]
  },
  {
   "cell_type": "markdown",
   "metadata": {},
   "source": [
    "## Data pre-processing\r\n",
    "\r\n",
    "Checklist\r\n",
    "\r\n",
    "    1. Extract hadm_id, subject_id_ admittime, dischtime, icd9_code\r\n",
    "    2. Map the subject_id with the hadm_id and the admittime to match a patient to specific visits\r\n",
    "    3. Map the hadm_id to each icd9_code assigned during the visit\r\n",
    "    4. Add each code assigned to the patient directing into the dictionary with the patient-admission id mapping and the visit date mapping . Which allows us to have a list of list of icd9_code's that each patient recieved during each visit.\r\n",
    "\r\n",
    "ADMISSIONS: Every unique hospitalisation for each patient in the database (defines HADM_ID)\r\n",
    "\r\n",
    "DIAGNOSES_ICD: Hospital assigned diagnoses, coded using the International Statistical Classification of Diseases and Related Health Problems (ICD) system\r\n",
    "\r\n",
    "D_ICD_DIAGNOSES: Dictionary of International Statistical Classification of Diseases and Related Health Problems (ICD) codes relating to diagnoses\r\n",
    "\r\n",
    "Each HADM_ID corresponds to a single SUBJECT_ID. A single SUBJECT_ID can correspond to multiple HADM_ID (multiple hospitalisations of the same patient), and multiple ICUSTAY_ID (multiple ICU stays either within the same hospitalization, or across multiple hospitalizations, or both)."
   ]
  },
  {
   "cell_type": "code",
   "execution_count": 8,
   "metadata": {},
   "outputs": [
    {
     "data": {
      "text/html": "<div>\n<style scoped>\n    .dataframe tbody tr th:only-of-type {\n        vertical-align: middle;\n    }\n\n    .dataframe tbody tr th {\n        vertical-align: top;\n    }\n\n    .dataframe thead th {\n        text-align: right;\n    }\n</style>\n<table border=\"1\" class=\"dataframe\">\n  <thead>\n    <tr style=\"text-align: right;\">\n      <th></th>\n      <th>ROW_ID</th>\n      <th>SUBJECT_ID</th>\n      <th>HADM_ID</th>\n      <th>ADMITTIME</th>\n      <th>DISCHTIME</th>\n      <th>DEATHTIME</th>\n      <th>ADMISSION_TYPE</th>\n      <th>ADMISSION_LOCATION</th>\n      <th>DISCHARGE_LOCATION</th>\n      <th>INSURANCE</th>\n      <th>...</th>\n      <th>RELIGION</th>\n      <th>MARITAL_STATUS</th>\n      <th>ETHNICITY</th>\n      <th>EDREGTIME</th>\n      <th>EDOUTTIME</th>\n      <th>DIAGNOSIS</th>\n      <th>HOSPITAL_EXPIRE_FLAG</th>\n      <th>HAS_CHARTEVENTS_DATA</th>\n      <th>NEXT_ADMITTIME</th>\n      <th>NEXT_ADMISSION_TYPE</th>\n    </tr>\n  </thead>\n  <tbody>\n    <tr>\n      <th>0</th>\n      <td>1</td>\n      <td>2</td>\n      <td>163353</td>\n      <td>2138-07-17 19:04:00</td>\n      <td>2138-07-21 15:48:00</td>\n      <td>NaT</td>\n      <td>NEWBORN</td>\n      <td>PHYS REFERRAL/NORMAL DELI</td>\n      <td>HOME</td>\n      <td>Private</td>\n      <td>...</td>\n      <td>NOT SPECIFIED</td>\n      <td>NaN</td>\n      <td>ASIAN</td>\n      <td>NaN</td>\n      <td>NaN</td>\n      <td>NEWBORN</td>\n      <td>0</td>\n      <td>1</td>\n      <td>NaT</td>\n      <td>NaN</td>\n    </tr>\n    <tr>\n      <th>1</th>\n      <td>2</td>\n      <td>3</td>\n      <td>145834</td>\n      <td>2101-10-20 19:08:00</td>\n      <td>2101-10-31 13:58:00</td>\n      <td>NaT</td>\n      <td>EMERGENCY</td>\n      <td>EMERGENCY ROOM ADMIT</td>\n      <td>SNF</td>\n      <td>Medicare</td>\n      <td>...</td>\n      <td>CATHOLIC</td>\n      <td>MARRIED</td>\n      <td>WHITE</td>\n      <td>2101-10-20 17:09:00</td>\n      <td>2101-10-20 19:24:00</td>\n      <td>HYPOTENSION</td>\n      <td>0</td>\n      <td>1</td>\n      <td>NaT</td>\n      <td>NaN</td>\n    </tr>\n    <tr>\n      <th>2</th>\n      <td>3</td>\n      <td>4</td>\n      <td>185777</td>\n      <td>2191-03-16 00:28:00</td>\n      <td>2191-03-23 18:41:00</td>\n      <td>NaT</td>\n      <td>EMERGENCY</td>\n      <td>EMERGENCY ROOM ADMIT</td>\n      <td>HOME WITH HOME IV PROVIDR</td>\n      <td>Private</td>\n      <td>...</td>\n      <td>PROTESTANT QUAKER</td>\n      <td>SINGLE</td>\n      <td>WHITE</td>\n      <td>2191-03-15 13:10:00</td>\n      <td>2191-03-16 01:10:00</td>\n      <td>FEVER,DEHYDRATION,FAILURE TO THRIVE</td>\n      <td>0</td>\n      <td>1</td>\n      <td>NaT</td>\n      <td>NaN</td>\n    </tr>\n    <tr>\n      <th>3</th>\n      <td>4</td>\n      <td>5</td>\n      <td>178980</td>\n      <td>2103-02-02 04:31:00</td>\n      <td>2103-02-04 12:15:00</td>\n      <td>NaT</td>\n      <td>NEWBORN</td>\n      <td>PHYS REFERRAL/NORMAL DELI</td>\n      <td>HOME</td>\n      <td>Private</td>\n      <td>...</td>\n      <td>BUDDHIST</td>\n      <td>NaN</td>\n      <td>ASIAN</td>\n      <td>NaN</td>\n      <td>NaN</td>\n      <td>NEWBORN</td>\n      <td>0</td>\n      <td>1</td>\n      <td>NaT</td>\n      <td>NaN</td>\n    </tr>\n    <tr>\n      <th>4</th>\n      <td>5</td>\n      <td>6</td>\n      <td>107064</td>\n      <td>2175-05-30 07:15:00</td>\n      <td>2175-06-15 16:00:00</td>\n      <td>NaT</td>\n      <td>ELECTIVE</td>\n      <td>PHYS REFERRAL/NORMAL DELI</td>\n      <td>HOME HEALTH CARE</td>\n      <td>Medicare</td>\n      <td>...</td>\n      <td>NOT SPECIFIED</td>\n      <td>MARRIED</td>\n      <td>WHITE</td>\n      <td>NaN</td>\n      <td>NaN</td>\n      <td>CHRONIC RENAL FAILURE/SDA</td>\n      <td>0</td>\n      <td>1</td>\n      <td>NaT</td>\n      <td>NaN</td>\n    </tr>\n  </tbody>\n</table>\n<p>5 rows × 21 columns</p>\n</div>",
      "text/plain": [
       "   ROW_ID  SUBJECT_ID  HADM_ID           ADMITTIME           DISCHTIME  \\\n",
       "0       1           2   163353 2138-07-17 19:04:00 2138-07-21 15:48:00   \n",
       "1       2           3   145834 2101-10-20 19:08:00 2101-10-31 13:58:00   \n",
       "2       3           4   185777 2191-03-16 00:28:00 2191-03-23 18:41:00   \n",
       "3       4           5   178980 2103-02-02 04:31:00 2103-02-04 12:15:00   \n",
       "4       5           6   107064 2175-05-30 07:15:00 2175-06-15 16:00:00   \n",
       "\n",
       "  DEATHTIME ADMISSION_TYPE         ADMISSION_LOCATION  \\\n",
       "0       NaT        NEWBORN  PHYS REFERRAL/NORMAL DELI   \n",
       "1       NaT      EMERGENCY       EMERGENCY ROOM ADMIT   \n",
       "2       NaT      EMERGENCY       EMERGENCY ROOM ADMIT   \n",
       "3       NaT        NEWBORN  PHYS REFERRAL/NORMAL DELI   \n",
       "4       NaT       ELECTIVE  PHYS REFERRAL/NORMAL DELI   \n",
       "\n",
       "          DISCHARGE_LOCATION INSURANCE  ...           RELIGION MARITAL_STATUS  \\\n",
       "0                       HOME   Private  ...      NOT SPECIFIED            NaN   \n",
       "1                        SNF  Medicare  ...           CATHOLIC        MARRIED   \n",
       "2  HOME WITH HOME IV PROVIDR   Private  ...  PROTESTANT QUAKER         SINGLE   \n",
       "3                       HOME   Private  ...           BUDDHIST            NaN   \n",
       "4           HOME HEALTH CARE  Medicare  ...      NOT SPECIFIED        MARRIED   \n",
       "\n",
       "  ETHNICITY            EDREGTIME            EDOUTTIME  \\\n",
       "0     ASIAN                  NaN                  NaN   \n",
       "1     WHITE  2101-10-20 17:09:00  2101-10-20 19:24:00   \n",
       "2     WHITE  2191-03-15 13:10:00  2191-03-16 01:10:00   \n",
       "3     ASIAN                  NaN                  NaN   \n",
       "4     WHITE                  NaN                  NaN   \n",
       "\n",
       "                             DIAGNOSIS HOSPITAL_EXPIRE_FLAG  \\\n",
       "0                              NEWBORN                    0   \n",
       "1                          HYPOTENSION                    0   \n",
       "2  FEVER,DEHYDRATION,FAILURE TO THRIVE                    0   \n",
       "3                              NEWBORN                    0   \n",
       "4            CHRONIC RENAL FAILURE/SDA                    0   \n",
       "\n",
       "   HAS_CHARTEVENTS_DATA  NEXT_ADMITTIME NEXT_ADMISSION_TYPE  \n",
       "0                     1             NaT                 NaN  \n",
       "1                     1             NaT                 NaN  \n",
       "2                     1             NaT                 NaN  \n",
       "3                     1             NaT                 NaN  \n",
       "4                     1             NaT                 NaN  \n",
       "\n",
       "[5 rows x 21 columns]"
      ]
     },
     "execution_count": 8,
     "metadata": {},
     "output_type": "execute_result"
    }
   ],
   "source": [
    "admission_data.head()"
   ]
  },
  {
   "cell_type": "code",
   "execution_count": 17,
   "metadata": {},
   "outputs": [
    {
     "data": {
      "text/html": "<div>\n<style scoped>\n    .dataframe tbody tr th:only-of-type {\n        vertical-align: middle;\n    }\n\n    .dataframe tbody tr th {\n        vertical-align: top;\n    }\n\n    .dataframe thead th {\n        text-align: right;\n    }\n</style>\n<table border=\"1\" class=\"dataframe\">\n  <thead>\n    <tr style=\"text-align: right;\">\n      <th></th>\n      <th>ROW_ID</th>\n      <th>SUBJECT_ID</th>\n      <th>HADM_ID</th>\n      <th>SEQ_NUM</th>\n      <th>ICD9_CODE</th>\n    </tr>\n  </thead>\n  <tbody>\n    <tr>\n      <th>0</th>\n      <td>1297</td>\n      <td>109</td>\n      <td>172335</td>\n      <td>1.0</td>\n      <td>40301</td>\n    </tr>\n    <tr>\n      <th>1</th>\n      <td>1298</td>\n      <td>109</td>\n      <td>172335</td>\n      <td>2.0</td>\n      <td>486</td>\n    </tr>\n    <tr>\n      <th>2</th>\n      <td>1299</td>\n      <td>109</td>\n      <td>172335</td>\n      <td>3.0</td>\n      <td>58281</td>\n    </tr>\n    <tr>\n      <th>3</th>\n      <td>1300</td>\n      <td>109</td>\n      <td>172335</td>\n      <td>4.0</td>\n      <td>5855</td>\n    </tr>\n    <tr>\n      <th>4</th>\n      <td>1301</td>\n      <td>109</td>\n      <td>172335</td>\n      <td>5.0</td>\n      <td>4254</td>\n    </tr>\n    <tr>\n      <th>...</th>\n      <td>...</td>\n      <td>...</td>\n      <td>...</td>\n      <td>...</td>\n      <td>...</td>\n    </tr>\n    <tr>\n      <th>651042</th>\n      <td>639798</td>\n      <td>97503</td>\n      <td>188195</td>\n      <td>2.0</td>\n      <td>20280</td>\n    </tr>\n    <tr>\n      <th>651043</th>\n      <td>639799</td>\n      <td>97503</td>\n      <td>188195</td>\n      <td>3.0</td>\n      <td>V5869</td>\n    </tr>\n    <tr>\n      <th>651044</th>\n      <td>639800</td>\n      <td>97503</td>\n      <td>188195</td>\n      <td>4.0</td>\n      <td>V1279</td>\n    </tr>\n    <tr>\n      <th>651045</th>\n      <td>639801</td>\n      <td>97503</td>\n      <td>188195</td>\n      <td>5.0</td>\n      <td>5275</td>\n    </tr>\n    <tr>\n      <th>651046</th>\n      <td>639802</td>\n      <td>97503</td>\n      <td>188195</td>\n      <td>6.0</td>\n      <td>5569</td>\n    </tr>\n  </tbody>\n</table>\n<p>651047 rows × 5 columns</p>\n</div>",
      "text/plain": [
       "        ROW_ID  SUBJECT_ID  HADM_ID  SEQ_NUM ICD9_CODE\n",
       "0         1297         109   172335      1.0     40301\n",
       "1         1298         109   172335      2.0       486\n",
       "2         1299         109   172335      3.0     58281\n",
       "3         1300         109   172335      4.0      5855\n",
       "4         1301         109   172335      5.0      4254\n",
       "...        ...         ...      ...      ...       ...\n",
       "651042  639798       97503   188195      2.0     20280\n",
       "651043  639799       97503   188195      3.0     V5869\n",
       "651044  639800       97503   188195      4.0     V1279\n",
       "651045  639801       97503   188195      5.0      5275\n",
       "651046  639802       97503   188195      6.0      5569\n",
       "\n",
       "[651047 rows x 5 columns]"
      ]
     },
     "execution_count": 17,
     "metadata": {},
     "output_type": "execute_result"
    }
   ],
   "source": [
    "diagnosis_code_data"
   ]
  },
  {
   "cell_type": "code",
   "execution_count": 9,
   "metadata": {},
   "outputs": [
    {
     "data": {
      "text/html": "<div>\n<style scoped>\n    .dataframe tbody tr th:only-of-type {\n        vertical-align: middle;\n    }\n\n    .dataframe tbody tr th {\n        vertical-align: top;\n    }\n\n    .dataframe thead th {\n        text-align: right;\n    }\n</style>\n<table border=\"1\" class=\"dataframe\">\n  <thead>\n    <tr style=\"text-align: right;\">\n      <th></th>\n      <th>SUBJECT_ID</th>\n      <th>HADM_ID</th>\n      <th>ADMITTIME</th>\n      <th>DISCHTIME</th>\n    </tr>\n  </thead>\n  <tbody>\n    <tr>\n      <th>0</th>\n      <td>2</td>\n      <td>163353</td>\n      <td>2138-07-17 19:04:00</td>\n      <td>2138-07-21 15:48:00</td>\n    </tr>\n    <tr>\n      <th>1</th>\n      <td>3</td>\n      <td>145834</td>\n      <td>2101-10-20 19:08:00</td>\n      <td>2101-10-31 13:58:00</td>\n    </tr>\n    <tr>\n      <th>2</th>\n      <td>4</td>\n      <td>185777</td>\n      <td>2191-03-16 00:28:00</td>\n      <td>2191-03-23 18:41:00</td>\n    </tr>\n    <tr>\n      <th>3</th>\n      <td>5</td>\n      <td>178980</td>\n      <td>2103-02-02 04:31:00</td>\n      <td>2103-02-04 12:15:00</td>\n    </tr>\n    <tr>\n      <th>4</th>\n      <td>6</td>\n      <td>107064</td>\n      <td>2175-05-30 07:15:00</td>\n      <td>2175-06-15 16:00:00</td>\n    </tr>\n    <tr>\n      <th>...</th>\n      <td>...</td>\n      <td>...</td>\n      <td>...</td>\n      <td>...</td>\n    </tr>\n    <tr>\n      <th>58971</th>\n      <td>99985</td>\n      <td>176670</td>\n      <td>2181-01-27 02:47:00</td>\n      <td>2181-02-12 17:05:00</td>\n    </tr>\n    <tr>\n      <th>58972</th>\n      <td>99991</td>\n      <td>151118</td>\n      <td>2184-12-24 08:30:00</td>\n      <td>2185-01-05 12:15:00</td>\n    </tr>\n    <tr>\n      <th>58973</th>\n      <td>99992</td>\n      <td>197084</td>\n      <td>2144-07-25 18:03:00</td>\n      <td>2144-07-28 17:56:00</td>\n    </tr>\n    <tr>\n      <th>58974</th>\n      <td>99995</td>\n      <td>137810</td>\n      <td>2147-02-08 08:00:00</td>\n      <td>2147-02-11 13:15:00</td>\n    </tr>\n    <tr>\n      <th>58975</th>\n      <td>99999</td>\n      <td>113369</td>\n      <td>2117-12-30 07:15:00</td>\n      <td>2118-01-04 16:30:00</td>\n    </tr>\n  </tbody>\n</table>\n<p>58976 rows × 4 columns</p>\n</div>",
      "text/plain": [
       "       SUBJECT_ID  HADM_ID           ADMITTIME           DISCHTIME\n",
       "0               2   163353 2138-07-17 19:04:00 2138-07-21 15:48:00\n",
       "1               3   145834 2101-10-20 19:08:00 2101-10-31 13:58:00\n",
       "2               4   185777 2191-03-16 00:28:00 2191-03-23 18:41:00\n",
       "3               5   178980 2103-02-02 04:31:00 2103-02-04 12:15:00\n",
       "4               6   107064 2175-05-30 07:15:00 2175-06-15 16:00:00\n",
       "...           ...      ...                 ...                 ...\n",
       "58971       99985   176670 2181-01-27 02:47:00 2181-02-12 17:05:00\n",
       "58972       99991   151118 2184-12-24 08:30:00 2185-01-05 12:15:00\n",
       "58973       99992   197084 2144-07-25 18:03:00 2144-07-28 17:56:00\n",
       "58974       99995   137810 2147-02-08 08:00:00 2147-02-11 13:15:00\n",
       "58975       99999   113369 2117-12-30 07:15:00 2118-01-04 16:30:00\n",
       "\n",
       "[58976 rows x 4 columns]"
      ]
     },
     "execution_count": 9,
     "metadata": {},
     "output_type": "execute_result"
    }
   ],
   "source": [
    "admission_data[['SUBJECT_ID', 'HADM_ID', 'ADMITTIME', 'DISCHTIME']]"
   ]
  },
  {
   "cell_type": "code",
   "execution_count": 10,
   "metadata": {},
   "outputs": [
    {
     "data": {
      "text/html": "<div>\n<style scoped>\n    .dataframe tbody tr th:only-of-type {\n        vertical-align: middle;\n    }\n\n    .dataframe tbody tr th {\n        vertical-align: top;\n    }\n\n    .dataframe thead th {\n        text-align: right;\n    }\n</style>\n<table border=\"1\" class=\"dataframe\">\n  <thead>\n    <tr style=\"text-align: right;\">\n      <th></th>\n      <th>SUBJECT_ID</th>\n      <th>HADM_ID</th>\n      <th>ADMITTIME</th>\n      <th>DISCHTIME</th>\n    </tr>\n  </thead>\n  <tbody>\n    <tr>\n      <th>0</th>\n      <td>2</td>\n      <td>163353</td>\n      <td>2138-07-17 19:04:00</td>\n      <td>2138-07-21 15:48:00</td>\n    </tr>\n    <tr>\n      <th>1</th>\n      <td>3</td>\n      <td>145834</td>\n      <td>2101-10-20 19:08:00</td>\n      <td>2101-10-31 13:58:00</td>\n    </tr>\n    <tr>\n      <th>2</th>\n      <td>4</td>\n      <td>185777</td>\n      <td>2191-03-16 00:28:00</td>\n      <td>2191-03-23 18:41:00</td>\n    </tr>\n    <tr>\n      <th>3</th>\n      <td>5</td>\n      <td>178980</td>\n      <td>2103-02-02 04:31:00</td>\n      <td>2103-02-04 12:15:00</td>\n    </tr>\n    <tr>\n      <th>4</th>\n      <td>6</td>\n      <td>107064</td>\n      <td>2175-05-30 07:15:00</td>\n      <td>2175-06-15 16:00:00</td>\n    </tr>\n    <tr>\n      <th>...</th>\n      <td>...</td>\n      <td>...</td>\n      <td>...</td>\n      <td>...</td>\n    </tr>\n    <tr>\n      <th>58971</th>\n      <td>99985</td>\n      <td>176670</td>\n      <td>2181-01-27 02:47:00</td>\n      <td>2181-02-12 17:05:00</td>\n    </tr>\n    <tr>\n      <th>58972</th>\n      <td>99991</td>\n      <td>151118</td>\n      <td>2184-12-24 08:30:00</td>\n      <td>2185-01-05 12:15:00</td>\n    </tr>\n    <tr>\n      <th>58973</th>\n      <td>99992</td>\n      <td>197084</td>\n      <td>2144-07-25 18:03:00</td>\n      <td>2144-07-28 17:56:00</td>\n    </tr>\n    <tr>\n      <th>58974</th>\n      <td>99995</td>\n      <td>137810</td>\n      <td>2147-02-08 08:00:00</td>\n      <td>2147-02-11 13:15:00</td>\n    </tr>\n    <tr>\n      <th>58975</th>\n      <td>99999</td>\n      <td>113369</td>\n      <td>2117-12-30 07:15:00</td>\n      <td>2118-01-04 16:30:00</td>\n    </tr>\n  </tbody>\n</table>\n<p>58976 rows × 4 columns</p>\n</div>",
      "text/plain": [
       "       SUBJECT_ID  HADM_ID           ADMITTIME           DISCHTIME\n",
       "0               2   163353 2138-07-17 19:04:00 2138-07-21 15:48:00\n",
       "1               3   145834 2101-10-20 19:08:00 2101-10-31 13:58:00\n",
       "2               4   185777 2191-03-16 00:28:00 2191-03-23 18:41:00\n",
       "3               5   178980 2103-02-02 04:31:00 2103-02-04 12:15:00\n",
       "4               6   107064 2175-05-30 07:15:00 2175-06-15 16:00:00\n",
       "...           ...      ...                 ...                 ...\n",
       "58971       99985   176670 2181-01-27 02:47:00 2181-02-12 17:05:00\n",
       "58972       99991   151118 2184-12-24 08:30:00 2185-01-05 12:15:00\n",
       "58973       99992   197084 2144-07-25 18:03:00 2144-07-28 17:56:00\n",
       "58974       99995   137810 2147-02-08 08:00:00 2147-02-11 13:15:00\n",
       "58975       99999   113369 2117-12-30 07:15:00 2118-01-04 16:30:00\n",
       "\n",
       "[58976 rows x 4 columns]"
      ]
     },
     "execution_count": 10,
     "metadata": {},
     "output_type": "execute_result"
    }
   ],
   "source": [
    "#reordering admission data so we can put into a suitable format \n",
    "admission_data[['SUBJECT_ID', 'HADM_ID', 'ADMITTIME', 'DISCHTIME']].sort_values(['SUBJECT_ID','HADM_ID']) # ordered based on subject id and hadm_id"
   ]
  },
  {
   "cell_type": "code",
   "execution_count": 11,
   "metadata": {},
   "outputs": [],
   "source": [
    "# changing the table name to data\n",
    "data = admission_data[['SUBJECT_ID', 'HADM_ID', 'ADMITTIME', 'DISCHTIME']].sort_values(['SUBJECT_ID','HADM_ID'])\n",
    "data.to_csv('data/ADMISSIONS_shrink.csv')"
   ]
  },
  {
   "cell_type": "code",
   "execution_count": null,
   "metadata": {},
   "outputs": [],
   "source": [
    "# create two dictionaries: one that maps each patient with their specific HADM_ID\n",
    "#                          another that maps each HADM_ID with the date and time of the admission\n",
    "subject_hadm_map = {}\n",
    "hadm_date_map = {}\n",
    "for subject_id in data.SUBJECT_ID:\n",
    "    subject_hadm_map[str(subject_id)] = list(map(str, list(data[data['SUBJECT_ID'] == subject_id]['HADM_ID'].values)))\n",
    "for hadm_id in data.HADM_ID:\n",
    "    hadm_date_map[str(hadm_id)] = [datetime.strptime(data[data['HADM_ID'] == hadm_id]['ADMITTIME'].values[0], '%Y-%m-%d %H:%M:%S')] # for some reason, when running this loop again, it does not work, returns strptime error"
   ]
  },
  {
   "cell_type": "code",
   "execution_count": 148,
   "metadata": {},
   "outputs": [
    {
     "data": {
      "text/plain": [
       "['161087', '194023']"
      ]
     },
     "execution_count": 148,
     "metadata": {},
     "output_type": "execute_result"
    }
   ],
   "source": [
    "subject_hadm_map['17']"
   ]
  },
  {
   "cell_type": "code",
   "execution_count": 149,
   "metadata": {},
   "outputs": [
    {
     "name": "stdout",
     "output_type": "stream",
     "text": [
      "[datetime.datetime(2135, 5, 9, 14, 11)]\n",
      "[datetime.datetime(2134, 12, 27, 7, 15)]\n"
     ]
    }
   ],
   "source": [
    "print(hadm_date_map['161087'])\n",
    "print(hadm_date_map['194023'])"
   ]
  },
  {
   "cell_type": "code",
   "execution_count": 54,
   "metadata": {},
   "outputs": [
    {
     "data": {
      "text/html": "<div>\n<style scoped>\n    .dataframe tbody tr th:only-of-type {\n        vertical-align: middle;\n    }\n\n    .dataframe tbody tr th {\n        vertical-align: top;\n    }\n\n    .dataframe thead th {\n        text-align: right;\n    }\n</style>\n<table border=\"1\" class=\"dataframe\">\n  <thead>\n    <tr style=\"text-align: right;\">\n      <th></th>\n      <th>SUBJECT_ID</th>\n      <th>HADM_ID</th>\n      <th>ICD9_CODE</th>\n    </tr>\n  </thead>\n  <tbody>\n    <tr>\n      <th>608</th>\n      <td>2</td>\n      <td>163353</td>\n      <td>V3001</td>\n    </tr>\n    <tr>\n      <th>609</th>\n      <td>2</td>\n      <td>163353</td>\n      <td>V053</td>\n    </tr>\n    <tr>\n      <th>610</th>\n      <td>2</td>\n      <td>163353</td>\n      <td>V290</td>\n    </tr>\n    <tr>\n      <th>611</th>\n      <td>3</td>\n      <td>145834</td>\n      <td>0389</td>\n    </tr>\n    <tr>\n      <th>612</th>\n      <td>3</td>\n      <td>145834</td>\n      <td>78559</td>\n    </tr>\n    <tr>\n      <th>...</th>\n      <td>...</td>\n      <td>...</td>\n      <td>...</td>\n    </tr>\n    <tr>\n      <th>648478</th>\n      <td>99999</td>\n      <td>113369</td>\n      <td>75612</td>\n    </tr>\n    <tr>\n      <th>648479</th>\n      <td>99999</td>\n      <td>113369</td>\n      <td>7861</td>\n    </tr>\n    <tr>\n      <th>648480</th>\n      <td>99999</td>\n      <td>113369</td>\n      <td>4019</td>\n    </tr>\n    <tr>\n      <th>648481</th>\n      <td>99999</td>\n      <td>113369</td>\n      <td>25000</td>\n    </tr>\n    <tr>\n      <th>648482</th>\n      <td>99999</td>\n      <td>113369</td>\n      <td>4139</td>\n    </tr>\n  </tbody>\n</table>\n<p>651047 rows × 3 columns</p>\n</div>",
      "text/plain": [
       "        SUBJECT_ID  HADM_ID ICD9_CODE\n",
       "608              2   163353     V3001\n",
       "609              2   163353      V053\n",
       "610              2   163353      V290\n",
       "611              3   145834      0389\n",
       "612              3   145834     78559\n",
       "...            ...      ...       ...\n",
       "648478       99999   113369     75612\n",
       "648479       99999   113369      7861\n",
       "648480       99999   113369      4019\n",
       "648481       99999   113369     25000\n",
       "648482       99999   113369      4139\n",
       "\n",
       "[651047 rows x 3 columns]"
      ]
     },
     "execution_count": 54,
     "metadata": {},
     "output_type": "execute_result"
    }
   ],
   "source": [
    "# reordering diagnosis code data to create the necessary future mappings\n",
    "diagnosis_code_data[['SUBJECT_ID', 'HADM_ID', 'ICD9_CODE']].sort_values(['SUBJECT_ID','HADM_ID']) # ordered based on subject id and hadm_id"
   ]
  },
  {
   "cell_type": "code",
   "execution_count": 20,
   "metadata": {},
   "outputs": [],
   "source": [
    "diagnosis_code_data = diagnosis_code_data[['SUBJECT_ID', 'HADM_ID', 'ICD9_CODE']].sort_values(['SUBJECT_ID','HADM_ID'])  # putting diagnosis code data into the above format"
   ]
  },
  {
   "cell_type": "code",
   "execution_count": 120,
   "metadata": {},
   "outputs": [],
   "source": [
    "# create a dictionary that maps each HADM_ID with the specific ICD9 diagnosis codes given during the visit\n",
    "hadm_icd9_map = {}          \n",
    "for hadm_id in data.HADM_ID:\n",
    "    hadm_icd9_map[str(hadm_id)] = list(diagnosis_code_data[diagnosis_code_data['HADM_ID'] == hadm_id]['ICD9_CODE'].values)"
   ]
  },
  {
   "cell_type": "code",
   "execution_count": 150,
   "metadata": {},
   "outputs": [
    {
     "name": "stdout",
     "output_type": "stream",
     "text": [
      "['4239', '5119', '78551', '4589', '311', '7220', '71946', '2724']\n",
      "['7455', '45829', 'V1259', '2724']\n"
     ]
    }
   ],
   "source": [
    "print(hadm_icd9_map['161087'])\n",
    "print(hadm_icd9_map['194023'])"
   ]
  },
  {
   "cell_type": "code",
   "execution_count": 151,
   "metadata": {},
   "outputs": [],
   "source": [
    "# create a dictionary mapping subject_id to their admittime for each hadm_id and the diagnoses for that admission\n",
    "subject_admittime_icd9 = {}\n",
    "for subject_id, admit_time in subject_hadm_map.items():\n",
    "    ordered_map = ([(hadm_date_map[admittime], hadm_icd9_map[admittime]) for admittime in admittime])\n",
    "    subject_admittime_icd9[subject_id] = ordered_map"
   ]
  },
  {
   "cell_type": "code",
   "execution_count": 153,
   "metadata": {},
   "outputs": [
    {
     "data": {
      "text/plain": [
       "[([datetime.datetime(2135, 5, 9, 14, 11)],\n",
       "  ['4239', '5119', '78551', '4589', '311', '7220', '71946', '2724']),\n",
       " ([datetime.datetime(2134, 12, 27, 7, 15)],\n",
       "  ['7455', '45829', 'V1259', '2724'])]"
      ]
     },
     "execution_count": 153,
     "metadata": {},
     "output_type": "execute_result"
    }
   ],
   "source": [
    "subject_admittime_icd9['17']"
   ]
  },
  {
   "cell_type": "code",
   "execution_count": 154,
   "metadata": {},
   "outputs": [],
   "source": [
    "# extract a list of subject_IDs, admittimes and icd9_codes for encoding\n",
    "subject_IDs = [subject_id for subject_id, admittime in subject_admittime_icd9.items()]\n",
    "admit_times_list = [[visit[0][0] for visit in admittime] for subject_id, admittime in subject_admittime_icd9.items()]\n",
    "icd9_codes_list = [[visit[1] for visit in admittime] for subject_id, admittime in subject_admittime_icd9.items()]"
   ]
  },
  {
   "cell_type": "code",
   "execution_count": 156,
   "metadata": {},
   "outputs": [
    {
     "data": {
      "text/plain": [
       "['2', '3', '4', '5', '6']"
      ]
     },
     "execution_count": 156,
     "metadata": {},
     "output_type": "execute_result"
    }
   ],
   "source": [
    "subject_IDs[:5]"
   ]
  },
  {
   "cell_type": "code",
   "execution_count": 157,
   "metadata": {},
   "outputs": [
    {
     "data": {
      "text/plain": [
       "[[datetime.datetime(2138, 7, 17, 19, 4)],\n",
       " [datetime.datetime(2101, 10, 20, 19, 8)],\n",
       " [datetime.datetime(2191, 3, 16, 0, 28)],\n",
       " [datetime.datetime(2103, 2, 2, 4, 31)],\n",
       " [datetime.datetime(2175, 5, 30, 7, 15)]]"
      ]
     },
     "execution_count": 157,
     "metadata": {},
     "output_type": "execute_result"
    }
   ],
   "source": [
    "admit_times_list[:5]"
   ]
  },
  {
   "cell_type": "code",
   "execution_count": 158,
   "metadata": {},
   "outputs": [
    {
     "data": {
      "text/plain": [
       "[[['V3001', 'V053', 'V290']],\n",
       " [['0389', '78559', '5849', '4275', '41071', '4280', '6826', '4254', '2639']],\n",
       " [['042', '1363', '7994', '2763', '7907', '5715', '04111', 'V090', 'E9317']],\n",
       " [['V3000', 'V053', 'V290']],\n",
       " [['40391', '4440', '9972', '2766', '2767', '2859', '2753', 'V1582']]]"
      ]
     },
     "execution_count": 158,
     "metadata": {},
     "output_type": "execute_result"
    }
   ],
   "source": [
    "icd9_codes_list[:5]"
   ]
  },
  {
   "cell_type": "code",
   "execution_count": 160,
   "metadata": {},
   "outputs": [],
   "source": [
    "# create a dictionary of the diagnosis codes assigned at each visit for each unique subject_id by encoding diagnosis codes into integers\n",
    "icd9_code_dict = {}\n",
    "encoded_icd9s = []\n",
    "for subject in icd9_codes_list:\n",
    "    encoded_subject_icd9s = []\n",
    "    for admission in subject:\n",
    "        encoded_admission = []\n",
    "        for code in admission:\n",
    "            if code in icd9_code_dict:\n",
    "                encoded_admission.append(icd9_code_dict[code])\n",
    "            else:\n",
    "                icd9_code_dict[code] = len(icd9_code_dict)\n",
    "                encoded_admission.append(icd9_code_dict[code])\n",
    "        encoded_subject_icd9s.append(encoded_admission)\n",
    "    encoded_icd9s.append(encoded_subject_icd9s)"
   ]
  },
  {
   "cell_type": "code",
   "execution_count": 163,
   "metadata": {},
   "outputs": [
    {
     "data": {
      "text/plain": [
       "1"
      ]
     },
     "execution_count": 163,
     "metadata": {},
     "output_type": "execute_result"
    }
   ],
   "source": [
    "icd9_code_dict['V053']"
   ]
  },
  {
   "cell_type": "code",
   "execution_count": 165,
   "metadata": {},
   "outputs": [
    {
     "data": {
      "text/plain": [
       "[[0, 1, 2]]"
      ]
     },
     "execution_count": 165,
     "metadata": {},
     "output_type": "execute_result"
    }
   ],
   "source": [
    "encoded_icd9s[0]"
   ]
  },
  {
   "cell_type": "code",
   "execution_count": 167,
   "metadata": {},
   "outputs": [],
   "source": [
    "# pickle the lists for quick loading in future\n",
    "pickle.dump(subject_IDs, open('data'+'.subject_IDs', 'wb'), -1)\n",
    "pickle.dump(admit_times_list, open('data'+'.admit_times', 'wb'), -1)\n",
    "pickle.dump(encoded_icd9s, open('data'+'.encoded_icd9s', 'wb'), -1)         # subject id and each code given per hospital admission\n",
    "pickle.dump(icd9_code_dict, open('data'+'.icd9_code_dict', 'wb'), -1)       # 0-6984 codes for each diagnosis"
   ]
  },
  {
   "cell_type": "markdown",
   "metadata": {},
   "source": [
    "## Preparation for data, labels - START HERE"
   ]
  },
  {
   "cell_type": "code",
   "execution_count": 2,
   "metadata": {},
   "outputs": [],
   "source": [
    "encoded_icd9_data = np.array(pickle.load(open('data/data.encoded_icd9s','rb')), dtype=object)"
   ]
  },
  {
   "cell_type": "code",
   "execution_count": 320,
   "metadata": {},
   "outputs": [],
   "source": [
    "flattened_encoded_codes = []\r\n",
    "for row in encoded_icd9_data:\r\n",
    "    for other_row in row:\r\n",
    "        for code in other_row:\r\n",
    "            flattened_encoded_codes.append(code)"
   ]
  },
  {
   "cell_type": "code",
   "execution_count": 321,
   "metadata": {},
   "outputs": [
    {
     "data": {
      "text/plain": "6985"
     },
     "execution_count": 321,
     "metadata": {},
     "output_type": "execute_result"
    }
   ],
   "source": [
    "np.size(np.unique(flattened_encoded_codes))             # 6985 unique tokens"
   ]
  },
  {
   "cell_type": "code",
   "execution_count": 3,
   "metadata": {},
   "outputs": [
    {
     "data": {
      "text/plain": "[[4972, 512, 36, 50, 194]]"
     },
     "execution_count": 3,
     "metadata": {},
     "output_type": "execute_result"
    }
   ],
   "source": [
    "encoded_icd9_data[-1] # 1 admission - majority of people have 1 admission "
   ]
  },
  {
   "cell_type": "code",
   "execution_count": 4,
   "metadata": {},
   "outputs": [
    {
     "data": {
      "text/plain": "[[7, 55, 83, 5, 22, 8, 84, 34, 85, 86, 48, 50, 87, 88, 51, 89, 90, 91],\n [92,\n  93,\n  22,\n  85,\n  94,\n  54,\n  95,\n  96,\n  97,\n  98,\n  99,\n  100,\n  50,\n  27,\n  91,\n  89,\n  48,\n  101,\n  102,\n  103,\n  104]]"
     },
     "execution_count": 4,
     "metadata": {},
     "output_type": "execute_result"
    }
   ],
   "source": [
    "encoded_icd9_data[17] # 2 admissions"
   ]
  },
  {
   "cell_type": "code",
   "execution_count": 334,
   "metadata": {},
   "outputs": [
    {
     "name": "stdout",
     "output_type": "stream",
     "text": [
      "41\n"
     ]
    }
   ],
   "source": [
    "lengths = np.array([len(codes) for codes in encoded_icd9_data]) -1      \r\n",
    "maxi = np.max(lengths)\r\n",
    "where = np.where(lengths == maxi)\r\n",
    "print(maxi)             # highest number of admissions considered is 41"
   ]
  },
  {
   "cell_type": "code",
   "execution_count": 335,
   "metadata": {},
   "outputs": [
    {
     "data": {
      "text/plain": "True"
     },
     "execution_count": 335,
     "metadata": {},
     "output_type": "execute_result"
    }
   ],
   "source": [
    "any(6984 in codes for patient in encoded_icd9_data for codes in patient) # confirming number of tokens used in this data"
   ]
  },
  {
   "cell_type": "markdown",
   "metadata": {},
   "source": [
    "## Exploring Padding on the whole dataset - consumes a lot of memory so we will do this per batch during training."
   ]
  },
  {
   "cell_type": "code",
   "execution_count": 3,
   "metadata": {},
   "outputs": [],
   "source": [
    "# with padding, the last visit in each patient's record is removed because both the admission and the label sizes must match  \r\n",
    "# next, the data is ordered from the patient that has the most admissions to the least. Each admission will be considered a token. \r\n",
    "# then for each patient that has a lower amount of admissions than the highest, their admissions are padded with zeros.\r\n",
    "# finally, the data is multi-one hot encoded which puts out data in the form (sequence length x batch size x vocab) suitable for GRU \r\n",
    "def padding(data, labels, vocab, classes):\r\n",
    "    lengths = np.array([len(admissions) for admissions in data]) -1         # subtract 1 from the length which means that the last visit in each patient's record will be removed \r\n",
    "    maxlen = np.max(lengths)\r\n",
    "    num_samples = len(data)\r\n",
    "    X = torch.zeros(maxlen, num_samples, vocab)                             # maxlen = number of admissions, num_samples = samples\r\n",
    "    y = torch.zeros(maxlen, num_samples, classes)\r\n",
    "    mask = torch.zeros(maxlen, num_samples)\r\n",
    "\r\n",
    "    for idx, (admissions, label) in enumerate(zip(data, labels)):\r\n",
    "        for x_true, section in zip(X[:, idx, :], admissions[:-1]):         # training data excludes the last admission so the model can predict the next time step\r\n",
    "            x_true[section] = 1.\r\n",
    "        for y_true, section in zip(y[:, idx, :], label[1:]):               # labels are the next admission of the subject\r\n",
    "            y_true[section] = 1. \r\n",
    "\r\n",
    "        mask[:lengths[idx], idx] = 1.                                      # mask is used to know know where the admissions are in the one-hot by removing the pads i.e. the zeros\r\n",
    "\r\n",
    "    lengths = torch.LongTensor(lengths)                                    # storing the lengths of all the admissions of all the subjects \r\n",
    "    return X, y, mask, lengths"
   ]
  },
  {
   "cell_type": "code",
   "execution_count": 7,
   "metadata": {},
   "outputs": [
    {
     "name": "stdout",
     "output_type": "stream",
     "text": [
      "20\n",
      "46513\n",
      "torch.Size([20, 46513, 6984])\n",
      "torch.Size([20, 46513, 6984])\n",
      "torch.Size([20, 46513])\n",
      "torch.Size([46513])\n"
     ]
    }
   ],
   "source": [
    "X, y, mask, lengths = padding(encoded_icd9_data, encoded_icd9_data, 6984, 6984) # in the form (sequence length x batch size x vocab) 6984 tokens in the vocabulary - uses ~26GB RAM when loaded fully so we will do this per batch in training"
   ]
  },
  {
   "cell_type": "code",
   "execution_count": 64,
   "metadata": {},
   "outputs": [
    {
     "data": {
      "text/plain": [
       "tensor([0., 0., 0., 0., 0., 0., 0., 0., 0., 0.,  ..., 0., 0., 0., 0., 0., 0., 0., 0., 0., 0.])"
      ]
     },
     "execution_count": 64,
     "metadata": {},
     "output_type": "execute_result"
    }
   ],
   "source": [
    "mask[0]"
   ]
  },
  {
   "cell_type": "code",
   "execution_count": 18,
   "metadata": {},
   "outputs": [
    {
     "data": {
      "text/plain": [
       "[[223, 85, 48, 625, 36], [572, 43, 85, 223, 48, 116, 60, 625, 104]]"
      ]
     },
     "execution_count": 18,
     "metadata": {},
     "output_type": "execute_result"
    }
   ],
   "source": [
    "encoded_icd9_data[3000] # looking at an example, patient 3000 of the descending ordered data has 2 total admissions/sequences of diagnoses"
   ]
  },
  {
   "cell_type": "code",
   "execution_count": 3,
   "metadata": {},
   "outputs": [
    {
     "data": {
      "text/plain": "(array([ 36,  48,  85, 223, 625], dtype=int64),)"
     },
     "execution_count": 3,
     "metadata": {},
     "output_type": "execute_result"
    }
   ],
   "source": [
    "np.where(X[0,3000,:]==1)  # x only considers the first admission/sequence in this case because in padding, the second one has been padded/deleted and transferred to the labels"
   ]
  },
  {
   "cell_type": "code",
   "execution_count": 20,
   "metadata": {},
   "outputs": [
    {
     "data": {
      "text/plain": [
       "(array([ 43,  48,  60,  85, 104, 116, 223, 572, 625], dtype=int64),)"
      ]
     },
     "execution_count": 20,
     "metadata": {},
     "output_type": "execute_result"
    }
   ],
   "source": [
    "np.where(y[0,3000,:]==1)   # considering the cell above, we are saying that for subject 13, diagnosis codes 36,  48,  85, 223, 625 entails diagnosis code 43,  48,  60,  85, 104, 116, 223, 572, 625 which are both one hot encoded "
   ]
  },
  {
   "cell_type": "code",
   "execution_count": 30,
   "metadata": {},
   "outputs": [
    {
     "data": {
      "text/plain": [
       "[[1208, 1034, 5, 1418, 183, 458, 1099, 873, 570, 1050, 235, 980, 1007],\n",
       " [1208,\n",
       "  4,\n",
       "  166,\n",
       "  5,\n",
       "  67,\n",
       "  873,\n",
       "  980,\n",
       "  1225,\n",
       "  153,\n",
       "  208,\n",
       "  1418,\n",
       "  338,\n",
       "  212,\n",
       "  570,\n",
       "  874,\n",
       "  875,\n",
       "  1021],\n",
       " [34,\n",
       "  358,\n",
       "  1208,\n",
       "  3,\n",
       "  99,\n",
       "  93,\n",
       "  165,\n",
       "  5,\n",
       "  229,\n",
       "  2002,\n",
       "  776,\n",
       "  1707,\n",
       "  676,\n",
       "  694,\n",
       "  413,\n",
       "  26,\n",
       "  65,\n",
       "  28],\n",
       " [88,\n",
       "  1226,\n",
       "  212,\n",
       "  67,\n",
       "  873,\n",
       "  980,\n",
       "  776,\n",
       "  431,\n",
       "  537,\n",
       "  1208,\n",
       "  4,\n",
       "  661,\n",
       "  5,\n",
       "  554,\n",
       "  1494,\n",
       "  4563]]"
      ]
     },
     "execution_count": 30,
     "metadata": {},
     "output_type": "execute_result"
    }
   ],
   "source": [
    "encoded_icd9_data[1000] # taking another example with 4 total future sequences/hospital admissions "
   ]
  },
  {
   "cell_type": "code",
   "execution_count": 32,
   "metadata": {},
   "outputs": [
    {
     "data": {
      "text/plain": [
       "(array([   3,    5,   26,   28,   34,   65,   93,   99,  165,  229,  358,\n",
       "         413,  676,  694,  776, 1208, 1707, 2002], dtype=int64),)"
      ]
     },
     "execution_count": 32,
     "metadata": {},
     "output_type": "execute_result"
    }
   ],
   "source": [
    "np.where(X[2,1000,:]==1) # here we can see that the output of this cell is matches the 3rd sequence for subject 1000"
   ]
  },
  {
   "cell_type": "code",
   "execution_count": 33,
   "metadata": {},
   "outputs": [
    {
     "data": {
      "text/plain": [
       "(array([   4,    5,   67,   88,  212,  431,  537,  554,  661,  776,  873,\n",
       "         980, 1208, 1226, 1494, 4563], dtype=int64),)"
      ]
     },
     "execution_count": 33,
     "metadata": {},
     "output_type": "execute_result"
    }
   ],
   "source": [
    "np.where(y[2,1000,:]==1) # this sequence is the label for sequence 4 for subject 1000 - what it is supposed to predict"
   ]
  },
  {
   "cell_type": "code",
   "execution_count": 34,
   "metadata": {},
   "outputs": [
    {
     "data": {
      "text/plain": [
       "(array([ 0,  0,  0, ..., 19, 19, 19], dtype=int64),\n",
       " array([0, 0, 0, ..., 0, 0, 0], dtype=int64),\n",
       " array([  36,   50,   51, ...,  832,  842, 2066], dtype=int64))"
      ]
     },
     "execution_count": 34,
     "metadata": {},
     "output_type": "execute_result"
    }
   ],
   "source": [
    "np.where(X[:,:,:]==1)   # reminder that most of the data is 0 since they only have 1 admission which gets deleted to account for the time aspect of the data"
   ]
  },
  {
   "cell_type": "code",
   "execution_count": 35,
   "metadata": {},
   "outputs": [
    {
     "data": {
      "text/plain": [
       "(array([ 0,  0,  0, ..., 19, 19, 19], dtype=int64),\n",
       " array([0, 0, 0, ..., 0, 0, 0], dtype=int64),\n",
       " array([   5,    8,   22, ...,  663, 1095, 3494], dtype=int64))"
      ]
     },
     "execution_count": 35,
     "metadata": {},
     "output_type": "execute_result"
    }
   ],
   "source": [
    "np.where(y[:,:,:]==1) "
   ]
  },
  {
   "cell_type": "code",
   "execution_count": 46,
   "metadata": {},
   "outputs": [
    {
     "data": {
      "text/plain": [
       "20"
      ]
     },
     "execution_count": 46,
     "metadata": {},
     "output_type": "execute_result"
    }
   ],
   "source": [
    "len(y)          # highest length sequence is 20"
   ]
  },
  {
   "cell_type": "markdown",
   "metadata": {},
   "source": [
    "## Train, Test, Validation Split Function"
   ]
  },
  {
   "cell_type": "code",
   "execution_count": 4,
   "metadata": {},
   "outputs": [],
   "source": [
    "def train_test_val_split(data, labels, val_size, test_size):\r\n",
    "    # train_test_val split\r\n",
    "    max_seq_len = len(labels)\r\n",
    "    idx = np.random.choice(max_seq_len, size=max_seq_len, replace=False)\r\n",
    "    numTest = ceil(test_size * max_seq_len)\r\n",
    "    numVal = ceil(val_size * max_seq_len)\r\n",
    "    \r\n",
    "    train_idx = idx[numTest+numVal:]                # sorting the encoded data \r\n",
    "    val_idx = idx[numTest:numTest+numVal]  \r\n",
    "    test_idx = idx[:numTest] \r\n",
    " \r\n",
    "    X_train = data[train_idx]\r\n",
    "    y_train = labels[train_idx]\r\n",
    "    X_val = data[val_idx]\r\n",
    "    y_val = labels[val_idx]\r\n",
    "    X_test = data[test_idx]\r\n",
    "    y_test = labels[test_idx]\r\n",
    "    \r\n",
    "    X_train = [sorted(content) for content in X_train]\r\n",
    "    y_train = [sorted(label) for label in y_train]\r\n",
    "    X_val = [sorted(content) for content in X_val]\r\n",
    "    y_val = [sorted(label) for label in y_val]\r\n",
    "    X_test = [sorted(content) for content in X_test]\r\n",
    "    y_test = [sorted(label) for label in y_test]\r\n",
    "\r\n",
    "    train = (X_train, y_train)\r\n",
    "    valid = (X_val, y_val)\r\n",
    "    test = (X_test, y_test)\r\n",
    "\r\n",
    "    return train, valid, test, train_idx, val_idx, test_idx"
   ]
  },
  {
   "cell_type": "markdown",
   "metadata": {},
   "source": [
    "## Data Loading and Parameters"
   ]
  },
  {
   "cell_type": "code",
   "execution_count": 5,
   "metadata": {},
   "outputs": [],
   "source": [
    "input_dim = 6984         \r\n",
    "hidden_dim = 100\r\n",
    "emb_size = 100\r\n",
    "batch_size = 100\r\n",
    "classes = 6984         \r\n",
    "dropout_p = 0.5 \r\n",
    "layers = 2"
   ]
  },
  {
   "cell_type": "code",
   "execution_count": 6,
   "metadata": {},
   "outputs": [],
   "source": [
    "class Dataset():            # custom dataset class that puts the data in x and y pairs\r\n",
    "    def __init__(self, x, y):\r\n",
    "        self.x, self.y = x, y\r\n",
    "    def __len__(self): \r\n",
    "        return len(self.x)\r\n",
    "    def __getitem__(self, i ): \r\n",
    "        return self.x[i], self.y[i]"
   ]
  },
  {
   "cell_type": "code",
   "execution_count": 7,
   "metadata": {},
   "outputs": [],
   "source": [
    "class Sampler():        # data sampler shuffles the order of training set and keeps the exact amount of sequences needed for a batch\r\n",
    "    def __init__(self, dataset, batch_size, shuffle=False):\r\n",
    "        self.n, self.batch_size, self.shuffle = (len(dataset)//batch_size)*batch_size, batch_size, shuffle  # (len(ds)//bs) keeps the exact amount of samples needed for the batch size\r\n",
    "        \r\n",
    "    def __iter__(self):\r\n",
    "        self.idxs = torch.randperm(self.n) if self.shuffle else torch.arange(self.n)\r\n",
    "        for i in range(0, self.n, self.batch_size): \r\n",
    "            yield self.idxs[i:i+self.batch_size]"
   ]
  },
  {
   "cell_type": "code",
   "execution_count": 8,
   "metadata": {},
   "outputs": [],
   "source": [
    "def collate(batch_pairs):\r\n",
    "    x,y = zip(*batch_pairs)\r\n",
    "    return (x,y)\r\n",
    "\r\n",
    "class DataLoader():         # data loader collects and combines the dataset with the data sampler by iterating through the dataset and getting batches\r\n",
    "    def __init__(self, dataset, sampler, collate_fn=collate):\r\n",
    "        self.dataset, self.sampler, self.collate_fn = dataset, sampler, collate_fn\r\n",
    "    def __len__(self): \r\n",
    "        return len(self.dataset)\r\n",
    "    def __iter__(self):\r\n",
    "        for s in self.sampler: \r\n",
    "            yield self.collate_fn([self.dataset[i] for i in s])"
   ]
  },
  {
   "cell_type": "code",
   "execution_count": 9,
   "metadata": {},
   "outputs": [],
   "source": [
    "train, valid, test, train_idx, val_idx, test_idx = train_test_val_split(encoded_icd9_data, encoded_icd9_data, 0.20, 0.20) # data is train_val_test split in 60%, 20%, 20%"
   ]
  },
  {
   "cell_type": "code",
   "execution_count": 10,
   "metadata": {},
   "outputs": [],
   "source": [
    "train_ds= Dataset(train[0], train[1])\r\n",
    "train_samp = Sampler(train_ds, batch_size, shuffle=True)\r\n",
    "train_dl = DataLoader(train_ds, sampler=train_samp, collate_fn=collate)"
   ]
  },
  {
   "cell_type": "code",
   "execution_count": 11,
   "metadata": {},
   "outputs": [],
   "source": [
    "valid_ds= Dataset(valid[0], valid[1])\r\n",
    "valid_samp = Sampler(valid_ds, batch_size, shuffle=False)\r\n",
    "valid_dl = DataLoader(valid_ds, sampler=valid_samp, collate_fn=collate)"
   ]
  },
  {
   "cell_type": "markdown",
   "metadata": {},
   "source": [
    "## Model"
   ]
  },
  {
   "cell_type": "code",
   "execution_count": 12,
   "metadata": {},
   "outputs": [],
   "source": [
    "DEVICE = 'cuda' if torch.cuda.is_available() else 'cpu'"
   ]
  },
  {
   "cell_type": "code",
   "execution_count": 13,
   "metadata": {},
   "outputs": [],
   "source": [
    "class Custom_Embedding(nn.Module):                                              # This custom_embedding was used to project the 3D multi one-hot encoded vectors to lower dimension before putting into a GRU\r\n",
    "    def __init__ (self, input_dim, emb_size):\r\n",
    "        super(Custom_Embedding, self).__init__()\r\n",
    "        self.input_dim = input_dim\r\n",
    "        self.emb_size = emb_size\r\n",
    "        \r\n",
    "        self.W_emb = nn.Parameter(torch.randn(self.input_dim, self.emb_size).to(DEVICE) * 0.01)\r\n",
    "        self.b_emb = nn.Parameter(torch.zeros(self.emb_size).to(DEVICE) * 0.01) \r\n",
    "       \r\n",
    "    def forward(self, x):\r\n",
    "        return torch.tanh(x@self.W_emb + self.b_emb)                            # random initialisation, learning the appropriate weights during backpropagation\r\n",
    "\r\n",
    "def dropout_mask(x, sz, p):                                                     # this dropout mask is maintained throughout multiple time steps to avoid random mask sampling perturbing the RNN connections\r\n",
    "    return x.new(*sz).bernoulli_(1-p).div_(1-p)\r\n",
    "\r\n",
    "class superGRU(Custom_Embedding):\r\n",
    "    def __init__(self, input_dim, hidden_dim, emb_size, classes, layers):\r\n",
    "        # this class contains randomly initialised weights for the hidden state calculations\r\n",
    "        super().__init__(input_dim, emb_size)\r\n",
    "        \r\n",
    "        self.classes = classes\r\n",
    "        self.layers = layers\r\n",
    "        self.hidden_dim = hidden_dim\r\n",
    "        self.emb = Custom_Embedding(input_dim, emb_size).to(DEVICE)                    \r\n",
    "        \r\n",
    "        self.W_r = nn.Parameter(torch.randn(emb_size, hidden_dim).to(DEVICE)* 0.01)     \r\n",
    "        self.W_z = nn.Parameter(torch.randn(emb_size, hidden_dim).to(DEVICE)* 0.01)\r\n",
    "        self.W_h = nn.Parameter(torch.randn(emb_size, hidden_dim).to(DEVICE)* 0.01)\r\n",
    "        \r\n",
    "        self.U_r = nn.Parameter(torch.randn(hidden_dim, hidden_dim).to(DEVICE)* 0.01)\r\n",
    "        self.U_z = nn.Parameter(torch.randn(hidden_dim, hidden_dim).to(DEVICE)* 0.01)\r\n",
    "        self.U_h = nn.Parameter(torch.randn(hidden_dim, hidden_dim).to(DEVICE)* 0.01)\r\n",
    "        \r\n",
    "        self.b_r = nn.Parameter(torch.randn(hidden_dim).to(DEVICE))\r\n",
    "        self.b_z = nn.Parameter(torch.randn(hidden_dim).to(DEVICE))\r\n",
    "        self.b_h = nn.Parameter(torch.randn(hidden_dim).to(DEVICE))\r\n",
    "        \r\n",
    "        self.W_output = nn.Parameter(torch.randn(emb_size, classes).to(DEVICE))\r\n",
    "        self.b_output = nn.Parameter(torch.randn(classes).to(DEVICE))\r\n",
    "        \r\n",
    "    def forward(self, emb, mask):\r\n",
    "        h = self.init_hidden(emb.size(1)).to(DEVICE)\r\n",
    "        \r\n",
    "        z = torch.sigmoid(emb@self.W_z + h@self.U_z + self.b_z) \r\n",
    "        r = torch.sigmoid(emb@self.W_r + h@self.U_r + self.b_r)\r\n",
    "        h_tilde = torch.tanh(emb@self.W_h + (r * h)@self.U_h + self.b_h)\r\n",
    "        h_new = z * h + ((1. - z) * h_tilde)\r\n",
    "        h_new = mask[:, :, None] * h_new + (1. - mask)[:, :, None] * h\r\n",
    "        return h_new\r\n",
    "    \r\n",
    "    def init_hidden(self, batch_size):\r\n",
    "        return Variable(torch.zeros(1, batch_size, hidden_dim))\r\n",
    "\r\n",
    "class GRU(superGRU):   \r\n",
    "    # this custom layer performs initial embedding followed by hidden state calculations and performing dropout\r\n",
    "    # between layers\r\n",
    "    def __init__(self, superGRU, *kwargs):\r\n",
    "        super().__init__(input_dim, hidden_dim, emb_size, classes, layers)\r\n",
    "        self.cell = superGRU(*kwargs)\r\n",
    "        self.emb = Custom_Embedding(input_dim, emb_size)\r\n",
    "\r\n",
    "    def forward(self, x, mask):\r\n",
    "        input_vec = self.emb(x).to(DEVICE)\r\n",
    "        for i in range(layers):\r\n",
    "            memories = self.cell(input_vec, mask)\r\n",
    "            drop_out = dropout_mask(input_vec, (input_vec.size(0), 1, input_vec.size(2)), 0.5)\r\n",
    "            input_vec = memories * drop_out\r\n",
    "        \r\n",
    "        y_linear = input_vec@self.W_output + self.b_output\r\n",
    "        output = F.softmax(y_linear, dim=1)\r\n",
    "        output = output * mask[:,:,None]\r\n",
    "        return output"
   ]
  },
  {
   "cell_type": "code",
   "execution_count": 14,
   "metadata": {},
   "outputs": [],
   "source": [
    "class loss_function():\r\n",
    "    # custom loss function is used to assess the performance through cross entropy. The prediction loss for each minibatch is normalised to \r\n",
    "    # the sequence length and L2 regularisation is applied to all weights matrices\r\n",
    "    def __init__(self, y_hat, y, lengths, L_2=0.00001, logEps=1e-8):\r\n",
    "        self.y_hat = y_hat\r\n",
    "        self.y = y\r\n",
    "        self.lengths = lengths\r\n",
    "        self.logEps = logEps\r\n",
    "        self.L_2 = L_2        \r\n",
    "        self.W_out = nn.Parameter(torch.randn(hidden_dim, classes).to(DEVICE)*0.01)\r\n",
    "    \r\n",
    "    def cross_entropy(self):\r\n",
    "        ce = -(self.y * torch.log(self.y_hat + self.logEps) + (1. - self.y) * torch.log(1. - self.y_hat + self.logEps))\r\n",
    "        return ce\r\n",
    "    \r\n",
    "    def prediction_loss(self):\r\n",
    "        pl = (torch.sum(torch.sum(self.cross_entropy(), dim=0), dim=1)).float()/self.lengths.float()        # was causing nans through division by zero lengths :(\r\n",
    "        return pl\r\n",
    "    \r\n",
    "    def loss(self):\r\n",
    "        l = torch.mean(self.prediction_loss()) + self.L_2 * (self.W_out ** 2).sum() # regularising\r\n",
    "        return l\r\n",
    "    \r\n",
    "    def torch_nanmean(self, x):\r\n",
    "        num = torch.where(torch.isnan(x), torch.full_like(x, 0), torch.full_like(x, 1)).sum()\r\n",
    "        value = torch.where(torch.isnan(x), torch.full_like(x, 0), x).sum()\r\n",
    "        return value / num"
   ]
  },
  {
   "cell_type": "code",
   "execution_count": 15,
   "metadata": {},
   "outputs": [],
   "source": [
    "class metrics():\r\n",
    "    # class to calculate accuracy, precision, recall and f1-score of the model\r\n",
    "    def __init__(self, y_hat, y):\r\n",
    "        self.y_hat = y_hat\r\n",
    "        self.y = y\r\n",
    "    \r\n",
    "    def metrics(self):             #accuracy, precision, recall, f1-score calculations \r\n",
    "        _gt = torch.flatten(self.y).to(DEVICE) \r\n",
    "        _preds = torch.flatten(self.y_hat).to(DEVICE)\r\n",
    "        _preds[torch.where(_preds > 0.5)] = 1.\r\n",
    "        _preds[torch.where(_preds < 0.5)] = 0.\r\n",
    "        tp_ind = (_preds == 1.) & (_preds == _gt)\r\n",
    "        tp = float(torch.count_nonzero(tp_ind))\r\n",
    "        tn_ind = (_preds == 0.) & (_preds == _gt)\r\n",
    "        tn = float(torch.count_nonzero(tn_ind))\r\n",
    "        fp_ind = (_preds == 1.) & (_preds != _gt)\r\n",
    "        fp = float(torch.count_nonzero(fp_ind))\r\n",
    "        fn_ind = (_preds == 0.) & (_preds != _gt)\r\n",
    "        fn = float(torch.count_nonzero(fn_ind))\r\n",
    "        accuracy = (tp+tn)/(tp+tn+fp+fn)\r\n",
    "        recall = fn/(fn+tp)\r\n",
    "        if tp+fp == 0:\r\n",
    "            precision = 0\r\n",
    "        else: precision = tp/(tp+fp)\r\n",
    "        f1_score = (2*precision*recall)/(precision+recall)\r\n",
    "        return accuracy, recall, precision, f1_score"
   ]
  },
  {
   "cell_type": "markdown",
   "metadata": {},
   "source": [
    "## Training"
   ]
  },
  {
   "cell_type": "code",
   "execution_count": 17,
   "metadata": {},
   "outputs": [],
   "source": [
    "def save_checkpoint(state, filename):\r\n",
    "    print('=> Saving checkpoint')\r\n",
    "    torch.save(state, filename)\r\n",
    "\r\n",
    "def load_checkpoint(checkpoint, model, optimizer):\r\n",
    "    print('=> Loading checkpoint')\r\n",
    "    model.load_state_dict(checkpoint['state_dict'])\r\n",
    "    optimizer.load_state_dict(checkpoint['optimizer'])"
   ]
  },
  {
   "cell_type": "code",
   "execution_count": 34,
   "metadata": {},
   "outputs": [],
   "source": [
    "LEARNING_RATE = 1e-2 \r\n",
    "NUM_EPOCHS = 20"
   ]
  },
  {
   "cell_type": "code",
   "execution_count": 35,
   "metadata": {},
   "outputs": [],
   "source": [
    "model = GRU(superGRU, input_dim, hidden_dim, emb_size, classes, layers)\r\n",
    "optimizer = torch.optim.Adadelta(model.parameters(), lr = LEARNING_RATE, rho=0.95)"
   ]
  },
  {
   "cell_type": "code",
   "execution_count": 36,
   "metadata": {},
   "outputs": [],
   "source": [
    "def train_val(train_loader, val_loader, model, optimizer): \r\n",
    "    history_train_loss = []                 # for plotting training, val loss etc.\r\n",
    "    history_val_loss = []\r\n",
    "    history_train_accuracy = []                 \r\n",
    "    history_val_accuracy = []\r\n",
    "    history_train_recall = []                 \r\n",
    "    history_val_recall = []\r\n",
    "    history_train_precision = []                 \r\n",
    "    history_val_precision = []\r\n",
    "    history_train_f1 = []                 \r\n",
    "    history_val_f1 = []\r\n",
    "    loss_train = []\r\n",
    "    loss_val = []\r\n",
    "    acc_train = []\r\n",
    "    acc_val = []\r\n",
    "    recall_train = []\r\n",
    "    recall_val = []\r\n",
    "    precision_train = []\r\n",
    "    precision_val = []\r\n",
    "    f1_train = []\r\n",
    "    f1_val = []\r\n",
    "    start = time.time()\r\n",
    "    for epoch in range(NUM_EPOCHS):\r\n",
    "        model.train()\r\n",
    "        train_iteration = 0                                       \r\n",
    "        for X_batch, y_batch in train_loader:    # train\r\n",
    "            X_batch, y_batch, mask_batch, lengths_batch = padding(X_batch, y_batch, input_dim, classes)\r\n",
    "            X_batch = X_batch.to(DEVICE, dtype=torch.float)\r\n",
    "            y_batch = y_batch.to(DEVICE, dtype=torch.long)\r\n",
    "            mask_batch = mask_batch.to(DEVICE, dtype=torch.float)\r\n",
    "            lengths_batch = lengths_batch.to(DEVICE, dtype=torch.float)\r\n",
    "            lengths_batch[lengths_batch==0] = 1e-8\r\n",
    "            optimizer.zero_grad()                               \r\n",
    "            # forward \r\n",
    "            preds = model(x=X_batch, mask=mask_batch) \r\n",
    "            train_loss = loss_function(preds, y_batch, lengths_batch).loss()\r\n",
    "            train_accuracy, train_recall, train_precision, train_f1_score = metrics(preds, y_batch).metrics()\r\n",
    "            # backward\r\n",
    "            train_loss.backward()\r\n",
    "            nn.utils.clip_grad_norm_(model.parameters(), 5)\r\n",
    "            optimizer.step()\r\n",
    "            torch.cuda.empty_cache()\r\n",
    "            loss_train.append(train_loss.item())\r\n",
    "            acc_train.append(train_accuracy)\r\n",
    "            recall_train.append(train_recall)\r\n",
    "            precision_train.append(train_precision)\r\n",
    "            f1_train.append(train_f1_score)   \r\n",
    "            train_iteration+=1               \r\n",
    "        train_loss_epoch = np.mean(loss_train)\r\n",
    "        history_train_loss.append(train_loss_epoch)                         # mean loss per epoch\r\n",
    "        train_acc_epoch = np.mean(acc_train)\r\n",
    "        history_train_accuracy.append(train_acc_epoch)                     # mean acc per epoch\r\n",
    "        train_recall_epoch = np.mean(recall_train)                   \r\n",
    "        history_train_recall.append(train_recall_epoch)                     # mean recall per epoch\r\n",
    "        train_precision_epoch = np.mean(precision_train)                   \r\n",
    "        history_train_precision.append(train_precision_epoch)                # mean precision per epoch\r\n",
    "        train_f1_epoch = np.mean(f1_train)                   \r\n",
    "        history_train_f1.append(train_f1_epoch)                             # mean f1 per epoch\r\n",
    "        \r\n",
    "        with torch.no_grad():\r\n",
    "            model.eval()\r\n",
    "            val_iteration = 0 \r\n",
    "            for X_batch, y_batch in val_loader:        # val\r\n",
    "                X_batch, y_batch, mask_batch, lengths_batch = padding(X_batch, y_batch, input_dim, classes)\r\n",
    "                X_batch = X_batch.to(DEVICE, dtype=torch.float)\r\n",
    "                y_batch = y_batch.to(DEVICE, dtype=torch.long)\r\n",
    "                mask_batch = mask_batch.to(DEVICE, dtype=torch.float)\r\n",
    "                lengths_batch = lengths_batch.to(DEVICE, dtype=torch.float)\r\n",
    "                lengths_batch[lengths_batch==0] = 1e-8\r\n",
    "                preds = model(X_batch, mask_batch)\r\n",
    "                val_loss = loss_function(preds, y_batch, lengths_batch).loss()\r\n",
    "                val_accuracy, val_recall, val_precision, val_f1_score = metrics(preds, y_batch).metrics()\r\n",
    "                torch.cuda.empty_cache()\r\n",
    "                loss_val.append(val_loss.item())\r\n",
    "                acc_val.append(val_accuracy)\r\n",
    "                recall_val.append(val_recall)\r\n",
    "                precision_val.append(val_precision)\r\n",
    "                f1_val.append(val_f1_score)\r\n",
    "                val_iteration+=1\r\n",
    "        val_loss_epoch = np.mean(loss_val)\r\n",
    "        history_val_loss.append(val_loss_epoch)                     \r\n",
    "        val_acc_epoch = np.mean(acc_val)\r\n",
    "        history_val_accuracy.append(val_acc_epoch)                     \r\n",
    "        val_recall_epoch = np.mean(recall_val)                   \r\n",
    "        history_val_recall.append(val_recall_epoch) \r\n",
    "        val_precision_epoch = np.mean(precision_val)                   \r\n",
    "        history_val_precision.append(val_precision_epoch)\r\n",
    "        val_f1_epoch = np.mean(f1_val)                   \r\n",
    "        history_val_f1.append(val_f1_epoch)               \r\n",
    "                     \r\n",
    "        print(f' epoch: {epoch}, train loss: {train_loss_epoch:.6f}, val loss: {val_loss_epoch:.6f}, train recall: {train_recall_epoch:.4f}, val recall: {val_recall_epoch:.4f}, train precision: {train_precision_epoch:.4f}, val precision : {val_precision_epoch:.4f} ')\r\n",
    "    end = time.time()\r\n",
    "    print('Training and validation has taken ', end - start, 'seconds to complete')\r\n",
    "    return history_train_loss, history_val_loss, history_train_accuracy, history_val_accuracy, history_train_recall, history_val_recall, history_train_precision, history_val_precision, history_train_f1, history_val_f1"
   ]
  },
  {
   "cell_type": "code",
   "execution_count": 37,
   "metadata": {},
   "outputs": [
    {
     "name": "stdout",
     "output_type": "stream",
     "text": [
      " epoch: 0, train loss: 50.179097, val loss: 46.825556, train recall: 0.9888, val recall: 0.9896, train precision: 0.0018, val precision : 0.0022 \n",
      " epoch: 1, train loss: 45.421021, val loss: 41.037983, train recall: 0.9916, val recall: 0.9932, train precision: 0.0020, val precision : 0.0023 \n",
      " epoch: 2, train loss: 39.970770, val loss: 35.672048, train recall: 0.9941, val recall: 0.9954, train precision: 0.0020, val precision : 0.0020 \n",
      " epoch: 3, train loss: 35.725032, val loss: 32.428553, train recall: 0.9956, val recall: 0.9966, train precision: 0.0016, val precision : 0.0015 \n",
      " epoch: 4, train loss: 32.933947, val loss: 30.355013, train recall: 0.9965, val recall: 0.9972, train precision: 0.0013, val precision : 0.0016 \n",
      " epoch: 5, train loss: 31.022150, val loss: 28.914202, train recall: 0.9970, val recall: 0.9977, train precision: 0.0011, val precision : 0.0013 \n",
      " epoch: 6, train loss: 29.608399, val loss: 27.859158, train recall: 0.9975, val recall: 0.9980, train precision: 0.0010, val precision : 0.0012 \n",
      " epoch: 7, train loss: 28.531083, val loss: 27.048119, train recall: 0.9978, val recall: 0.9983, train precision: 0.0008, val precision : 0.0010 \n",
      " epoch: 8, train loss: 27.683309, val loss: 26.405967, train recall: 0.9980, val recall: 0.9985, train precision: 0.0007, val precision : 0.0009 \n",
      " epoch: 9, train loss: 26.998108, val loss: 25.883996, train recall: 0.9982, val recall: 0.9986, train precision: 0.0007, val precision : 0.0008 \n",
      " epoch: 10, train loss: 26.432347, val loss: 25.453065, train recall: 0.9984, val recall: 0.9987, train precision: 0.0006, val precision : 0.0007 \n",
      " epoch: 11, train loss: 25.953450, val loss: 25.088997, train recall: 0.9985, val recall: 0.9988, train precision: 0.0006, val precision : 0.0007 \n",
      " epoch: 12, train loss: 25.544647, val loss: 24.777230, train recall: 0.9986, val recall: 0.9989, train precision: 0.0005, val precision : 0.0006 \n",
      " epoch: 13, train loss: 25.192345, val loss: 24.506644, train recall: 0.9987, val recall: 0.9990, train precision: 0.0005, val precision : 0.0006 \n",
      " epoch: 14, train loss: 24.882325, val loss: 24.269496, train recall: 0.9988, val recall: 0.9991, train precision: 0.0004, val precision : 0.0005 \n",
      " epoch: 15, train loss: 24.611209, val loss: 24.061167, train recall: 0.9989, val recall: 0.9991, train precision: 0.0004, val precision : 0.0005 \n",
      " epoch: 16, train loss: 24.369836, val loss: 23.875622, train recall: 0.9990, val recall: 0.9992, train precision: 0.0004, val precision : 0.0005 \n",
      " epoch: 17, train loss: 24.154032, val loss: 23.709217, train recall: 0.9990, val recall: 0.9992, train precision: 0.0004, val precision : 0.0004 \n",
      " epoch: 18, train loss: 23.960106, val loss: 23.560130, train recall: 0.9991, val recall: 0.9993, train precision: 0.0004, val precision : 0.0004 \n",
      " epoch: 19, train loss: 23.784647, val loss: 23.425243, train recall: 0.9991, val recall: 0.9993, train precision: 0.0003, val precision : 0.0004 \n",
      "Training and validation has taken  323.14700388908386 seconds to complete\n",
      "=> Saving checkpoint\n"
     ]
    }
   ],
   "source": [
    "history_train_loss, history_val_loss, history_train_accuracy, history_val_accuracy, history_train_recall, history_val_recall, \\\r\n",
    "    history_train_precision, history_val_precision, history_train_f1, history_val_f1 = train_val(train_dl, valid_dl, model, optimizer)\r\n",
    "checkpoint = {\r\n",
    "    \"state_dict\": model.state_dict(), \r\n",
    "    \"optimizer\": optimizer.state_dict(),}\r\n",
    "save_checkpoint(checkpoint, 'trained.pth.tar')"
   ]
  },
  {
   "cell_type": "code",
   "execution_count": 61,
   "metadata": {},
   "outputs": [],
   "source": [
    "# np.save('results/history_train_loss.npy', history_train_loss)         #Saving results\r\n",
    "# np.save('results/history_val_loss.npy', history_val_loss)\r\n",
    "# np.save('results/history_train_accuracy.npy', history_train_accuracy)\r\n",
    "# np.save('results/history_val_accuracy.npy', history_val_accuracy)\r\n",
    "# np.save('results/history_train_recall.npy', history_train_recall)\r\n",
    "# np.save('results/history_val_recall.npy', history_val_recall)\r\n",
    "# np.save('results/history_train_precision.npy', history_train_precision)\r\n",
    "# np.save('results/history_val_precision.npy', history_val_precision)\r\n",
    "# np.save('results/history_train_f1.npy', history_train_f1)\r\n",
    "# np.save('results/history_val_f1.npy', history_val_f1)"
   ]
  },
  {
   "cell_type": "code",
   "execution_count": 94,
   "metadata": {},
   "outputs": [],
   "source": [
    "# history_train_loss = np.load('results/history_train_loss.npy')    # Loading results\r\n",
    "# history_val_loss = np.load('results/history_val_loss.npy')\r\n",
    "# history_train_accuracy = np.load('results/history_train_accuracy.npy')\r\n",
    "# history_val_accuracy = np.load('results/history_val_accuracy.npy')\r\n",
    "# history_train_recall = np.load('results/history_train_recall.npy')\r\n",
    "# history_val_recall = np.load('results/history_val_recall.npy')\r\n",
    "# history_train_precision = np.load('results/history_train_precision.npy')\r\n",
    "# history_val_precision = np.load('results/history_val_precision.npy')\r\n",
    "# history_train_f1 = np.load('results/history_train_f1.npy')\r\n",
    "# history_val_f1 = np.load('results/history_val_f1.npy')"
   ]
  },
  {
   "cell_type": "code",
   "execution_count": 63,
   "metadata": {},
   "outputs": [
    {
     "data": {
      "image/png": "[encoded data removed]",
      "text/plain": "<Figure size 864x504 with 1 Axes>"
     },
     "metadata": {
      "needs_background": "light"
     },
     "output_type": "display_data"
    },
    {
     "data": {
      "text/plain": "<Figure size 432x288 with 0 Axes>"
     },
     "metadata": {},
     "output_type": "display_data"
    }
   ],
   "source": [
    "plt.figure(figsize=(12, 7))\r\n",
    "plt.plot(history_train_loss, 'b', linewidth=3.0, label='Training Loss')\r\n",
    "plt.plot(history_val_loss, 'r', linewidth=3.0, label='Validation Loss')\r\n",
    "plt.title('Loss vs. Epochs GRU', fontsize=18)\r\n",
    "plt.xlabel('Epochs', fontsize=16)\r\n",
    "plt.ylabel('Loss', fontsize=16)\r\n",
    "plt.legend(fontsize=12)\r\n",
    "plt.show()\r\n",
    "# plt.savefig('results/LossvsEpochs.png')"
   ]
  },
  {
   "cell_type": "code",
   "execution_count": 62,
   "metadata": {},
   "outputs": [
    {
     "data": {
      "image/png": "[encoded data removed]",
      "text/plain": "<Figure size 864x504 with 1 Axes>"
     },
     "metadata": {
      "needs_background": "light"
     },
     "output_type": "display_data"
    },
    {
     "data": {
      "text/plain": "<Figure size 432x288 with 0 Axes>"
     },
     "metadata": {},
     "output_type": "display_data"
    }
   ],
   "source": [
    "plt.figure(figsize=(12, 7))\r\n",
    "plt.plot(history_train_recall, 'm', linewidth=3.0, label='Training Recall')\r\n",
    "plt.plot(history_val_recall, 'g', linewidth=3.0, label='Validation Recall')\r\n",
    "plt.title('Recall vs. Epochs GRU', fontsize=18)\r\n",
    "plt.xlabel('Epochs', fontsize=16)\r\n",
    "plt.ylabel('Recall', fontsize=16)\r\n",
    "plt.legend(fontsize=12)\r\n",
    "plt.show()\r\n",
    "# plt.savefig('results/RecallvsEpochs.png')"
   ]
  },
  {
   "cell_type": "code",
   "execution_count": 48,
   "metadata": {},
   "outputs": [
    {
     "data": {
      "image/png": "[encoded data removed]",
      "text/plain": "<Figure size 864x504 with 1 Axes>"
     },
     "metadata": {
      "needs_background": "light"
     },
     "output_type": "display_data"
    },
    {
     "data": {
      "text/plain": "<Figure size 432x288 with 0 Axes>"
     },
     "metadata": {},
     "output_type": "display_data"
    }
   ],
   "source": [
    "plt.figure(figsize=(12, 7))\r\n",
    "plt.plot(history_train_accuracy, 'k', linewidth=3.0, label='Training Accuracy')\r\n",
    "plt.plot(history_val_accuracy, 'c', linewidth=3.0, label='Validation Accuracy')\r\n",
    "plt.title('Accuracy vs. Epochs GRU', fontsize=18)\r\n",
    "plt.xlabel('Epochs', fontsize=16)\r\n",
    "plt.ylabel('Accuracy', fontsize=16)\r\n",
    "plt.legend(fontsize=12)\r\n",
    "plt.show()\r\n",
    "#plt.savefig('results/AccuracyvsEpochs.png')"
   ]
  },
  {
   "cell_type": "markdown",
   "metadata": {},
   "source": [
    "## Evaluation"
   ]
  },
  {
   "cell_type": "code",
   "execution_count": 41,
   "metadata": {},
   "outputs": [],
   "source": [
    "test_ds = Dataset(test[0], test[1])\r\n",
    "test_samp = Sampler(test_ds, batch_size, shuffle=False)\r\n",
    "test_dl = DataLoader(test_ds, sampler=test_samp, collate_fn=collate)"
   ]
  },
  {
   "cell_type": "code",
   "execution_count": 98,
   "metadata": {},
   "outputs": [
    {
     "name": "stdout",
     "output_type": "stream",
     "text": [
      "=> Loading checkpoint\n"
     ]
    }
   ],
   "source": [
    "load_checkpoint(torch.load('trained.pth.tar'), model, optimizer)"
   ]
  },
  {
   "cell_type": "code",
   "execution_count": 42,
   "metadata": {},
   "outputs": [],
   "source": [
    "def test_(test_loader, model, optimizer): \r\n",
    "    history_test_recall = []\r\n",
    "    history_test_precision = []\r\n",
    "    history_test_accuracy = []\r\n",
    "    history_test_f1 = []\r\n",
    "    recall_test = []\r\n",
    "    precision_test = []\r\n",
    "    accuracy_test = []\r\n",
    "    f1_test = []\r\n",
    "                    \r\n",
    "    start = time.time()\r\n",
    "    model.eval()\r\n",
    "    test_iteration = 0\r\n",
    "    with torch.no_grad():                                       \r\n",
    "        for X_batch, y_batch in test_loader:    # test\r\n",
    "            X_batch, y_batch, mask_batch, lengths_batch = padding(X_batch, y_batch, 6984, 6984)\r\n",
    "            X_batch = X_batch.to(DEVICE, dtype=torch.float)\r\n",
    "            y_batch = y_batch.to(DEVICE, dtype=torch.long) \r\n",
    "            mask_batch = mask_batch.to(DEVICE, dtype=torch.float)\r\n",
    "            lengths_batch = lengths_batch.to(DEVICE, dtype=torch.float)\r\n",
    "            preds = model(X_batch, mask_batch)\r\n",
    "            test_accuracy, test_recall, test_precision, test_f1_score = metrics(preds, y_batch).metrics()\r\n",
    "            accuracy_test.append(test_accuracy)\r\n",
    "            recall_test.append(test_recall)\r\n",
    "            precision_test.append(test_precision)\r\n",
    "            f1_test.append(test_f1_score)\r\n",
    "            test_iteration+=1               \r\n",
    "        test_acc = np.mean(accuracy_test)\r\n",
    "        history_test_accuracy.append(test_acc)                     \r\n",
    "        test_rec = np.mean(recall_test)                   \r\n",
    "        history_val_recall.append(test_rec) \r\n",
    "        test_precision = np.mean(precision_test)                   \r\n",
    "        history_test_precision.append(test_precision)\r\n",
    "        test_f1 = np.mean(f1_test)                   \r\n",
    "        history_test_f1.append(test_f1)       \r\n",
    "                   \r\n",
    "        print(f' test recall: {test_rec:.6f}, test precision: {test_precision:.6f}, test accuracy: {test_acc:.6f}, test f1: {test_f1:.6f}')\r\n",
    "    end = time.time()\r\n",
    "    print('Testing has taken ', end - start, 'seconds to complete')\r\n",
    "    return history_test_recall, history_test_precision, history_test_accuracy, history_test_f1"
   ]
  },
  {
   "cell_type": "code",
   "execution_count": 43,
   "metadata": {},
   "outputs": [
    {
     "name": "stdout",
     "output_type": "stream",
     "text": [
      " test recall: 1.000000, test precision: 0.000000, test accuracy: 0.999885, test f1: 0.000000\n",
      "Testing has taken  2.3381383419036865 seconds to complete\n"
     ]
    }
   ],
   "source": [
    "history_test_recall, history_test_precision, history_test_accuracy, history_test_f1 = test_(test_dl, model, optimizer)"
   ]
  }
 ],
 "metadata": {
  "kernelspec": {
   "display_name": "Python 3.8.7 64-bit",
   "name": "python387jvsc74a57bd02db524e06e9f5f4ffedc911c917cb75e12dbc923643829bf417064a77eb14d37"
  },
  "language_info": {
   "codemirror_mode": {
    "name": "ipython",
    "version": 3
   },
   "file_extension": ".py",
   "mimetype": "text/x-python",
   "name": "python",
   "nbconvert_exporter": "python",
   "pygments_lexer": "ipython3",
   "version": "3.8.7"
  },
  "orig_nbformat": 2
 },
 "nbformat": 4,
 "nbformat_minor": 2
}