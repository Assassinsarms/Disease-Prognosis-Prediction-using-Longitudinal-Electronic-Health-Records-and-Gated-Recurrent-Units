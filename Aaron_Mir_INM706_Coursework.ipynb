{
 "metadata": {
  "language_info": {
   "codemirror_mode": {
    "name": "ipython",
    "version": 3
   },
   "file_extension": ".py",
   "mimetype": "text/x-python",
   "name": "python",
   "nbconvert_exporter": "python",
   "pygments_lexer": "ipython3",
   "version": "3.8.7-final"
  },
  "orig_nbformat": 2,
  "kernelspec": {
   "name": "python3",
   "display_name": "Python 3.8.7 64-bit",
   "metadata": {
    "interpreter": {
     "hash": "2db524e06e9f5f4ffedc911c917cb75e12dbc923643829bf417064a77eb14d37"
    }
   }
  }
 },
 "nbformat": 4,
 "nbformat_minor": 2,
 "cells": [
  {
   "source": [
    "# INM706 Coursework\n",
    "### Aaron Mir (Student Number: 160001207)"
   ],
   "cell_type": "markdown",
   "metadata": {}
  },
  {
   "source": [
    "MIMIC-III is a large, freely-available database comprising deidentified health-related data associated with over 40,000 patients who stayed in critical care units of the Beth Israel Deaconess Medical Center between 2001 and 2012. The MIMIC-III Clinical Database is available on PhysioNet (doi: 10.13026/C2XW26). Though deidentified, MIMIC-III contains detailed information regarding the care of real patients, and as such requires credentialing before access. To allow researchers to ascertain whether the database is suitable for their work, we have manually curated a demo subset, which contains information for 100 patients also present in the MIMIC-III Clinical Database. Notably, the demo dataset does not include free-text notes.\n",
    "\n",
    "The demo dataset contains all intensive care unit (ICU) stays for 100 patients. These patients were selected randomly from the subset of patients in the dataset who eventually die. Consequently, all patients will have a date of death (DOD). However, patients do not necessarily die during an individual hospital admission or ICU stay.\n",
    "\n",
    "Since each unique hospital visit for a patient is assigned a unique HADM_ID, the ADMISSIONS table can be considered as a definition table for HADM_ID.\n",
    "Each row of this table contains a unique HADM_ID, which represents a single patient’s admission to the hospital. HADM_ID ranges from 1000000 - 1999999. It is possible for this table to have duplicate SUBJECT_ID, indicating that a single patient had multiple admissions to the hospital. The ADMISSIONS table can be linked to the PATIENTS table using SUBJECT_ID."
   ],
   "cell_type": "markdown",
   "metadata": {}
  },
  {
   "cell_type": "code",
   "execution_count": 1,
   "metadata": {},
   "outputs": [],
   "source": [
    "import pandas as pd\n",
    "import numpy as np\n",
    "import matplotlib.pyplot as plt\n",
    "from time import time\n",
    "import torch \n",
    "import torch.nn as nn\n",
    "from torch.autograd import Variable"
   ]
  },
  {
   "cell_type": "code",
   "execution_count": 45,
   "metadata": {},
   "outputs": [],
   "source": [
    "admission_data = pd.read_csv('data\\\\ADMISSIONS.csv')"
   ]
  },
  {
   "cell_type": "code",
   "execution_count": 46,
   "metadata": {},
   "outputs": [
    {
     "output_type": "execute_result",
     "data": {
      "text/plain": [
       "     row_id  subject_id  hadm_id            admittime            dischtime  \\\n",
       "0     12258       10006   142345  2164-10-23 21:09:00  2164-11-01 17:15:00   \n",
       "1     12263       10011   105331  2126-08-14 22:32:00  2126-08-28 18:59:00   \n",
       "2     12265       10013   165520  2125-10-04 23:36:00  2125-10-07 15:13:00   \n",
       "3     12269       10017   199207  2149-05-26 17:19:00  2149-06-03 18:42:00   \n",
       "4     12270       10019   177759  2163-05-14 20:43:00  2163-05-15 12:00:00   \n",
       "..      ...         ...      ...                  ...                  ...   \n",
       "124   41055       44083   198330  2112-05-28 15:45:00  2112-06-07 16:50:00   \n",
       "125   41070       44154   174245  2178-05-14 20:29:00  2178-05-15 09:45:00   \n",
       "126   41087       44212   163189  2123-11-24 14:14:00  2123-12-30 14:31:00   \n",
       "127   41090       44222   192189  2180-07-19 06:55:00  2180-07-20 13:00:00   \n",
       "128   41092       44228   103379  2170-12-15 03:14:00  2170-12-24 18:00:00   \n",
       "\n",
       "               deathtime admission_type         admission_location  \\\n",
       "0                    NaN      EMERGENCY       EMERGENCY ROOM ADMIT   \n",
       "1    2126-08-28 18:59:00      EMERGENCY  TRANSFER FROM HOSP/EXTRAM   \n",
       "2    2125-10-07 15:13:00      EMERGENCY  TRANSFER FROM HOSP/EXTRAM   \n",
       "3                    NaN      EMERGENCY       EMERGENCY ROOM ADMIT   \n",
       "4    2163-05-15 12:00:00      EMERGENCY  TRANSFER FROM HOSP/EXTRAM   \n",
       "..                   ...            ...                        ...   \n",
       "124                  NaN      EMERGENCY       EMERGENCY ROOM ADMIT   \n",
       "125  2178-05-15 09:45:00      EMERGENCY       EMERGENCY ROOM ADMIT   \n",
       "126                  NaN      EMERGENCY  TRANSFER FROM HOSP/EXTRAM   \n",
       "127                  NaN      EMERGENCY       EMERGENCY ROOM ADMIT   \n",
       "128                  NaN      EMERGENCY       EMERGENCY ROOM ADMIT   \n",
       "\n",
       "           discharge_location insurance language           religion  \\\n",
       "0            HOME HEALTH CARE  Medicare      NaN           CATHOLIC   \n",
       "1                DEAD/EXPIRED   Private      NaN           CATHOLIC   \n",
       "2                DEAD/EXPIRED  Medicare      NaN           CATHOLIC   \n",
       "3                         SNF  Medicare      NaN           CATHOLIC   \n",
       "4                DEAD/EXPIRED  Medicare      NaN           CATHOLIC   \n",
       "..                        ...       ...      ...                ...   \n",
       "124                      HOME   Private     ENGL           CATHOLIC   \n",
       "125              DEAD/EXPIRED  Medicare     ENGL  PROTESTANT QUAKER   \n",
       "126  REHAB/DISTINCT PART HOSP  Medicare     ENGL       UNOBTAINABLE   \n",
       "127                      HOME  Medicare     ENGL           CATHOLIC   \n",
       "128          HOME HEALTH CARE   Private     ENGL      NOT SPECIFIED   \n",
       "\n",
       "    marital_status               ethnicity            edregtime  \\\n",
       "0        SEPARATED  BLACK/AFRICAN AMERICAN  2164-10-23 16:43:00   \n",
       "1           SINGLE   UNKNOWN/NOT SPECIFIED                  NaN   \n",
       "2              NaN   UNKNOWN/NOT SPECIFIED                  NaN   \n",
       "3         DIVORCED                   WHITE  2149-05-26 12:08:00   \n",
       "4         DIVORCED                   WHITE                  NaN   \n",
       "..             ...                     ...                  ...   \n",
       "124         SINGLE                   WHITE  2112-05-28 13:16:00   \n",
       "125        MARRIED                   WHITE  2178-05-14 17:37:00   \n",
       "126         SINGLE  BLACK/AFRICAN AMERICAN                  NaN   \n",
       "127         SINGLE                   WHITE  2180-07-19 04:50:00   \n",
       "128         SINGLE                   WHITE  2170-12-15 02:22:00   \n",
       "\n",
       "               edouttime                                          diagnosis  \\\n",
       "0    2164-10-23 23:00:00                                             SEPSIS   \n",
       "1                    NaN                                        HEPATITIS B   \n",
       "2                    NaN                                             SEPSIS   \n",
       "3    2149-05-26 19:45:00                                   HUMERAL FRACTURE   \n",
       "4                    NaN                                ALCOHOLIC HEPATITIS   \n",
       "..                   ...                                                ...   \n",
       "124  2112-05-28 17:30:00                               PERICARDIAL EFFUSION   \n",
       "125  2178-05-14 22:08:00                              ALTERED MENTAL STATUS   \n",
       "126                  NaN  ACUTE RESPIRATORY DISTRESS SYNDROME;ACUTE RENA...   \n",
       "127  2180-07-19 08:23:00                                        BRADYCARDIA   \n",
       "128  2170-12-15 05:25:00                                        CHOLANGITIS   \n",
       "\n",
       "     hospital_expire_flag  has_chartevents_data  \n",
       "0                       0                     1  \n",
       "1                       1                     1  \n",
       "2                       1                     1  \n",
       "3                       0                     1  \n",
       "4                       1                     1  \n",
       "..                    ...                   ...  \n",
       "124                     0                     1  \n",
       "125                     1                     1  \n",
       "126                     0                     1  \n",
       "127                     0                     1  \n",
       "128                     0                     1  \n",
       "\n",
       "[129 rows x 19 columns]"
      ],
      "text/html": "<div>\n<style scoped>\n    .dataframe tbody tr th:only-of-type {\n        vertical-align: middle;\n    }\n\n    .dataframe tbody tr th {\n        vertical-align: top;\n    }\n\n    .dataframe thead th {\n        text-align: right;\n    }\n</style>\n<table border=\"1\" class=\"dataframe\">\n  <thead>\n    <tr style=\"text-align: right;\">\n      <th></th>\n      <th>row_id</th>\n      <th>subject_id</th>\n      <th>hadm_id</th>\n      <th>admittime</th>\n      <th>dischtime</th>\n      <th>deathtime</th>\n      <th>admission_type</th>\n      <th>admission_location</th>\n      <th>discharge_location</th>\n      <th>insurance</th>\n      <th>language</th>\n      <th>religion</th>\n      <th>marital_status</th>\n      <th>ethnicity</th>\n      <th>edregtime</th>\n      <th>edouttime</th>\n      <th>diagnosis</th>\n      <th>hospital_expire_flag</th>\n      <th>has_chartevents_data</th>\n    </tr>\n  </thead>\n  <tbody>\n    <tr>\n      <th>0</th>\n      <td>12258</td>\n      <td>10006</td>\n      <td>142345</td>\n      <td>2164-10-23 21:09:00</td>\n      <td>2164-11-01 17:15:00</td>\n      <td>NaN</td>\n      <td>EMERGENCY</td>\n      <td>EMERGENCY ROOM ADMIT</td>\n      <td>HOME HEALTH CARE</td>\n      <td>Medicare</td>\n      <td>NaN</td>\n      <td>CATHOLIC</td>\n      <td>SEPARATED</td>\n      <td>BLACK/AFRICAN AMERICAN</td>\n      <td>2164-10-23 16:43:00</td>\n      <td>2164-10-23 23:00:00</td>\n      <td>SEPSIS</td>\n      <td>0</td>\n      <td>1</td>\n    </tr>\n    <tr>\n      <th>1</th>\n      <td>12263</td>\n      <td>10011</td>\n      <td>105331</td>\n      <td>2126-08-14 22:32:00</td>\n      <td>2126-08-28 18:59:00</td>\n      <td>2126-08-28 18:59:00</td>\n      <td>EMERGENCY</td>\n      <td>TRANSFER FROM HOSP/EXTRAM</td>\n      <td>DEAD/EXPIRED</td>\n      <td>Private</td>\n      <td>NaN</td>\n      <td>CATHOLIC</td>\n      <td>SINGLE</td>\n      <td>UNKNOWN/NOT SPECIFIED</td>\n      <td>NaN</td>\n      <td>NaN</td>\n      <td>HEPATITIS B</td>\n      <td>1</td>\n      <td>1</td>\n    </tr>\n    <tr>\n      <th>2</th>\n      <td>12265</td>\n      <td>10013</td>\n      <td>165520</td>\n      <td>2125-10-04 23:36:00</td>\n      <td>2125-10-07 15:13:00</td>\n      <td>2125-10-07 15:13:00</td>\n      <td>EMERGENCY</td>\n      <td>TRANSFER FROM HOSP/EXTRAM</td>\n      <td>DEAD/EXPIRED</td>\n      <td>Medicare</td>\n      <td>NaN</td>\n      <td>CATHOLIC</td>\n      <td>NaN</td>\n      <td>UNKNOWN/NOT SPECIFIED</td>\n      <td>NaN</td>\n      <td>NaN</td>\n      <td>SEPSIS</td>\n      <td>1</td>\n      <td>1</td>\n    </tr>\n    <tr>\n      <th>3</th>\n      <td>12269</td>\n      <td>10017</td>\n      <td>199207</td>\n      <td>2149-05-26 17:19:00</td>\n      <td>2149-06-03 18:42:00</td>\n      <td>NaN</td>\n      <td>EMERGENCY</td>\n      <td>EMERGENCY ROOM ADMIT</td>\n      <td>SNF</td>\n      <td>Medicare</td>\n      <td>NaN</td>\n      <td>CATHOLIC</td>\n      <td>DIVORCED</td>\n      <td>WHITE</td>\n      <td>2149-05-26 12:08:00</td>\n      <td>2149-05-26 19:45:00</td>\n      <td>HUMERAL FRACTURE</td>\n      <td>0</td>\n      <td>1</td>\n    </tr>\n    <tr>\n      <th>4</th>\n      <td>12270</td>\n      <td>10019</td>\n      <td>177759</td>\n      <td>2163-05-14 20:43:00</td>\n      <td>2163-05-15 12:00:00</td>\n      <td>2163-05-15 12:00:00</td>\n      <td>EMERGENCY</td>\n      <td>TRANSFER FROM HOSP/EXTRAM</td>\n      <td>DEAD/EXPIRED</td>\n      <td>Medicare</td>\n      <td>NaN</td>\n      <td>CATHOLIC</td>\n      <td>DIVORCED</td>\n      <td>WHITE</td>\n      <td>NaN</td>\n      <td>NaN</td>\n      <td>ALCOHOLIC HEPATITIS</td>\n      <td>1</td>\n      <td>1</td>\n    </tr>\n    <tr>\n      <th>...</th>\n      <td>...</td>\n      <td>...</td>\n      <td>...</td>\n      <td>...</td>\n      <td>...</td>\n      <td>...</td>\n      <td>...</td>\n      <td>...</td>\n      <td>...</td>\n      <td>...</td>\n      <td>...</td>\n      <td>...</td>\n      <td>...</td>\n      <td>...</td>\n      <td>...</td>\n      <td>...</td>\n      <td>...</td>\n      <td>...</td>\n      <td>...</td>\n    </tr>\n    <tr>\n      <th>124</th>\n      <td>41055</td>\n      <td>44083</td>\n      <td>198330</td>\n      <td>2112-05-28 15:45:00</td>\n      <td>2112-06-07 16:50:00</td>\n      <td>NaN</td>\n      <td>EMERGENCY</td>\n      <td>EMERGENCY ROOM ADMIT</td>\n      <td>HOME</td>\n      <td>Private</td>\n      <td>ENGL</td>\n      <td>CATHOLIC</td>\n      <td>SINGLE</td>\n      <td>WHITE</td>\n      <td>2112-05-28 13:16:00</td>\n      <td>2112-05-28 17:30:00</td>\n      <td>PERICARDIAL EFFUSION</td>\n      <td>0</td>\n      <td>1</td>\n    </tr>\n    <tr>\n      <th>125</th>\n      <td>41070</td>\n      <td>44154</td>\n      <td>174245</td>\n      <td>2178-05-14 20:29:00</td>\n      <td>2178-05-15 09:45:00</td>\n      <td>2178-05-15 09:45:00</td>\n      <td>EMERGENCY</td>\n      <td>EMERGENCY ROOM ADMIT</td>\n      <td>DEAD/EXPIRED</td>\n      <td>Medicare</td>\n      <td>ENGL</td>\n      <td>PROTESTANT QUAKER</td>\n      <td>MARRIED</td>\n      <td>WHITE</td>\n      <td>2178-05-14 17:37:00</td>\n      <td>2178-05-14 22:08:00</td>\n      <td>ALTERED MENTAL STATUS</td>\n      <td>1</td>\n      <td>1</td>\n    </tr>\n    <tr>\n      <th>126</th>\n      <td>41087</td>\n      <td>44212</td>\n      <td>163189</td>\n      <td>2123-11-24 14:14:00</td>\n      <td>2123-12-30 14:31:00</td>\n      <td>NaN</td>\n      <td>EMERGENCY</td>\n      <td>TRANSFER FROM HOSP/EXTRAM</td>\n      <td>REHAB/DISTINCT PART HOSP</td>\n      <td>Medicare</td>\n      <td>ENGL</td>\n      <td>UNOBTAINABLE</td>\n      <td>SINGLE</td>\n      <td>BLACK/AFRICAN AMERICAN</td>\n      <td>NaN</td>\n      <td>NaN</td>\n      <td>ACUTE RESPIRATORY DISTRESS SYNDROME;ACUTE RENA...</td>\n      <td>0</td>\n      <td>1</td>\n    </tr>\n    <tr>\n      <th>127</th>\n      <td>41090</td>\n      <td>44222</td>\n      <td>192189</td>\n      <td>2180-07-19 06:55:00</td>\n      <td>2180-07-20 13:00:00</td>\n      <td>NaN</td>\n      <td>EMERGENCY</td>\n      <td>EMERGENCY ROOM ADMIT</td>\n      <td>HOME</td>\n      <td>Medicare</td>\n      <td>ENGL</td>\n      <td>CATHOLIC</td>\n      <td>SINGLE</td>\n      <td>WHITE</td>\n      <td>2180-07-19 04:50:00</td>\n      <td>2180-07-19 08:23:00</td>\n      <td>BRADYCARDIA</td>\n      <td>0</td>\n      <td>1</td>\n    </tr>\n    <tr>\n      <th>128</th>\n      <td>41092</td>\n      <td>44228</td>\n      <td>103379</td>\n      <td>2170-12-15 03:14:00</td>\n      <td>2170-12-24 18:00:00</td>\n      <td>NaN</td>\n      <td>EMERGENCY</td>\n      <td>EMERGENCY ROOM ADMIT</td>\n      <td>HOME HEALTH CARE</td>\n      <td>Private</td>\n      <td>ENGL</td>\n      <td>NOT SPECIFIED</td>\n      <td>SINGLE</td>\n      <td>WHITE</td>\n      <td>2170-12-15 02:22:00</td>\n      <td>2170-12-15 05:25:00</td>\n      <td>CHOLANGITIS</td>\n      <td>0</td>\n      <td>1</td>\n    </tr>\n  </tbody>\n</table>\n<p>129 rows × 19 columns</p>\n</div>"
     },
     "metadata": {},
     "execution_count": 46
    }
   ],
   "source": [
    "admission_data"
   ]
  },
  {
   "cell_type": "code",
   "execution_count": 49,
   "metadata": {},
   "outputs": [
    {
     "output_type": "execute_result",
     "data": {
      "text/plain": [
       "Index(['row_id', 'subject_id', 'hadm_id', 'admittime', 'dischtime',\n",
       "       'deathtime', 'admission_type', 'admission_location',\n",
       "       'discharge_location', 'insurance', 'language', 'religion',\n",
       "       'marital_status', 'ethnicity', 'edregtime', 'edouttime', 'diagnosis',\n",
       "       'hospital_expire_flag', 'has_chartevents_data'],\n",
       "      dtype='object')"
      ]
     },
     "metadata": {},
     "execution_count": 49
    }
   ],
   "source": [
    "admission_data.columns"
   ]
  },
  {
   "cell_type": "code",
   "execution_count": 59,
   "metadata": {},
   "outputs": [
    {
     "output_type": "display_data",
     "data": {
      "text/plain": "<Figure size 720x720 with 1 Axes>",
      "image/svg+xml": "<?xml version=\"1.0\" encoding=\"utf-8\" standalone=\"no\"?>\r\n<!DOCTYPE svg PUBLIC \"-//W3C//DTD SVG 1.1//EN\"\r\n  \"http://www.w3.org/Graphics/SVG/1.1/DTD/svg11.dtd\">\r\n<!-- Created with matplotlib (https://matplotlib.org/) -->\r\n<svg height=\"641.634375pt\" version=\"1.1\" viewBox=\"0 0 598.4875 641.634375\" width=\"598.4875pt\" xmlns=\"http://www.w3.org/2000/svg\" xmlns:xlink=\"http://www.w3.org/1999/xlink\">\r\n <metadata>\r\n  <rdf:RDF xmlns:cc=\"http://creativecommons.org/ns#\" xmlns:dc=\"http://purl.org/dc/elements/1.1/\" xmlns:rdf=\"http://www.w3.org/1999/02/22-rdf-syntax-ns#\">\r\n   <cc:Work>\r\n    <dc:type rdf:resource=\"http://purl.org/dc/dcmitype/StillImage\"/>\r\n    <dc:date>2021-03-09T13:47:05.056869</dc:date>\r\n    <dc:format>image/svg+xml</dc:format>\r\n    <dc:creator>\r\n     <cc:Agent>\r\n      <dc:title>Matplotlib v3.3.3, https://matplotlib.org/</dc:title>\r\n     </cc:Agent>\r\n    </dc:creator>\r\n   </cc:Work>\r\n  </rdf:RDF>\r\n </metadata>\r\n <defs>\r\n  <style type=\"text/css\">*{stroke-linecap:butt;stroke-linejoin:round;}</style>\r\n </defs>\r\n <g id=\"figure_1\">\r\n  <g id=\"patch_1\">\r\n   <path d=\"M 0 641.634375 \r\nL 598.4875 641.634375 \r\nL 598.4875 0 \r\nL 0 0 \r\nz\r\n\" style=\"fill:none;\"/>\r\n  </g>\r\n  <g id=\"axes_1\">\r\n   <g id=\"patch_2\">\r\n    <path d=\"M 33.2875 550.8 \r\nL 591.2875 550.8 \r\nL 591.2875 7.2 \r\nL 33.2875 7.2 \r\nz\r\n\" style=\"fill:#ffffff;\"/>\r\n   </g>\r\n   <g id=\"patch_3\">\r\n    <path clip-path=\"url(#p4f938c6a9e)\" d=\"M 79.7875 550.8 \r\nL 172.7875 550.8 \r\nL 172.7875 515.995678 \r\nL 79.7875 515.995678 \r\nz\r\n\" style=\"fill:#ff0000;\"/>\r\n   </g>\r\n   <g id=\"patch_4\">\r\n    <path clip-path=\"url(#p4f938c6a9e)\" d=\"M 265.7875 550.8 \r\nL 358.7875 550.8 \r\nL 358.7875 33.085714 \r\nL 265.7875 33.085714 \r\nz\r\n\" style=\"fill:#ff0000;\"/>\r\n   </g>\r\n   <g id=\"patch_5\">\r\n    <path clip-path=\"url(#p4f938c6a9e)\" d=\"M 451.7875 550.8 \r\nL 544.7875 550.8 \r\nL 544.7875 542.09892 \r\nL 451.7875 542.09892 \r\nz\r\n\" style=\"fill:#ff0000;\"/>\r\n   </g>\r\n   <g id=\"matplotlib.axis_1\">\r\n    <g id=\"xtick_1\">\r\n     <g id=\"line2d_1\">\r\n      <defs>\r\n       <path d=\"M 0 0 \r\nL 0 3.5 \r\n\" id=\"medb5720cef\" style=\"stroke:#000000;stroke-width:0.8;\"/>\r\n      </defs>\r\n      <g>\r\n       <use style=\"stroke:#000000;stroke-width:0.8;\" x=\"126.2875\" xlink:href=\"#medb5720cef\" y=\"550.8\"/>\r\n      </g>\r\n     </g>\r\n     <g id=\"text_1\">\r\n      <!-- ELECTIVE -->\r\n      <g transform=\"translate(129.046875 605.209375)rotate(-90)scale(0.1 -0.1)\">\r\n       <defs>\r\n        <path d=\"M 9.8125 72.90625 \r\nL 55.90625 72.90625 \r\nL 55.90625 64.59375 \r\nL 19.671875 64.59375 \r\nL 19.671875 43.015625 \r\nL 54.390625 43.015625 \r\nL 54.390625 34.71875 \r\nL 19.671875 34.71875 \r\nL 19.671875 8.296875 \r\nL 56.78125 8.296875 \r\nL 56.78125 0 \r\nL 9.8125 0 \r\nz\r\n\" id=\"DejaVuSans-69\"/>\r\n        <path d=\"M 9.8125 72.90625 \r\nL 19.671875 72.90625 \r\nL 19.671875 8.296875 \r\nL 55.171875 8.296875 \r\nL 55.171875 0 \r\nL 9.8125 0 \r\nz\r\n\" id=\"DejaVuSans-76\"/>\r\n        <path d=\"M 64.40625 67.28125 \r\nL 64.40625 56.890625 \r\nQ 59.421875 61.53125 53.78125 63.8125 \r\nQ 48.140625 66.109375 41.796875 66.109375 \r\nQ 29.296875 66.109375 22.65625 58.46875 \r\nQ 16.015625 50.828125 16.015625 36.375 \r\nQ 16.015625 21.96875 22.65625 14.328125 \r\nQ 29.296875 6.6875 41.796875 6.6875 \r\nQ 48.140625 6.6875 53.78125 8.984375 \r\nQ 59.421875 11.28125 64.40625 15.921875 \r\nL 64.40625 5.609375 \r\nQ 59.234375 2.09375 53.4375 0.328125 \r\nQ 47.65625 -1.421875 41.21875 -1.421875 \r\nQ 24.65625 -1.421875 15.125 8.703125 \r\nQ 5.609375 18.84375 5.609375 36.375 \r\nQ 5.609375 53.953125 15.125 64.078125 \r\nQ 24.65625 74.21875 41.21875 74.21875 \r\nQ 47.75 74.21875 53.53125 72.484375 \r\nQ 59.328125 70.75 64.40625 67.28125 \r\nz\r\n\" id=\"DejaVuSans-67\"/>\r\n        <path d=\"M -0.296875 72.90625 \r\nL 61.375 72.90625 \r\nL 61.375 64.59375 \r\nL 35.5 64.59375 \r\nL 35.5 0 \r\nL 25.59375 0 \r\nL 25.59375 64.59375 \r\nL -0.296875 64.59375 \r\nz\r\n\" id=\"DejaVuSans-84\"/>\r\n        <path d=\"M 9.8125 72.90625 \r\nL 19.671875 72.90625 \r\nL 19.671875 0 \r\nL 9.8125 0 \r\nz\r\n\" id=\"DejaVuSans-73\"/>\r\n        <path d=\"M 28.609375 0 \r\nL 0.78125 72.90625 \r\nL 11.078125 72.90625 \r\nL 34.1875 11.53125 \r\nL 57.328125 72.90625 \r\nL 67.578125 72.90625 \r\nL 39.796875 0 \r\nz\r\n\" id=\"DejaVuSans-86\"/>\r\n       </defs>\r\n       <use xlink:href=\"#DejaVuSans-69\"/>\r\n       <use x=\"63.183594\" xlink:href=\"#DejaVuSans-76\"/>\r\n       <use x=\"118.896484\" xlink:href=\"#DejaVuSans-69\"/>\r\n       <use x=\"182.080078\" xlink:href=\"#DejaVuSans-67\"/>\r\n       <use x=\"251.904297\" xlink:href=\"#DejaVuSans-84\"/>\r\n       <use x=\"312.988281\" xlink:href=\"#DejaVuSans-73\"/>\r\n       <use x=\"342.480469\" xlink:href=\"#DejaVuSans-86\"/>\r\n       <use x=\"410.888672\" xlink:href=\"#DejaVuSans-69\"/>\r\n      </g>\r\n     </g>\r\n    </g>\r\n    <g id=\"xtick_2\">\r\n     <g id=\"line2d_2\">\r\n      <g>\r\n       <use style=\"stroke:#000000;stroke-width:0.8;\" x=\"312.2875\" xlink:href=\"#medb5720cef\" y=\"550.8\"/>\r\n      </g>\r\n     </g>\r\n     <g id=\"text_2\">\r\n      <!-- EMERGENCY -->\r\n      <g transform=\"translate(315.046875 620.478125)rotate(-90)scale(0.1 -0.1)\">\r\n       <defs>\r\n        <path d=\"M 9.8125 72.90625 \r\nL 24.515625 72.90625 \r\nL 43.109375 23.296875 \r\nL 61.8125 72.90625 \r\nL 76.515625 72.90625 \r\nL 76.515625 0 \r\nL 66.890625 0 \r\nL 66.890625 64.015625 \r\nL 48.09375 14.015625 \r\nL 38.1875 14.015625 \r\nL 19.390625 64.015625 \r\nL 19.390625 0 \r\nL 9.8125 0 \r\nz\r\n\" id=\"DejaVuSans-77\"/>\r\n        <path d=\"M 44.390625 34.1875 \r\nQ 47.5625 33.109375 50.5625 29.59375 \r\nQ 53.5625 26.078125 56.59375 19.921875 \r\nL 66.609375 0 \r\nL 56 0 \r\nL 46.6875 18.703125 \r\nQ 43.0625 26.03125 39.671875 28.421875 \r\nQ 36.28125 30.8125 30.421875 30.8125 \r\nL 19.671875 30.8125 \r\nL 19.671875 0 \r\nL 9.8125 0 \r\nL 9.8125 72.90625 \r\nL 32.078125 72.90625 \r\nQ 44.578125 72.90625 50.734375 67.671875 \r\nQ 56.890625 62.453125 56.890625 51.90625 \r\nQ 56.890625 45.015625 53.6875 40.46875 \r\nQ 50.484375 35.9375 44.390625 34.1875 \r\nz\r\nM 19.671875 64.796875 \r\nL 19.671875 38.921875 \r\nL 32.078125 38.921875 \r\nQ 39.203125 38.921875 42.84375 42.21875 \r\nQ 46.484375 45.515625 46.484375 51.90625 \r\nQ 46.484375 58.296875 42.84375 61.546875 \r\nQ 39.203125 64.796875 32.078125 64.796875 \r\nz\r\n\" id=\"DejaVuSans-82\"/>\r\n        <path d=\"M 59.515625 10.40625 \r\nL 59.515625 29.984375 \r\nL 43.40625 29.984375 \r\nL 43.40625 38.09375 \r\nL 69.28125 38.09375 \r\nL 69.28125 6.78125 \r\nQ 63.578125 2.734375 56.6875 0.65625 \r\nQ 49.8125 -1.421875 42 -1.421875 \r\nQ 24.90625 -1.421875 15.25 8.5625 \r\nQ 5.609375 18.5625 5.609375 36.375 \r\nQ 5.609375 54.25 15.25 64.234375 \r\nQ 24.90625 74.21875 42 74.21875 \r\nQ 49.125 74.21875 55.546875 72.453125 \r\nQ 61.96875 70.703125 67.390625 67.28125 \r\nL 67.390625 56.78125 \r\nQ 61.921875 61.421875 55.765625 63.765625 \r\nQ 49.609375 66.109375 42.828125 66.109375 \r\nQ 29.4375 66.109375 22.71875 58.640625 \r\nQ 16.015625 51.171875 16.015625 36.375 \r\nQ 16.015625 21.625 22.71875 14.15625 \r\nQ 29.4375 6.6875 42.828125 6.6875 \r\nQ 48.046875 6.6875 52.140625 7.59375 \r\nQ 56.25 8.5 59.515625 10.40625 \r\nz\r\n\" id=\"DejaVuSans-71\"/>\r\n        <path d=\"M 9.8125 72.90625 \r\nL 23.09375 72.90625 \r\nL 55.421875 11.921875 \r\nL 55.421875 72.90625 \r\nL 64.984375 72.90625 \r\nL 64.984375 0 \r\nL 51.703125 0 \r\nL 19.390625 60.984375 \r\nL 19.390625 0 \r\nL 9.8125 0 \r\nz\r\n\" id=\"DejaVuSans-78\"/>\r\n        <path d=\"M -0.203125 72.90625 \r\nL 10.40625 72.90625 \r\nL 30.609375 42.921875 \r\nL 50.6875 72.90625 \r\nL 61.28125 72.90625 \r\nL 35.5 34.71875 \r\nL 35.5 0 \r\nL 25.59375 0 \r\nL 25.59375 34.71875 \r\nz\r\n\" id=\"DejaVuSans-89\"/>\r\n       </defs>\r\n       <use xlink:href=\"#DejaVuSans-69\"/>\r\n       <use x=\"63.183594\" xlink:href=\"#DejaVuSans-77\"/>\r\n       <use x=\"149.462891\" xlink:href=\"#DejaVuSans-69\"/>\r\n       <use x=\"212.646484\" xlink:href=\"#DejaVuSans-82\"/>\r\n       <use x=\"282.128906\" xlink:href=\"#DejaVuSans-71\"/>\r\n       <use x=\"359.619141\" xlink:href=\"#DejaVuSans-69\"/>\r\n       <use x=\"422.802734\" xlink:href=\"#DejaVuSans-78\"/>\r\n       <use x=\"497.607422\" xlink:href=\"#DejaVuSans-67\"/>\r\n       <use x=\"565.681641\" xlink:href=\"#DejaVuSans-89\"/>\r\n      </g>\r\n     </g>\r\n    </g>\r\n    <g id=\"xtick_3\">\r\n     <g id=\"line2d_3\">\r\n      <g>\r\n       <use style=\"stroke:#000000;stroke-width:0.8;\" x=\"498.2875\" xlink:href=\"#medb5720cef\" y=\"550.8\"/>\r\n      </g>\r\n     </g>\r\n     <g id=\"text_3\">\r\n      <!-- URGENT -->\r\n      <g transform=\"translate(501.046875 599.723438)rotate(-90)scale(0.1 -0.1)\">\r\n       <defs>\r\n        <path d=\"M 8.6875 72.90625 \r\nL 18.609375 72.90625 \r\nL 18.609375 28.609375 \r\nQ 18.609375 16.890625 22.84375 11.734375 \r\nQ 27.09375 6.59375 36.625 6.59375 \r\nQ 46.09375 6.59375 50.34375 11.734375 \r\nQ 54.59375 16.890625 54.59375 28.609375 \r\nL 54.59375 72.90625 \r\nL 64.5 72.90625 \r\nL 64.5 27.390625 \r\nQ 64.5 13.140625 57.4375 5.859375 \r\nQ 50.390625 -1.421875 36.625 -1.421875 \r\nQ 22.796875 -1.421875 15.734375 5.859375 \r\nQ 8.6875 13.140625 8.6875 27.390625 \r\nz\r\n\" id=\"DejaVuSans-85\"/>\r\n       </defs>\r\n       <use xlink:href=\"#DejaVuSans-85\"/>\r\n       <use x=\"73.193359\" xlink:href=\"#DejaVuSans-82\"/>\r\n       <use x=\"142.675781\" xlink:href=\"#DejaVuSans-71\"/>\r\n       <use x=\"220.166016\" xlink:href=\"#DejaVuSans-69\"/>\r\n       <use x=\"283.349609\" xlink:href=\"#DejaVuSans-78\"/>\r\n       <use x=\"358.154297\" xlink:href=\"#DejaVuSans-84\"/>\r\n      </g>\r\n     </g>\r\n    </g>\r\n    <g id=\"text_4\">\r\n     <!-- admission_type -->\r\n     <g transform=\"translate(273.292969 632.076563)scale(0.1 -0.1)\">\r\n      <defs>\r\n       <path d=\"M 34.28125 27.484375 \r\nQ 23.390625 27.484375 19.1875 25 \r\nQ 14.984375 22.515625 14.984375 16.5 \r\nQ 14.984375 11.71875 18.140625 8.90625 \r\nQ 21.296875 6.109375 26.703125 6.109375 \r\nQ 34.1875 6.109375 38.703125 11.40625 \r\nQ 43.21875 16.703125 43.21875 25.484375 \r\nL 43.21875 27.484375 \r\nz\r\nM 52.203125 31.203125 \r\nL 52.203125 0 \r\nL 43.21875 0 \r\nL 43.21875 8.296875 \r\nQ 40.140625 3.328125 35.546875 0.953125 \r\nQ 30.953125 -1.421875 24.3125 -1.421875 \r\nQ 15.921875 -1.421875 10.953125 3.296875 \r\nQ 6 8.015625 6 15.921875 \r\nQ 6 25.140625 12.171875 29.828125 \r\nQ 18.359375 34.515625 30.609375 34.515625 \r\nL 43.21875 34.515625 \r\nL 43.21875 35.40625 \r\nQ 43.21875 41.609375 39.140625 45 \r\nQ 35.0625 48.390625 27.6875 48.390625 \r\nQ 23 48.390625 18.546875 47.265625 \r\nQ 14.109375 46.140625 10.015625 43.890625 \r\nL 10.015625 52.203125 \r\nQ 14.9375 54.109375 19.578125 55.046875 \r\nQ 24.21875 56 28.609375 56 \r\nQ 40.484375 56 46.34375 49.84375 \r\nQ 52.203125 43.703125 52.203125 31.203125 \r\nz\r\n\" id=\"DejaVuSans-97\"/>\r\n       <path d=\"M 45.40625 46.390625 \r\nL 45.40625 75.984375 \r\nL 54.390625 75.984375 \r\nL 54.390625 0 \r\nL 45.40625 0 \r\nL 45.40625 8.203125 \r\nQ 42.578125 3.328125 38.25 0.953125 \r\nQ 33.9375 -1.421875 27.875 -1.421875 \r\nQ 17.96875 -1.421875 11.734375 6.484375 \r\nQ 5.515625 14.40625 5.515625 27.296875 \r\nQ 5.515625 40.1875 11.734375 48.09375 \r\nQ 17.96875 56 27.875 56 \r\nQ 33.9375 56 38.25 53.625 \r\nQ 42.578125 51.265625 45.40625 46.390625 \r\nz\r\nM 14.796875 27.296875 \r\nQ 14.796875 17.390625 18.875 11.75 \r\nQ 22.953125 6.109375 30.078125 6.109375 \r\nQ 37.203125 6.109375 41.296875 11.75 \r\nQ 45.40625 17.390625 45.40625 27.296875 \r\nQ 45.40625 37.203125 41.296875 42.84375 \r\nQ 37.203125 48.484375 30.078125 48.484375 \r\nQ 22.953125 48.484375 18.875 42.84375 \r\nQ 14.796875 37.203125 14.796875 27.296875 \r\nz\r\n\" id=\"DejaVuSans-100\"/>\r\n       <path d=\"M 52 44.1875 \r\nQ 55.375 50.25 60.0625 53.125 \r\nQ 64.75 56 71.09375 56 \r\nQ 79.640625 56 84.28125 50.015625 \r\nQ 88.921875 44.046875 88.921875 33.015625 \r\nL 88.921875 0 \r\nL 79.890625 0 \r\nL 79.890625 32.71875 \r\nQ 79.890625 40.578125 77.09375 44.375 \r\nQ 74.3125 48.1875 68.609375 48.1875 \r\nQ 61.625 48.1875 57.5625 43.546875 \r\nQ 53.515625 38.921875 53.515625 30.90625 \r\nL 53.515625 0 \r\nL 44.484375 0 \r\nL 44.484375 32.71875 \r\nQ 44.484375 40.625 41.703125 44.40625 \r\nQ 38.921875 48.1875 33.109375 48.1875 \r\nQ 26.21875 48.1875 22.15625 43.53125 \r\nQ 18.109375 38.875 18.109375 30.90625 \r\nL 18.109375 0 \r\nL 9.078125 0 \r\nL 9.078125 54.6875 \r\nL 18.109375 54.6875 \r\nL 18.109375 46.1875 \r\nQ 21.1875 51.21875 25.484375 53.609375 \r\nQ 29.78125 56 35.6875 56 \r\nQ 41.65625 56 45.828125 52.96875 \r\nQ 50 49.953125 52 44.1875 \r\nz\r\n\" id=\"DejaVuSans-109\"/>\r\n       <path d=\"M 9.421875 54.6875 \r\nL 18.40625 54.6875 \r\nL 18.40625 0 \r\nL 9.421875 0 \r\nz\r\nM 9.421875 75.984375 \r\nL 18.40625 75.984375 \r\nL 18.40625 64.59375 \r\nL 9.421875 64.59375 \r\nz\r\n\" id=\"DejaVuSans-105\"/>\r\n       <path d=\"M 44.28125 53.078125 \r\nL 44.28125 44.578125 \r\nQ 40.484375 46.53125 36.375 47.5 \r\nQ 32.28125 48.484375 27.875 48.484375 \r\nQ 21.1875 48.484375 17.84375 46.4375 \r\nQ 14.5 44.390625 14.5 40.28125 \r\nQ 14.5 37.15625 16.890625 35.375 \r\nQ 19.28125 33.59375 26.515625 31.984375 \r\nL 29.59375 31.296875 \r\nQ 39.15625 29.25 43.1875 25.515625 \r\nQ 47.21875 21.78125 47.21875 15.09375 \r\nQ 47.21875 7.46875 41.1875 3.015625 \r\nQ 35.15625 -1.421875 24.609375 -1.421875 \r\nQ 20.21875 -1.421875 15.453125 -0.5625 \r\nQ 10.6875 0.296875 5.421875 2 \r\nL 5.421875 11.28125 \r\nQ 10.40625 8.6875 15.234375 7.390625 \r\nQ 20.0625 6.109375 24.8125 6.109375 \r\nQ 31.15625 6.109375 34.5625 8.28125 \r\nQ 37.984375 10.453125 37.984375 14.40625 \r\nQ 37.984375 18.0625 35.515625 20.015625 \r\nQ 33.0625 21.96875 24.703125 23.78125 \r\nL 21.578125 24.515625 \r\nQ 13.234375 26.265625 9.515625 29.90625 \r\nQ 5.8125 33.546875 5.8125 39.890625 \r\nQ 5.8125 47.609375 11.28125 51.796875 \r\nQ 16.75 56 26.8125 56 \r\nQ 31.78125 56 36.171875 55.265625 \r\nQ 40.578125 54.546875 44.28125 53.078125 \r\nz\r\n\" id=\"DejaVuSans-115\"/>\r\n       <path d=\"M 30.609375 48.390625 \r\nQ 23.390625 48.390625 19.1875 42.75 \r\nQ 14.984375 37.109375 14.984375 27.296875 \r\nQ 14.984375 17.484375 19.15625 11.84375 \r\nQ 23.34375 6.203125 30.609375 6.203125 \r\nQ 37.796875 6.203125 41.984375 11.859375 \r\nQ 46.1875 17.53125 46.1875 27.296875 \r\nQ 46.1875 37.015625 41.984375 42.703125 \r\nQ 37.796875 48.390625 30.609375 48.390625 \r\nz\r\nM 30.609375 56 \r\nQ 42.328125 56 49.015625 48.375 \r\nQ 55.71875 40.765625 55.71875 27.296875 \r\nQ 55.71875 13.875 49.015625 6.21875 \r\nQ 42.328125 -1.421875 30.609375 -1.421875 \r\nQ 18.84375 -1.421875 12.171875 6.21875 \r\nQ 5.515625 13.875 5.515625 27.296875 \r\nQ 5.515625 40.765625 12.171875 48.375 \r\nQ 18.84375 56 30.609375 56 \r\nz\r\n\" id=\"DejaVuSans-111\"/>\r\n       <path d=\"M 54.890625 33.015625 \r\nL 54.890625 0 \r\nL 45.90625 0 \r\nL 45.90625 32.71875 \r\nQ 45.90625 40.484375 42.875 44.328125 \r\nQ 39.84375 48.1875 33.796875 48.1875 \r\nQ 26.515625 48.1875 22.3125 43.546875 \r\nQ 18.109375 38.921875 18.109375 30.90625 \r\nL 18.109375 0 \r\nL 9.078125 0 \r\nL 9.078125 54.6875 \r\nL 18.109375 54.6875 \r\nL 18.109375 46.1875 \r\nQ 21.34375 51.125 25.703125 53.5625 \r\nQ 30.078125 56 35.796875 56 \r\nQ 45.21875 56 50.046875 50.171875 \r\nQ 54.890625 44.34375 54.890625 33.015625 \r\nz\r\n\" id=\"DejaVuSans-110\"/>\r\n       <path d=\"M 50.984375 -16.609375 \r\nL 50.984375 -23.578125 \r\nL -0.984375 -23.578125 \r\nL -0.984375 -16.609375 \r\nz\r\n\" id=\"DejaVuSans-95\"/>\r\n       <path d=\"M 18.3125 70.21875 \r\nL 18.3125 54.6875 \r\nL 36.8125 54.6875 \r\nL 36.8125 47.703125 \r\nL 18.3125 47.703125 \r\nL 18.3125 18.015625 \r\nQ 18.3125 11.328125 20.140625 9.421875 \r\nQ 21.96875 7.515625 27.59375 7.515625 \r\nL 36.8125 7.515625 \r\nL 36.8125 0 \r\nL 27.59375 0 \r\nQ 17.1875 0 13.234375 3.875 \r\nQ 9.28125 7.765625 9.28125 18.015625 \r\nL 9.28125 47.703125 \r\nL 2.6875 47.703125 \r\nL 2.6875 54.6875 \r\nL 9.28125 54.6875 \r\nL 9.28125 70.21875 \r\nz\r\n\" id=\"DejaVuSans-116\"/>\r\n       <path d=\"M 32.171875 -5.078125 \r\nQ 28.375 -14.84375 24.75 -17.8125 \r\nQ 21.140625 -20.796875 15.09375 -20.796875 \r\nL 7.90625 -20.796875 \r\nL 7.90625 -13.28125 \r\nL 13.1875 -13.28125 \r\nQ 16.890625 -13.28125 18.9375 -11.515625 \r\nQ 21 -9.765625 23.484375 -3.21875 \r\nL 25.09375 0.875 \r\nL 2.984375 54.6875 \r\nL 12.5 54.6875 \r\nL 29.59375 11.921875 \r\nL 46.6875 54.6875 \r\nL 56.203125 54.6875 \r\nz\r\n\" id=\"DejaVuSans-121\"/>\r\n       <path d=\"M 18.109375 8.203125 \r\nL 18.109375 -20.796875 \r\nL 9.078125 -20.796875 \r\nL 9.078125 54.6875 \r\nL 18.109375 54.6875 \r\nL 18.109375 46.390625 \r\nQ 20.953125 51.265625 25.265625 53.625 \r\nQ 29.59375 56 35.59375 56 \r\nQ 45.5625 56 51.78125 48.09375 \r\nQ 58.015625 40.1875 58.015625 27.296875 \r\nQ 58.015625 14.40625 51.78125 6.484375 \r\nQ 45.5625 -1.421875 35.59375 -1.421875 \r\nQ 29.59375 -1.421875 25.265625 0.953125 \r\nQ 20.953125 3.328125 18.109375 8.203125 \r\nz\r\nM 48.6875 27.296875 \r\nQ 48.6875 37.203125 44.609375 42.84375 \r\nQ 40.53125 48.484375 33.40625 48.484375 \r\nQ 26.265625 48.484375 22.1875 42.84375 \r\nQ 18.109375 37.203125 18.109375 27.296875 \r\nQ 18.109375 17.390625 22.1875 11.75 \r\nQ 26.265625 6.109375 33.40625 6.109375 \r\nQ 40.53125 6.109375 44.609375 11.75 \r\nQ 48.6875 17.390625 48.6875 27.296875 \r\nz\r\n\" id=\"DejaVuSans-112\"/>\r\n       <path d=\"M 56.203125 29.59375 \r\nL 56.203125 25.203125 \r\nL 14.890625 25.203125 \r\nQ 15.484375 15.921875 20.484375 11.0625 \r\nQ 25.484375 6.203125 34.421875 6.203125 \r\nQ 39.59375 6.203125 44.453125 7.46875 \r\nQ 49.3125 8.734375 54.109375 11.28125 \r\nL 54.109375 2.78125 \r\nQ 49.265625 0.734375 44.1875 -0.34375 \r\nQ 39.109375 -1.421875 33.890625 -1.421875 \r\nQ 20.796875 -1.421875 13.15625 6.1875 \r\nQ 5.515625 13.8125 5.515625 26.8125 \r\nQ 5.515625 40.234375 12.765625 48.109375 \r\nQ 20.015625 56 32.328125 56 \r\nQ 43.359375 56 49.78125 48.890625 \r\nQ 56.203125 41.796875 56.203125 29.59375 \r\nz\r\nM 47.21875 32.234375 \r\nQ 47.125 39.59375 43.09375 43.984375 \r\nQ 39.0625 48.390625 32.421875 48.390625 \r\nQ 24.90625 48.390625 20.390625 44.140625 \r\nQ 15.875 39.890625 15.1875 32.171875 \r\nz\r\n\" id=\"DejaVuSans-101\"/>\r\n      </defs>\r\n      <use xlink:href=\"#DejaVuSans-97\"/>\r\n      <use x=\"61.279297\" xlink:href=\"#DejaVuSans-100\"/>\r\n      <use x=\"124.755859\" xlink:href=\"#DejaVuSans-109\"/>\r\n      <use x=\"222.167969\" xlink:href=\"#DejaVuSans-105\"/>\r\n      <use x=\"249.951172\" xlink:href=\"#DejaVuSans-115\"/>\r\n      <use x=\"302.050781\" xlink:href=\"#DejaVuSans-115\"/>\r\n      <use x=\"354.150391\" xlink:href=\"#DejaVuSans-105\"/>\r\n      <use x=\"381.933594\" xlink:href=\"#DejaVuSans-111\"/>\r\n      <use x=\"443.115234\" xlink:href=\"#DejaVuSans-110\"/>\r\n      <use x=\"506.494141\" xlink:href=\"#DejaVuSans-95\"/>\r\n      <use x=\"556.494141\" xlink:href=\"#DejaVuSans-116\"/>\r\n      <use x=\"595.703125\" xlink:href=\"#DejaVuSans-121\"/>\r\n      <use x=\"654.882812\" xlink:href=\"#DejaVuSans-112\"/>\r\n      <use x=\"718.359375\" xlink:href=\"#DejaVuSans-101\"/>\r\n     </g>\r\n    </g>\r\n   </g>\r\n   <g id=\"matplotlib.axis_2\">\r\n    <g id=\"ytick_1\">\r\n     <g id=\"line2d_4\">\r\n      <defs>\r\n       <path d=\"M 0 0 \r\nL -3.5 0 \r\n\" id=\"md7b6bd5af1\" style=\"stroke:#000000;stroke-width:0.8;\"/>\r\n      </defs>\r\n      <g>\r\n       <use style=\"stroke:#000000;stroke-width:0.8;\" x=\"33.2875\" xlink:href=\"#md7b6bd5af1\" y=\"550.8\"/>\r\n      </g>\r\n     </g>\r\n     <g id=\"text_5\">\r\n      <!-- 0 -->\r\n      <g transform=\"translate(19.925 554.599219)scale(0.1 -0.1)\">\r\n       <defs>\r\n        <path d=\"M 31.78125 66.40625 \r\nQ 24.171875 66.40625 20.328125 58.90625 \r\nQ 16.5 51.421875 16.5 36.375 \r\nQ 16.5 21.390625 20.328125 13.890625 \r\nQ 24.171875 6.390625 31.78125 6.390625 \r\nQ 39.453125 6.390625 43.28125 13.890625 \r\nQ 47.125 21.390625 47.125 36.375 \r\nQ 47.125 51.421875 43.28125 58.90625 \r\nQ 39.453125 66.40625 31.78125 66.40625 \r\nz\r\nM 31.78125 74.21875 \r\nQ 44.046875 74.21875 50.515625 64.515625 \r\nQ 56.984375 54.828125 56.984375 36.375 \r\nQ 56.984375 17.96875 50.515625 8.265625 \r\nQ 44.046875 -1.421875 31.78125 -1.421875 \r\nQ 19.53125 -1.421875 13.0625 8.265625 \r\nQ 6.59375 17.96875 6.59375 36.375 \r\nQ 6.59375 54.828125 13.0625 64.515625 \r\nQ 19.53125 74.21875 31.78125 74.21875 \r\nz\r\n\" id=\"DejaVuSans-48\"/>\r\n       </defs>\r\n       <use xlink:href=\"#DejaVuSans-48\"/>\r\n      </g>\r\n     </g>\r\n    </g>\r\n    <g id=\"ytick_2\">\r\n     <g id=\"line2d_5\">\r\n      <g>\r\n       <use style=\"stroke:#000000;stroke-width:0.8;\" x=\"33.2875\" xlink:href=\"#md7b6bd5af1\" y=\"463.789196\"/>\r\n      </g>\r\n     </g>\r\n     <g id=\"text_6\">\r\n      <!-- 20 -->\r\n      <g transform=\"translate(13.5625 467.588414)scale(0.1 -0.1)\">\r\n       <defs>\r\n        <path d=\"M 19.1875 8.296875 \r\nL 53.609375 8.296875 \r\nL 53.609375 0 \r\nL 7.328125 0 \r\nL 7.328125 8.296875 \r\nQ 12.9375 14.109375 22.625 23.890625 \r\nQ 32.328125 33.6875 34.8125 36.53125 \r\nQ 39.546875 41.84375 41.421875 45.53125 \r\nQ 43.3125 49.21875 43.3125 52.78125 \r\nQ 43.3125 58.59375 39.234375 62.25 \r\nQ 35.15625 65.921875 28.609375 65.921875 \r\nQ 23.96875 65.921875 18.8125 64.3125 \r\nQ 13.671875 62.703125 7.8125 59.421875 \r\nL 7.8125 69.390625 \r\nQ 13.765625 71.78125 18.9375 73 \r\nQ 24.125 74.21875 28.421875 74.21875 \r\nQ 39.75 74.21875 46.484375 68.546875 \r\nQ 53.21875 62.890625 53.21875 53.421875 \r\nQ 53.21875 48.921875 51.53125 44.890625 \r\nQ 49.859375 40.875 45.40625 35.40625 \r\nQ 44.1875 33.984375 37.640625 27.21875 \r\nQ 31.109375 20.453125 19.1875 8.296875 \r\nz\r\n\" id=\"DejaVuSans-50\"/>\r\n       </defs>\r\n       <use xlink:href=\"#DejaVuSans-50\"/>\r\n       <use x=\"63.623047\" xlink:href=\"#DejaVuSans-48\"/>\r\n      </g>\r\n     </g>\r\n    </g>\r\n    <g id=\"ytick_3\">\r\n     <g id=\"line2d_6\">\r\n      <g>\r\n       <use style=\"stroke:#000000;stroke-width:0.8;\" x=\"33.2875\" xlink:href=\"#md7b6bd5af1\" y=\"376.778391\"/>\r\n      </g>\r\n     </g>\r\n     <g id=\"text_7\">\r\n      <!-- 40 -->\r\n      <g transform=\"translate(13.5625 380.57761)scale(0.1 -0.1)\">\r\n       <defs>\r\n        <path d=\"M 37.796875 64.3125 \r\nL 12.890625 25.390625 \r\nL 37.796875 25.390625 \r\nz\r\nM 35.203125 72.90625 \r\nL 47.609375 72.90625 \r\nL 47.609375 25.390625 \r\nL 58.015625 25.390625 \r\nL 58.015625 17.1875 \r\nL 47.609375 17.1875 \r\nL 47.609375 0 \r\nL 37.796875 0 \r\nL 37.796875 17.1875 \r\nL 4.890625 17.1875 \r\nL 4.890625 26.703125 \r\nz\r\n\" id=\"DejaVuSans-52\"/>\r\n       </defs>\r\n       <use xlink:href=\"#DejaVuSans-52\"/>\r\n       <use x=\"63.623047\" xlink:href=\"#DejaVuSans-48\"/>\r\n      </g>\r\n     </g>\r\n    </g>\r\n    <g id=\"ytick_4\">\r\n     <g id=\"line2d_7\">\r\n      <g>\r\n       <use style=\"stroke:#000000;stroke-width:0.8;\" x=\"33.2875\" xlink:href=\"#md7b6bd5af1\" y=\"289.767587\"/>\r\n      </g>\r\n     </g>\r\n     <g id=\"text_8\">\r\n      <!-- 60 -->\r\n      <g transform=\"translate(13.5625 293.566806)scale(0.1 -0.1)\">\r\n       <defs>\r\n        <path d=\"M 33.015625 40.375 \r\nQ 26.375 40.375 22.484375 35.828125 \r\nQ 18.609375 31.296875 18.609375 23.390625 \r\nQ 18.609375 15.53125 22.484375 10.953125 \r\nQ 26.375 6.390625 33.015625 6.390625 \r\nQ 39.65625 6.390625 43.53125 10.953125 \r\nQ 47.40625 15.53125 47.40625 23.390625 \r\nQ 47.40625 31.296875 43.53125 35.828125 \r\nQ 39.65625 40.375 33.015625 40.375 \r\nz\r\nM 52.59375 71.296875 \r\nL 52.59375 62.3125 \r\nQ 48.875 64.0625 45.09375 64.984375 \r\nQ 41.3125 65.921875 37.59375 65.921875 \r\nQ 27.828125 65.921875 22.671875 59.328125 \r\nQ 17.53125 52.734375 16.796875 39.40625 \r\nQ 19.671875 43.65625 24.015625 45.921875 \r\nQ 28.375 48.1875 33.59375 48.1875 \r\nQ 44.578125 48.1875 50.953125 41.515625 \r\nQ 57.328125 34.859375 57.328125 23.390625 \r\nQ 57.328125 12.15625 50.6875 5.359375 \r\nQ 44.046875 -1.421875 33.015625 -1.421875 \r\nQ 20.359375 -1.421875 13.671875 8.265625 \r\nQ 6.984375 17.96875 6.984375 36.375 \r\nQ 6.984375 53.65625 15.1875 63.9375 \r\nQ 23.390625 74.21875 37.203125 74.21875 \r\nQ 40.921875 74.21875 44.703125 73.484375 \r\nQ 48.484375 72.75 52.59375 71.296875 \r\nz\r\n\" id=\"DejaVuSans-54\"/>\r\n       </defs>\r\n       <use xlink:href=\"#DejaVuSans-54\"/>\r\n       <use x=\"63.623047\" xlink:href=\"#DejaVuSans-48\"/>\r\n      </g>\r\n     </g>\r\n    </g>\r\n    <g id=\"ytick_5\">\r\n     <g id=\"line2d_8\">\r\n      <g>\r\n       <use style=\"stroke:#000000;stroke-width:0.8;\" x=\"33.2875\" xlink:href=\"#md7b6bd5af1\" y=\"202.756783\"/>\r\n      </g>\r\n     </g>\r\n     <g id=\"text_9\">\r\n      <!-- 80 -->\r\n      <g transform=\"translate(13.5625 206.556001)scale(0.1 -0.1)\">\r\n       <defs>\r\n        <path d=\"M 31.78125 34.625 \r\nQ 24.75 34.625 20.71875 30.859375 \r\nQ 16.703125 27.09375 16.703125 20.515625 \r\nQ 16.703125 13.921875 20.71875 10.15625 \r\nQ 24.75 6.390625 31.78125 6.390625 \r\nQ 38.8125 6.390625 42.859375 10.171875 \r\nQ 46.921875 13.96875 46.921875 20.515625 \r\nQ 46.921875 27.09375 42.890625 30.859375 \r\nQ 38.875 34.625 31.78125 34.625 \r\nz\r\nM 21.921875 38.8125 \r\nQ 15.578125 40.375 12.03125 44.71875 \r\nQ 8.5 49.078125 8.5 55.328125 \r\nQ 8.5 64.0625 14.71875 69.140625 \r\nQ 20.953125 74.21875 31.78125 74.21875 \r\nQ 42.671875 74.21875 48.875 69.140625 \r\nQ 55.078125 64.0625 55.078125 55.328125 \r\nQ 55.078125 49.078125 51.53125 44.71875 \r\nQ 48 40.375 41.703125 38.8125 \r\nQ 48.828125 37.15625 52.796875 32.3125 \r\nQ 56.78125 27.484375 56.78125 20.515625 \r\nQ 56.78125 9.90625 50.3125 4.234375 \r\nQ 43.84375 -1.421875 31.78125 -1.421875 \r\nQ 19.734375 -1.421875 13.25 4.234375 \r\nQ 6.78125 9.90625 6.78125 20.515625 \r\nQ 6.78125 27.484375 10.78125 32.3125 \r\nQ 14.796875 37.15625 21.921875 38.8125 \r\nz\r\nM 18.3125 54.390625 \r\nQ 18.3125 48.734375 21.84375 45.5625 \r\nQ 25.390625 42.390625 31.78125 42.390625 \r\nQ 38.140625 42.390625 41.71875 45.5625 \r\nQ 45.3125 48.734375 45.3125 54.390625 \r\nQ 45.3125 60.0625 41.71875 63.234375 \r\nQ 38.140625 66.40625 31.78125 66.40625 \r\nQ 25.390625 66.40625 21.84375 63.234375 \r\nQ 18.3125 60.0625 18.3125 54.390625 \r\nz\r\n\" id=\"DejaVuSans-56\"/>\r\n       </defs>\r\n       <use xlink:href=\"#DejaVuSans-56\"/>\r\n       <use x=\"63.623047\" xlink:href=\"#DejaVuSans-48\"/>\r\n      </g>\r\n     </g>\r\n    </g>\r\n    <g id=\"ytick_6\">\r\n     <g id=\"line2d_9\">\r\n      <g>\r\n       <use style=\"stroke:#000000;stroke-width:0.8;\" x=\"33.2875\" xlink:href=\"#md7b6bd5af1\" y=\"115.745978\"/>\r\n      </g>\r\n     </g>\r\n     <g id=\"text_10\">\r\n      <!-- 100 -->\r\n      <g transform=\"translate(7.2 119.545197)scale(0.1 -0.1)\">\r\n       <defs>\r\n        <path d=\"M 12.40625 8.296875 \r\nL 28.515625 8.296875 \r\nL 28.515625 63.921875 \r\nL 10.984375 60.40625 \r\nL 10.984375 69.390625 \r\nL 28.421875 72.90625 \r\nL 38.28125 72.90625 \r\nL 38.28125 8.296875 \r\nL 54.390625 8.296875 \r\nL 54.390625 0 \r\nL 12.40625 0 \r\nz\r\n\" id=\"DejaVuSans-49\"/>\r\n       </defs>\r\n       <use xlink:href=\"#DejaVuSans-49\"/>\r\n       <use x=\"63.623047\" xlink:href=\"#DejaVuSans-48\"/>\r\n       <use x=\"127.246094\" xlink:href=\"#DejaVuSans-48\"/>\r\n      </g>\r\n     </g>\r\n    </g>\r\n    <g id=\"ytick_7\">\r\n     <g id=\"line2d_10\">\r\n      <g>\r\n       <use style=\"stroke:#000000;stroke-width:0.8;\" x=\"33.2875\" xlink:href=\"#md7b6bd5af1\" y=\"28.735174\"/>\r\n      </g>\r\n     </g>\r\n     <g id=\"text_11\">\r\n      <!-- 120 -->\r\n      <g transform=\"translate(7.2 32.534393)scale(0.1 -0.1)\">\r\n       <use xlink:href=\"#DejaVuSans-49\"/>\r\n       <use x=\"63.623047\" xlink:href=\"#DejaVuSans-50\"/>\r\n       <use x=\"127.246094\" xlink:href=\"#DejaVuSans-48\"/>\r\n      </g>\r\n     </g>\r\n    </g>\r\n   </g>\r\n   <g id=\"patch_6\">\r\n    <path d=\"M 33.2875 550.8 \r\nL 33.2875 7.2 \r\n\" style=\"fill:none;stroke:#000000;stroke-linecap:square;stroke-linejoin:miter;stroke-width:0.8;\"/>\r\n   </g>\r\n   <g id=\"patch_7\">\r\n    <path d=\"M 591.2875 550.8 \r\nL 591.2875 7.2 \r\n\" style=\"fill:none;stroke:#000000;stroke-linecap:square;stroke-linejoin:miter;stroke-width:0.8;\"/>\r\n   </g>\r\n   <g id=\"patch_8\">\r\n    <path d=\"M 33.2875 550.8 \r\nL 591.2875 550.8 \r\n\" style=\"fill:none;stroke:#000000;stroke-linecap:square;stroke-linejoin:miter;stroke-width:0.8;\"/>\r\n   </g>\r\n   <g id=\"patch_9\">\r\n    <path d=\"M 33.2875 7.2 \r\nL 591.2875 7.2 \r\n\" style=\"fill:none;stroke:#000000;stroke-linecap:square;stroke-linejoin:miter;stroke-width:0.8;\"/>\r\n   </g>\r\n  </g>\r\n </g>\r\n <defs>\r\n  <clipPath id=\"p4f938c6a9e\">\r\n   <rect height=\"543.6\" width=\"558\" x=\"33.2875\" y=\"7.2\"/>\r\n  </clipPath>\r\n </defs>\r\n</svg>\r\n",
      "image/png": "[encoded data removed]"
     },
     "metadata": {
      "needs_background": "light"
     }
    }
   ],
   "source": [
    "fig = plt.figure(figsize=(10,10))\n",
    "admission_data.groupby(['admission_type']).size().plot.bar(color = 'red');"
   ]
  },
  {
   "cell_type": "code",
   "execution_count": 63,
   "metadata": {},
   "outputs": [],
   "source": [
    "admission_data.admittime = pd.to_datetime(admission_data.admittime, format = '%Y-%m-%d %H:%M:%S')\n",
    "admission_data.dischtime = pd.to_datetime(admission_data.dischtime, format = '%Y-%m-%d %H:%M:%S')\n",
    "admission_data.deathtime = pd.to_datetime(admission_data.deathtime, format = '%Y-%m-%d %H:%M:%S')"
   ]
  },
  {
   "cell_type": "code",
   "execution_count": 65,
   "metadata": {},
   "outputs": [
    {
     "output_type": "stream",
     "name": "stdout",
     "text": [
      "NULL date entries in admission column: 0\nNULL date entries in discharge column: 0\n"
     ]
    }
   ],
   "source": [
    "print('NULL date entries in admission column:', admission_data.admittime.isnull().sum())\n",
    "print('NULL date entries in discharge column:', admission_data.dischtime.isnull().sum())"
   ]
  },
  {
   "cell_type": "code",
   "execution_count": 53,
   "metadata": {},
   "outputs": [],
   "source": [
    "diagnosis_code_data = pd.read_csv('data\\\\DIAGNOSES_ICD.csv')"
   ]
  },
  {
   "cell_type": "code",
   "execution_count": 54,
   "metadata": {},
   "outputs": [
    {
     "output_type": "execute_result",
     "data": {
      "text/plain": [
       "      row_id  subject_id  hadm_id  seq_num icd9_code\n",
       "0     112344       10006   142345        1     99591\n",
       "1     112345       10006   142345        2     99662\n",
       "2     112346       10006   142345        3      5672\n",
       "3     112347       10006   142345        4     40391\n",
       "4     112348       10006   142345        5     42731\n",
       "...      ...         ...      ...      ...       ...\n",
       "1756  397673       44228   103379        7      1975\n",
       "1757  397674       44228   103379        8     45182\n",
       "1758  397675       44228   103379        9     99592\n",
       "1759  397676       44228   103379       10      2449\n",
       "1760  397677       44228   103379       11      2859\n",
       "\n",
       "[1761 rows x 5 columns]"
      ],
      "text/html": "<div>\n<style scoped>\n    .dataframe tbody tr th:only-of-type {\n        vertical-align: middle;\n    }\n\n    .dataframe tbody tr th {\n        vertical-align: top;\n    }\n\n    .dataframe thead th {\n        text-align: right;\n    }\n</style>\n<table border=\"1\" class=\"dataframe\">\n  <thead>\n    <tr style=\"text-align: right;\">\n      <th></th>\n      <th>row_id</th>\n      <th>subject_id</th>\n      <th>hadm_id</th>\n      <th>seq_num</th>\n      <th>icd9_code</th>\n    </tr>\n  </thead>\n  <tbody>\n    <tr>\n      <th>0</th>\n      <td>112344</td>\n      <td>10006</td>\n      <td>142345</td>\n      <td>1</td>\n      <td>99591</td>\n    </tr>\n    <tr>\n      <th>1</th>\n      <td>112345</td>\n      <td>10006</td>\n      <td>142345</td>\n      <td>2</td>\n      <td>99662</td>\n    </tr>\n    <tr>\n      <th>2</th>\n      <td>112346</td>\n      <td>10006</td>\n      <td>142345</td>\n      <td>3</td>\n      <td>5672</td>\n    </tr>\n    <tr>\n      <th>3</th>\n      <td>112347</td>\n      <td>10006</td>\n      <td>142345</td>\n      <td>4</td>\n      <td>40391</td>\n    </tr>\n    <tr>\n      <th>4</th>\n      <td>112348</td>\n      <td>10006</td>\n      <td>142345</td>\n      <td>5</td>\n      <td>42731</td>\n    </tr>\n    <tr>\n      <th>...</th>\n      <td>...</td>\n      <td>...</td>\n      <td>...</td>\n      <td>...</td>\n      <td>...</td>\n    </tr>\n    <tr>\n      <th>1756</th>\n      <td>397673</td>\n      <td>44228</td>\n      <td>103379</td>\n      <td>7</td>\n      <td>1975</td>\n    </tr>\n    <tr>\n      <th>1757</th>\n      <td>397674</td>\n      <td>44228</td>\n      <td>103379</td>\n      <td>8</td>\n      <td>45182</td>\n    </tr>\n    <tr>\n      <th>1758</th>\n      <td>397675</td>\n      <td>44228</td>\n      <td>103379</td>\n      <td>9</td>\n      <td>99592</td>\n    </tr>\n    <tr>\n      <th>1759</th>\n      <td>397676</td>\n      <td>44228</td>\n      <td>103379</td>\n      <td>10</td>\n      <td>2449</td>\n    </tr>\n    <tr>\n      <th>1760</th>\n      <td>397677</td>\n      <td>44228</td>\n      <td>103379</td>\n      <td>11</td>\n      <td>2859</td>\n    </tr>\n  </tbody>\n</table>\n<p>1761 rows × 5 columns</p>\n</div>"
     },
     "metadata": {},
     "execution_count": 54
    }
   ],
   "source": [
    "diagnosis_code_data"
   ]
  },
  {
   "cell_type": "code",
   "execution_count": 8,
   "metadata": {},
   "outputs": [],
   "source": [
    "diagnosis_data = pd.read_csv('data\\\\D_ICD_DIAGNOSES.csv')"
   ]
  },
  {
   "cell_type": "code",
   "execution_count": 9,
   "metadata": {},
   "outputs": [
    {
     "output_type": "execute_result",
     "data": {
      "text/plain": [
       "       row_id icd9_code               short_title  \\\n",
       "0           1     01716   Erythem nod tb-oth test   \n",
       "1           2     01720    TB periph lymph-unspec   \n",
       "2           3     01721   TB periph lymph-no exam   \n",
       "3           4     01722  TB periph lymph-exam unk   \n",
       "4           5     01723  TB periph lymph-micro dx   \n",
       "...       ...       ...                       ...   \n",
       "14562   14563     V8712  Contact/exposure benzene   \n",
       "14563   14564     V8719   Cont/exp haz aromat NEC   \n",
       "14564   14565      V872  Cont/exp hazard chem NEC   \n",
       "14565   14566     V8731     Contact/exposure mold   \n",
       "14566   14567     V8732   Contact/exp algae bloom   \n",
       "\n",
       "                                              long_title  \n",
       "0      Erythema nodosum with hypersensitivity reactio...  \n",
       "1      Tuberculosis of peripheral lymph nodes, unspec...  \n",
       "2      Tuberculosis of peripheral lymph nodes, bacter...  \n",
       "3      Tuberculosis of peripheral lymph nodes, bacter...  \n",
       "4      Tuberculosis of peripheral lymph nodes, tuberc...  \n",
       "...                                                  ...  \n",
       "14562   Contact with and (suspected) exposure to benzene  \n",
       "14563  Contact with and (suspected) exposure to other...  \n",
       "14564  Contact with and (suspected) exposure to other...  \n",
       "14565      Contact with and (suspected) exposure to mold  \n",
       "14566  Contact with and (suspected) exposure to algae...  \n",
       "\n",
       "[14567 rows x 4 columns]"
      ],
      "text/html": "<div>\n<style scoped>\n    .dataframe tbody tr th:only-of-type {\n        vertical-align: middle;\n    }\n\n    .dataframe tbody tr th {\n        vertical-align: top;\n    }\n\n    .dataframe thead th {\n        text-align: right;\n    }\n</style>\n<table border=\"1\" class=\"dataframe\">\n  <thead>\n    <tr style=\"text-align: right;\">\n      <th></th>\n      <th>row_id</th>\n      <th>icd9_code</th>\n      <th>short_title</th>\n      <th>long_title</th>\n    </tr>\n  </thead>\n  <tbody>\n    <tr>\n      <th>0</th>\n      <td>1</td>\n      <td>01716</td>\n      <td>Erythem nod tb-oth test</td>\n      <td>Erythema nodosum with hypersensitivity reactio...</td>\n    </tr>\n    <tr>\n      <th>1</th>\n      <td>2</td>\n      <td>01720</td>\n      <td>TB periph lymph-unspec</td>\n      <td>Tuberculosis of peripheral lymph nodes, unspec...</td>\n    </tr>\n    <tr>\n      <th>2</th>\n      <td>3</td>\n      <td>01721</td>\n      <td>TB periph lymph-no exam</td>\n      <td>Tuberculosis of peripheral lymph nodes, bacter...</td>\n    </tr>\n    <tr>\n      <th>3</th>\n      <td>4</td>\n      <td>01722</td>\n      <td>TB periph lymph-exam unk</td>\n      <td>Tuberculosis of peripheral lymph nodes, bacter...</td>\n    </tr>\n    <tr>\n      <th>4</th>\n      <td>5</td>\n      <td>01723</td>\n      <td>TB periph lymph-micro dx</td>\n      <td>Tuberculosis of peripheral lymph nodes, tuberc...</td>\n    </tr>\n    <tr>\n      <th>...</th>\n      <td>...</td>\n      <td>...</td>\n      <td>...</td>\n      <td>...</td>\n    </tr>\n    <tr>\n      <th>14562</th>\n      <td>14563</td>\n      <td>V8712</td>\n      <td>Contact/exposure benzene</td>\n      <td>Contact with and (suspected) exposure to benzene</td>\n    </tr>\n    <tr>\n      <th>14563</th>\n      <td>14564</td>\n      <td>V8719</td>\n      <td>Cont/exp haz aromat NEC</td>\n      <td>Contact with and (suspected) exposure to other...</td>\n    </tr>\n    <tr>\n      <th>14564</th>\n      <td>14565</td>\n      <td>V872</td>\n      <td>Cont/exp hazard chem NEC</td>\n      <td>Contact with and (suspected) exposure to other...</td>\n    </tr>\n    <tr>\n      <th>14565</th>\n      <td>14566</td>\n      <td>V8731</td>\n      <td>Contact/exposure mold</td>\n      <td>Contact with and (suspected) exposure to mold</td>\n    </tr>\n    <tr>\n      <th>14566</th>\n      <td>14567</td>\n      <td>V8732</td>\n      <td>Contact/exp algae bloom</td>\n      <td>Contact with and (suspected) exposure to algae...</td>\n    </tr>\n  </tbody>\n</table>\n<p>14567 rows × 4 columns</p>\n</div>"
     },
     "metadata": {},
     "execution_count": 9
    }
   ],
   "source": [
    "diagnosis_data"
   ]
  },
  {
   "cell_type": "code",
   "execution_count": 10,
   "metadata": {},
   "outputs": [],
   "source": [
    "patient_data = pd.read_csv('data\\\\PATIENTS.csv')"
   ]
  },
  {
   "cell_type": "code",
   "execution_count": 11,
   "metadata": {},
   "outputs": [
    {
     "output_type": "execute_result",
     "data": {
      "text/plain": [
       "    row_id  subject_id gender                  dob                  dod  \\\n",
       "0     9467       10006      F  2094-03-05 00:00:00  2165-08-12 00:00:00   \n",
       "1     9472       10011      F  2090-06-05 00:00:00  2126-08-28 00:00:00   \n",
       "2     9474       10013      F  2038-09-03 00:00:00  2125-10-07 00:00:00   \n",
       "3     9478       10017      F  2075-09-21 00:00:00  2152-09-12 00:00:00   \n",
       "4     9479       10019      M  2114-06-20 00:00:00  2163-05-15 00:00:00   \n",
       "..     ...         ...    ...                  ...                  ...   \n",
       "95   31838       44083      M  2057-11-15 00:00:00  2114-02-20 00:00:00   \n",
       "96   31853       44154      M  1878-05-14 00:00:00  2178-05-15 00:00:00   \n",
       "97   31867       44212      F  2078-06-16 00:00:00  2124-01-29 00:00:00   \n",
       "98   31870       44222      M  2107-06-27 00:00:00  2182-08-03 00:00:00   \n",
       "99   31872       44228      F  2112-10-22 00:00:00  2171-04-14 00:00:00   \n",
       "\n",
       "               dod_hosp              dod_ssn  expire_flag  \n",
       "0   2165-08-12 00:00:00  2165-08-12 00:00:00            1  \n",
       "1   2126-08-28 00:00:00                  NaN            1  \n",
       "2   2125-10-07 00:00:00  2125-10-07 00:00:00            1  \n",
       "3                   NaN  2152-09-12 00:00:00            1  \n",
       "4   2163-05-15 00:00:00  2163-05-15 00:00:00            1  \n",
       "..                  ...                  ...          ...  \n",
       "95  2114-02-20 00:00:00  2114-02-20 00:00:00            1  \n",
       "96  2178-05-15 00:00:00  2178-05-15 00:00:00            1  \n",
       "97                  NaN  2124-01-29 00:00:00            1  \n",
       "98  2182-08-03 00:00:00                  NaN            1  \n",
       "99  2171-04-14 00:00:00                  NaN            1  \n",
       "\n",
       "[100 rows x 8 columns]"
      ],
      "text/html": "<div>\n<style scoped>\n    .dataframe tbody tr th:only-of-type {\n        vertical-align: middle;\n    }\n\n    .dataframe tbody tr th {\n        vertical-align: top;\n    }\n\n    .dataframe thead th {\n        text-align: right;\n    }\n</style>\n<table border=\"1\" class=\"dataframe\">\n  <thead>\n    <tr style=\"text-align: right;\">\n      <th></th>\n      <th>row_id</th>\n      <th>subject_id</th>\n      <th>gender</th>\n      <th>dob</th>\n      <th>dod</th>\n      <th>dod_hosp</th>\n      <th>dod_ssn</th>\n      <th>expire_flag</th>\n    </tr>\n  </thead>\n  <tbody>\n    <tr>\n      <th>0</th>\n      <td>9467</td>\n      <td>10006</td>\n      <td>F</td>\n      <td>2094-03-05 00:00:00</td>\n      <td>2165-08-12 00:00:00</td>\n      <td>2165-08-12 00:00:00</td>\n      <td>2165-08-12 00:00:00</td>\n      <td>1</td>\n    </tr>\n    <tr>\n      <th>1</th>\n      <td>9472</td>\n      <td>10011</td>\n      <td>F</td>\n      <td>2090-06-05 00:00:00</td>\n      <td>2126-08-28 00:00:00</td>\n      <td>2126-08-28 00:00:00</td>\n      <td>NaN</td>\n      <td>1</td>\n    </tr>\n    <tr>\n      <th>2</th>\n      <td>9474</td>\n      <td>10013</td>\n      <td>F</td>\n      <td>2038-09-03 00:00:00</td>\n      <td>2125-10-07 00:00:00</td>\n      <td>2125-10-07 00:00:00</td>\n      <td>2125-10-07 00:00:00</td>\n      <td>1</td>\n    </tr>\n    <tr>\n      <th>3</th>\n      <td>9478</td>\n      <td>10017</td>\n      <td>F</td>\n      <td>2075-09-21 00:00:00</td>\n      <td>2152-09-12 00:00:00</td>\n      <td>NaN</td>\n      <td>2152-09-12 00:00:00</td>\n      <td>1</td>\n    </tr>\n    <tr>\n      <th>4</th>\n      <td>9479</td>\n      <td>10019</td>\n      <td>M</td>\n      <td>2114-06-20 00:00:00</td>\n      <td>2163-05-15 00:00:00</td>\n      <td>2163-05-15 00:00:00</td>\n      <td>2163-05-15 00:00:00</td>\n      <td>1</td>\n    </tr>\n    <tr>\n      <th>...</th>\n      <td>...</td>\n      <td>...</td>\n      <td>...</td>\n      <td>...</td>\n      <td>...</td>\n      <td>...</td>\n      <td>...</td>\n      <td>...</td>\n    </tr>\n    <tr>\n      <th>95</th>\n      <td>31838</td>\n      <td>44083</td>\n      <td>M</td>\n      <td>2057-11-15 00:00:00</td>\n      <td>2114-02-20 00:00:00</td>\n      <td>2114-02-20 00:00:00</td>\n      <td>2114-02-20 00:00:00</td>\n      <td>1</td>\n    </tr>\n    <tr>\n      <th>96</th>\n      <td>31853</td>\n      <td>44154</td>\n      <td>M</td>\n      <td>1878-05-14 00:00:00</td>\n      <td>2178-05-15 00:00:00</td>\n      <td>2178-05-15 00:00:00</td>\n      <td>2178-05-15 00:00:00</td>\n      <td>1</td>\n    </tr>\n    <tr>\n      <th>97</th>\n      <td>31867</td>\n      <td>44212</td>\n      <td>F</td>\n      <td>2078-06-16 00:00:00</td>\n      <td>2124-01-29 00:00:00</td>\n      <td>NaN</td>\n      <td>2124-01-29 00:00:00</td>\n      <td>1</td>\n    </tr>\n    <tr>\n      <th>98</th>\n      <td>31870</td>\n      <td>44222</td>\n      <td>M</td>\n      <td>2107-06-27 00:00:00</td>\n      <td>2182-08-03 00:00:00</td>\n      <td>2182-08-03 00:00:00</td>\n      <td>NaN</td>\n      <td>1</td>\n    </tr>\n    <tr>\n      <th>99</th>\n      <td>31872</td>\n      <td>44228</td>\n      <td>F</td>\n      <td>2112-10-22 00:00:00</td>\n      <td>2171-04-14 00:00:00</td>\n      <td>2171-04-14 00:00:00</td>\n      <td>NaN</td>\n      <td>1</td>\n    </tr>\n  </tbody>\n</table>\n<p>100 rows × 8 columns</p>\n</div>"
     },
     "metadata": {},
     "execution_count": 11
    }
   ],
   "source": [
    "patient_data"
   ]
  },
  {
   "cell_type": "code",
   "execution_count": null,
   "metadata": {},
   "outputs": [],
   "source": [
    "# check if GPU is available\n",
    "if(torch.cuda.is_available()):\n",
    "    print('Training on GPU!')\n",
    "else: \n",
    "    print('Training on CPU!')\n",
    "    \n",
    "device = torch.device(\"cuda:0\" if torch.cuda.is_available() else \"cpu\")"
   ]
  },
  {
   "cell_type": "code",
   "execution_count": null,
   "metadata": {},
   "outputs": [],
   "source": [
    "seqs = np.array(pickle.load(open('data\\\\ADMISSIONS.csv ','rb')))"
   ]
  },
  {
   "cell_type": "code",
   "execution_count": 12,
   "metadata": {},
   "outputs": [],
   "source": [
    "mimic = pd.read_csv('data2\\\\MIMIC-III-Final.csv')"
   ]
  },
  {
   "cell_type": "code",
   "execution_count": 32,
   "metadata": {},
   "outputs": [
    {
     "output_type": "execute_result",
     "data": {
      "text/plain": [
       "   Unnamed: 0                                               TEXT   HADM_ID  \\\n",
       "0           0  {Admission Date:  [**2117-9-11**]             ...  100001.0   \n",
       "1           1  {Admission Date:  [**2150-4-17**]             ...  100003.0   \n",
       "2           2  {Admission Date:  [**2108-4-6**]       Dischar...  100006.0   \n",
       "3           3  {Admission Date:  [**2145-3-31**]             ...  100007.0   \n",
       "4           4  {Admission Date:  [**2162-5-16**]             ...  100009.0   \n",
       "\n",
       "                                           ICD9_CODE  \n",
       "0  ['25013', '3371', '5849', '5780', 'V5867', '25...  \n",
       "1  ['53100', '2851', '07054', '5715', '45621', '5...  \n",
       "2  ['49320', '51881', '486', '20300', '2761', '78...  \n",
       "3           ['56081', '5570', '9973', '486', '4019']  \n",
       "4  ['41401', '99604', '4142', '25000', '27800', '...  "
      ],
      "text/html": "<div>\n<style scoped>\n    .dataframe tbody tr th:only-of-type {\n        vertical-align: middle;\n    }\n\n    .dataframe tbody tr th {\n        vertical-align: top;\n    }\n\n    .dataframe thead th {\n        text-align: right;\n    }\n</style>\n<table border=\"1\" class=\"dataframe\">\n  <thead>\n    <tr style=\"text-align: right;\">\n      <th></th>\n      <th>Unnamed: 0</th>\n      <th>TEXT</th>\n      <th>HADM_ID</th>\n      <th>ICD9_CODE</th>\n    </tr>\n  </thead>\n  <tbody>\n    <tr>\n      <th>0</th>\n      <td>0</td>\n      <td>{Admission Date:  [**2117-9-11**]             ...</td>\n      <td>100001.0</td>\n      <td>['25013', '3371', '5849', '5780', 'V5867', '25...</td>\n    </tr>\n    <tr>\n      <th>1</th>\n      <td>1</td>\n      <td>{Admission Date:  [**2150-4-17**]             ...</td>\n      <td>100003.0</td>\n      <td>['53100', '2851', '07054', '5715', '45621', '5...</td>\n    </tr>\n    <tr>\n      <th>2</th>\n      <td>2</td>\n      <td>{Admission Date:  [**2108-4-6**]       Dischar...</td>\n      <td>100006.0</td>\n      <td>['49320', '51881', '486', '20300', '2761', '78...</td>\n    </tr>\n    <tr>\n      <th>3</th>\n      <td>3</td>\n      <td>{Admission Date:  [**2145-3-31**]             ...</td>\n      <td>100007.0</td>\n      <td>['56081', '5570', '9973', '486', '4019']</td>\n    </tr>\n    <tr>\n      <th>4</th>\n      <td>4</td>\n      <td>{Admission Date:  [**2162-5-16**]             ...</td>\n      <td>100009.0</td>\n      <td>['41401', '99604', '4142', '25000', '27800', '...</td>\n    </tr>\n  </tbody>\n</table>\n</div>"
     },
     "metadata": {},
     "execution_count": 32
    }
   ],
   "source": [
    "mimic.head()"
   ]
  },
  {
   "source": [
    "print(mimic.loc[1,'TEXT'])"
   ],
   "cell_type": "code",
   "metadata": {},
   "execution_count": 42,
   "outputs": [
    {
     "output_type": "stream",
     "name": "stdout",
     "text": [
      "{Admission Date:  [**2150-4-17**]              Discharge Date:   [**2150-4-21**]\n\nDate of Birth:  [**2090-5-19**]             Sex:   M\n\nService: MEDICINE\n\nAllergies:\nPatient recorded as having No Known Allergies to Drugs\n\nAttending:[**First Name3 (LF) 12174**]\nChief Complaint:\ncoffee ground emesis\n\nMajor Surgical or Invasive Procedure:\nEGD\nRight IJ CVL\n\n\nHistory of Present Illness:\nMr. [**Known lastname 52368**] is a 59M w HepC cirrhosis c/b grade I/II esophageal\nvarices and portal gastropathy (last EGD [**3-/2150**]), who p/w\ncoffee-ground emesis and melena x2 days.\n.\nPt was in his USOH until about 2-3 days PTA, when he began\nexperiencing intermittent nausea. He had 2-3 episodes of\ncoffee-ground emesis and 1 episode of tarry black stool in the\nmorning of admission. He reports some lightheadedness which is\nnot new, but denies frank hematemesis, BRBPR, abdominal pain,\nfever, chills, significant increases in his abdominal girth. He\ndenies drinking or medication non-compliance. He also reports\ntaking naproxen for back pain 2-3 times a day in the recent\npast.\n.\nIn the ED, his vitals were 97.4, 93/41, 69, 18, 100% on RA. He\nwas given 4L NS IV, protonix 40mg IV, started on an octreotide\ndrip. He had guaiac positive brown stool on rectal exam. He was\nseen by the liver fellow in the ED who felt this was unlikely a\nvariceal bleed and recommended work up for infection. An NG tube\nwas attempted, however, patient was unable to tolerate it in the\nED. Abdominal ultrasound was done which showed a patent portal\nvein, scant ascites but not enough to tap. BP dropped to 80/34,\npt transferred to MICU for hemodynamic monitoring.\n.\nIn the MICU, pt was given 3 pRBC, Hct bumped from 21.3 to 28.\nStarted on norepinephrine gtt for a few hours, but BP\nstabilized. On transfer to the floor, remains hemodynamically\nstable. Feels good, denies tarry or bloody BMs, emesis.\n\nPast Medical History:\nHCV Cirrhosis (tx with interferon x2 with no response)\nPortal Gastropathy\nGrade II Esophageal varices\nHTN\n\nSocial History:\nHe lives alone.  He is drinking alcohol, usually one session per\nweek. He has four to five drinks per session. He was told to\ncompletely abstain from alcohol, effective as of today. He\nsmokes about 20 cigarettes per day.\n\n\nFamily History:\nNC\n\nPhysical Exam:\nON ADMISSION:\nVS: T95.9 HR 71 BP 83/36 RR 11  96% 2L NC\nGen: somnolent, oriented x 3, unable to assess for asterixis\ngiven somnolence\nHEENT: PERRLA, EOMI\nNeck: supple, JVP at angle of jaw (fluid bolus running wide\nopen)\nCV: RRR s1 s2 no appreciable murmur\nLungs: CTAB\nAbd: distended, non tender, no rebound or guarding, bowel sounds\npositive\nExt: 1+ pitting edema bilaterally\nSkin: warm, diaphoretic, no rash or lesions noted\n\nPertinent Results:\nLABS ON ADMISSION:\n[**2150-4-17**] 01:30PM BLOOD WBC-17.9*# RBC-2.78* Hgb-8.5* Hct-26.0*\nMCV-94 MCH-30.6 MCHC-32.7 RDW-20.6* Plt Ct-186\n[**2150-4-17**] 01:30PM BLOOD Neuts-61.2 Lymphs-28.8 Monos-6.9 Eos-2.2\nBaso-0.9\n[**2150-4-17**] 02:13PM BLOOD PT-17.7* PTT-34.5 INR(PT)-1.6*\n[**2150-4-17**] 01:30PM BLOOD Glucose-92 UreaN-51* Creat-1.3* Na-131*\nK-5.7* Cl-104 HCO3-21* AnGap-12\n[**2150-4-17**] 01:30PM BLOOD ALT-126* AST-260* LD(LDH)-426*\nAlkPhos-157* TotBili-3.3*\n[**2150-4-17**] 06:41PM BLOOD Calcium-7.5* Phos-3.8 Mg-1.9\n.\nLABS ON DISCHARGE:\n[**2150-4-21**] 05:00AM BLOOD WBC-10.7 RBC-2.94* Hgb-9.6* Hct-27.0*\nMCV-92 MCH-32.6* MCHC-35.6* RDW-21.2* Plt Ct-110*\n[**2150-4-21**] 05:00AM BLOOD PT-17.4* PTT-35.6* INR(PT)-1.6*\n[**2150-4-21**] 05:00AM BLOOD Glucose-84 UreaN-15 Creat-1.0 Na-132*\nK-4.4 Cl-99 HCO3-25 AnGap-12\n[**2150-4-21**] 05:00AM BLOOD ALT-113* AST-210* AlkPhos-111\nTotBili-3.6*\n[**2150-4-21**] 05:00AM BLOOD Calcium-8.1* Phos-3.8 Mg-1.7\n.\nOTHER LABS:\n[**2150-4-18**] 06:25AM BLOOD CK-MB-9 cTropnT-<0.01\n[**2150-4-17**] 06:41PM BLOOD CK-MB-11* MB Indx-4.9 cTropnT-<0.01\n[**2150-4-17**] 01:30PM BLOOD Lipase-85*\n.\nURINE:\n[**2150-4-17**] 11:01PM URINE Color-Yellow Appear-Clear Sp [**Last Name (un) **]-1.016\n[**2150-4-17**] 11:01PM URINE Blood-LG Nitrite-NEG Protein-NEG\nGlucose-NEG Ketone-NEG Bilirub-NEG Urobiln-2* pH-5.5 Leuks-NEG\n[**2150-4-17**] 11:01PM URINE RBC-63* WBC-7* Bacteri-NONE Yeast-NONE\nEpi-<1\n.\nMICROBIOLOGY:\nBlood, urine cultures - negative\nH.pylori serum antibody - negative\n.\nCARDIOLOGY:\n.\nTTE ([**4-18**]):\nConclusions\nThe left atrium is dilated. Left ventricular wall thicknesses\nand cavity size are normal. Left ventricular systolic function\nis hyperdynamic (EF>75%). Right ventricular chamber size and\nfree wall motion are normal. The aortic valve leaflets (3) are\nmildly thickened but aortic stenosis is not present. No aortic\nregurgitation is seen. The mitral valve leaflets are mildly\nthickened. Mild (1+) mitral regurgitation is seen. There is\nmoderate pulmonary artery systolic hypertension. There is no\npericardial effusion.\nIMPRESSION: Hyperdynamic LV systolic function. Mild mitral\nregurgitation. Moderate pulmonary artery systolic hypertension.\n\n.\nEKG ([**4-17**]):\nSinus rhythm\nProlonged QT interval is nonspecific but clinical correlation is\nsuggested\nNo previous tracing available for comparison\n  Intervals Axes\nRate PR QRS QT/QTc P QRS T\n70 160 96 462/479 70 55 52\n.\nGI:\nEGD ([**4-20**]):\n1. Varices at the lower third of the esophagus and middle third\nof the esophagus.\n2. Erythema and erosion in the antrum and pylorus compatible\nwith non-steroidal induced gastritis.\n3. Bleeding from a pyloric ulcer in the pylorus compatible with\nnon-steroidal induced ulcer (injection, thermal therapy).\n4. Normal mucosa in the duodenum.\n5. Otherwise normal EGD to third part of the duodenum\n.\nRADIOLOGY:\n.\nCXR ([**4-17**]):\nThe prominent bulge to the right heart border could be due to\npericardial\neffusion, _____ cyst, and enlarged right atrium. There is no\nmediastinal\nvascular engorgement to suggest cardiac tamponade. Pulmonary\nvasculature is normal. The lungs are clear and there is no\npleural effusion. Overall heart size is normal. Right jugular\nline ends at the junction of the\nbrachiocephalic veins. No pneumothorax or pleural effusion.\n.\nABD U/S ([**4-17**]):\nIMPRESSION:\n1. No son[**Name (NI) 493**] evidence for portal venous thrombosis. Portal\nvein flow is hepatopetal and wall-to-wall.\n2. No significant ascites. A sliver of perihepatic ascites.\n3. Persistent coarsened echotexture of the liver consistent with\nknown\nhistory of cirrhosis.\n4. Splenomegaly\n\nBrief Hospital Course:\nMr [**Known lastname 52368**] is a 59M w HCV cirrhosis w grade II esophageal varices\nadmitted w coffee-ground emesis and melena concerning for UGIB,\ns/p MICU stay for hypotension.\n.\n# UGIB: Pt did not have any more bleeds while in hospital. EGD\nrevealed erythema and erosion in the antrum and pylorus\ncompatible with non-steroidal induced gastritis. Pt did remember\ntaking increased doses of naproxen for backache. Started on\npantoprazole 40mg PO BID for one week with repeat endoscopy\nscheduled in one week ([**4-30**]). Recommended to take tylenol (max\ndaily dose of 2gm) for pain instead of NSAIDs. Blood pressure\nmeds were held at first, given MICU admission for hypotension,\nbut were restarted on discharge.\n.\n# HCV Cirrhosis: appears to be progressing to liver failure,\nwith elevated INR at 1.6, decreased albumin at 2.6, tbili\nslightly elevated at 3.6, and chronic LE edema. Pt was continued\non prophylactic medications.\n.\n# FULL CODE\n\nMedications on Admission:\nFUROSEMIDE 20mg daily\nLISINOPRIL 10 mg daily\nSPIRONOLACTONE 100 mg daily\n\nDischarge Medications:\n1. Phenol 1.4 % Aerosol, Spray Sig: One (1) Spray Mucous\nmembrane PRN (as needed).\n2. Lactulose 10 gram/15 mL Syrup Sig: Thirty (30) ML PO TID (3\ntimes a day).\n3. Thiamine HCl 100 mg Tablet Sig: One (1) Tablet PO DAILY\n(Daily).\n4. Folic Acid 1 mg Tablet Sig: One (1) Tablet PO DAILY (Daily).\n\n5. Spironolactone 100 mg Tablet Sig: One (1) Tablet PO DAILY\n(Daily).\n6. Furosemide 40 mg Tablet Sig: One (1) Tablet PO once a day.\n7. Acetaminophen 325 mg Tablet Sig: 1-2 Tablets PO every [**6-15**]\nhours as needed: no more than 6 tablets of regular strength\ntylenol per day.\n8. Terbinafine 1 % Cream Sig: One (1) Appl Topical [**Hospital1 **] (2 times\na day) for 1 weeks.\nDisp:*qs * Refills:*0*\n9. Nadolol 20 mg Tablet Sig: One (1) Tablet PO DAILY (Daily).\n10. Pantoprazole 40 mg Tablet, Delayed Release (E.C.) Sig: One\n(1) Tablet, Delayed Release (E.C.) PO twice a day for 1 weeks:\nthen take 1 tablet daily.\nDisp:*60 Tablet, Delayed Release (E.C.)(s)* Refills:*2*\n11. Camphor-Menthol 0.5-0.5 % Lotion Sig: One (1) Appl Topical\nQID (4 times a day) as needed for itching.\nDisp:*qs * Refills:*0*\n12. Lisinopril 10 mg Tablet Sig: One (1) Tablet PO once a day.\n\n\nDischarge Disposition:\nHome\n\nDischarge Diagnosis:\nPeptic ulcer\nGI bleed\n\nDischarge Condition:\nasymptomatic\n\nDischarge Instructions:\nYou were admitted for bleeding from an ulcer in your stomach.\nThis ulcer is at least partially caused by naproxen.  You should\nstop taking naproxen and take only tylenol for pain.  You should\nnot take any NSAIDS for pain including ibuprofen, naproxen,\naleve, motrin, aspirin, toradol, or advil. It is okay to take\ntylenol but do not take more than 4 extra strength tylenol a day\n(2gram daily maximum).\n.\nThe following medication changes were made:\nDo not take naproxen\nTake pantoprazole 40 mg twice daily for one week.  Then take 40\nmg daily.\n.\nYou are scheduled to get a repeat endoscopy next week.  Prior to\nthe procedure do not have anything to drink or eat after\nmidnight.\n.\nPlease return to the ER if you have any chest pain,\nlightheadeness, fever, chills, bloody or black stools or any\nother concerning symptoms.\n\nFollowup Instructions:\nProvider: [**Name10 (NameIs) **] [**Apartment Address(1) **] (ST-3) GI ROOMS Date/Time:[**2150-4-30**] 1:30\nProvider: [**First Name11 (Name Pattern1) **] [**Last Name (NamePattern1) 7290**], MD Phone:[**Telephone/Fax (1) 463**] Date/Time:[**2150-4-30**]\n1:30\nProvider: [**Name10 (NameIs) **] [**Last Name (NamePattern4) 2424**], MD Phone:[**Telephone/Fax (1) 2422**]\nDate/Time:[**2150-5-7**] 11:00\n\n\n\nCompleted by:[**2150-4-24**]}\n"
     ]
    }
   ]
  },
  {
   "source": [
    "## Data pre-processing"
   ],
   "cell_type": "markdown",
   "metadata": {}
  }
 ]
}